{
 "cells": [
  {
   "cell_type": "markdown",
   "metadata": {},
   "source": [
    "#  create dummy data and calculate clusters"
   ]
  },
  {
   "cell_type": "code",
   "execution_count": 310,
   "metadata": {},
   "outputs": [],
   "source": [
    "num_nodes = 40\n",
    "margin = 5 # time margin for arrival before appointments\n",
    "percentage_of_appointments = 0.1\n",
    "span_cost_coefficient = 20000 # adjust\n",
    "slack = 20000 # adjust\n",
    "penalty_factor = 30000000\n",
    "\n",
    "min_work_days = 7 # minimum number of work days per location\n",
    "\n",
    "work_schedule = {\n",
    "    1: [8 * 60, 17 * 60],\n",
    "    2: [7 * 60, 16 * 60],\n",
    "    3: [11 * 60, 15 * 60],\n",
    "    4: [7 * 60, 18 * 60],\n",
    "    5: [8 * 60, 17 * 60],\n",
    "    6: [8 * 60, 16 * 60],\n",
    "    7: [12 * 60, 16 * 60]\n",
    "}\n",
    "# week (mon-sun) constraints\n",
    "max_days_off = 0\n",
    "days_off = {5,6,7} # default Sunday no work\n",
    "max_overnight_stays = 2\n",
    "no_overnight_stays = {1,2,3,4}\n",
    "if len(no_overnight_stays) > 0:\n",
    "    possible_overnight_stays = set(range(1, 8)) - no_overnight_stays\n",
    "else:\n",
    "    possible_overnight_stays = set(range(1, 8))\n",
    "max_short_days = 0\n",
    "short_days = {day for day, hours in work_schedule.items() if (hours[1] - hours[0]) / 60 <= 4}\n",
    "short_days = {}"
   ]
  },
  {
   "cell_type": "code",
   "execution_count": 311,
   "metadata": {},
   "outputs": [
    {
     "name": "stdout",
     "output_type": "stream",
     "text": [
      "Adjusted max days off to 3 because 3 days off were defined.\n"
     ]
    }
   ],
   "source": [
    "# Check for short days or overnight stays defined on days off\n",
    "removed_days = [day for day in list(days_off) if day in short_days]\n",
    "for day in removed_days:\n",
    "    days_off.remove(day)\n",
    "    print(f\"Removed day {day} from days off because it's a short day or overnight stay.\")\n",
    "\n",
    "# Check for more days off defined than max days off\n",
    "if len(days_off) > max_days_off:\n",
    "    max_days_off = len(days_off)\n",
    "    print(f\"Adjusted max days off to {max_days_off} because {len(days_off)} days off were defined.\")\n",
    "\n",
    "# Check for more short days defined than max short days\n",
    "if len(short_days) > max_short_days:\n",
    "    max_short_days = len(short_days)\n",
    "    print(f\"Adjusted max short days to {max_short_days} because {len(short_days)} short days were defined.\")"
   ]
  },
  {
   "cell_type": "code",
   "execution_count": 312,
   "metadata": {},
   "outputs": [],
   "source": [
    "from src.routing import create_nodes_dataframe, custom_clustering, plot_refined_clusters, assign_weekdays_to_clusters, plot_ind_route, plot_all_cluster_routes, create_data_model, plot_all_nodes_with_angles\n",
    "import pandas as pd\n",
    "pd.options.mode.chained_assignment = None\n",
    "import numpy as np\n",
    "import concurrent.futures\n",
    "from datetime import datetime, timedelta, time\n",
    "import random\n",
    "from collections import Counter\n",
    "\n",
    "from scipy.spatial import distance\n",
    "\n",
    "from ortools.constraint_solver import routing_enums_pb2\n",
    "from ortools.constraint_solver import pywrapcp"
   ]
  },
  {
   "cell_type": "code",
   "execution_count": 313,
   "metadata": {},
   "outputs": [],
   "source": [
    "nodes_df, time_matrix = create_nodes_dataframe(num_nodes=num_nodes, min_work_days=min_work_days, days_off=days_off, home_node_id=0, visiting_interval_min=10, visiting_interval_max=30, max_last_visit=20, frac_fixed_app=percentage_of_appointments, simple_schedule=False)"
   ]
  },
  {
   "cell_type": "code",
   "execution_count": 314,
   "metadata": {},
   "outputs": [],
   "source": [
    "all_days = set(range(1, 8))\n",
    "# Calculate open days as sets from the dictionary keys\n",
    "nodes_df['open_days'] = nodes_df['opening_hours'].apply(lambda x: set(x.keys()))\n",
    "\n",
    "# Calculate closed days\n",
    "nodes_df['closed_days'] = nodes_df['open_days'].apply(lambda x: set(all_days - x))\n",
    "\n",
    "# nodes with a fixed appointment have priorty = 1\n",
    "nodes_df['priority'] = nodes_df.apply(lambda row: 1.0 if isinstance(row['fixed_appointment'], list) else row['priority'], axis=1)\n",
    "\n",
    "# Filter for VIP nodes based on priority\n",
    "VIP_nodes = nodes_df[nodes_df['priority'] > 0.8]\n",
    "\n",
    "# For each VIP node, identify specific closed days that match the days off\n",
    "if len(days_off) == 0:\n",
    "    print(\"No days off specified.\")"
   ]
  },
  {
   "cell_type": "code",
   "execution_count": 315,
   "metadata": {},
   "outputs": [
    {
     "data": {
      "text/html": [
       "<div>\n",
       "<style scoped>\n",
       "    .dataframe tbody tr th:only-of-type {\n",
       "        vertical-align: middle;\n",
       "    }\n",
       "\n",
       "    .dataframe tbody tr th {\n",
       "        vertical-align: top;\n",
       "    }\n",
       "\n",
       "    .dataframe thead th {\n",
       "        text-align: right;\n",
       "    }\n",
       "</style>\n",
       "<table border=\"1\" class=\"dataframe\">\n",
       "  <thead>\n",
       "    <tr style=\"text-align: right;\">\n",
       "      <th></th>\n",
       "      <th>gaps</th>\n",
       "      <th>Sum</th>\n",
       "      <th>Length</th>\n",
       "      <th>n_overnight_trips</th>\n",
       "      <th>overnight_days</th>\n",
       "      <th>short_days</th>\n",
       "      <th>n_short_days</th>\n",
       "      <th>off_days</th>\n",
       "      <th>n_days_off</th>\n",
       "      <th>blocks</th>\n",
       "    </tr>\n",
       "  </thead>\n",
       "  <tbody>\n",
       "    <tr>\n",
       "      <th>3796</th>\n",
       "      <td>[1, 1, 1, 1, 0, 0, 0]</td>\n",
       "      <td>4.0</td>\n",
       "      <td>7</td>\n",
       "      <td>0</td>\n",
       "      <td>[]</td>\n",
       "      <td>[]</td>\n",
       "      <td>0</td>\n",
       "      <td>[5, 6, 7]</td>\n",
       "      <td>3</td>\n",
       "      <td>{1: 4}</td>\n",
       "    </tr>\n",
       "  </tbody>\n",
       "</table>\n",
       "</div>"
      ],
      "text/plain": [
       "                       gaps  Sum  Length  n_overnight_trips overnight_days  \\\n",
       "3796  [1, 1, 1, 1, 0, 0, 0]  4.0       7                  0             []   \n",
       "\n",
       "     short_days  n_short_days   off_days  n_days_off  blocks  \n",
       "3796         []             0  [5, 6, 7]           3  {1: 4}  "
      ]
     },
     "execution_count": 315,
     "metadata": {},
     "output_type": "execute_result"
    }
   ],
   "source": [
    "def find_lists(current_list, current_sum, max_length, target_sum):\n",
    "    if current_sum > target_sum or len(current_list) > max_length:\n",
    "        return []\n",
    "    if current_sum == target_sum and len(current_list) <= max_length:\n",
    "        return [current_list]\n",
    "    results = []\n",
    "    for i in [0, 0.5] + list(range(1, 8)):\n",
    "        adjusted_sum = current_sum + (i if i > 0.6 else 1)  # Adjust sum for 0s treated as 1\n",
    "        results.extend(find_lists(current_list + [i], adjusted_sum, max_length, target_sum))\n",
    "    return results\n",
    "\n",
    "# Generate valid lists\n",
    "valid_lists = find_lists([], 0, 7, 7)\n",
    "\n",
    "# Function to repeat values in the list according to their integer value\n",
    "def repeat_values(lst, overnight_trips=0):\n",
    "    repeated_list = []\n",
    "    for num in lst:\n",
    "        if overnight_trips == 1:\n",
    "            repeated_list.extend([num] * (num - 1) + [0] if num > 0.6 else [0.5] if num == 0.5 else [0])\n",
    "        else:\n",
    "            repeated_list.extend([num] * num if num > 0.6 else [0.5] if num == 0.5 else [0])\n",
    "    return repeated_list\n",
    "\n",
    "# Calculate days off for each list\n",
    "def calculate_trips(lst, trip):\n",
    "    repeated_lst = repeat_values(lst)\n",
    "    days_off = []\n",
    "    for i in range(min(len(repeated_lst), 7)):\n",
    "        if repeated_lst[i] == trip:\n",
    "            days_off.append(i + 1)  # Use 1-based indexing for days\n",
    "    return days_off\n",
    "\n",
    "# Calculate trip days for each list\n",
    "def calculate_overnight_trips(lst):\n",
    "    repeated_lst = repeat_values(lst, overnight_trips=1)  \n",
    "    trip_days = []\n",
    "    for i in range(min(len(repeated_lst), 7)):\n",
    "        if repeated_lst[i] > 1:\n",
    "            trip_days.append(i + 1)  # Use 1-based indexing for days\n",
    "    return trip_days\n",
    "\n",
    "def calculate_overnight_stays(lst):\n",
    "    overnight_stays = 0\n",
    "    for i in range(min(len(lst), 7)):\n",
    "        if lst[i] > 1:\n",
    "            overnight_stays += lst[i] - 1\n",
    "    return overnight_stays\n",
    "\n",
    "# Create a DataFrame\n",
    "data = {\n",
    "    'gaps': valid_lists,\n",
    "    'Sum': [sum(lst) for lst in valid_lists],  # Calculating sum normally, 0s count as 0\n",
    "    'Length': [len(lst) for lst in valid_lists],\n",
    "    'n_overnight_trips': [calculate_overnight_stays(lst) for lst in valid_lists],\n",
    "    'overnight_days': [calculate_overnight_trips(lst) for lst in valid_lists],\n",
    "    'short_days': [calculate_trips(lst, 0.5) for lst in valid_lists],\n",
    "    'n_short_days': [lst.count(0.5) for lst in valid_lists],  # Counting 0s as 'short days\n",
    "    'off_days': [calculate_trips(lst, 0) for lst in valid_lists],\n",
    "    'n_days_off': [lst.count(0) for lst in valid_lists], \n",
    "}\n",
    "\n",
    "options_df = pd.DataFrame(data)\n",
    "\n",
    "# Filter the DataFrame based on the constraints\n",
    "options_df = options_df[options_df['off_days'].apply(lambda x: all(day in x for day in days_off))]\n",
    "options_df = options_df[options_df['n_days_off'].apply(lambda x: x <= max_days_off)]\n",
    "options_df = options_df[options_df['short_days'].apply(lambda x: all(day in x for day in short_days))]\n",
    "options_df = options_df[options_df['n_short_days'].apply(lambda x: x <= max_short_days)]\n",
    "options_df = options_df[options_df['overnight_days'].apply(lambda x: not any(day in x for day in no_overnight_stays))]\n",
    "options_df = options_df[options_df['n_overnight_trips'].apply(lambda x: x <= max_overnight_stays)]\n",
    "# add a column to df containing a dictionary counting the number of times an integer >1 appears in the list\n",
    "options_df['blocks'] = options_df['gaps'].apply(lambda x: Counter([item for item in x if item > 0]))\n",
    "options_df"
   ]
  },
  {
   "cell_type": "code",
   "execution_count": 316,
   "metadata": {},
   "outputs": [],
   "source": [
    "if len(options_df) == 0:\n",
    "    raise ValueError(\"No valid options found.\")"
   ]
  },
  {
   "cell_type": "code",
   "execution_count": 317,
   "metadata": {},
   "outputs": [],
   "source": [
    "verbose = False\n",
    "def calculate_metric(nodes_df, global_max_dist, node_ids, cluster_id, print_ind_metrics=False):\n",
    "    if len(node_ids) > 0:\n",
    "        filtered_nodes_df = nodes_df[nodes_df['node_id'].isin(node_ids)]\n",
    "\n",
    "        num_nodes_metric = len(filtered_nodes_df) / len(nodes_df)\n",
    "        \n",
    "        priority_metric = filtered_nodes_df['priority'].nlargest(int(0.5 * len(filtered_nodes_df))).mean()\n",
    "        priority_metric = priority_metric / float(cluster_id.split('_')[0])\n",
    "\n",
    "        max_dist_to_root = filtered_nodes_df['dist_to_home'].max()\n",
    "        dist_metric = max_dist_to_root / global_max_dist\n",
    "\n",
    "        # prevent any metric from being nan\n",
    "        if np.isnan(num_nodes_metric):\n",
    "            # print(f'Problems with num_nodes_metric for {cluster_id}')\n",
    "            num_nodes_metric = 0.5\n",
    "        if np.isnan(priority_metric):\n",
    "            # print(f'Problems with priority_metric for {cluster_id}')\n",
    "            priority_metric = 0.3\n",
    "        if np.isnan(dist_metric):\n",
    "            # print(f'Problems with dist_metric for {cluster_id}')\n",
    "            dist_metric = 0.5\n",
    "\n",
    "        metric = num_nodes_metric + dist_metric / 6\n",
    "\n",
    "        if print_ind_metrics:\n",
    "            print(f'Cluster: {cluster_id}')\n",
    "            print(f\"Number of nodes metric: {num_nodes_metric}\")\n",
    "            print(f\"Priority metric: {priority_metric}\")\n",
    "            print(f\"Distance metric: {dist_metric}\")\n",
    "            print(f\"Overall metric: {metric}\")\n",
    "    else:\n",
    "        metric = 0\n",
    "\n",
    "        if print_ind_metrics:\n",
    "            print('Found a cluster wihtout nodes')\n",
    "    \n",
    "    return metric\n",
    "\n",
    "def adjust_angles(clusters, nodes_df, angle_sizes, degree_adj, global_max_dist, cluster_sizes, total_span, verbose):\n",
    "    metrics = {}\n",
    "    for cluster_id, node_ids in clusters.items():\n",
    "        metrics[cluster_id] = calculate_metric(nodes_df, global_max_dist, node_ids, cluster_id)\n",
    "\n",
    "    total_metric = sum(metrics.values())\n",
    "    # total_days = sum of each key multiplied by the value in cluster_sizes\n",
    "    total_days = sum([key * value for key, value in cluster_sizes.items()])\n",
    "    base_metric = total_metric / total_days\n",
    "    \n",
    "    target_metrics = {}\n",
    "    for cluster, metric in metrics.items():\n",
    "        size = float(cluster.split('_')[0])\n",
    "        target_metrics[cluster] = base_metric * size\n",
    "\n",
    "    new_angle_sizes = angle_sizes.copy()  # Copy existing angle sizes to modify\n",
    "    \n",
    "    deviations = {}\n",
    "    for cluster_id, metric in metrics.items():\n",
    "        size = float(cluster_id.split('_')[0])\n",
    "        soll_metric = target_metrics[cluster_id]\n",
    "        deviation = metric - soll_metric\n",
    "        deviations[cluster_id] = deviation\n",
    "        new_angle_sizes[cluster_id] -= deviation * degree_adj\n",
    "\n",
    "    # Normalize the new angles to ensure they sum to total_span\n",
    "    total_new_angles = sum(new_angle_sizes.values())\n",
    "    scale_factor = total_span / total_new_angles\n",
    "    for cluster_id in new_angle_sizes:\n",
    "        new_angle_sizes[cluster_id] *= scale_factor\n",
    "\n",
    "    if verbose:\n",
    "        print(\"Deviations, metrics, and new angle sizes:\")\n",
    "        for cluster_id in clusters:\n",
    "            print(f\"Cluster {cluster_id} with deviation {round(deviations[cluster_id], 2)}, \"\n",
    "                  f'and initial angle size {round(angle_sizes[cluster_id], 2)}° '\n",
    "                  f\"has new angle size {round(new_angle_sizes[cluster_id], 2)}°.\")\n",
    "\n",
    "    return new_angle_sizes\n",
    "\n",
    "def custom_clustering(nodes_df, cluster_sizes, precision, home_node_id=0, verbose=False, visual=False):\n",
    "    # remove the home node from the nodes_df\n",
    "    if nodes_df.index[0] == 0:\n",
    "        nodes_df_copy = nodes_df.drop(0).copy()\n",
    "    \n",
    "    clusters = {}\n",
    "    for size, count in cluster_sizes.items():\n",
    "        for i in range(count):\n",
    "            clusters[f'{size}_day_trip_{i}'] = []\n",
    "    \n",
    "    angles = sorted(nodes_df_copy['angle_to_home'])\n",
    "    diffs = [angles[i + 1] - angles[i] for i in range(len(angles) - 1)]\n",
    "    diffs.append(360 - angles[-1] + angles[0])\n",
    "    \n",
    "    max_gap = max(diffs)\n",
    "    gap_start = angles[diffs.index(max_gap)]\n",
    "    gap_end = angles[(diffs.index(max_gap) + 1) % len(angles)]\n",
    "\n",
    "    max_gap = max(diffs)\n",
    "    total_span = 360 - max_gap\n",
    "\n",
    "    if verbose == True:\n",
    "        print(f\"Largest gap spans from {gap_start}° to {gap_end}°, covering {max_gap}° leaving a total span of {total_span} for locations.\")\n",
    "\n",
    "    total_equivalent_degrees = sum(count * size for size, count in cluster_sizes.items())\n",
    "    base_degree = total_span / total_equivalent_degrees\n",
    "\n",
    "    angle_sizes = {}\n",
    "    for size, count in cluster_sizes.items():\n",
    "        # Calculate the angular size for each cluster of this size\n",
    "        cluster_angle_size = base_degree * size\n",
    "        for i in range(count):\n",
    "            cluster_id = f'{size}_day_trip_{i}'\n",
    "            angle_sizes[cluster_id] = cluster_angle_size\n",
    "    global_max_dist = nodes_df_copy['dist_to_home'].max()\n",
    "\n",
    "    cluster_start = gap_end\n",
    "    degree_adj = total_span / 7\n",
    "\n",
    "    # Initial assignment of nodes to clusters\n",
    "    for i in range(precision):\n",
    "        current_angle = cluster_start  # Reset the start angle for each precision iteration\n",
    "            \n",
    "        # add the home node to each cluster\n",
    "        for key in clusters.keys():\n",
    "            clusters[key] = [home_node_id]\n",
    "\n",
    "        # Assign nodes to clusters based on their angle to the home node\n",
    "        for cluster_id, size in angle_sizes.items():\n",
    "            start_angle = current_angle\n",
    "            # round up to the nearest integer\n",
    "            start_angle = int(start_angle)\n",
    "            end_angle = (current_angle + size) % 360\n",
    "            end_angle = int(np.ceil(end_angle))\n",
    "            # Ensuring all nodes are assigned, handling the wrap-around scenario more cleanly\n",
    "            if end_angle < start_angle:  # This handles the case where the segment wraps past 360 degrees\n",
    "                nodes_in_cluster = [index for index, row in nodes_df_copy.iterrows() if \n",
    "                                    (row['angle_to_home'] >= start_angle or row['angle_to_home'] < end_angle)]\n",
    "            else:  # No wrap-around, normal case\n",
    "                nodes_in_cluster = [index for index, row in nodes_df_copy.iterrows() if \n",
    "                                    (start_angle <= row['angle_to_home'] < end_angle)]\n",
    "\n",
    "            clusters[cluster_id] = [home_node_id] + nodes_in_cluster\n",
    "            current_angle = end_angle\n",
    "\n",
    "        if (i == 0 and verbose):\n",
    "            print(\"Initial clusters:\")\n",
    "            for key, value in clusters.items():\n",
    "                print(f\"{key}: {value}\")\n",
    "\n",
    "        if i % 10 == 0 and visual:\n",
    "            plot_refined_clusters(clusters, nodes_df)\n",
    "        \n",
    "        angle_sizes = adjust_angles(clusters, nodes_df_copy, angle_sizes, degree_adj, global_max_dist, cluster_sizes, total_span, verbose)\n",
    "        degree_adj *= 0.95\n",
    "\n",
    "        sum_of_angles = sum(angle_sizes.values())\n",
    "        if verbose:\n",
    "            print(f\"Sum of angles: {sum_of_angles} vs. total span: {total_span}\")\n",
    "        \n",
    "    return clusters\n",
    "\n",
    "def fit_blocks(blocks, gaps, solution, solutions, index=0):\n",
    "    if index == len(gaps):  # Check if we've addressed all gaps\n",
    "        if not blocks:  # Ensure all blocks have been used\n",
    "            solutions.append(solution)\n",
    "        return\n",
    "    \n",
    "    # Attempt to fit each block into the current gap\n",
    "    for i, block in enumerate(blocks):\n",
    "        # ['1_day_trip_5', '1_day_trip_0', '1_day_trip_1', '1_day_trip_3', '1_day_trip_4', '1_day_trip_2']\n",
    "        size = block.split('_')[0]\n",
    "        block_size = 1 if size == '0.5' else int(size)\n",
    "        if block_size <= gaps[index]:  # Check if block can fit in the current gap\n",
    "            # Setup for recursion: remove the block and reduce the gap size\n",
    "            new_blocks = blocks[:i] + blocks[i+1:]  # Remove current block\n",
    "            new_solution = [lst[:] for lst in solution]  # Copy solution to modify\n",
    "            new_solution[index].append(block)  # Add block to current gap's solution\n",
    "            \n",
    "            # Reduce the gap by the size of the block\n",
    "            new_gaps = gaps[:]\n",
    "            new_gaps[index] -= block_size\n",
    "            \n",
    "            # Move to next gap if current gap is exactly filled, otherwise continue\n",
    "            if new_gaps[index] == 0:\n",
    "                fit_blocks(new_blocks, new_gaps, new_solution, solutions, index + 1)\n",
    "            else:\n",
    "                fit_blocks(new_blocks, new_gaps, new_solution, solutions, index)\n",
    "\n",
    "def count_fixed_appointments(weekly_schedule, nodes_df):\n",
    "    count = 0\n",
    "    for i, cluster_day in enumerate(weekly_schedule):\n",
    "        start_day = i + 1\n",
    "        if 'day_off' not in cluster_day:\n",
    "            duration = int(cluster_day.split('_')[0])\n",
    "            end_day = start_day + duration\n",
    "            for day in range(start_day, end_day + 1):\n",
    "                count += nodes_df[(nodes_df['cluster'] == cluster_day) & (nodes_df['weekdays_fixed_appointments'] == day)].shape[0]\n",
    "    return count\n",
    "\n",
    "def time_to_minutes(t):\n",
    "    return t.hour * 60 + t.minute + t.second\n",
    "\n",
    "def adjust_opening_hours(row, work_schedule):\n",
    "    clusters = row['cluster']\n",
    "    first_day = min(clusters)\n",
    "    opening_hours = row['opening_hours']\n",
    "    fixed_appointment = row['fixed_appointment']\n",
    "    on_site_time = row['on_site_time']\n",
    "    adjusted_hours = []\n",
    "    \n",
    "    if isinstance(fixed_appointment, list):\n",
    "        day, app_start, _ = fixed_appointment[0], fixed_appointment[1], fixed_appointment[2]\n",
    "        adjusted_open = time_to_minutes(app_start) + 1440 * (day - first_day) - margin \n",
    "        adjusted_close = adjusted_open\n",
    "        adjusted_hours = [[adjusted_open, adjusted_close]]\n",
    "    else:\n",
    "        for day, intervals in opening_hours.items():\n",
    "            if day in clusters:  # Ensure we only adjust days that are in clusters\n",
    "                for start, end in intervals:\n",
    "                    work_start, work_end = work_schedule[day]\n",
    "                    start = max(work_start, time_to_minutes(start))\n",
    "                    end = min(work_end, time_to_minutes(end))\n",
    "\n",
    "                    # Adjust each interval's start and end times\n",
    "                    adjusted_start = start + 1440 * (day - first_day)\n",
    "                    adjusted_end = end + 1440 * (day - first_day) - on_site_time # needs to finish before store closes or work ends\n",
    "                    adjusted_hours.append([adjusted_start, adjusted_end])\n",
    "    return adjusted_hours\n",
    "\n",
    "def minutes_to_hhmm(minutes_am, days = False):\n",
    "    if days:\n",
    "        day = minutes_am // 1440\n",
    "    minutes_am = minutes_am % 1440  # Ensure minutes are within a day\n",
    "    minutes = minutes_am % 60\n",
    "    hours = (minutes_am - minutes) // 60  # Use integer division for hours\n",
    "    if days:\n",
    "        return f'{hours:02}:{minutes:02} (day {day + 1})'\n",
    "    else:\n",
    "        return f'{hours:02}:{minutes:02}'\n",
    "\n",
    "def create_data_model(sub_nodes_df, sub_time_matrix):\n",
    "    \"\"\"Stores the data for the problem.\"\"\"\n",
    "    data = {}\n",
    "    data['time_matrix'] = sub_time_matrix\n",
    "    data['windows'] = sub_nodes_df['adjusted_opening_hours'].tolist()\n",
    "    data['priorities'] = sub_nodes_df['priority'].tolist()\n",
    "    data['num_vehicles'] = 1\n",
    "    data['on_site_time'] = sub_nodes_df['on_site_time'].tolist()\n",
    "    data['depot'] = 0\n",
    "    return data\n",
    "\n",
    "def return_route_and_times(solution, manager, routing, original_node_ids, data):\n",
    "    \"\"\"Returns the route along with the start times at each node.\"\"\"\n",
    "    index = routing.Start(0)  # Start at the depot.\n",
    "    route_with_travel = []\n",
    "    route_without_travel = []\n",
    "    time_dimension = routing.GetDimensionOrDie('total_time')  # Make sure this matches the dimension name used\n",
    "\n",
    "    while not routing.IsEnd(index):\n",
    "        node_index = manager.IndexToNode(index)\n",
    "        original_node_id = original_node_ids[node_index]  # Map back to original node ID\n",
    "        time_var = time_dimension.CumulVar(index)\n",
    "        start_time = solution.Min(time_var)\n",
    "        end_time = start_time + data['on_site_time'][node_index]  # Include on-site time\n",
    "        route_with_travel.append((original_node_id, start_time, end_time))  # Include end time for better clarity\n",
    "        route_without_travel.append((original_node_id, start_time))  # Include end time for better clarity\n",
    "        next_index = solution.Value(routing.NextVar(index))\n",
    "        \n",
    "        travel_time = routing.GetArcCostForVehicle(index, next_index, 0) - data['on_site_time'][index]  # Get travel time\n",
    "        route_with_travel.append((\"road\", travel_time))\n",
    "        \n",
    "        index = next_index\n",
    "\n",
    "    # Add the final node\n",
    "    final_node_index = manager.IndexToNode(index)\n",
    "    final_node_id = original_node_ids[final_node_index]\n",
    "    final_time_var = time_dimension.CumulVar(index)\n",
    "    final_start_time = solution.Min(final_time_var)\n",
    "    final_end_time = final_start_time + data['on_site_time'][final_node_index]\n",
    "    route_with_travel.append((final_node_id, final_start_time, final_end_time))\n",
    "    route_without_travel.append((final_node_id, final_start_time))\n",
    "\n",
    "    return route_with_travel, route_without_travel\n",
    "\n",
    "def print_route(route_with_times):\n",
    "    \"\"\"Prints the route in the desired format.\"\"\"\n",
    "    route_str = \"\"\n",
    "    for segment in route_with_times:\n",
    "        if segment[0] == \"road\":\n",
    "            route_str += f\" - road ({segment[1]}) - \"\n",
    "        else:\n",
    "            node_id, start_time, end_time = segment\n",
    "            route_str += f\"{node_id} ({minutes_to_hhmm(start_time)}-{minutes_to_hhmm(end_time)}) for a meeting of {nodes_df.loc[nodes_df['node_id'] == node_id, 'on_site_time'].iloc[0]} minutes\"\n",
    "    print(route_str)\n",
    "\n",
    "def solve_vrp(sub_nodes_df, deep=False):\n",
    "    trip_name = sub_nodes_df['cluster_name'][0]\n",
    "    trip_len = float(trip_name.split('_')[0])\n",
    "    trip = sub_nodes_df['cluster'][0]\n",
    "    first_day = min(trip)\n",
    "    last_day = max(trip)\n",
    "    \n",
    "    max_travel_time = int(10000 * trip_len)\n",
    "    \n",
    "    nodes = sub_nodes_df['node_id'].tolist()\n",
    "    \n",
    "    sub_time_matrix = time_matrix.loc[nodes, nodes].values.tolist()\n",
    "    sub_time_matrix = [[int(x) for x in row] for row in sub_time_matrix]\n",
    "    \n",
    "    data = create_data_model(sub_nodes_df, sub_time_matrix)\n",
    "    \n",
    "    manager = pywrapcp.RoutingIndexManager(len(data[\"time_matrix\"]), data[\"num_vehicles\"], data[\"depot\"])\n",
    "    routing = pywrapcp.RoutingModel(manager)\n",
    "    \n",
    "    def time_callback(from_index, to_index):\n",
    "        from_node = manager.IndexToNode(from_index)\n",
    "        to_node = manager.IndexToNode(to_index)\n",
    "        return data[\"time_matrix\"][from_node][to_node] + data['on_site_time'][from_node]\n",
    "    \n",
    "    transit_callback_index = routing.RegisterTransitCallback(time_callback)\n",
    "    \n",
    "    routing.SetArcCostEvaluatorOfAllVehicles(transit_callback_index)\n",
    "    routing.AddDimension(\n",
    "        transit_callback_index,\n",
    "        slack,  # upper bound for slack / waiting time\n",
    "        max_travel_time,  # upper bound for vehicle maximum travel time\n",
    "        False,  # start cumul to zero\n",
    "        \"total_time\"\n",
    "    )\n",
    "    \n",
    "    time_dimension = routing.GetDimensionOrDie(\"total_time\")\n",
    "\n",
    "    # PENALTY\n",
    "    for location_index, priority in enumerate(data['priorities']):\n",
    "        index = manager.NodeToIndex(location_index)\n",
    "        if index == 0:\n",
    "            continue\n",
    "        else:\n",
    "            routing.AddDisjunction([index], int(round((priority*100)**2*penalty_factor, 0)))\n",
    "\n",
    "    # OPENING HOURS, LUNCH AND OVERNIGHT BREAKS window example:\n",
    "    for location_index, windows in enumerate(data['windows']):\n",
    "        index = manager.NodeToIndex(location_index)\n",
    "        time_dimension.CumulVar(index).SetRange(windows[0][0], windows[-1][1])\n",
    "        if verbose:\n",
    "            print(f'range for node {location_index}: {minutes_to_hhmm(windows[0][0], days = True)} - {minutes_to_hhmm(windows[-1][1], days = True)}')\n",
    "\n",
    "        ranges = [[windows[i][1], windows[i+1][0]] for i in range(len(windows) - 1)]\n",
    "        for start, end in ranges:\n",
    "            time_dimension.CumulVar(index).RemoveInterval(start, end)\n",
    "            if verbose:\n",
    "                print(f'removed interval {start} - {end} for window {windows}')\n",
    "    \n",
    "    # Agent lunch break (not sure why, if, how node_visit_transit is used or if it is even correct)\n",
    "    node_visit_transit = {}\n",
    "    for index in range(routing.Size()):\n",
    "        node = manager.IndexToNode(index)\n",
    "        node_visit_transit[index] = data['on_site_time'][node]\n",
    "    \n",
    "    lunch_breaks = []\n",
    "    for day in range(first_day, last_day + 1):\n",
    "        if trip_len >= 1:\n",
    "            lunch_duration = 29\n",
    "            lunch_start = 12 * 60 + 1440 * (day - first_day)\n",
    "            lunch_end = lunch_start + lunch_duration\n",
    "            lunch_break_interval = routing.solver().FixedDurationIntervalVar(\n",
    "                lunch_start, lunch_end, lunch_duration, False, f'lunch_break {day}'\n",
    "            )\n",
    "            lunch_breaks.append(lunch_break_interval)\n",
    "            \n",
    "            print(f'added lunch break from {lunch_start} to {lunch_end} for day {day} of {trip_name}')\n",
    "\n",
    "    time_dimension.SetBreakIntervalsOfVehicle(lunch_breaks, 0, node_visit_transit)\n",
    "\n",
    "    # Instantiate route start and end times to produce feasible times\n",
    "    routing.AddVariableMinimizedByFinalizer(time_dimension.CumulVar(routing.Start(0)))\n",
    "    routing.AddVariableMinimizedByFinalizer(time_dimension.CumulVar(routing.End(0)))\n",
    "\n",
    "    # Setting first solution heuristic\n",
    "    search_parameters = pywrapcp.DefaultRoutingSearchParameters()\n",
    "    search_parameters.first_solution_strategy = (\n",
    "        routing_enums_pb2.FirstSolutionStrategy.PATH_CHEAPEST_ARC)\n",
    "    if deep:\n",
    "        search_parameters.local_search_metaheuristic = (\n",
    "            routing_enums_pb2.LocalSearchMetaheuristic.GUIDED_LOCAL_SEARCH)\n",
    "    search_parameters.time_limit.seconds = 300\n",
    "    search_parameters.log_search = False\n",
    "\n",
    "    # Optional: Set a more diverse objective to avoid synchronization\n",
    "    time_dimension.SetGlobalSpanCostCoefficient(100)\n",
    "\n",
    "    # Solve the problem\n",
    "    solution = routing.SolveWithParameters(search_parameters)\n",
    "\n",
    "    if solution:\n",
    "        dropped = []\n",
    "        original_node_ids = sub_nodes_df['node_id'].tolist()\n",
    "        for node in range(routing.Size()):\n",
    "            if routing.IsStart(node) or routing.IsEnd(node):\n",
    "                continue\n",
    "            if solution.Value(routing.NextVar(node)) == node:\n",
    "                dropped.append(original_node_ids[node])\n",
    "        if len(dropped) > 0:\n",
    "            print(f\"dropped: {dropped}\")\n",
    "        return return_route_and_times(solution, manager, routing, original_node_ids, data), dropped\n",
    "        \n",
    "    else:\n",
    "        print(f\"No solution found\")\n",
    "        return None, None"
   ]
  },
  {
   "cell_type": "code",
   "execution_count": 318,
   "metadata": {},
   "outputs": [
    {
     "name": "stdout",
     "output_type": "stream",
     "text": [
      "added lunch break from 720 to 749 for day 1 of 1_day_trip_0\n",
      "dropped: [11, 14, 16, 32]\n",
      "WARNING: Nodes [8, 20, 25, 37] have fixed appointments that can not take place on the assigned days.\n",
      "added lunch break from 720 to 749 for day 1 of 1_day_trip_1\n",
      "dropped: [17, 19, 34, 14, 16, 32]\n",
      "added lunch break from 720 to 749 for day 1 of 1_day_trip_2\n",
      "dropped: [5, 14, 16, 17, 19, 32, 34]\n",
      "added lunch break from 720 to 749 for day 1 of 1_day_trip_3\n",
      "dropped: [3, 4, 13, 18, 21, 26, 38, 5, 14, 16, 32]\n"
     ]
    }
   ],
   "source": [
    "visual = False\n",
    "verbose = False\n",
    "options_df = options_df.sort_values(by='n_overnight_trips')\n",
    "if verbose:\n",
    "    print('there are ', len(options_df), 'options that will be tested')\n",
    "for index, row in options_df.iterrows():\n",
    "    blocks = row['blocks']\n",
    "    gaps = row['gaps']\n",
    "    clusters = custom_clustering(nodes_df, blocks, precision=50, verbose=False, visual=False)\n",
    "\n",
    "    if verbose:\n",
    "        for cluster, nodes in clusters.items():\n",
    "            print(f\"Cluster {cluster}:\")\n",
    "            print(f\"Average node priority: {round(nodes_df.loc[nodes_df['node_id'].isin(nodes), 'priority'].mean(), 2)}\")\n",
    "            print(f\"Average distance to home: {round(nodes_df.loc[nodes_df['node_id'].isin(nodes), 'dist_to_home'].mean(), 2)}\")\n",
    "            print(f\"Count of nodes: {len(nodes)}\")\n",
    "\n",
    "    if visual:\n",
    "        plot_refined_clusters(clusters, nodes_df)\n",
    "\n",
    "    node_to_cluster = {node: cluster for cluster, nodes in clusters.items() for node in nodes}\n",
    "    nodes_df['cluster'] = nodes_df['node_id'].map(node_to_cluster)\n",
    "    nodes_df['cluster_name'] = nodes_df['cluster']\n",
    "\n",
    "    # store positions of 0s in gaps to remove and add them to the solution after fitting blocks\n",
    "    zero_positions = [i for i, gap in enumerate(gaps) if gap == 0]\n",
    "    gaps = [gap for gap in gaps if gap > 0]\n",
    "\n",
    "    short_positions = [i for i, gap in enumerate(gaps) if gap == 0.5]\n",
    "    gaps = [1 if gap == 0.5 else gap for gap in gaps]\n",
    "    \n",
    "    blocks = list(nodes_df['cluster'].unique())\n",
    "    solution = [[] for _ in gaps]  # Initialize solution structure for each gap\n",
    "    solutions = []\n",
    "    if verbose:\n",
    "        print(f'Blocks: {blocks}, Gaps: {gaps}')\n",
    "    fit_blocks(blocks, gaps, solution, solutions)\n",
    "\n",
    "    # Add 0s back to the solution as 'day-off' clusters\n",
    "    for solution in solutions:\n",
    "        for position in zero_positions:\n",
    "            solution.insert(position, ['1_day_off'])\n",
    "    solutions = [[item for sublist in outer_list for item in sublist] for outer_list in solutions]\n",
    "    repeated_list = []\n",
    "    for sublist in solutions:\n",
    "        new_sublist = []\n",
    "        for item in sublist:\n",
    "            count = item.split('_')[0]\n",
    "            count = 1 if count == '0.5' else count\n",
    "            new_sublist.extend([item] * int(count))  # Repeat the item\n",
    "        \n",
    "        repeated_list.append(new_sublist)\n",
    "    \n",
    "    if verbose:\n",
    "        print(f'Found {len(repeated_list)} solutions: {repeated_list}')\n",
    "\n",
    "    best_count = -float('inf')\n",
    "    best_list = None\n",
    "    # for each list capturing the allocations of clusters to weekdays\n",
    "    for i, sublist in enumerate(repeated_list):\n",
    "        if verbose:\n",
    "            print(f'solution {i+1}/{len(repeated_list)}')\n",
    "        count = 0\n",
    "        # for each cluster in the list\n",
    "        for cluster in set(sublist):\n",
    "            if not 'day_off' in cluster:\n",
    "                # Access the indices of the cluster in the week\n",
    "                relevant_weekdays = [i + 1 for i, gap in enumerate(sublist) if gap == cluster]\n",
    "                \n",
    "                # get a list of non-unique fixed appointments\n",
    "                fixed_appointment_day = list(nodes_df[nodes_df['cluster'] == cluster]['weekday_fixed_appointment'])\n",
    "                \n",
    "                cluster_count_fixed = len([entry for entry in fixed_appointment_day if entry in relevant_weekdays])\n",
    "                initial_count = count\n",
    "                count += cluster_count_fixed\n",
    "\n",
    "                closed_days = list(nodes_df[nodes_df['cluster'] == cluster]['closed_days'].dropna())\n",
    "                flat_closed_days = []\n",
    "                for s in closed_days:\n",
    "                    flat_closed_days.extend(s)\n",
    "                \n",
    "                cluster_count_closed = len([entry for entry in flat_closed_days if entry in relevant_weekdays])\n",
    "                count -= cluster_count_closed\n",
    "                if verbose:\n",
    "                    print(f'Relevant weekdays: {relevant_weekdays}')\n",
    "                    print(f'Fixed appointment days: {fixed_appointment_day}')\n",
    "                    print(\"Closed on:\", flat_closed_days)\n",
    "                    print(f'added {cluster_count_fixed} and deducted {cluster_count_closed} from {initial_count}')\n",
    "\n",
    "        if count > best_count:\n",
    "            if verbose:\n",
    "                print(f'replacing {best_count} with {count}')\n",
    "            best_count = count\n",
    "            best_list = sublist\n",
    "\n",
    "    if verbose:\n",
    "        print(f'Best solution had a count of {best_count}')\n",
    "\n",
    "    mapping_dict = {}\n",
    "    for i, cluster in enumerate(best_list):\n",
    "        indices = [j+1 for j, x in enumerate(best_list) if x == cluster]\n",
    "        mapping_dict[cluster] = set(indices)\n",
    "\n",
    "    nodes_df['cluster'] = nodes_df['cluster'].map(mapping_dict)\n",
    "    clusters = nodes_df['cluster'].drop_duplicates().tolist()\n",
    "    # assign \"to be visited on a day off\" nodes to the cluster\n",
    "    closed_day_problems = nodes_df[nodes_df.apply(lambda row: row['cluster'].issubset(row['closed_days']), axis=1)][['node_id', 'closed_days', 'x', 'y']]\n",
    "    closed_day_problems = closed_day_problems[closed_day_problems['node_id'] != 0]\n",
    "    if verbose:\n",
    "            print(f'number of nodes to be reassigned: {len(closed_day_problems)}')\n",
    "    for sub_row in closed_day_problems.iterrows():\n",
    "        closed_on = sub_row[1]['closed_days']\n",
    "        # find possible clusters (i.e.: not all closed on days contained)\n",
    "        possible_clusters = [cluster for cluster in clusters if not cluster.issubset(closed_on)]\n",
    "        possible_nodes = nodes_df[nodes_df['cluster'].isin(possible_clusters)]['node_id']\n",
    "        possible_nodes = possible_nodes[possible_nodes != 0]\n",
    "        \n",
    "        if verbose:\n",
    "            print(f'closed_on: {closed_on}, possible_clusters: {possible_clusters}')\n",
    "        # remove 0 from row and col of time_matrix\n",
    "        time_matrix_sub = time_matrix.drop(0, axis=0).drop(0, axis=1)\n",
    "        closest_node = time_matrix_sub.loc[sub_row[1]['node_id'], possible_nodes].idxmin()\n",
    "        closest_node_cluster = nodes_df.loc[closest_node, 'cluster']\n",
    "        closest_node_cluster_name = nodes_df.loc[closest_node, 'cluster_name']\n",
    "\n",
    "        if verbose:\n",
    "            print(f'reassigning node {sub_row[1][\"node_id\"]} with coordinates ({sub_row[1][\"x\"]}, {sub_row[1][\"y\"]}) to cluster {closest_node_cluster} since node {closest_node} with coordinates ({nodes_df.loc[closest_node, \"x\"]}, {nodes_df.loc[closest_node, \"y\"]}) is the closest node in a possible cluster')\n",
    "        # update the cluster of the node with the set defining the new cluster preventing \"Must have equal len keys and value when setting with an iterable\"\n",
    "        nodes_df.at[sub_row[0], 'cluster'] = closest_node_cluster\n",
    "        nodes_df.at[sub_row[0], 'cluster_name'] = closest_node_cluster_name\n",
    "    \n",
    "    # assign nodes with fixed appointments always to the cluster that contains the fixed appointments visit day in cluster index\n",
    "    for index, row in nodes_df.iterrows():\n",
    "        appointment = row['weekday_fixed_appointment']\n",
    "        if (appointment not in row['cluster']) and not pd.isnull(appointment):\n",
    "            if verbose:\n",
    "                print(f'{row[\"node_id\"]} has a fixed appointment on {appointment} but is assigned to cluster {row[\"cluster\"]}')\n",
    "            # find the cluster that contains the appointment day\n",
    "            cluster_with_appointment = [cluster for cluster in clusters if appointment in cluster][0]\n",
    "            cluster_name = nodes_df.loc[nodes_df['cluster'] == cluster_with_appointment, 'cluster_name'].iloc[0]\n",
    "            if verbose:\n",
    "                print(f'Assigning node {row[\"node_id\"]} to cluster {cluster_with_appointment}')\n",
    "            nodes_df.at[index, 'cluster'] = cluster_with_appointment\n",
    "            nodes_df.at[index, 'cluster_name'] = cluster_name\n",
    "\n",
    "    nodes_df['adjusted_opening_hours'] = nodes_df.apply(lambda row: adjust_opening_hours(row, work_schedule), axis=1)\n",
    "    \n",
    "    # nodes_df.groupby('cluster_name') and then get list of node_ids\n",
    "    clusters_and_nodes = nodes_df.groupby('cluster_name')['node_id'].apply(list)\n",
    "\n",
    "    # add 0 to start of node_ids if it's not already in the list\n",
    "    clusters_and_nodes = clusters_and_nodes.apply(lambda x: [0] + x if 0 not in x else x)\n",
    "\n",
    "    dropped_nodes = None\n",
    "    route_lists = {}\n",
    "    for cluster, node_ids in clusters_and_nodes.items():\n",
    "        if verbose:\n",
    "            print(f'initial nodes: {node_ids}')\n",
    "        sub_nodes_df = nodes_df[nodes_df['node_id'].isin(node_ids)]\n",
    "        # find cluster set (e.g.: {4})\n",
    "        cluster_set = sub_nodes_df['cluster'].iloc[0]\n",
    "        # if dropped nodes append them to sub_nodes_df\n",
    "        if dropped_nodes:\n",
    "            dropped_nodes_df = nodes_df[nodes_df['node_id'].isin(dropped_nodes)]\n",
    "            sub_nodes_df = pd.concat([sub_nodes_df, dropped_nodes_df]) # should append the dropped nodes to the end of the sub_nodes_df\n",
    "        # adjust all name and cluster\n",
    "        sub_nodes_df.loc[:, 'cluster_name'] = cluster\n",
    "        sub_nodes_df.loc[:, 'cluster'] = sub_nodes_df.loc[:, 'cluster'].apply(lambda _: cluster_set)\n",
    "        sub_nodes_df['adjusted_opening_hours'] = sub_nodes_df.apply(lambda row: adjust_opening_hours(row, work_schedule), axis=1)\n",
    "\n",
    "        # remove and warn about rows that have a weekday_fixed_appointment that is not in the cluster\n",
    "        invalid_rows = sub_nodes_df[sub_nodes_df.apply(\n",
    "            lambda row: not pd.isna(row['weekday_fixed_appointment']) and row['weekday_fixed_appointment'] not in row['cluster'], axis=1)]\n",
    "        if not invalid_rows.empty:\n",
    "            print(f\"WARNING: Nodes {invalid_rows['node_id'].tolist()} have fixed appointments that can not take place on the assigned days.\")\n",
    "            sub_nodes_df = sub_nodes_df[~sub_nodes_df.index.isin(invalid_rows.index)]\n",
    "        \n",
    "        # find route -> dropped nodes\n",
    "        if verbose:\n",
    "            print(f'nodes for finding route: {sub_nodes_df[\"node_id\"].tolist()}')\n",
    "        result, dropped_nodes = solve_vrp(sub_nodes_df, deep=False)\n",
    "        route_lists[cluster] = result[1] # route without travel\n",
    "        if verbose:\n",
    "            print(f'Route for {cluster}: {result[0]}')\n",
    "        if (len(dropped_nodes) > 0) and verbose:\n",
    "            priority_dropped = sub_nodes_df[sub_nodes_df['node_id'].isin(dropped_nodes)]['priority'].mean().round(2)\n",
    "            priority_kept = sub_nodes_df[~sub_nodes_df['node_id'].isin(dropped_nodes)]['priority'].mean().round(2)\n",
    "            print(f\"Dropped nodes with mean priority {priority_dropped} vs. kept nodes with mean priority {priority_kept}\")"
   ]
  },
  {
   "cell_type": "code",
   "execution_count": 319,
   "metadata": {},
   "outputs": [
    {
     "data": {
      "application/vnd.plotly.v1+json": {
       "config": {
        "plotlyServerURL": "https://plot.ly"
       },
       "data": [
        {
         "hoverinfo": "text",
         "hovertext": [
          "Node: 0<br>                 Time: 604<br>                Days: [1, 2, 3, 4, 5, 6, 7]<br>                Priority: 0.28<br>                Angle to home: 0.0<br>                Distance to home: 0.0<br>                Time Window: [[598, 1020]]<br>                ",
          "Node: 29<br>                 Time: 630<br>                Days: [1, 2, 3, 4, 5, 6, 7]<br>                Priority: 1.00<br>                Angle to home: 274.3987053549955<br>                Distance to home: 26.08<br>                Time Window: [[660, 848]]<br>                ",
          "Node: 10<br>                 Time: 690<br>                Days: [1, 2, 3, 4, 5, 6, 7]<br>                Priority: 0.14<br>                Angle to home: 288.434948822922<br>                Distance to home: 31.62<br>                Time Window: [[660, 850]]<br>                ",
          "Node: 27<br>                 Time: 779<br>                Days: [1, 2, 3, 4, 5, 6, 7]<br>                Priority: 0.65<br>                Angle to home: 301.21840276434637<br>                Distance to home: 38.59<br>                Time Window: [[660, 853]]<br>                ",
          "Node: 7<br>                 Time: 851<br>                Days: [1, 2, 3, 4, 5, 6, 7]<br>                Priority: 0.23<br>                Angle to home: 322.9269266826896<br>                Distance to home: 56.4<br>                Time Window: [[660, 847]]<br>                ",
          "Node: 24<br>                 Time: 910<br>                Days: [1, 2, 3, 4, 5, 6, 7]<br>                Priority: 0.50<br>                Angle to home: 329.03624346792645<br>                Distance to home: 58.31<br>                Time Window: [[660, 615], [744, 854]]<br>                ",
          "Node: 35<br>                 Time: 977<br>                Days: [1, 2, 3, 4, 5, 6, 7]<br>                Priority: 0.24<br>                Angle to home: 325.00797980144137<br>                Distance to home: 36.62<br>                Time Window: [[660, 857]]<br>                ",
          "Node: 0<br>                 Time: 1056<br>                Days: [1, 2, 3, 4, 5, 6, 7]<br>                Priority: 0.28<br>                Angle to home: 0.0<br>                Distance to home: 0.0<br>                Time Window: [[598, 1020]]<br>                "
         ],
         "line": {
          "color": "#76B041",
          "width": 2
         },
         "marker": {
          "color": [
           "#76B041",
           "#76B041",
           "#76B041",
           "#76B041",
           "#76B041",
           "#76B041",
           "#76B041",
           "#76B041"
          ],
          "size": 8
         },
         "mode": "lines+markers",
         "name": "Route 1_day_trip_0",
         "type": "scatter",
         "x": [
          30,
          32,
          40,
          50,
          75,
          80,
          60,
          30
         ],
         "y": [
          35,
          9,
          5,
          2,
          1,
          5,
          14,
          35
         ]
        },
        {
         "hoverinfo": "text",
         "hovertext": [
          "Node: 0<br>                 Time: 599<br>                Days: [1, 2, 3, 4, 5, 6, 7]<br>                Priority: 0.28<br>                Angle to home: 0.0<br>                Distance to home: 0.0<br>                Time Window: [[598, 1020]]<br>                ",
          "Node: 11<br>                 Time: 625<br>                Days: [1, 2, 3, 4, 5, 6, 7]<br>                Priority: 1.00<br>                Angle to home: 217.3039482779834<br>                Distance to home: 26.4<br>                Time Window: [[660, 865]]<br>                ",
          "Node: 28<br>                 Time: 731<br>                Days: [1, 2, 3, 4, 5, 6, 7]<br>                Priority: 0.38<br>                Angle to home: 341.2219667775545<br>                Distance to home: 52.81<br>                Time Window: [[482, 1011]]<br>                ",
          "Node: 31<br>                 Time: 829<br>                Days: [1, 2, 3, 4, 5, 6, 7]<br>                Priority: 0.25<br>                Angle to home: 359.09061955080085<br>                Distance to home: 63.01<br>                Time Window: [[520, 1019]]<br>                ",
          "Node: 30<br>                 Time: 894<br>                Days: [1, 2, 3, 4, 5, 6, 7]<br>                Priority: 0.61<br>                Angle to home: 5.2738959573517645<br>                Distance to home: 65.28<br>                Time Window: [[571, 705], [805, 1026]]<br>                ",
          "Node: 12<br>                 Time: 930<br>                Days: [1, 2, 3, 4, 5, 6, 7]<br>                Priority: 0.07<br>                Angle to home: 5.440332031005506<br>                Distance to home: 63.29<br>                Time Window: [[599, 702], [784, 1026]]<br>                ",
          "Node: 39<br>                 Time: 980<br>                Days: [1, 2, 3, 4, 5, 6, 7]<br>                Priority: 0.50<br>                Angle to home: 12.425942865427487<br>                Distance to home: 60.42<br>                Time Window: [[496, 957]]<br>                ",
          "Node: 0<br>                 Time: 1080<br>                Days: [1, 2, 3, 4, 5, 6, 7]<br>                Priority: 0.28<br>                Angle to home: 0.0<br>                Distance to home: 0.0<br>                Time Window: [[598, 1020]]<br>                "
         ],
         "line": {
          "color": "#F8766D",
          "width": 2
         },
         "marker": {
          "color": [
           "#F8766D",
           "#F8766D",
           "#F8766D",
           "#F8766D",
           "#F8766D",
           "#F8766D",
           "#F8766D",
           "#F8766D"
          ],
          "size": 8
         },
         "mode": "lines+markers",
         "name": "Route 1_day_trip_1",
         "type": "scatter",
         "x": [
          30,
          9,
          80,
          93,
          95,
          93,
          89,
          30
         ],
         "y": [
          35,
          19,
          18,
          34,
          41,
          41,
          48,
          35
         ]
        },
        {
         "hoverinfo": "text",
         "hovertext": [
          "Node: 0<br>                 Time: 623<br>                Days: [1, 2, 3, 4, 5, 6, 7]<br>                Priority: 0.28<br>                Angle to home: 0.0<br>                Distance to home: 0.0<br>                Time Window: [[598, 1020]]<br>                ",
          "Node: 2<br>                 Time: 644<br>                Days: [1, 2, 3, 4, 5, 6, 7]<br>                Priority: 0.25<br>                Angle to home: 30.068582821862453<br>                Distance to home: 21.95<br>                Time Window: [[487, 920]]<br>                ",
          "Node: 22<br>                 Time: 720<br>                Days: [1, 2, 3, 4, 5, 6, 7]<br>                Priority: 0.48<br>                Angle to home: 31.79891282429442<br>                Distance to home: 58.83<br>                Time Window: [[534, 922]]<br>                ",
          "Node: 6<br>                 Time: 795<br>                Days: [1, 2, 3, 4, 5, 6, 7]<br>                Priority: 1.00<br>                Angle to home: 37.95423087513252<br>                Distance to home: 63.41<br>                Time Window: [[509, 901]]<br>                ",
          "Node: 23<br>                 Time: 873<br>                Days: [1, 2, 3, 4, 5, 6, 7]<br>                Priority: 1.00<br>                Angle to home: 40.60129464500447<br>                Distance to home: 82.98<br>                Time Window: [[487, 917]]<br>                ",
          "Node: 33<br>                 Time: 945<br>                Days: [1, 2, 3, 4, 5, 6, 7]<br>                Priority: 1.00<br>                Angle to home: 45.744059202888714<br>                Distance to home: 54.45<br>                Time Window: [[598, 642], [769, 927]]<br>                ",
          "Node: 36<br>                 Time: 988<br>                Days: [1, 2, 3, 4, 5, 6, 7]<br>                Priority: 0.61<br>                Angle to home: 49.53777250790665<br>                Distance to home: 44.69<br>                Time Window: [[542, 928]]<br>                ",
          "Node: 0<br>                 Time: 1064<br>                Days: [1, 2, 3, 4, 5, 6, 7]<br>                Priority: 0.28<br>                Angle to home: 0.0<br>                Distance to home: 0.0<br>                Time Window: [[598, 1020]]<br>                "
         ],
         "line": {
          "color": "#00BFC4",
          "width": 2
         },
         "marker": {
          "color": [
           "#00BFC4",
           "#00BFC4",
           "#00BFC4",
           "#00BFC4",
           "#00BFC4",
           "#00BFC4",
           "#00BFC4",
           "#00BFC4"
          ],
          "size": 8
         },
         "mode": "lines+markers",
         "name": "Route 1_day_trip_2",
         "type": "scatter",
         "x": [
          30,
          49,
          80,
          80,
          93,
          68,
          59,
          30
         ],
         "y": [
          35,
          46,
          66,
          74,
          89,
          74,
          69,
          35
         ]
        },
        {
         "hoverinfo": "text",
         "hovertext": [
          "Node: 0<br>                 Time: 605<br>                Days: [1, 2, 3, 4, 5, 6, 7]<br>                Priority: 0.28<br>                Angle to home: 0.0<br>                Distance to home: 0.0<br>                Time Window: [[598, 1020]]<br>                ",
          "Node: 34<br>                 Time: 624<br>                Days: [1, 2, 3, 4, 5, 6, 7]<br>                Priority: 0.25<br>                Angle to home: 356.98721249581666<br>                Distance to home: 19.03<br>                Time Window: [[512, 716], [793, 924]]<br>                ",
          "Node: 19<br>                 Time: 685<br>                Days: [1, 2, 3, 4, 5, 6, 7]<br>                Priority: 0.14<br>                Angle to home: 356.0548137709624<br>                Distance to home: 29.07<br>                Time Window: [[542, 973]]<br>                ",
          "Node: 17<br>                 Time: 779<br>                Days: [1, 2, 3, 4, 5, 6, 7]<br>                Priority: 0.19<br>                Angle to home: 4.085616779974877<br>                Distance to home: 14.04<br>                Time Window: [[530, 644], [778, 934]]<br>                ",
          "Node: 1<br>                 Time: 844<br>                Days: [1, 2, 3, 4, 5, 6, 7]<br>                Priority: 0.70<br>                Angle to home: 96.11550356628541<br>                Distance to home: 28.16<br>                Time Window: [[553, 707], [808, 977]]<br>                ",
          "Node: 15<br>                 Time: 902<br>                Days: [1, 2, 3, 4, 5, 6, 7]<br>                Priority: 0.43<br>                Angle to home: 121.60750224624891<br>                Distance to home: 15.26<br>                Time Window: [[514, 970]]<br>                ",
          "Node: 9<br>                 Time: 970<br>                Days: [1, 2, 3, 4, 5, 6, 7]<br>                Priority: 0.90<br>                Angle to home: 155.22485943116808<br>                Distance to home: 28.64<br>                Time Window: [[503, 970]]<br>                ",
          "Node: 0<br>                 Time: 1048<br>                Days: [1, 2, 3, 4, 5, 6, 7]<br>                Priority: 0.28<br>                Angle to home: 0.0<br>                Distance to home: 0.0<br>                Time Window: [[598, 1020]]<br>                "
         ],
         "line": {
          "color": "#C77CFF",
          "width": 2
         },
         "marker": {
          "color": [
           "#C77CFF",
           "#C77CFF",
           "#C77CFF",
           "#C77CFF",
           "#C77CFF",
           "#C77CFF",
           "#C77CFF",
           "#C77CFF"
          ],
          "size": 8
         },
         "mode": "lines+markers",
         "name": "Route 1_day_trip_3",
         "type": "scatter",
         "x": [
          30,
          49,
          59,
          44,
          27,
          22,
          4,
          30
         ],
         "y": [
          35,
          34,
          33,
          36,
          63,
          48,
          47,
          35
         ]
        },
        {
         "hoverinfo": "text",
         "hovertext": "Home: Node 0<br>X: 30<br>Y: 35",
         "marker": {
          "color": "red",
          "size": 15,
          "symbol": "star"
         },
         "mode": "markers",
         "name": "Home Node",
         "type": "scatter",
         "x": [
          30
         ],
         "y": [
          35
         ]
        }
       ],
       "layout": {
        "height": 600,
        "hovermode": "closest",
        "legend": {
         "itemsizing": "constant",
         "title": {
          "text": "Clusters & Routes"
         }
        },
        "plot_bgcolor": "white",
        "template": {
         "data": {
          "bar": [
           {
            "error_x": {
             "color": "#2a3f5f"
            },
            "error_y": {
             "color": "#2a3f5f"
            },
            "marker": {
             "line": {
              "color": "#E5ECF6",
              "width": 0.5
             },
             "pattern": {
              "fillmode": "overlay",
              "size": 10,
              "solidity": 0.2
             }
            },
            "type": "bar"
           }
          ],
          "barpolar": [
           {
            "marker": {
             "line": {
              "color": "#E5ECF6",
              "width": 0.5
             },
             "pattern": {
              "fillmode": "overlay",
              "size": 10,
              "solidity": 0.2
             }
            },
            "type": "barpolar"
           }
          ],
          "carpet": [
           {
            "aaxis": {
             "endlinecolor": "#2a3f5f",
             "gridcolor": "white",
             "linecolor": "white",
             "minorgridcolor": "white",
             "startlinecolor": "#2a3f5f"
            },
            "baxis": {
             "endlinecolor": "#2a3f5f",
             "gridcolor": "white",
             "linecolor": "white",
             "minorgridcolor": "white",
             "startlinecolor": "#2a3f5f"
            },
            "type": "carpet"
           }
          ],
          "choropleth": [
           {
            "colorbar": {
             "outlinewidth": 0,
             "ticks": ""
            },
            "type": "choropleth"
           }
          ],
          "contour": [
           {
            "colorbar": {
             "outlinewidth": 0,
             "ticks": ""
            },
            "colorscale": [
             [
              0,
              "#0d0887"
             ],
             [
              0.1111111111111111,
              "#46039f"
             ],
             [
              0.2222222222222222,
              "#7201a8"
             ],
             [
              0.3333333333333333,
              "#9c179e"
             ],
             [
              0.4444444444444444,
              "#bd3786"
             ],
             [
              0.5555555555555556,
              "#d8576b"
             ],
             [
              0.6666666666666666,
              "#ed7953"
             ],
             [
              0.7777777777777778,
              "#fb9f3a"
             ],
             [
              0.8888888888888888,
              "#fdca26"
             ],
             [
              1,
              "#f0f921"
             ]
            ],
            "type": "contour"
           }
          ],
          "contourcarpet": [
           {
            "colorbar": {
             "outlinewidth": 0,
             "ticks": ""
            },
            "type": "contourcarpet"
           }
          ],
          "heatmap": [
           {
            "colorbar": {
             "outlinewidth": 0,
             "ticks": ""
            },
            "colorscale": [
             [
              0,
              "#0d0887"
             ],
             [
              0.1111111111111111,
              "#46039f"
             ],
             [
              0.2222222222222222,
              "#7201a8"
             ],
             [
              0.3333333333333333,
              "#9c179e"
             ],
             [
              0.4444444444444444,
              "#bd3786"
             ],
             [
              0.5555555555555556,
              "#d8576b"
             ],
             [
              0.6666666666666666,
              "#ed7953"
             ],
             [
              0.7777777777777778,
              "#fb9f3a"
             ],
             [
              0.8888888888888888,
              "#fdca26"
             ],
             [
              1,
              "#f0f921"
             ]
            ],
            "type": "heatmap"
           }
          ],
          "heatmapgl": [
           {
            "colorbar": {
             "outlinewidth": 0,
             "ticks": ""
            },
            "colorscale": [
             [
              0,
              "#0d0887"
             ],
             [
              0.1111111111111111,
              "#46039f"
             ],
             [
              0.2222222222222222,
              "#7201a8"
             ],
             [
              0.3333333333333333,
              "#9c179e"
             ],
             [
              0.4444444444444444,
              "#bd3786"
             ],
             [
              0.5555555555555556,
              "#d8576b"
             ],
             [
              0.6666666666666666,
              "#ed7953"
             ],
             [
              0.7777777777777778,
              "#fb9f3a"
             ],
             [
              0.8888888888888888,
              "#fdca26"
             ],
             [
              1,
              "#f0f921"
             ]
            ],
            "type": "heatmapgl"
           }
          ],
          "histogram": [
           {
            "marker": {
             "pattern": {
              "fillmode": "overlay",
              "size": 10,
              "solidity": 0.2
             }
            },
            "type": "histogram"
           }
          ],
          "histogram2d": [
           {
            "colorbar": {
             "outlinewidth": 0,
             "ticks": ""
            },
            "colorscale": [
             [
              0,
              "#0d0887"
             ],
             [
              0.1111111111111111,
              "#46039f"
             ],
             [
              0.2222222222222222,
              "#7201a8"
             ],
             [
              0.3333333333333333,
              "#9c179e"
             ],
             [
              0.4444444444444444,
              "#bd3786"
             ],
             [
              0.5555555555555556,
              "#d8576b"
             ],
             [
              0.6666666666666666,
              "#ed7953"
             ],
             [
              0.7777777777777778,
              "#fb9f3a"
             ],
             [
              0.8888888888888888,
              "#fdca26"
             ],
             [
              1,
              "#f0f921"
             ]
            ],
            "type": "histogram2d"
           }
          ],
          "histogram2dcontour": [
           {
            "colorbar": {
             "outlinewidth": 0,
             "ticks": ""
            },
            "colorscale": [
             [
              0,
              "#0d0887"
             ],
             [
              0.1111111111111111,
              "#46039f"
             ],
             [
              0.2222222222222222,
              "#7201a8"
             ],
             [
              0.3333333333333333,
              "#9c179e"
             ],
             [
              0.4444444444444444,
              "#bd3786"
             ],
             [
              0.5555555555555556,
              "#d8576b"
             ],
             [
              0.6666666666666666,
              "#ed7953"
             ],
             [
              0.7777777777777778,
              "#fb9f3a"
             ],
             [
              0.8888888888888888,
              "#fdca26"
             ],
             [
              1,
              "#f0f921"
             ]
            ],
            "type": "histogram2dcontour"
           }
          ],
          "mesh3d": [
           {
            "colorbar": {
             "outlinewidth": 0,
             "ticks": ""
            },
            "type": "mesh3d"
           }
          ],
          "parcoords": [
           {
            "line": {
             "colorbar": {
              "outlinewidth": 0,
              "ticks": ""
             }
            },
            "type": "parcoords"
           }
          ],
          "pie": [
           {
            "automargin": true,
            "type": "pie"
           }
          ],
          "scatter": [
           {
            "fillpattern": {
             "fillmode": "overlay",
             "size": 10,
             "solidity": 0.2
            },
            "type": "scatter"
           }
          ],
          "scatter3d": [
           {
            "line": {
             "colorbar": {
              "outlinewidth": 0,
              "ticks": ""
             }
            },
            "marker": {
             "colorbar": {
              "outlinewidth": 0,
              "ticks": ""
             }
            },
            "type": "scatter3d"
           }
          ],
          "scattercarpet": [
           {
            "marker": {
             "colorbar": {
              "outlinewidth": 0,
              "ticks": ""
             }
            },
            "type": "scattercarpet"
           }
          ],
          "scattergeo": [
           {
            "marker": {
             "colorbar": {
              "outlinewidth": 0,
              "ticks": ""
             }
            },
            "type": "scattergeo"
           }
          ],
          "scattergl": [
           {
            "marker": {
             "colorbar": {
              "outlinewidth": 0,
              "ticks": ""
             }
            },
            "type": "scattergl"
           }
          ],
          "scattermapbox": [
           {
            "marker": {
             "colorbar": {
              "outlinewidth": 0,
              "ticks": ""
             }
            },
            "type": "scattermapbox"
           }
          ],
          "scatterpolar": [
           {
            "marker": {
             "colorbar": {
              "outlinewidth": 0,
              "ticks": ""
             }
            },
            "type": "scatterpolar"
           }
          ],
          "scatterpolargl": [
           {
            "marker": {
             "colorbar": {
              "outlinewidth": 0,
              "ticks": ""
             }
            },
            "type": "scatterpolargl"
           }
          ],
          "scatterternary": [
           {
            "marker": {
             "colorbar": {
              "outlinewidth": 0,
              "ticks": ""
             }
            },
            "type": "scatterternary"
           }
          ],
          "surface": [
           {
            "colorbar": {
             "outlinewidth": 0,
             "ticks": ""
            },
            "colorscale": [
             [
              0,
              "#0d0887"
             ],
             [
              0.1111111111111111,
              "#46039f"
             ],
             [
              0.2222222222222222,
              "#7201a8"
             ],
             [
              0.3333333333333333,
              "#9c179e"
             ],
             [
              0.4444444444444444,
              "#bd3786"
             ],
             [
              0.5555555555555556,
              "#d8576b"
             ],
             [
              0.6666666666666666,
              "#ed7953"
             ],
             [
              0.7777777777777778,
              "#fb9f3a"
             ],
             [
              0.8888888888888888,
              "#fdca26"
             ],
             [
              1,
              "#f0f921"
             ]
            ],
            "type": "surface"
           }
          ],
          "table": [
           {
            "cells": {
             "fill": {
              "color": "#EBF0F8"
             },
             "line": {
              "color": "white"
             }
            },
            "header": {
             "fill": {
              "color": "#C8D4E3"
             },
             "line": {
              "color": "white"
             }
            },
            "type": "table"
           }
          ]
         },
         "layout": {
          "annotationdefaults": {
           "arrowcolor": "#2a3f5f",
           "arrowhead": 0,
           "arrowwidth": 1
          },
          "autotypenumbers": "strict",
          "coloraxis": {
           "colorbar": {
            "outlinewidth": 0,
            "ticks": ""
           }
          },
          "colorscale": {
           "diverging": [
            [
             0,
             "#8e0152"
            ],
            [
             0.1,
             "#c51b7d"
            ],
            [
             0.2,
             "#de77ae"
            ],
            [
             0.3,
             "#f1b6da"
            ],
            [
             0.4,
             "#fde0ef"
            ],
            [
             0.5,
             "#f7f7f7"
            ],
            [
             0.6,
             "#e6f5d0"
            ],
            [
             0.7,
             "#b8e186"
            ],
            [
             0.8,
             "#7fbc41"
            ],
            [
             0.9,
             "#4d9221"
            ],
            [
             1,
             "#276419"
            ]
           ],
           "sequential": [
            [
             0,
             "#0d0887"
            ],
            [
             0.1111111111111111,
             "#46039f"
            ],
            [
             0.2222222222222222,
             "#7201a8"
            ],
            [
             0.3333333333333333,
             "#9c179e"
            ],
            [
             0.4444444444444444,
             "#bd3786"
            ],
            [
             0.5555555555555556,
             "#d8576b"
            ],
            [
             0.6666666666666666,
             "#ed7953"
            ],
            [
             0.7777777777777778,
             "#fb9f3a"
            ],
            [
             0.8888888888888888,
             "#fdca26"
            ],
            [
             1,
             "#f0f921"
            ]
           ],
           "sequentialminus": [
            [
             0,
             "#0d0887"
            ],
            [
             0.1111111111111111,
             "#46039f"
            ],
            [
             0.2222222222222222,
             "#7201a8"
            ],
            [
             0.3333333333333333,
             "#9c179e"
            ],
            [
             0.4444444444444444,
             "#bd3786"
            ],
            [
             0.5555555555555556,
             "#d8576b"
            ],
            [
             0.6666666666666666,
             "#ed7953"
            ],
            [
             0.7777777777777778,
             "#fb9f3a"
            ],
            [
             0.8888888888888888,
             "#fdca26"
            ],
            [
             1,
             "#f0f921"
            ]
           ]
          },
          "colorway": [
           "#636efa",
           "#EF553B",
           "#00cc96",
           "#ab63fa",
           "#FFA15A",
           "#19d3f3",
           "#FF6692",
           "#B6E880",
           "#FF97FF",
           "#FECB52"
          ],
          "font": {
           "color": "#2a3f5f"
          },
          "geo": {
           "bgcolor": "white",
           "lakecolor": "white",
           "landcolor": "#E5ECF6",
           "showlakes": true,
           "showland": true,
           "subunitcolor": "white"
          },
          "hoverlabel": {
           "align": "left"
          },
          "hovermode": "closest",
          "mapbox": {
           "style": "light"
          },
          "paper_bgcolor": "white",
          "plot_bgcolor": "#E5ECF6",
          "polar": {
           "angularaxis": {
            "gridcolor": "white",
            "linecolor": "white",
            "ticks": ""
           },
           "bgcolor": "#E5ECF6",
           "radialaxis": {
            "gridcolor": "white",
            "linecolor": "white",
            "ticks": ""
           }
          },
          "scene": {
           "xaxis": {
            "backgroundcolor": "#E5ECF6",
            "gridcolor": "white",
            "gridwidth": 2,
            "linecolor": "white",
            "showbackground": true,
            "ticks": "",
            "zerolinecolor": "white"
           },
           "yaxis": {
            "backgroundcolor": "#E5ECF6",
            "gridcolor": "white",
            "gridwidth": 2,
            "linecolor": "white",
            "showbackground": true,
            "ticks": "",
            "zerolinecolor": "white"
           },
           "zaxis": {
            "backgroundcolor": "#E5ECF6",
            "gridcolor": "white",
            "gridwidth": 2,
            "linecolor": "white",
            "showbackground": true,
            "ticks": "",
            "zerolinecolor": "white"
           }
          },
          "shapedefaults": {
           "line": {
            "color": "#2a3f5f"
           }
          },
          "ternary": {
           "aaxis": {
            "gridcolor": "white",
            "linecolor": "white",
            "ticks": ""
           },
           "baxis": {
            "gridcolor": "white",
            "linecolor": "white",
            "ticks": ""
           },
           "bgcolor": "#E5ECF6",
           "caxis": {
            "gridcolor": "white",
            "linecolor": "white",
            "ticks": ""
           }
          },
          "title": {
           "x": 0.05
          },
          "xaxis": {
           "automargin": true,
           "gridcolor": "white",
           "linecolor": "white",
           "ticks": "",
           "title": {
            "standoff": 15
           },
           "zerolinecolor": "white",
           "zerolinewidth": 2
          },
          "yaxis": {
           "automargin": true,
           "gridcolor": "white",
           "linecolor": "white",
           "ticks": "",
           "title": {
            "standoff": 15
           },
           "zerolinecolor": "white",
           "zerolinewidth": 2
          }
         }
        },
        "title": {
         "text": "All Cluster Routes Visualization"
        },
        "width": 800,
        "xaxis": {
         "title": {
          "text": "X Coordinate"
         }
        },
        "yaxis": {
         "scaleanchor": "x",
         "scaleratio": 1,
         "title": {
          "text": "Y Coordinate"
         }
        }
       }
      }
     },
     "metadata": {},
     "output_type": "display_data"
    }
   ],
   "source": [
    "plot_all_cluster_routes(route_lists, nodes_df)"
   ]
  },
  {
   "cell_type": "code",
   "execution_count": 320,
   "metadata": {},
   "outputs": [
    {
     "data": {
      "application/vnd.plotly.v1+json": {
       "config": {
        "plotlyServerURL": "https://plot.ly"
       },
       "data": [
        {
         "hoverinfo": "text",
         "hovertext": [
          "Node: 7<br>Days: [1, 2, 3, 4, 5, 6, 7]<br>Priority: 0.23 <br>Angle to home: 322.9269266826896 <br>Distance to home: 56.4",
          "Node: 10<br>Days: [1, 2, 3, 4, 5, 6, 7]<br>Priority: 0.14 <br>Angle to home: 288.434948822922 <br>Distance to home: 31.62",
          "Node: 11<br>Days: [1, 2, 3, 4, 5, 6, 7]<br>Priority: 1.00 <br>Angle to home: 217.3039482779834 <br>Distance to home: 26.4",
          "Node: 14<br>Days: [1, 2, 3, 4, 5, 6, 7]<br>Priority: 0.21 <br>Angle to home: 227.48955292199915 <br>Distance to home: 32.56",
          "Node: 16<br>Days: [1, 2, 3, 4, 5, 6, 7]<br>Priority: 1.00 <br>Angle to home: 192.09475707701208 <br>Distance to home: 28.64",
          "Node: 24<br>Days: [1, 2, 3, 4, 5, 6, 7]<br>Priority: 0.50 <br>Angle to home: 329.03624346792645 <br>Distance to home: 58.31",
          "Node: 27<br>Days: [1, 2, 3, 4, 5, 6, 7]<br>Priority: 0.65 <br>Angle to home: 301.21840276434637 <br>Distance to home: 38.59",
          "Node: 29<br>Days: [1, 2, 3, 4, 5, 6, 7]<br>Priority: 1.00 <br>Angle to home: 274.3987053549955 <br>Distance to home: 26.08",
          "Node: 32<br>Days: [1, 2, 3, 4, 5, 6, 7]<br>Priority: 0.20 <br>Angle to home: 240.4612177404419 <br>Distance to home: 34.48",
          "Node: 35<br>Days: [1, 2, 3, 4, 5, 6, 7]<br>Priority: 0.24 <br>Angle to home: 325.00797980144137 <br>Distance to home: 36.62"
         ],
         "marker": {
          "color": "#76B041",
          "size": 10
         },
         "mode": "markers",
         "name": "1_day_trip_0",
         "type": "scatter",
         "x": [
          75,
          40,
          9,
          8,
          2,
          80,
          50,
          32,
          13,
          60
         ],
         "y": [
          1,
          5,
          19,
          11,
          29,
          5,
          2,
          9,
          5,
          14
         ]
        },
        {
         "hoverinfo": "text",
         "hovertext": [
          "Node: 8<br>Days: [1, 2, 3, 4, 5, 6, 7]<br>Priority: 1.00 <br>Angle to home: 15.39554925399509 <br>Distance to home: 71.57",
          "Node: 12<br>Days: [1, 2, 3, 4, 5, 6, 7]<br>Priority: 0.07 <br>Angle to home: 5.440332031005506 <br>Distance to home: 63.29",
          "Node: 17<br>Days: [1, 2, 3, 4, 5, 6, 7]<br>Priority: 0.19 <br>Angle to home: 4.085616779974877 <br>Distance to home: 14.04",
          "Node: 19<br>Days: [1, 2, 3, 4, 5, 6, 7]<br>Priority: 0.14 <br>Angle to home: 356.0548137709624 <br>Distance to home: 29.07",
          "Node: 20<br>Days: [1, 2, 3, 4, 5, 6, 7]<br>Priority: 1.00 <br>Angle to home: 28.201628218694708 <br>Distance to home: 78.29",
          "Node: 25<br>Days: [1, 2, 3, 4, 5, 6, 7]<br>Priority: 1.00 <br>Angle to home: 355.6839724801344 <br>Distance to home: 53.15",
          "Node: 28<br>Days: [1, 2, 3, 4, 5, 6, 7]<br>Priority: 0.38 <br>Angle to home: 341.2219667775545 <br>Distance to home: 52.81",
          "Node: 30<br>Days: [1, 2, 3, 4, 5, 6, 7]<br>Priority: 0.61 <br>Angle to home: 5.2738959573517645 <br>Distance to home: 65.28",
          "Node: 31<br>Days: [1, 2, 3, 4, 5, 6, 7]<br>Priority: 0.25 <br>Angle to home: 359.09061955080085 <br>Distance to home: 63.01",
          "Node: 34<br>Days: [1, 2, 3, 4, 5, 6, 7]<br>Priority: 0.25 <br>Angle to home: 356.98721249581666 <br>Distance to home: 19.03",
          "Node: 37<br>Days: [1, 2, 3, 4, 5, 6, 7]<br>Priority: 1.00 <br>Angle to home: 42.27368900609374 <br>Distance to home: 59.46",
          "Node: 39<br>Days: [1, 2, 3, 4, 5, 6, 7]<br>Priority: 0.50 <br>Angle to home: 12.425942865427487 <br>Distance to home: 60.42"
         ],
         "marker": {
          "color": "#F8766D",
          "size": 10
         },
         "mode": "markers",
         "name": "1_day_trip_1",
         "type": "scatter",
         "x": [
          99,
          93,
          44,
          59,
          99,
          83,
          80,
          95,
          93,
          49,
          74,
          89
         ],
         "y": [
          54,
          41,
          36,
          33,
          72,
          31,
          18,
          41,
          34,
          34,
          75,
          48
         ]
        },
        {
         "hoverinfo": "text",
         "hovertext": [
          "Node: 2<br>Days: [1, 2, 3, 4, 5, 6, 7]<br>Priority: 0.25 <br>Angle to home: 30.068582821862453 <br>Distance to home: 21.95",
          "Node: 5<br>Days: [1, 2, 3, 4, 5, 6, 7]<br>Priority: 0.39 <br>Angle to home: 43.64680804622031 <br>Distance to home: 89.83",
          "Node: 6<br>Days: [1, 2, 3, 4, 5, 6, 7]<br>Priority: 1.00 <br>Angle to home: 37.95423087513252 <br>Distance to home: 63.41",
          "Node: 22<br>Days: [1, 2, 3, 4, 5, 6, 7]<br>Priority: 0.48 <br>Angle to home: 31.79891282429442 <br>Distance to home: 58.83",
          "Node: 23<br>Days: [1, 2, 3, 4, 5, 6, 7]<br>Priority: 1.00 <br>Angle to home: 40.60129464500447 <br>Distance to home: 82.98",
          "Node: 33<br>Days: [1, 2, 3, 4, 5, 6, 7]<br>Priority: 1.00 <br>Angle to home: 45.744059202888714 <br>Distance to home: 54.45",
          "Node: 36<br>Days: [1, 2, 3, 4, 5, 6, 7]<br>Priority: 0.61 <br>Angle to home: 49.53777250790665 <br>Distance to home: 44.69"
         ],
         "marker": {
          "color": "#00BFC4",
          "size": 10
         },
         "mode": "markers",
         "name": "1_day_trip_2",
         "type": "scatter",
         "x": [
          49,
          95,
          80,
          80,
          93,
          68,
          59
         ],
         "y": [
          46,
          97,
          74,
          66,
          89,
          74,
          69
         ]
        },
        {
         "hoverinfo": "text",
         "hovertext": [
          "Node: 0<br>Days: [1, 2, 3, 4, 5, 6, 7]<br>Priority: 0.28 <br>Angle to home: 0.0 <br>Distance to home: 0.0",
          "Node: 1<br>Days: [1, 2, 3, 4, 5, 6, 7]<br>Priority: 0.70 <br>Angle to home: 96.11550356628541 <br>Distance to home: 28.16",
          "Node: 3<br>Days: [1, 2, 3, 4, 5, 6, 7]<br>Priority: 0.10 <br>Angle to home: 63.799885158652664 <br>Distance to home: 70.21",
          "Node: 4<br>Days: [1, 2, 3, 4, 5, 6, 7]<br>Priority: 0.23 <br>Angle to home: 115.20112364547508 <br>Distance to home: 37.58",
          "Node: 9<br>Days: [1, 2, 3, 4, 5, 6, 7]<br>Priority: 0.90 <br>Angle to home: 155.22485943116808 <br>Distance to home: 28.64",
          "Node: 13<br>Days: [1, 2, 3, 4, 5, 6, 7]<br>Priority: 0.90 <br>Angle to home: 62.38697217691553 <br>Distance to home: 73.36",
          "Node: 15<br>Days: [1, 2, 3, 4, 5, 6, 7]<br>Priority: 0.43 <br>Angle to home: 121.60750224624891 <br>Distance to home: 15.26",
          "Node: 18<br>Days: [1, 2, 3, 4, 5, 6, 7]<br>Priority: 1.00 <br>Angle to home: 55.24408744645863 <br>Distance to home: 59.64",
          "Node: 21<br>Days: [1, 2, 3, 4, 5, 6, 7]<br>Priority: 0.90 <br>Angle to home: 110.65891006330749 <br>Distance to home: 65.19",
          "Node: 26<br>Days: [1, 2, 3, 4, 5, 6, 7]<br>Priority: 1.00 <br>Angle to home: 83.0470425318261 <br>Distance to home: 41.3",
          "Node: 38<br>Days: [1, 2, 3, 4, 5, 6, 7]<br>Priority: 0.12 <br>Angle to home: 115.86635679409451 <br>Distance to home: 36.67"
         ],
         "marker": {
          "color": "#C77CFF",
          "size": 10
         },
         "mode": "markers",
         "name": "1_day_trip_3",
         "type": "scatter",
         "x": [
          30,
          27,
          61,
          14,
          4,
          64,
          22,
          64,
          7,
          35,
          14
         ],
         "y": [
          35,
          63,
          98,
          69,
          47,
          100,
          48,
          84,
          96,
          76,
          68
         ]
        },
        {
         "hoverinfo": "text",
         "hovertext": "Home: Node 0",
         "marker": {
          "color": "black",
          "size": 12,
          "symbol": "x"
         },
         "mode": "markers",
         "name": "Home Node",
         "type": "scatter",
         "x": [
          30
         ],
         "y": [
          35
         ]
        }
       ],
       "layout": {
        "height": 500,
        "hovermode": "closest",
        "legend": {
         "itemsizing": "constant",
         "title": {
          "text": "Clusters"
         }
        },
        "plot_bgcolor": "white",
        "template": {
         "data": {
          "bar": [
           {
            "error_x": {
             "color": "#2a3f5f"
            },
            "error_y": {
             "color": "#2a3f5f"
            },
            "marker": {
             "line": {
              "color": "#E5ECF6",
              "width": 0.5
             },
             "pattern": {
              "fillmode": "overlay",
              "size": 10,
              "solidity": 0.2
             }
            },
            "type": "bar"
           }
          ],
          "barpolar": [
           {
            "marker": {
             "line": {
              "color": "#E5ECF6",
              "width": 0.5
             },
             "pattern": {
              "fillmode": "overlay",
              "size": 10,
              "solidity": 0.2
             }
            },
            "type": "barpolar"
           }
          ],
          "carpet": [
           {
            "aaxis": {
             "endlinecolor": "#2a3f5f",
             "gridcolor": "white",
             "linecolor": "white",
             "minorgridcolor": "white",
             "startlinecolor": "#2a3f5f"
            },
            "baxis": {
             "endlinecolor": "#2a3f5f",
             "gridcolor": "white",
             "linecolor": "white",
             "minorgridcolor": "white",
             "startlinecolor": "#2a3f5f"
            },
            "type": "carpet"
           }
          ],
          "choropleth": [
           {
            "colorbar": {
             "outlinewidth": 0,
             "ticks": ""
            },
            "type": "choropleth"
           }
          ],
          "contour": [
           {
            "colorbar": {
             "outlinewidth": 0,
             "ticks": ""
            },
            "colorscale": [
             [
              0,
              "#0d0887"
             ],
             [
              0.1111111111111111,
              "#46039f"
             ],
             [
              0.2222222222222222,
              "#7201a8"
             ],
             [
              0.3333333333333333,
              "#9c179e"
             ],
             [
              0.4444444444444444,
              "#bd3786"
             ],
             [
              0.5555555555555556,
              "#d8576b"
             ],
             [
              0.6666666666666666,
              "#ed7953"
             ],
             [
              0.7777777777777778,
              "#fb9f3a"
             ],
             [
              0.8888888888888888,
              "#fdca26"
             ],
             [
              1,
              "#f0f921"
             ]
            ],
            "type": "contour"
           }
          ],
          "contourcarpet": [
           {
            "colorbar": {
             "outlinewidth": 0,
             "ticks": ""
            },
            "type": "contourcarpet"
           }
          ],
          "heatmap": [
           {
            "colorbar": {
             "outlinewidth": 0,
             "ticks": ""
            },
            "colorscale": [
             [
              0,
              "#0d0887"
             ],
             [
              0.1111111111111111,
              "#46039f"
             ],
             [
              0.2222222222222222,
              "#7201a8"
             ],
             [
              0.3333333333333333,
              "#9c179e"
             ],
             [
              0.4444444444444444,
              "#bd3786"
             ],
             [
              0.5555555555555556,
              "#d8576b"
             ],
             [
              0.6666666666666666,
              "#ed7953"
             ],
             [
              0.7777777777777778,
              "#fb9f3a"
             ],
             [
              0.8888888888888888,
              "#fdca26"
             ],
             [
              1,
              "#f0f921"
             ]
            ],
            "type": "heatmap"
           }
          ],
          "heatmapgl": [
           {
            "colorbar": {
             "outlinewidth": 0,
             "ticks": ""
            },
            "colorscale": [
             [
              0,
              "#0d0887"
             ],
             [
              0.1111111111111111,
              "#46039f"
             ],
             [
              0.2222222222222222,
              "#7201a8"
             ],
             [
              0.3333333333333333,
              "#9c179e"
             ],
             [
              0.4444444444444444,
              "#bd3786"
             ],
             [
              0.5555555555555556,
              "#d8576b"
             ],
             [
              0.6666666666666666,
              "#ed7953"
             ],
             [
              0.7777777777777778,
              "#fb9f3a"
             ],
             [
              0.8888888888888888,
              "#fdca26"
             ],
             [
              1,
              "#f0f921"
             ]
            ],
            "type": "heatmapgl"
           }
          ],
          "histogram": [
           {
            "marker": {
             "pattern": {
              "fillmode": "overlay",
              "size": 10,
              "solidity": 0.2
             }
            },
            "type": "histogram"
           }
          ],
          "histogram2d": [
           {
            "colorbar": {
             "outlinewidth": 0,
             "ticks": ""
            },
            "colorscale": [
             [
              0,
              "#0d0887"
             ],
             [
              0.1111111111111111,
              "#46039f"
             ],
             [
              0.2222222222222222,
              "#7201a8"
             ],
             [
              0.3333333333333333,
              "#9c179e"
             ],
             [
              0.4444444444444444,
              "#bd3786"
             ],
             [
              0.5555555555555556,
              "#d8576b"
             ],
             [
              0.6666666666666666,
              "#ed7953"
             ],
             [
              0.7777777777777778,
              "#fb9f3a"
             ],
             [
              0.8888888888888888,
              "#fdca26"
             ],
             [
              1,
              "#f0f921"
             ]
            ],
            "type": "histogram2d"
           }
          ],
          "histogram2dcontour": [
           {
            "colorbar": {
             "outlinewidth": 0,
             "ticks": ""
            },
            "colorscale": [
             [
              0,
              "#0d0887"
             ],
             [
              0.1111111111111111,
              "#46039f"
             ],
             [
              0.2222222222222222,
              "#7201a8"
             ],
             [
              0.3333333333333333,
              "#9c179e"
             ],
             [
              0.4444444444444444,
              "#bd3786"
             ],
             [
              0.5555555555555556,
              "#d8576b"
             ],
             [
              0.6666666666666666,
              "#ed7953"
             ],
             [
              0.7777777777777778,
              "#fb9f3a"
             ],
             [
              0.8888888888888888,
              "#fdca26"
             ],
             [
              1,
              "#f0f921"
             ]
            ],
            "type": "histogram2dcontour"
           }
          ],
          "mesh3d": [
           {
            "colorbar": {
             "outlinewidth": 0,
             "ticks": ""
            },
            "type": "mesh3d"
           }
          ],
          "parcoords": [
           {
            "line": {
             "colorbar": {
              "outlinewidth": 0,
              "ticks": ""
             }
            },
            "type": "parcoords"
           }
          ],
          "pie": [
           {
            "automargin": true,
            "type": "pie"
           }
          ],
          "scatter": [
           {
            "fillpattern": {
             "fillmode": "overlay",
             "size": 10,
             "solidity": 0.2
            },
            "type": "scatter"
           }
          ],
          "scatter3d": [
           {
            "line": {
             "colorbar": {
              "outlinewidth": 0,
              "ticks": ""
             }
            },
            "marker": {
             "colorbar": {
              "outlinewidth": 0,
              "ticks": ""
             }
            },
            "type": "scatter3d"
           }
          ],
          "scattercarpet": [
           {
            "marker": {
             "colorbar": {
              "outlinewidth": 0,
              "ticks": ""
             }
            },
            "type": "scattercarpet"
           }
          ],
          "scattergeo": [
           {
            "marker": {
             "colorbar": {
              "outlinewidth": 0,
              "ticks": ""
             }
            },
            "type": "scattergeo"
           }
          ],
          "scattergl": [
           {
            "marker": {
             "colorbar": {
              "outlinewidth": 0,
              "ticks": ""
             }
            },
            "type": "scattergl"
           }
          ],
          "scattermapbox": [
           {
            "marker": {
             "colorbar": {
              "outlinewidth": 0,
              "ticks": ""
             }
            },
            "type": "scattermapbox"
           }
          ],
          "scatterpolar": [
           {
            "marker": {
             "colorbar": {
              "outlinewidth": 0,
              "ticks": ""
             }
            },
            "type": "scatterpolar"
           }
          ],
          "scatterpolargl": [
           {
            "marker": {
             "colorbar": {
              "outlinewidth": 0,
              "ticks": ""
             }
            },
            "type": "scatterpolargl"
           }
          ],
          "scatterternary": [
           {
            "marker": {
             "colorbar": {
              "outlinewidth": 0,
              "ticks": ""
             }
            },
            "type": "scatterternary"
           }
          ],
          "surface": [
           {
            "colorbar": {
             "outlinewidth": 0,
             "ticks": ""
            },
            "colorscale": [
             [
              0,
              "#0d0887"
             ],
             [
              0.1111111111111111,
              "#46039f"
             ],
             [
              0.2222222222222222,
              "#7201a8"
             ],
             [
              0.3333333333333333,
              "#9c179e"
             ],
             [
              0.4444444444444444,
              "#bd3786"
             ],
             [
              0.5555555555555556,
              "#d8576b"
             ],
             [
              0.6666666666666666,
              "#ed7953"
             ],
             [
              0.7777777777777778,
              "#fb9f3a"
             ],
             [
              0.8888888888888888,
              "#fdca26"
             ],
             [
              1,
              "#f0f921"
             ]
            ],
            "type": "surface"
           }
          ],
          "table": [
           {
            "cells": {
             "fill": {
              "color": "#EBF0F8"
             },
             "line": {
              "color": "white"
             }
            },
            "header": {
             "fill": {
              "color": "#C8D4E3"
             },
             "line": {
              "color": "white"
             }
            },
            "type": "table"
           }
          ]
         },
         "layout": {
          "annotationdefaults": {
           "arrowcolor": "#2a3f5f",
           "arrowhead": 0,
           "arrowwidth": 1
          },
          "autotypenumbers": "strict",
          "coloraxis": {
           "colorbar": {
            "outlinewidth": 0,
            "ticks": ""
           }
          },
          "colorscale": {
           "diverging": [
            [
             0,
             "#8e0152"
            ],
            [
             0.1,
             "#c51b7d"
            ],
            [
             0.2,
             "#de77ae"
            ],
            [
             0.3,
             "#f1b6da"
            ],
            [
             0.4,
             "#fde0ef"
            ],
            [
             0.5,
             "#f7f7f7"
            ],
            [
             0.6,
             "#e6f5d0"
            ],
            [
             0.7,
             "#b8e186"
            ],
            [
             0.8,
             "#7fbc41"
            ],
            [
             0.9,
             "#4d9221"
            ],
            [
             1,
             "#276419"
            ]
           ],
           "sequential": [
            [
             0,
             "#0d0887"
            ],
            [
             0.1111111111111111,
             "#46039f"
            ],
            [
             0.2222222222222222,
             "#7201a8"
            ],
            [
             0.3333333333333333,
             "#9c179e"
            ],
            [
             0.4444444444444444,
             "#bd3786"
            ],
            [
             0.5555555555555556,
             "#d8576b"
            ],
            [
             0.6666666666666666,
             "#ed7953"
            ],
            [
             0.7777777777777778,
             "#fb9f3a"
            ],
            [
             0.8888888888888888,
             "#fdca26"
            ],
            [
             1,
             "#f0f921"
            ]
           ],
           "sequentialminus": [
            [
             0,
             "#0d0887"
            ],
            [
             0.1111111111111111,
             "#46039f"
            ],
            [
             0.2222222222222222,
             "#7201a8"
            ],
            [
             0.3333333333333333,
             "#9c179e"
            ],
            [
             0.4444444444444444,
             "#bd3786"
            ],
            [
             0.5555555555555556,
             "#d8576b"
            ],
            [
             0.6666666666666666,
             "#ed7953"
            ],
            [
             0.7777777777777778,
             "#fb9f3a"
            ],
            [
             0.8888888888888888,
             "#fdca26"
            ],
            [
             1,
             "#f0f921"
            ]
           ]
          },
          "colorway": [
           "#636efa",
           "#EF553B",
           "#00cc96",
           "#ab63fa",
           "#FFA15A",
           "#19d3f3",
           "#FF6692",
           "#B6E880",
           "#FF97FF",
           "#FECB52"
          ],
          "font": {
           "color": "#2a3f5f"
          },
          "geo": {
           "bgcolor": "white",
           "lakecolor": "white",
           "landcolor": "#E5ECF6",
           "showlakes": true,
           "showland": true,
           "subunitcolor": "white"
          },
          "hoverlabel": {
           "align": "left"
          },
          "hovermode": "closest",
          "mapbox": {
           "style": "light"
          },
          "paper_bgcolor": "white",
          "plot_bgcolor": "#E5ECF6",
          "polar": {
           "angularaxis": {
            "gridcolor": "white",
            "linecolor": "white",
            "ticks": ""
           },
           "bgcolor": "#E5ECF6",
           "radialaxis": {
            "gridcolor": "white",
            "linecolor": "white",
            "ticks": ""
           }
          },
          "scene": {
           "xaxis": {
            "backgroundcolor": "#E5ECF6",
            "gridcolor": "white",
            "gridwidth": 2,
            "linecolor": "white",
            "showbackground": true,
            "ticks": "",
            "zerolinecolor": "white"
           },
           "yaxis": {
            "backgroundcolor": "#E5ECF6",
            "gridcolor": "white",
            "gridwidth": 2,
            "linecolor": "white",
            "showbackground": true,
            "ticks": "",
            "zerolinecolor": "white"
           },
           "zaxis": {
            "backgroundcolor": "#E5ECF6",
            "gridcolor": "white",
            "gridwidth": 2,
            "linecolor": "white",
            "showbackground": true,
            "ticks": "",
            "zerolinecolor": "white"
           }
          },
          "shapedefaults": {
           "line": {
            "color": "#2a3f5f"
           }
          },
          "ternary": {
           "aaxis": {
            "gridcolor": "white",
            "linecolor": "white",
            "ticks": ""
           },
           "baxis": {
            "gridcolor": "white",
            "linecolor": "white",
            "ticks": ""
           },
           "bgcolor": "#E5ECF6",
           "caxis": {
            "gridcolor": "white",
            "linecolor": "white",
            "ticks": ""
           }
          },
          "title": {
           "x": 0.05
          },
          "xaxis": {
           "automargin": true,
           "gridcolor": "white",
           "linecolor": "white",
           "ticks": "",
           "title": {
            "standoff": 15
           },
           "zerolinecolor": "white",
           "zerolinewidth": 2
          },
          "yaxis": {
           "automargin": true,
           "gridcolor": "white",
           "linecolor": "white",
           "ticks": "",
           "title": {
            "standoff": 15
           },
           "zerolinecolor": "white",
           "zerolinewidth": 2
          }
         }
        },
        "title": {
         "text": "Node Allocation by Refined Clusters"
        },
        "width": 700,
        "xaxis": {
         "range": [
          -5,
          105
         ],
         "title": {
          "text": "X Coordinate"
         }
        },
        "yaxis": {
         "range": [
          -5,
          105
         ],
         "scaleanchor": "x",
         "scaleratio": 1,
         "title": {
          "text": "Y Coordinate"
         }
        }
       }
      }
     },
     "metadata": {},
     "output_type": "display_data"
    }
   ],
   "source": [
    "refined_clusters = nodes_df.groupby('cluster_name')['node_id'].apply(list).to_dict()\n",
    "plot_refined_clusters(refined_clusters, nodes_df, home_node_id=0)"
   ]
  }
 ],
 "metadata": {
  "kernelspec": {
   "display_name": "Python 3",
   "language": "python",
   "name": "python3"
  },
  "language_info": {
   "codemirror_mode": {
    "name": "ipython",
    "version": 3
   },
   "file_extension": ".py",
   "mimetype": "text/x-python",
   "name": "python",
   "nbconvert_exporter": "python",
   "pygments_lexer": "ipython3",
   "version": "3.12.2"
  }
 },
 "nbformat": 4,
 "nbformat_minor": 2
}
