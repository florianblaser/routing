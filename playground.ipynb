{
 "cells": [
  {
   "cell_type": "code",
   "execution_count": 5,
   "metadata": {},
   "outputs": [],
   "source": [
    "from src.routing import create_data, get_options_df, solve, prelim_check\n",
    "import pandas as pd"
   ]
  },
  {
   "cell_type": "markdown",
   "metadata": {},
   "source": [
    "# Input"
   ]
  },
  {
   "cell_type": "code",
   "execution_count": 6,
   "metadata": {},
   "outputs": [],
   "source": [
    "# time margin for arrival before appointments\n",
    "margin = 10 \n",
    "\n",
    "percentage_of_appointments = 0\n",
    "GlobalSpanCostCoefficient = 0\n",
    "slack = 200000\n",
    "min_work_days = 7\n",
    "\n",
    "work_schedule = {\n",
    "    1: [8 * 60, 19 * 60],\n",
    "    2: [8 * 60, 19 * 60],\n",
    "    3: [8 * 60, 19 * 60],\n",
    "    4: [8 * 60, 19 * 60],\n",
    "    5: [8 * 60, 18 * 60],\n",
    "    6: [8 * 60, 18 * 60],\n",
    "    7: [8 * 60, 18 * 60]\n",
    "}\n",
    "max_days_off = 0\n",
    "days_off = {5,6,7,4,3,2}\n",
    "max_overnight_stays = 2\n",
    "no_overnight_stays = {}\n",
    "if len(no_overnight_stays) > 0:\n",
    "    possible_overnight_stays = set(range(1, 8)) - no_overnight_stays\n",
    "else:\n",
    "    possible_overnight_stays = set(range(1, 8))\n",
    "max_short_days = 0\n",
    "short_days = {day for day, hours in work_schedule.items() if (hours[1] - hours[0]) / 60 <= 4}\n",
    "\n",
    "num_nodes = 100\n",
    "\n",
    "penalty_factor = [10, 10000, 300]\n",
    "overnight_cost = 2\n",
    "nodes_df, time_matrix = create_data(min_work_days, days_off, percentage_of_appointments, num_nodes, penalty_factor)\n",
    "nodes_df, messages, days_off, short_days, max_days_off, max_short_days = prelim_check(nodes_df, time_matrix, work_schedule, days_off, short_days, max_days_off, max_short_days, verbose=False)\n",
    "\n",
    "total_hours = 0\n",
    "for day, hours in work_schedule.items():\n",
    "    if not day in days_off:\n",
    "        total_hours += hours[1] - hours[0]\n",
    "\n",
    "n_fixed_appointments = sum(nodes_df['fixed_appointment'].notnull())\n",
    "\n",
    "avg_spread = time_matrix.iloc[nodes_df['node_id'].values, nodes_df['node_id'].values].median().median()\n",
    "max_spread = time_matrix.iloc[nodes_df['node_id'].values, nodes_df['node_id'].values].max().max()\n",
    "# Add: Optimization Algorithms, lunches, lunch duration, etc."
   ]
  },
  {
   "cell_type": "markdown",
   "metadata": {},
   "source": [
    "# Throughput"
   ]
  },
  {
   "cell_type": "code",
   "execution_count": 7,
   "metadata": {},
   "outputs": [],
   "source": [
    "options_df = get_options_df(days_off, max_days_off, short_days, max_short_days, no_overnight_stays, max_overnight_stays)\n",
    "\n",
    "time_limit = 20\n",
    "num_nodes_to_consider = 10\n",
    "\n",
    "nodes_df = nodes_df.sort_values('priority', ascending=False, inplace=False)\n",
    "top_nodes_df = nodes_df.head(num_nodes_to_consider)\n",
    "node_zero_df = nodes_df[nodes_df['node_id'] == 0]\n",
    "nodes_df = pd.concat([node_zero_df, top_nodes_df]).head(num_nodes_to_consider)"
   ]
  },
  {
   "cell_type": "markdown",
   "metadata": {},
   "source": [
    "# Output"
   ]
  },
  {
   "cell_type": "markdown",
   "metadata": {},
   "source": [
    "- no fixed appointments -> fixed appointments considered: NaN\n",
    "- Return absolute number of nodes considered"
   ]
  },
  {
   "cell_type": "code",
   "execution_count": 8,
   "metadata": {},
   "outputs": [
    {
     "name": "stdout",
     "output_type": "stream",
     "text": [
      "Number of overnight trips: 0\n",
      "Number of nodes considered: 0.5\n",
      "Number of fixed appointments considered: 1.0\n"
     ]
    }
   ],
   "source": [
    "updated_options_df, figs, route_lists = solve(options_df, nodes_df, time_matrix, slack, work_schedule, margin, time_limit, lunch_duration=30, first_optimization_algorithm='BEST_INSERTION', second_optimization_algorithm='GUIDED_LOCAL_SEARCH', GlobalSpanCostCoefficient=GlobalSpanCostCoefficient, verbose=False, visual=False, restrictive=False)\n",
    "max_app_cons = updated_options_df['fixed_app_cons'].max()\n",
    "best_solutions = updated_options_df[updated_options_df['fixed_app_cons'] == max_app_cons]\n",
    "best_solutions['num_nodes_cons'] -= best_solutions['n_overnight_trips'] * overnight_cost\n",
    "best_solution = best_solutions['num_nodes_cons'].idxmax()\n",
    "best_option_df = updated_options_df.iloc[best_solution]\n",
    "# make values of optimization df\n",
    "n_overnight_trips = best_option_df['n_overnight_trips']\n",
    "nodes_cons = best_option_df['nodes_cons']\n",
    "fixed_app_cons = best_option_df['fixed_app_cons']\n",
    "print(f'Number of overnight trips: {n_overnight_trips}')\n",
    "print(f'Number of nodes considered: {nodes_cons}')\n",
    "print(f'Number of fixed appointments considered: {fixed_app_cons}')"
   ]
  }
 ],
 "metadata": {
  "kernelspec": {
   "display_name": "Python 3",
   "language": "python",
   "name": "python3"
  },
  "language_info": {
   "codemirror_mode": {
    "name": "ipython",
    "version": 3
   },
   "file_extension": ".py",
   "mimetype": "text/x-python",
   "name": "python",
   "nbconvert_exporter": "python",
   "pygments_lexer": "ipython3",
   "version": "3.12.2"
  }
 },
 "nbformat": 4,
 "nbformat_minor": 2
}
