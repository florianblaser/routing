{
 "cells": [
  {
   "cell_type": "markdown",
   "metadata": {},
   "source": [
    "Enter:\n",
    "- working hours\n",
    "- preference for overnight stays\n",
    "- fixed appointments"
   ]
  },
  {
   "cell_type": "code",
   "execution_count": 387,
   "metadata": {},
   "outputs": [],
   "source": [
    "from src.routing import create_nodes_dataframe, custom_clustering, plot_refined_clusters, assign_weekdays_to_clusters, plot_ind_route, plot_all_cluster_routes, create_data_model\n",
    "import pandas as pd\n",
    "\n",
    "from collections import Counter\n",
    "\n",
    "from ortools.constraint_solver import routing_enums_pb2\n",
    "from ortools.constraint_solver import pywrapcp\n",
    "\n",
    "num_large_clusters = 1\n",
    "num_small_clusters = 3"
   ]
  },
  {
   "cell_type": "code",
   "execution_count": 388,
   "metadata": {},
   "outputs": [],
   "source": [
    "nodes_df, time_matrix = create_nodes_dataframe(num_nodes=100, min_work_days=5, home_node_id=0, visiting_interval_min=10, visiting_interval_max=30, max_last_visit=20, frac_fixed_app=.2)"
   ]
  },
  {
   "cell_type": "code",
   "execution_count": 389,
   "metadata": {},
   "outputs": [],
   "source": [
    "clusters = custom_clustering(time_matrix.values, nodes_df, num_small_clusters=num_small_clusters, num_large_clusters=num_large_clusters, overnight_factor=1.3, precision=30)"
   ]
  },
  {
   "cell_type": "code",
   "execution_count": 390,
   "metadata": {},
   "outputs": [],
   "source": [
    "node_to_cluster = {node: cluster for cluster, nodes in clusters.items() for node in nodes}\n",
    "nodes_df['cluster'] = nodes_df['node_id'].map(node_to_cluster)"
   ]
  },
  {
   "cell_type": "code",
   "execution_count": 391,
   "metadata": {},
   "outputs": [],
   "source": [
    "nodes_df = assign_weekdays_to_clusters(nodes_df)"
   ]
  },
  {
   "cell_type": "markdown",
   "metadata": {},
   "source": [
    "The below will Fail if there are lunch breaks"
   ]
  },
  {
   "cell_type": "code",
   "execution_count": 392,
   "metadata": {},
   "outputs": [],
   "source": [
    "nodes_df['visit_day'] = nodes_df['visit_day'].apply(frozenset)\n",
    "\n",
    "def adjust_opening_hours(row):\n",
    "    visit_days = row['visit_day']\n",
    "    opening_hours = row['opening_hours']\n",
    "    adjusted_hours = {}\n",
    "    for day in visit_days:\n",
    "        if day in opening_hours:\n",
    "            open_time, close_time = opening_hours[day]\n",
    "            adjusted_open = open_time.hour * 60 + open_time.minute\n",
    "            adjusted_close = close_time.hour * 60 + close_time.minute\n",
    "            if len(visit_days) == 2 and max(visit_days) == day: # fail here if lunch break\n",
    "                adjusted_open += 1440\n",
    "                adjusted_close += 1440\n",
    "            adjusted_hours[int(day)] = (adjusted_open, adjusted_close)\n",
    "    return adjusted_hours\n",
    "\n",
    "nodes_df['adjusted_opening_hours'] = nodes_df.apply(adjust_opening_hours, axis=1)"
   ]
  },
  {
   "cell_type": "markdown",
   "metadata": {},
   "source": [
    "use margin as hyperparameter"
   ]
  },
  {
   "cell_type": "code",
   "execution_count": 393,
   "metadata": {},
   "outputs": [],
   "source": [
    "margin = 5\n",
    "\n",
    "def time_to_minutes(t):\n",
    "    return t.hour * 60 + t.minute + t.second / 60\n",
    "\n",
    "def adjust_hours(row):\n",
    "    opening_hours = row['adjusted_opening_hours']\n",
    "    appointment = row['fixed_appointment']\n",
    "    if appointment:\n",
    "        day, start_time, end_time = appointment\n",
    "        start_minutes = int(time_to_minutes(start_time) - margin)\n",
    "        end_minutes = int(time_to_minutes(end_time) + margin)\n",
    "\n",
    "        # Get the highest day key in the adjusted_opening_hours\n",
    "        max_day_key = max(opening_hours.keys()) if opening_hours else None\n",
    "        \n",
    "        # Check if the appointment is on the last (highest) day\n",
    "        if (day == max_day_key) & (day != 0):\n",
    "            start_minutes += 1440  # Add 24 hours in minutes\n",
    "            end_minutes += 1440\n",
    "\n",
    "        # Adjust opening hours for the appointment day\n",
    "        if day in opening_hours:\n",
    "            opening_hours = {day: (start_minutes, end_minutes)}\n",
    "        else:\n",
    "            # Add new day if it does not exist\n",
    "            opening_hours[day] = (start_minutes, end_minutes)\n",
    "    # make opening_hours a list of tuples\n",
    "    opening_hours = [[v[0], v[1]] for _, v in opening_hours.items()]\n",
    "    return opening_hours\n",
    "\n",
    "# Applying the function\n",
    "nodes_df['adjusted_opening_hours'] = nodes_df.apply(adjust_hours, axis=1)\n",
    "nodes_df['forbidden_starts'] = nodes_df['adjusted_opening_hours'].apply(lambda x: [0] + [i[1] for i in x])\n",
    "nodes_df['forbidden_ends'] = nodes_df['adjusted_opening_hours'].apply(lambda x: [i[0] for i in x] + [4880])\n",
    "# potentially ensure that all forbidden ends/starts are of equal length\n",
    "# [len(i) for i in nodes_df['forbidden_ends']].count(2), [len(i) for i in nodes_df['forbidden_ends']].count(3)"
   ]
  },
  {
   "cell_type": "code",
   "execution_count": 394,
   "metadata": {},
   "outputs": [],
   "source": [
    "nodes_df['cluster_size'] = nodes_df['cluster'].str.split('_').str[0]"
   ]
  },
  {
   "cell_type": "code",
   "execution_count": 395,
   "metadata": {},
   "outputs": [],
   "source": [
    "def define_clusters(dataframe):\n",
    "    dataframe['visit_day'] = dataframe['visit_day'].apply(lambda x: tuple(x) if isinstance(x, list) else (x,))\n",
    "    dataframe['new_clusters'] = dataframe['visit_day'].astype(str).factorize()[0]\n",
    "    return dataframe\n",
    "\n",
    "# Apply the function to the DataFrame\n",
    "clustered_df = define_clusters(nodes_df)\n",
    "\n",
    "# Convert the DataFrame to the required dictionary format for plotting\n",
    "refined_clusters = clustered_df.groupby('new_clusters')['node_id'].apply(list).to_dict()"
   ]
  },
  {
   "cell_type": "code",
   "execution_count": null,
   "metadata": {},
   "outputs": [],
   "source": []
  },
  {
   "cell_type": "code",
   "execution_count": 396,
   "metadata": {},
   "outputs": [],
   "source": [
    "depot_node_data = nodes_df[nodes_df['node_id'] == 0].iloc[0]  # Assuming there is always a row for node 0 in the original DataFrame\n",
    "\n",
    "result_dfs = {}\n",
    "for index, group in nodes_df.groupby('visit_day'):\n",
    "    # Check if depot node is in the current group\n",
    "    if 0 not in group['node_id'].values:\n",
    "        # Append depot node data to the group\n",
    "        group = pd.concat([pd.DataFrame([depot_node_data]), group], ignore_index=True)\n",
    "    # Now group is guaranteed to include the depot node\n",
    "    result_dfs[index] = group[['node_id', 'priority', 'adjusted_opening_hours', 'cluster_size', 'visit_day', 'on_site_time']]"
   ]
  },
  {
   "cell_type": "markdown",
   "metadata": {},
   "source": [
    "- allow not considering node with a certain penalty (larger for high prio [incl. distance to home] nodes and impossible if node has prio 1. nodes with fixed appointments have prio 1)\n",
    "- add non-consecutive time-window restrictions per node\n",
    "- ensure that routes end where they started"
   ]
  },
  {
   "cell_type": "code",
   "execution_count": 397,
   "metadata": {},
   "outputs": [
    {
     "data": {
      "text/plain": [
       "[(0, 0),\n",
       " (65, 69),\n",
       " (75, 115),\n",
       " (79, 195),\n",
       " (11, 238),\n",
       " (7, 284),\n",
       " (95, 337),\n",
       " (64, 387),\n",
       " (81, 438),\n",
       " (40, 498),\n",
       " (1, 562),\n",
       " (20, 624),\n",
       " (13, 673),\n",
       " (18, 715),\n",
       " (16, 772),\n",
       " (96, 836),\n",
       " (42, 888),\n",
       " (4, 955),\n",
       " (63, 1021),\n",
       " (92, 1076),\n",
       " (0, 1148)]"
      ]
     },
     "execution_count": 397,
     "metadata": {},
     "output_type": "execute_result"
    }
   ],
   "source": [
    "solutions = {}\n",
    "working_hours = [8 * 60, 18 * 60]\n",
    "span_cost_coefficient = 20000 # adjust\n",
    "slack = 20000 # adjust\n",
    "route_lists = {}\n",
    "\n",
    "def create_data_model(sub_nodes_df, sub_time_matrix):\n",
    "    \"\"\"Stores the data for the problem.\"\"\"\n",
    "    data = {}\n",
    "    data['time_matrix'] = sub_time_matrix\n",
    "    data['windows'] = sub_nodes_df['adjusted_opening_hours'].tolist()\n",
    "    data['priorities'] = sub_nodes_df['priority'].tolist()\n",
    "    data['num_vehicles'] = 1\n",
    "    data['on_site_time'] = sub_nodes_df['on_site_time'].tolist()\n",
    "    data['depot'] = 0\n",
    "    return data\n",
    "\n",
    "for key, sub_nodes_df in result_dfs.items():\n",
    "    max_travel_time = 10000 if len(sub_nodes_df['visit_day'].iloc[0]) == 1 else 20000 # adjust\n",
    "    nodes = sub_nodes_df['node_id'].tolist()\n",
    "    sub_time_matrix = time_matrix.loc[nodes, nodes].values.tolist()\n",
    "    sub_time_matrix = [[int(x) for x in row] for row in sub_time_matrix]\n",
    "    data = create_data_model(sub_nodes_df, sub_time_matrix)\n",
    "    manager = pywrapcp.RoutingIndexManager(len(data[\"time_matrix\"]), data[\"num_vehicles\"], data[\"depot\"])\n",
    "    routing = pywrapcp.RoutingModel(manager)\n",
    "    def time_callback(from_index, to_index):\n",
    "        from_node = manager.IndexToNode(from_index)\n",
    "        to_node = manager.IndexToNode(to_index)\n",
    "        return data[\"time_matrix\"][from_node][to_node] + data['on_site_time'][from_node]\n",
    "    transit_callback_index = routing.RegisterTransitCallback(time_callback)\n",
    "    routing.SetArcCostEvaluatorOfAllVehicles(transit_callback_index)\n",
    "    dimension_name = \"total_time\"\n",
    "    routing.AddDimension(\n",
    "        transit_callback_index,\n",
    "        slack,  # upper bound for slack / waiting time\n",
    "        max_travel_time,  # upper bound for vehicle maximum travel time\n",
    "        True,  # start cumul to zero\n",
    "        dimension_name\n",
    "    )\n",
    "    time_dimension = routing.GetDimensionOrDie(dimension_name)\n",
    "    # time_dimension.SetGlobalSpanCostCoefficient(span_cost_coefficient)\n",
    "\n",
    "    # for location_index, priority in enumerate(data['priorities']):\n",
    "    #     index = manager.NodeToIndex(location_index)\n",
    "    #     if index == 0:\n",
    "    #         continue\n",
    "    #     else:\n",
    "    #         routing.AddDisjunction([index], int(round((priority*100)**2/100, 0)))\n",
    "    for location_index in range(1, len(data['priorities'])):\n",
    "        routing.AddDisjunction([manager.NodeToIndex(location_index)], 100)\n",
    "\n",
    "    # for location_index, windows in enumerate(data['windows']):\n",
    "    #     index = manager.NodeToIndex(location_index)\n",
    "    #     time_dimension.CumulVar(index).SetRange(0, 20000) # adjust\n",
    "    #     days = len(windows)\n",
    "    #     start_time = 0\n",
    "    #     end_time = days * 1440\n",
    "        \n",
    "    #     # remove start to windows[0][0] and windows[-1][1] to end\n",
    "    #     latest_start = max(start_time, windows[0][0])\n",
    "    #     time_dimension.CumulVar(index).RemoveInterval(start_time, windows[0][0])\n",
    "    #     time_dimension.CumulVar(index).RemoveInterval(start_time, working_hours[0])\n",
    "        \n",
    "    #     earliest_end = min(end_time, windows[-1][1])\n",
    "    #     time_dimension.CumulVar(index).RemoveInterval(windows[-1][1], end_time)\n",
    "    #     time_dimension.CumulVar(index).RemoveInterval(windows[-1][1], working_hours[1])\n",
    "\n",
    "    #     # remove time between days\n",
    "    #     if days > 1:\n",
    "    #         for day in range(1, days):\n",
    "    #             time_dimension.CumulVar(index).RemoveInterval(windows[day-1][1], windows[day][0])\n",
    "    #             time_dimension.CumulVar(index).RemoveInterval(working_hours[1] + 1440 * (day-1), working_hours[0] + 1440 * day)\n",
    "    for location_index, windows in enumerate(data['windows']):\n",
    "        index = manager.NodeToIndex(location_index)\n",
    "        time_dimension.CumulVar(index).SetRange(0, max_travel_time)\n",
    "\n",
    "    # Instantiate route start and end times to produce feasible times\n",
    "    routing.AddVariableMinimizedByFinalizer(time_dimension.CumulVar(routing.Start(0)))\n",
    "    routing.AddVariableMinimizedByFinalizer(time_dimension.CumulVar(routing.End(0)))\n",
    "\n",
    "    # Setting first solution heuristic\n",
    "    search_parameters = pywrapcp.DefaultRoutingSearchParameters()\n",
    "    search_parameters.first_solution_strategy = (\n",
    "        routing_enums_pb2.FirstSolutionStrategy.PATH_CHEAPEST_ARC)\n",
    "    # search_parameters.local_search_metaheuristic = (\n",
    "    #     routing_enums_pb2.LocalSearchMetaheuristic.SIMULATED_ANNEALING)\n",
    "    search_parameters.time_limit.seconds = 60\n",
    "    search_parameters.log_search = False\n",
    "\n",
    "    # Solve the problem\n",
    "    solution = routing.SolveWithParameters(search_parameters)\n",
    "\n",
    "    def return_route_and_times(solution, manager, routing, original_node_ids):\n",
    "        \"\"\"Returns the route along with the start times at each node.\"\"\"\n",
    "        index = routing.Start(0)  # Start at the depot.\n",
    "        route_with_times = []\n",
    "        time_dimension = routing.GetDimensionOrDie('total_time')  # Make sure this matches the dimension name used\n",
    "        while not routing.IsEnd(index):\n",
    "            node_index = manager.IndexToNode(index)\n",
    "            original_node_id = original_node_ids[node_index]  # Map back to original node ID\n",
    "            time_var = time_dimension.CumulVar(index)\n",
    "            start_time = solution.Min(time_var)\n",
    "            route_with_times.append((original_node_id, start_time))  # Use original node ID here\n",
    "            index = solution.Value(routing.NextVar(index))\n",
    "        # Add the final node\n",
    "        route_with_times.append((original_node_ids[manager.IndexToNode(index)], solution.Min(time_dimension.CumulVar(index))))\n",
    "        return route_with_times\n",
    "\n",
    "    if solution:\n",
    "        route_and_times = return_route_and_times(solution, manager, routing, nodes)\n",
    "        route_lists[key] = route_and_times\n",
    "\n",
    "    if not solution:\n",
    "        print(\"NoSolution\")\n",
    "\n",
    "route_lists[list(route_lists.keys())[1]]"
   ]
  },
  {
   "cell_type": "code",
   "execution_count": 398,
   "metadata": {},
   "outputs": [
    {
     "name": "stdout",
     "output_type": "stream",
     "text": [
      "dropped: []\n"
     ]
    }
   ],
   "source": [
    "dropped = []\n",
    "for node in range(routing.Size()):\n",
    "  if routing.IsStart(node) or routing.IsEnd(node):\n",
    "    continue\n",
    "  if solution.Value(routing.NextVar(node)) == node:\n",
    "    dropped.append(manager.IndexToNode(node))\n",
    "print(f\"dropped: {dropped}\")"
   ]
  },
  {
   "cell_type": "markdown",
   "metadata": {},
   "source": [
    "- print more info (opening hours, fixed appointments, priority, decisions [removing a node, replacing a node to another day, priority, etc])\n",
    "- use data to fine tune hyperparameters\n",
    "\n",
    "evtl:\n",
    "- Store state and if it was possible to find routes for all solutions iteratively add nodes based on node priority and distance to root node (those further away should be included more likely)\n",
    "- Test Discrete Priority (must be visited this week; must be visited next week; ...)\n",
    "- Compare routes with and without overnight stays / large clusters"
   ]
  },
  {
   "cell_type": "code",
   "execution_count": 399,
   "metadata": {},
   "outputs": [
    {
     "data": {
      "application/vnd.plotly.v1+json": {
       "config": {
        "plotlyServerURL": "https://plot.ly"
       },
       "data": [
        {
         "hoverinfo": "text",
         "hovertext": [
          "Node: 0<br>Days: [0, 1, 2, 3, 4]<br>Priority: 0.54 <br>Angle to home: 0.0 <br>Distance to home: 0.0",
          "Node: 3<br>Days: [0, 1, 2, 3, 4]<br>Priority: 0.70 <br>Angle to home: 286.6992442339936 <br>Distance to home: 83.52",
          "Node: 17<br>Days: [0, 1, 2, 3, 4]<br>Priority: 0.29 <br>Angle to home: 198.434948822922 <br>Distance to home: 15.81",
          "Node: 21<br>Days: [0, 1, 2, 3, 4]<br>Priority: 0.46 <br>Angle to home: 291.92958775017536 <br>Distance to home: 83.01",
          "Node: 22<br>Days: [0, 1, 2, 3, 4]<br>Priority: 1.00 <br>Angle to home: 298.9264258352536 <br>Distance to home: 43.42",
          "Node: 23<br>Days: [0, 1, 2, 3, 4]<br>Priority: 0.38 <br>Angle to home: 296.9165546169513 <br>Distance to home: 72.9",
          "Node: 26<br>Days: [0, 1, 2, 3, 4]<br>Priority: 0.62 <br>Angle to home: 283.7607851117912 <br>Distance to home: 50.45",
          "Node: 27<br>Days: [0, 1, 2, 3, 4]<br>Priority: 0.69 <br>Angle to home: 290.2975697722287 <br>Distance to home: 77.83",
          "Node: 29<br>Days: [0, 1, 2, 3, 4]<br>Priority: 0.14 <br>Angle to home: 279.21102654081665 <br>Distance to home: 74.97",
          "Node: 30<br>Days: [0, 1, 2, 3, 4]<br>Priority: 0.50 <br>Angle to home: 311.37851529588266 <br>Distance to home: 55.97",
          "Node: 31<br>Days: [0, 1, 2, 3, 4]<br>Priority: 0.52 <br>Angle to home: 288.22507511135444 <br>Distance to home: 86.33",
          "Node: 32<br>Days: [0, 1, 2, 3, 4]<br>Priority: 0.50 <br>Angle to home: 296.07535558394875 <br>Distance to home: 52.33",
          "Node: 35<br>Days: [0, 1, 2, 3, 4]<br>Priority: 0.50 <br>Angle to home: 210.25643716352928 <br>Distance to home: 27.78",
          "Node: 37<br>Days: [0, 1, 2, 3, 4]<br>Priority: 0.43 <br>Angle to home: 338.1985905136482 <br>Distance to home: 16.16",
          "Node: 39<br>Days: [0, 1, 2, 3, 4]<br>Priority: 1.00 <br>Angle to home: 225.88140399658212 <br>Distance to home: 45.97",
          "Node: 41<br>Days: [0, 1, 2, 3, 4]<br>Priority: 0.07 <br>Angle to home: 241.3895403340348 <br>Distance to home: 75.18",
          "Node: 43<br>Days: [0, 1, 2, 3, 4]<br>Priority: 0.27 <br>Angle to home: 261.41637851988605 <br>Distance to home: 53.6",
          "Node: 45<br>Days: [0, 1, 2, 3, 4]<br>Priority: 0.42 <br>Angle to home: 297.4075754378184 <br>Distance to home: 60.83",
          "Node: 46<br>Days: [0, 1, 2, 3, 4]<br>Priority: 0.45 <br>Angle to home: 288.92464441605125 <br>Distance to home: 74.0",
          "Node: 48<br>Days: [0, 1, 2, 3, 4]<br>Priority: 0.27 <br>Angle to home: 314.14490260373327 <br>Distance to home: 47.38",
          "Node: 53<br>Days: [0, 1, 2, 3, 4]<br>Priority: 0.59 <br>Angle to home: 304.0193499898265 <br>Distance to home: 48.26",
          "Node: 57<br>Days: [0, 1, 2, 3, 4]<br>Priority: 0.24 <br>Angle to home: 348.3106308245608 <br>Distance to home: 29.61",
          "Node: 59<br>Days: [0, 1, 2, 3, 4]<br>Priority: 0.21 <br>Angle to home: 250.78732818281438 <br>Distance to home: 69.89",
          "Node: 60<br>Days: [0, 1, 2, 3, 4]<br>Priority: 0.21 <br>Angle to home: 279.0394828033551 <br>Distance to home: 89.11",
          "Node: 66<br>Days: [0, 1, 2, 3, 4]<br>Priority: 0.38 <br>Angle to home: 285.94539590092285 <br>Distance to home: 80.08",
          "Node: 68<br>Days: [0, 1, 2, 3, 4]<br>Priority: 0.19 <br>Angle to home: 280.304846468766 <br>Distance to home: 89.44",
          "Node: 69<br>Days: [0, 1, 2, 3, 4]<br>Priority: 0.42 <br>Angle to home: 296.565051177078 <br>Distance to home: 49.19",
          "Node: 70<br>Days: [0, 1, 2, 3, 4]<br>Priority: 0.47 <br>Angle to home: 328.1725534233269 <br>Distance to home: 34.13",
          "Node: 73<br>Days: [0, 1, 2, 3, 4]<br>Priority: 0.80 <br>Angle to home: 10.124671655397817 <br>Distance to home: 28.44",
          "Node: 74<br>Days: [0, 1, 2, 3, 4]<br>Priority: 0.28 <br>Angle to home: 0.0 <br>Distance to home: 17.0",
          "Node: 77<br>Days: [0, 1, 2, 3, 4]<br>Priority: 0.75 <br>Angle to home: 285.25511870305775 <br>Distance to home: 57.01",
          "Node: 86<br>Days: [0, 1, 2, 3, 4]<br>Priority: 0.90 <br>Angle to home: 285.4612177404419 <br>Distance to home: 48.76",
          "Node: 88<br>Days: [0, 1, 2, 3, 4]<br>Priority: 0.69 <br>Angle to home: 284.03624346792645 <br>Distance to home: 90.71",
          "Node: 89<br>Days: [0, 1, 2, 3, 4]<br>Priority: 0.10 <br>Angle to home: 258.2614287932777 <br>Distance to home: 78.64",
          "Node: 91<br>Days: [0, 1, 2, 3, 4]<br>Priority: 0.33 <br>Angle to home: 323.3658861240326 <br>Distance to home: 48.6",
          "Node: 97<br>Days: [0, 1, 2, 3, 4]<br>Priority: 0.82 <br>Angle to home: 357.3974377975002 <br>Distance to home: 44.05",
          "Node: 98<br>Days: [0, 1, 2, 3, 4]<br>Priority: 0.90 <br>Angle to home: 291.8014094863518 <br>Distance to home: 16.16",
          "Node: 99<br>Days: [0, 1, 2, 3, 4]<br>Priority: 0.70 <br>Angle to home: 330.06848815949223 <br>Distance to home: 38.08"
         ],
         "marker": {
          "color": "#76B041",
          "size": 10
         },
         "mode": "markers",
         "name": "0",
         "type": "scatter",
         "x": [
          55,
          79,
          40,
          86,
          76,
          88,
          67,
          82,
          67,
          92,
          82,
          78,
          31,
          70,
          23,
          19,
          47,
          83,
          79,
          88,
          82,
          84,
          32,
          69,
          77,
          71,
          77,
          84,
          83,
          72,
          70,
          68,
          77,
          39,
          94,
          99,
          61,
          88
         ],
         "y": [
          91,
          11,
          86,
          14,
          53,
          26,
          42,
          18,
          17,
          49,
          9,
          44,
          77,
          85,
          58,
          25,
          38,
          37,
          21,
          57,
          51,
          85,
          25,
          3,
          14,
          3,
          47,
          73,
          96,
          91,
          36,
          44,
          3,
          14,
          62,
          89,
          76,
          72
         ]
        },
        {
         "hoverinfo": "text",
         "hovertext": [
          "Node: 1<br>Days: [0, 1, 2, 3, 4]<br>Priority: 1.00 <br>Angle to home: 270.0 <br>Distance to home: 75.0",
          "Node: 4<br>Days: [0, 1, 2, 3, 4]<br>Priority: 0.50 <br>Angle to home: 253.07248693585296 <br>Distance to home: 48.08",
          "Node: 7<br>Days: [0, 1, 2, 3, 4]<br>Priority: 0.90 <br>Angle to home: 270.0 <br>Distance to home: 57.0",
          "Node: 11<br>Days: [0, 1, 2, 3, 4]<br>Priority: 0.69 <br>Angle to home: 264.0531369460265 <br>Distance to home: 48.26",
          "Node: 13<br>Days: [0, 1, 2, 3, 4]<br>Priority: 0.07 <br>Angle to home: 260.7701137562723 <br>Distance to home: 81.05",
          "Node: 16<br>Days: [0, 1, 2, 3, 4]<br>Priority: 0.33 <br>Angle to home: 256.27770286686643 <br>Distance to home: 88.53",
          "Node: 18<br>Days: [0, 1, 2, 3, 4]<br>Priority: 0.71 <br>Angle to home: 259.9194020124577 <br>Distance to home: 91.41",
          "Node: 20<br>Days: [0, 1, 2, 3, 4]<br>Priority: 0.54 <br>Angle to home: 269.2926806314557 <br>Distance to home: 81.01",
          "Node: 40<br>Days: [0, 1, 2, 3, 4]<br>Priority: 0.78 <br>Angle to home: 271.6846843178963 <br>Distance to home: 68.03",
          "Node: 42<br>Days: [0, 1, 2, 3, 4]<br>Priority: 1.00 <br>Angle to home: 257.5740571345725 <br>Distance to home: 60.42",
          "Node: 63<br>Days: [0, 1, 2, 3, 4]<br>Priority: 0.20 <br>Angle to home: 253.30075576600638 <br>Distance to home: 41.76",
          "Node: 64<br>Days: [0, 1, 2, 3, 4]<br>Priority: 0.52 <br>Angle to home: 264.2072035049678 <br>Distance to home: 69.35",
          "Node: 65<br>Days: [0, 1, 2, 3, 4]<br>Priority: 0.10 <br>Angle to home: 264.5596679689945 <br>Distance to home: 21.1",
          "Node: 75<br>Days: [0, 1, 2, 3, 4]<br>Priority: 0.47 <br>Angle to home: 263.418055344822 <br>Distance to home: 26.17",
          "Node: 79<br>Days: [0, 1, 2, 3, 4]<br>Priority: 1.00 <br>Angle to home: 266.3477772196936 <br>Distance to home: 47.1",
          "Node: 81<br>Days: [0, 1, 2, 3, 4]<br>Priority: 0.37 <br>Angle to home: 268.3153156821037 <br>Distance to home: 68.03",
          "Node: 92<br>Days: [0, 1, 2, 3, 4]<br>Priority: 0.67 <br>Angle to home: 255.96375653207352 <br>Distance to home: 24.74",
          "Node: 95<br>Days: [0, 1, 2, 3, 4]<br>Priority: 0.10 <br>Angle to home: 267.316224840531 <br>Distance to home: 64.07",
          "Node: 96<br>Days: [0, 1, 2, 3, 4]<br>Priority: 1.00 <br>Angle to home: 256.8907918018457 <br>Distance to home: 74.95"
         ],
         "marker": {
          "color": "#F8766D",
          "size": 10
         },
         "mode": "markers",
         "name": "1",
         "type": "scatter",
         "x": [
          55,
          41,
          55,
          50,
          42,
          34,
          39,
          54,
          57,
          42,
          43,
          48,
          53,
          52,
          52,
          53,
          49,
          52,
          38
         ],
         "y": [
          16,
          45,
          34,
          43,
          11,
          5,
          1,
          10,
          23,
          32,
          51,
          22,
          70,
          65,
          44,
          23,
          67,
          27,
          18
         ]
        },
        {
         "hoverinfo": "text",
         "hovertext": [
          "Node: 2<br>Days: [0, 1, 2, 3, 4]<br>Priority: 0.04 <br>Angle to home: 240.85192815428695 <br>Distance to home: 59.54",
          "Node: 6<br>Days: [0, 1, 2, 3, 4]<br>Priority: 0.46 <br>Angle to home: 252.71850162818333 <br>Distance to home: 94.25",
          "Node: 14<br>Days: [0, 1, 2, 3, 4]<br>Priority: 0.25 <br>Angle to home: 239.57421619803873 <br>Distance to home: 73.06",
          "Node: 33<br>Days: [0, 1, 2, 3, 4]<br>Priority: 0.62 <br>Angle to home: 252.28420729362307 <br>Distance to home: 75.58",
          "Node: 36<br>Days: [0, 1, 2, 3, 4]<br>Priority: 0.35 <br>Angle to home: 286.1443387802835 <br>Distance to home: 39.56",
          "Node: 44<br>Days: [0, 1, 2, 3, 4]<br>Priority: 0.81 <br>Angle to home: 243.07232214895947 <br>Distance to home: 70.66",
          "Node: 47<br>Days: [0, 1, 2, 3, 4]<br>Priority: 0.15 <br>Angle to home: 240.16446089973846 <br>Distance to home: 78.39",
          "Node: 50<br>Days: [0, 1, 2, 3, 4]<br>Priority: 0.28 <br>Angle to home: 245.37643521383637 <br>Distance to home: 52.8",
          "Node: 54<br>Days: [0, 1, 2, 3, 4]<br>Priority: 0.82 <br>Angle to home: 234.46232220802563 <br>Distance to home: 94.63",
          "Node: 55<br>Days: [0, 1, 2, 3, 4]<br>Priority: 0.39 <br>Angle to home: 250.01689347810003 <br>Distance to home: 81.93",
          "Node: 58<br>Days: [0, 1, 2, 3, 4]<br>Priority: 0.16 <br>Angle to home: 239.45242825109298 <br>Distance to home: 70.83",
          "Node: 62<br>Days: [0, 1, 2, 3, 4]<br>Priority: 1.00 <br>Angle to home: 244.59228189105153 <br>Distance to home: 44.28",
          "Node: 67<br>Days: [0, 1, 2, 3, 4]<br>Priority: 0.85 <br>Angle to home: 241.50436138175502 <br>Distance to home: 79.65",
          "Node: 71<br>Days: [0, 1, 2, 3, 4]<br>Priority: 0.89 <br>Angle to home: 235.80439459753924 <br>Distance to home: 94.3",
          "Node: 72<br>Days: [0, 1, 2, 3, 4]<br>Priority: 0.05 <br>Angle to home: 249.96278983080703 <br>Distance to home: 90.48",
          "Node: 78<br>Days: [0, 1, 2, 3, 4]<br>Priority: 0.15 <br>Angle to home: 238.24051991518718 <br>Distance to home: 24.7",
          "Node: 80<br>Days: [0, 1, 2, 3, 4]<br>Priority: 0.35 <br>Angle to home: 240.47863816541835 <br>Distance to home: 95.38",
          "Node: 85<br>Days: [0, 1, 2, 3, 4]<br>Priority: 0.27 <br>Angle to home: 245.35322914806886 <br>Distance to home: 93.52",
          "Node: 87<br>Days: [0, 1, 2, 3, 4]<br>Priority: 0.40 <br>Angle to home: 268.1523897340054 <br>Distance to home: 62.03",
          "Node: 90<br>Days: [0, 1, 2, 3, 4]<br>Priority: 0.04 <br>Angle to home: 252.07208023799276 <br>Distance to home: 71.47",
          "Node: 94<br>Days: [0, 1, 2, 3, 4]<br>Priority: 0.18 <br>Angle to home: 236.88865803962796 <br>Distance to home: 27.46"
         ],
         "marker": {
          "color": "#00BFC4",
          "size": 10
         },
         "mode": "markers",
         "name": "2",
         "type": "scatter",
         "x": [
          26,
          27,
          18,
          32,
          66,
          23,
          16,
          33,
          0,
          27,
          19,
          36,
          17,
          2,
          24,
          42,
          8,
          16,
          53,
          33,
          40
         ],
         "y": [
          39,
          1,
          28,
          19,
          53,
          28,
          23,
          43,
          14,
          14,
          30,
          51,
          21,
          13,
          6,
          70,
          8,
          6,
          29,
          23,
          68
         ]
        },
        {
         "hoverinfo": "text",
         "hovertext": [
          "Node: 5<br>Days: [0, 1, 2, 3, 4]<br>Priority: 0.43 <br>Angle to home: 229.28915332881903 <br>Distance to home: 56.73",
          "Node: 8<br>Days: [0, 1, 2, 3, 4]<br>Priority: 0.62 <br>Angle to home: 202.93210043758978 <br>Distance to home: 28.23",
          "Node: 9<br>Days: [0, 1, 2, 3, 4]<br>Priority: 0.80 <br>Angle to home: 231.49934627965456 <br>Distance to home: 56.22",
          "Node: 10<br>Days: [0, 1, 2, 3, 4]<br>Priority: 0.77 <br>Angle to home: 176.34777721969368 <br>Distance to home: 47.1",
          "Node: 12<br>Days: [0, 1, 2, 3, 4]<br>Priority: 0.86 <br>Angle to home: 199.29004621918875 <br>Distance to home: 42.38",
          "Node: 15<br>Days: [0, 1, 2, 3, 4]<br>Priority: 0.92 <br>Angle to home: 268.71267105847494 <br>Distance to home: 89.02",
          "Node: 19<br>Days: [0, 1, 2, 3, 4]<br>Priority: 0.89 <br>Angle to home: 222.70938995736145 <br>Distance to home: 35.38",
          "Node: 24<br>Days: [0, 1, 2, 3, 4]<br>Priority: 0.44 <br>Angle to home: 244.51079944371327 <br>Distance to home: 95.27",
          "Node: 25<br>Days: [0, 1, 2, 3, 4]<br>Priority: 0.71 <br>Angle to home: 200.32313682966296 <br>Distance to home: 57.58",
          "Node: 28<br>Days: [0, 1, 2, 3, 4]<br>Priority: 0.65 <br>Angle to home: 228.5322945838909 <br>Distance to home: 57.38",
          "Node: 34<br>Days: [0, 1, 2, 3, 4]<br>Priority: 0.18 <br>Angle to home: 167.0053832080835 <br>Distance to home: 26.68",
          "Node: 38<br>Days: [0, 1, 2, 3, 4]<br>Priority: 0.24 <br>Angle to home: 194.93141717813754 <br>Distance to home: 31.05",
          "Node: 49<br>Days: [0, 1, 2, 3, 4]<br>Priority: 0.50 <br>Angle to home: 187.35237935989235 <br>Distance to home: 31.26",
          "Node: 51<br>Days: [0, 1, 2, 3, 4]<br>Priority: 0.25 <br>Angle to home: 158.96248897457818 <br>Distance to home: 13.93",
          "Node: 52<br>Days: [0, 1, 2, 3, 4]<br>Priority: 0.08 <br>Angle to home: 232.6506509553594 <br>Distance to home: 47.8",
          "Node: 56<br>Days: [0, 1, 2, 3, 4]<br>Priority: 1.00 <br>Angle to home: 200.1706534118504 <br>Distance to home: 52.2",
          "Node: 61<br>Days: [0, 1, 2, 3, 4]<br>Priority: 0.78 <br>Angle to home: 232.35237935989235 <br>Distance to home: 44.2",
          "Node: 76<br>Days: [0, 1, 2, 3, 4]<br>Priority: 0.17 <br>Angle to home: 229.70785224437222 <br>Distance to home: 60.31",
          "Node: 82<br>Days: [0, 1, 2, 3, 4]<br>Priority: 0.20 <br>Angle to home: 209.24882633654695 <br>Distance to home: 28.65",
          "Node: 83<br>Days: [0, 1, 2, 3, 4]<br>Priority: 0.38 <br>Angle to home: 181.30195267257886 <br>Distance to home: 44.01",
          "Node: 84<br>Days: [0, 1, 2, 3, 4]<br>Priority: 0.12 <br>Angle to home: 232.00126755749534 <br>Distance to home: 81.22",
          "Node: 93<br>Days: [0, 1, 2, 3, 4]<br>Priority: 0.52 <br>Angle to home: 216.5730309785193 <br>Distance to home: 38.6"
         ],
         "marker": {
          "color": "#C77CFF",
          "size": 10
         },
         "mode": "markers",
         "name": "3",
         "type": "scatter",
         "x": [
          18,
          29,
          20,
          8,
          15,
          53,
          29,
          14,
          1,
          17,
          29,
          25,
          24,
          42,
          26,
          6,
          28,
          16,
          30,
          11,
          5,
          24
         ],
         "y": [
          48,
          80,
          47,
          94,
          77,
          2,
          67,
          5,
          71,
          48,
          97,
          83,
          87,
          96,
          53,
          73,
          56,
          45,
          77,
          90,
          27,
          68
         ]
        },
        {
         "hoverinfo": "text",
         "hovertext": "Home: Node 0",
         "marker": {
          "color": "black",
          "size": 12,
          "symbol": "x"
         },
         "mode": "markers",
         "name": "Home Node",
         "type": "scatter",
         "x": [
          55
         ],
         "y": [
          91
         ]
        }
       ],
       "layout": {
        "height": 500,
        "hovermode": "closest",
        "legend": {
         "itemsizing": "constant",
         "title": {
          "text": "Clusters"
         }
        },
        "plot_bgcolor": "white",
        "template": {
         "data": {
          "bar": [
           {
            "error_x": {
             "color": "#2a3f5f"
            },
            "error_y": {
             "color": "#2a3f5f"
            },
            "marker": {
             "line": {
              "color": "#E5ECF6",
              "width": 0.5
             },
             "pattern": {
              "fillmode": "overlay",
              "size": 10,
              "solidity": 0.2
             }
            },
            "type": "bar"
           }
          ],
          "barpolar": [
           {
            "marker": {
             "line": {
              "color": "#E5ECF6",
              "width": 0.5
             },
             "pattern": {
              "fillmode": "overlay",
              "size": 10,
              "solidity": 0.2
             }
            },
            "type": "barpolar"
           }
          ],
          "carpet": [
           {
            "aaxis": {
             "endlinecolor": "#2a3f5f",
             "gridcolor": "white",
             "linecolor": "white",
             "minorgridcolor": "white",
             "startlinecolor": "#2a3f5f"
            },
            "baxis": {
             "endlinecolor": "#2a3f5f",
             "gridcolor": "white",
             "linecolor": "white",
             "minorgridcolor": "white",
             "startlinecolor": "#2a3f5f"
            },
            "type": "carpet"
           }
          ],
          "choropleth": [
           {
            "colorbar": {
             "outlinewidth": 0,
             "ticks": ""
            },
            "type": "choropleth"
           }
          ],
          "contour": [
           {
            "colorbar": {
             "outlinewidth": 0,
             "ticks": ""
            },
            "colorscale": [
             [
              0,
              "#0d0887"
             ],
             [
              0.1111111111111111,
              "#46039f"
             ],
             [
              0.2222222222222222,
              "#7201a8"
             ],
             [
              0.3333333333333333,
              "#9c179e"
             ],
             [
              0.4444444444444444,
              "#bd3786"
             ],
             [
              0.5555555555555556,
              "#d8576b"
             ],
             [
              0.6666666666666666,
              "#ed7953"
             ],
             [
              0.7777777777777778,
              "#fb9f3a"
             ],
             [
              0.8888888888888888,
              "#fdca26"
             ],
             [
              1,
              "#f0f921"
             ]
            ],
            "type": "contour"
           }
          ],
          "contourcarpet": [
           {
            "colorbar": {
             "outlinewidth": 0,
             "ticks": ""
            },
            "type": "contourcarpet"
           }
          ],
          "heatmap": [
           {
            "colorbar": {
             "outlinewidth": 0,
             "ticks": ""
            },
            "colorscale": [
             [
              0,
              "#0d0887"
             ],
             [
              0.1111111111111111,
              "#46039f"
             ],
             [
              0.2222222222222222,
              "#7201a8"
             ],
             [
              0.3333333333333333,
              "#9c179e"
             ],
             [
              0.4444444444444444,
              "#bd3786"
             ],
             [
              0.5555555555555556,
              "#d8576b"
             ],
             [
              0.6666666666666666,
              "#ed7953"
             ],
             [
              0.7777777777777778,
              "#fb9f3a"
             ],
             [
              0.8888888888888888,
              "#fdca26"
             ],
             [
              1,
              "#f0f921"
             ]
            ],
            "type": "heatmap"
           }
          ],
          "heatmapgl": [
           {
            "colorbar": {
             "outlinewidth": 0,
             "ticks": ""
            },
            "colorscale": [
             [
              0,
              "#0d0887"
             ],
             [
              0.1111111111111111,
              "#46039f"
             ],
             [
              0.2222222222222222,
              "#7201a8"
             ],
             [
              0.3333333333333333,
              "#9c179e"
             ],
             [
              0.4444444444444444,
              "#bd3786"
             ],
             [
              0.5555555555555556,
              "#d8576b"
             ],
             [
              0.6666666666666666,
              "#ed7953"
             ],
             [
              0.7777777777777778,
              "#fb9f3a"
             ],
             [
              0.8888888888888888,
              "#fdca26"
             ],
             [
              1,
              "#f0f921"
             ]
            ],
            "type": "heatmapgl"
           }
          ],
          "histogram": [
           {
            "marker": {
             "pattern": {
              "fillmode": "overlay",
              "size": 10,
              "solidity": 0.2
             }
            },
            "type": "histogram"
           }
          ],
          "histogram2d": [
           {
            "colorbar": {
             "outlinewidth": 0,
             "ticks": ""
            },
            "colorscale": [
             [
              0,
              "#0d0887"
             ],
             [
              0.1111111111111111,
              "#46039f"
             ],
             [
              0.2222222222222222,
              "#7201a8"
             ],
             [
              0.3333333333333333,
              "#9c179e"
             ],
             [
              0.4444444444444444,
              "#bd3786"
             ],
             [
              0.5555555555555556,
              "#d8576b"
             ],
             [
              0.6666666666666666,
              "#ed7953"
             ],
             [
              0.7777777777777778,
              "#fb9f3a"
             ],
             [
              0.8888888888888888,
              "#fdca26"
             ],
             [
              1,
              "#f0f921"
             ]
            ],
            "type": "histogram2d"
           }
          ],
          "histogram2dcontour": [
           {
            "colorbar": {
             "outlinewidth": 0,
             "ticks": ""
            },
            "colorscale": [
             [
              0,
              "#0d0887"
             ],
             [
              0.1111111111111111,
              "#46039f"
             ],
             [
              0.2222222222222222,
              "#7201a8"
             ],
             [
              0.3333333333333333,
              "#9c179e"
             ],
             [
              0.4444444444444444,
              "#bd3786"
             ],
             [
              0.5555555555555556,
              "#d8576b"
             ],
             [
              0.6666666666666666,
              "#ed7953"
             ],
             [
              0.7777777777777778,
              "#fb9f3a"
             ],
             [
              0.8888888888888888,
              "#fdca26"
             ],
             [
              1,
              "#f0f921"
             ]
            ],
            "type": "histogram2dcontour"
           }
          ],
          "mesh3d": [
           {
            "colorbar": {
             "outlinewidth": 0,
             "ticks": ""
            },
            "type": "mesh3d"
           }
          ],
          "parcoords": [
           {
            "line": {
             "colorbar": {
              "outlinewidth": 0,
              "ticks": ""
             }
            },
            "type": "parcoords"
           }
          ],
          "pie": [
           {
            "automargin": true,
            "type": "pie"
           }
          ],
          "scatter": [
           {
            "fillpattern": {
             "fillmode": "overlay",
             "size": 10,
             "solidity": 0.2
            },
            "type": "scatter"
           }
          ],
          "scatter3d": [
           {
            "line": {
             "colorbar": {
              "outlinewidth": 0,
              "ticks": ""
             }
            },
            "marker": {
             "colorbar": {
              "outlinewidth": 0,
              "ticks": ""
             }
            },
            "type": "scatter3d"
           }
          ],
          "scattercarpet": [
           {
            "marker": {
             "colorbar": {
              "outlinewidth": 0,
              "ticks": ""
             }
            },
            "type": "scattercarpet"
           }
          ],
          "scattergeo": [
           {
            "marker": {
             "colorbar": {
              "outlinewidth": 0,
              "ticks": ""
             }
            },
            "type": "scattergeo"
           }
          ],
          "scattergl": [
           {
            "marker": {
             "colorbar": {
              "outlinewidth": 0,
              "ticks": ""
             }
            },
            "type": "scattergl"
           }
          ],
          "scattermapbox": [
           {
            "marker": {
             "colorbar": {
              "outlinewidth": 0,
              "ticks": ""
             }
            },
            "type": "scattermapbox"
           }
          ],
          "scatterpolar": [
           {
            "marker": {
             "colorbar": {
              "outlinewidth": 0,
              "ticks": ""
             }
            },
            "type": "scatterpolar"
           }
          ],
          "scatterpolargl": [
           {
            "marker": {
             "colorbar": {
              "outlinewidth": 0,
              "ticks": ""
             }
            },
            "type": "scatterpolargl"
           }
          ],
          "scatterternary": [
           {
            "marker": {
             "colorbar": {
              "outlinewidth": 0,
              "ticks": ""
             }
            },
            "type": "scatterternary"
           }
          ],
          "surface": [
           {
            "colorbar": {
             "outlinewidth": 0,
             "ticks": ""
            },
            "colorscale": [
             [
              0,
              "#0d0887"
             ],
             [
              0.1111111111111111,
              "#46039f"
             ],
             [
              0.2222222222222222,
              "#7201a8"
             ],
             [
              0.3333333333333333,
              "#9c179e"
             ],
             [
              0.4444444444444444,
              "#bd3786"
             ],
             [
              0.5555555555555556,
              "#d8576b"
             ],
             [
              0.6666666666666666,
              "#ed7953"
             ],
             [
              0.7777777777777778,
              "#fb9f3a"
             ],
             [
              0.8888888888888888,
              "#fdca26"
             ],
             [
              1,
              "#f0f921"
             ]
            ],
            "type": "surface"
           }
          ],
          "table": [
           {
            "cells": {
             "fill": {
              "color": "#EBF0F8"
             },
             "line": {
              "color": "white"
             }
            },
            "header": {
             "fill": {
              "color": "#C8D4E3"
             },
             "line": {
              "color": "white"
             }
            },
            "type": "table"
           }
          ]
         },
         "layout": {
          "annotationdefaults": {
           "arrowcolor": "#2a3f5f",
           "arrowhead": 0,
           "arrowwidth": 1
          },
          "autotypenumbers": "strict",
          "coloraxis": {
           "colorbar": {
            "outlinewidth": 0,
            "ticks": ""
           }
          },
          "colorscale": {
           "diverging": [
            [
             0,
             "#8e0152"
            ],
            [
             0.1,
             "#c51b7d"
            ],
            [
             0.2,
             "#de77ae"
            ],
            [
             0.3,
             "#f1b6da"
            ],
            [
             0.4,
             "#fde0ef"
            ],
            [
             0.5,
             "#f7f7f7"
            ],
            [
             0.6,
             "#e6f5d0"
            ],
            [
             0.7,
             "#b8e186"
            ],
            [
             0.8,
             "#7fbc41"
            ],
            [
             0.9,
             "#4d9221"
            ],
            [
             1,
             "#276419"
            ]
           ],
           "sequential": [
            [
             0,
             "#0d0887"
            ],
            [
             0.1111111111111111,
             "#46039f"
            ],
            [
             0.2222222222222222,
             "#7201a8"
            ],
            [
             0.3333333333333333,
             "#9c179e"
            ],
            [
             0.4444444444444444,
             "#bd3786"
            ],
            [
             0.5555555555555556,
             "#d8576b"
            ],
            [
             0.6666666666666666,
             "#ed7953"
            ],
            [
             0.7777777777777778,
             "#fb9f3a"
            ],
            [
             0.8888888888888888,
             "#fdca26"
            ],
            [
             1,
             "#f0f921"
            ]
           ],
           "sequentialminus": [
            [
             0,
             "#0d0887"
            ],
            [
             0.1111111111111111,
             "#46039f"
            ],
            [
             0.2222222222222222,
             "#7201a8"
            ],
            [
             0.3333333333333333,
             "#9c179e"
            ],
            [
             0.4444444444444444,
             "#bd3786"
            ],
            [
             0.5555555555555556,
             "#d8576b"
            ],
            [
             0.6666666666666666,
             "#ed7953"
            ],
            [
             0.7777777777777778,
             "#fb9f3a"
            ],
            [
             0.8888888888888888,
             "#fdca26"
            ],
            [
             1,
             "#f0f921"
            ]
           ]
          },
          "colorway": [
           "#636efa",
           "#EF553B",
           "#00cc96",
           "#ab63fa",
           "#FFA15A",
           "#19d3f3",
           "#FF6692",
           "#B6E880",
           "#FF97FF",
           "#FECB52"
          ],
          "font": {
           "color": "#2a3f5f"
          },
          "geo": {
           "bgcolor": "white",
           "lakecolor": "white",
           "landcolor": "#E5ECF6",
           "showlakes": true,
           "showland": true,
           "subunitcolor": "white"
          },
          "hoverlabel": {
           "align": "left"
          },
          "hovermode": "closest",
          "mapbox": {
           "style": "light"
          },
          "paper_bgcolor": "white",
          "plot_bgcolor": "#E5ECF6",
          "polar": {
           "angularaxis": {
            "gridcolor": "white",
            "linecolor": "white",
            "ticks": ""
           },
           "bgcolor": "#E5ECF6",
           "radialaxis": {
            "gridcolor": "white",
            "linecolor": "white",
            "ticks": ""
           }
          },
          "scene": {
           "xaxis": {
            "backgroundcolor": "#E5ECF6",
            "gridcolor": "white",
            "gridwidth": 2,
            "linecolor": "white",
            "showbackground": true,
            "ticks": "",
            "zerolinecolor": "white"
           },
           "yaxis": {
            "backgroundcolor": "#E5ECF6",
            "gridcolor": "white",
            "gridwidth": 2,
            "linecolor": "white",
            "showbackground": true,
            "ticks": "",
            "zerolinecolor": "white"
           },
           "zaxis": {
            "backgroundcolor": "#E5ECF6",
            "gridcolor": "white",
            "gridwidth": 2,
            "linecolor": "white",
            "showbackground": true,
            "ticks": "",
            "zerolinecolor": "white"
           }
          },
          "shapedefaults": {
           "line": {
            "color": "#2a3f5f"
           }
          },
          "ternary": {
           "aaxis": {
            "gridcolor": "white",
            "linecolor": "white",
            "ticks": ""
           },
           "baxis": {
            "gridcolor": "white",
            "linecolor": "white",
            "ticks": ""
           },
           "bgcolor": "#E5ECF6",
           "caxis": {
            "gridcolor": "white",
            "linecolor": "white",
            "ticks": ""
           }
          },
          "title": {
           "x": 0.05
          },
          "xaxis": {
           "automargin": true,
           "gridcolor": "white",
           "linecolor": "white",
           "ticks": "",
           "title": {
            "standoff": 15
           },
           "zerolinecolor": "white",
           "zerolinewidth": 2
          },
          "yaxis": {
           "automargin": true,
           "gridcolor": "white",
           "linecolor": "white",
           "ticks": "",
           "title": {
            "standoff": 15
           },
           "zerolinecolor": "white",
           "zerolinewidth": 2
          }
         }
        },
        "title": {
         "text": "Node Allocation by Refined Clusters"
        },
        "width": 700,
        "xaxis": {
         "range": [
          -5,
          105
         ],
         "title": {
          "text": "X Coordinate"
         }
        },
        "yaxis": {
         "range": [
          -5,
          105
         ],
         "scaleanchor": "x",
         "scaleratio": 1,
         "title": {
          "text": "Y Coordinate"
         }
        }
       }
      }
     },
     "metadata": {},
     "output_type": "display_data"
    }
   ],
   "source": [
    "plot_refined_clusters(refined_clusters, nodes_df, home_node_id=0)"
   ]
  },
  {
   "cell_type": "code",
   "execution_count": 400,
   "metadata": {},
   "outputs": [
    {
     "data": {
      "application/vnd.plotly.v1+json": {
       "config": {
        "plotlyServerURL": "https://plot.ly"
       },
       "data": [
        {
         "hoverinfo": "text",
         "hovertext": [
          "Node: 0<br>Time: 0<br>Days: [0, 1, 2, 3, 4]<br>Priority: 0.54<br>Angle to home: 0.0<br>Distance to home: 0.0",
          "Node: 17<br>Time: 63<br>Days: [0, 1, 2, 3, 4]<br>Priority: 0.29<br>Angle to home: 198.434948822922<br>Distance to home: 15.81",
          "Node: 35<br>Time: 122<br>Days: [0, 1, 2, 3, 4]<br>Priority: 0.50<br>Angle to home: 210.25643716352928<br>Distance to home: 27.78",
          "Node: 39<br>Time: 183<br>Days: [0, 1, 2, 3, 4]<br>Priority: 1.00<br>Angle to home: 225.88140399658212<br>Distance to home: 45.97",
          "Node: 41<br>Time: 260<br>Days: [0, 1, 2, 3, 4]<br>Priority: 0.07<br>Angle to home: 241.3895403340348<br>Distance to home: 75.18",
          "Node: 59<br>Time: 315<br>Days: [0, 1, 2, 3, 4]<br>Priority: 0.21<br>Angle to home: 250.78732818281438<br>Distance to home: 69.89",
          "Node: 89<br>Time: 370<br>Days: [0, 1, 2, 3, 4]<br>Priority: 0.10<br>Angle to home: 258.2614287932777<br>Distance to home: 78.64",
          "Node: 43<br>Time: 431<br>Days: [0, 1, 2, 3, 4]<br>Priority: 0.27<br>Angle to home: 261.41637851988605<br>Distance to home: 53.6",
          "Node: 29<br>Time: 510<br>Days: [0, 1, 2, 3, 4]<br>Priority: 0.14<br>Angle to home: 279.21102654081665<br>Distance to home: 74.97",
          "Node: 60<br>Time: 566<br>Days: [0, 1, 2, 3, 4]<br>Priority: 0.21<br>Angle to home: 279.0394828033551<br>Distance to home: 89.11",
          "Node: 68<br>Time: 618<br>Days: [0, 1, 2, 3, 4]<br>Priority: 0.19<br>Angle to home: 280.304846468766<br>Distance to home: 89.44",
          "Node: 88<br>Time: 659<br>Days: [0, 1, 2, 3, 4]<br>Priority: 0.69<br>Angle to home: 284.03624346792645<br>Distance to home: 90.71",
          "Node: 31<br>Time: 703<br>Days: [0, 1, 2, 3, 4]<br>Priority: 0.52<br>Angle to home: 288.22507511135444<br>Distance to home: 86.33",
          "Node: 3<br>Time: 757<br>Days: [0, 1, 2, 3, 4]<br>Priority: 0.70<br>Angle to home: 286.6992442339936<br>Distance to home: 83.52",
          "Node: 66<br>Time: 806<br>Days: [0, 1, 2, 3, 4]<br>Priority: 0.38<br>Angle to home: 285.94539590092285<br>Distance to home: 80.08",
          "Node: 21<br>Time: 846<br>Days: [0, 1, 2, 3, 4]<br>Priority: 0.46<br>Angle to home: 291.92958775017536<br>Distance to home: 83.01",
          "Node: 27<br>Time: 898<br>Days: [0, 1, 2, 3, 4]<br>Priority: 0.69<br>Angle to home: 290.2975697722287<br>Distance to home: 77.83",
          "Node: 46<br>Time: 958<br>Days: [0, 1, 2, 3, 4]<br>Priority: 0.45<br>Angle to home: 288.92464441605125<br>Distance to home: 74.0",
          "Node: 23<br>Time: 1023<br>Days: [0, 1, 2, 3, 4]<br>Priority: 0.38<br>Angle to home: 296.9165546169513<br>Distance to home: 72.9",
          "Node: 45<br>Time: 1087<br>Days: [0, 1, 2, 3, 4]<br>Priority: 0.42<br>Angle to home: 297.4075754378184<br>Distance to home: 60.83",
          "Node: 77<br>Time: 1159<br>Days: [0, 1, 2, 3, 4]<br>Priority: 0.75<br>Angle to home: 285.25511870305775<br>Distance to home: 57.01",
          "Node: 26<br>Time: 1199<br>Days: [0, 1, 2, 3, 4]<br>Priority: 0.62<br>Angle to home: 283.7607851117912<br>Distance to home: 50.45",
          "Node: 86<br>Time: 1232<br>Days: [0, 1, 2, 3, 4]<br>Priority: 0.90<br>Angle to home: 285.4612177404419<br>Distance to home: 48.76",
          "Node: 32<br>Time: 1300<br>Days: [0, 1, 2, 3, 4]<br>Priority: 0.50<br>Angle to home: 296.07535558394875<br>Distance to home: 52.33",
          "Node: 69<br>Time: 1339<br>Days: [0, 1, 2, 3, 4]<br>Priority: 0.42<br>Angle to home: 296.565051177078<br>Distance to home: 49.19",
          "Node: 22<br>Time: 1379<br>Days: [0, 1, 2, 3, 4]<br>Priority: 1.00<br>Angle to home: 298.9264258352536<br>Distance to home: 43.42",
          "Node: 53<br>Time: 1430<br>Days: [0, 1, 2, 3, 4]<br>Priority: 0.59<br>Angle to home: 304.0193499898265<br>Distance to home: 48.26",
          "Node: 30<br>Time: 1496<br>Days: [0, 1, 2, 3, 4]<br>Priority: 0.50<br>Angle to home: 311.37851529588266<br>Distance to home: 55.97",
          "Node: 48<br>Time: 1544<br>Days: [0, 1, 2, 3, 4]<br>Priority: 0.27<br>Angle to home: 314.14490260373327<br>Distance to home: 47.38",
          "Node: 91<br>Time: 1599<br>Days: [0, 1, 2, 3, 4]<br>Priority: 0.33<br>Angle to home: 323.3658861240326<br>Distance to home: 48.6",
          "Node: 99<br>Time: 1670<br>Days: [0, 1, 2, 3, 4]<br>Priority: 0.70<br>Angle to home: 330.06848815949223<br>Distance to home: 38.08",
          "Node: 70<br>Time: 1705<br>Days: [0, 1, 2, 3, 4]<br>Priority: 0.47<br>Angle to home: 328.1725534233269<br>Distance to home: 34.13",
          "Node: 57<br>Time: 1756<br>Days: [0, 1, 2, 3, 4]<br>Priority: 0.24<br>Angle to home: 348.3106308245608<br>Distance to home: 29.61",
          "Node: 97<br>Time: 1824<br>Days: [0, 1, 2, 3, 4]<br>Priority: 0.82<br>Angle to home: 357.3974377975002<br>Distance to home: 44.05",
          "Node: 73<br>Time: 1888<br>Days: [0, 1, 2, 3, 4]<br>Priority: 0.80<br>Angle to home: 10.124671655397817<br>Distance to home: 28.44",
          "Node: 74<br>Time: 1937<br>Days: [0, 1, 2, 3, 4]<br>Priority: 0.28<br>Angle to home: 0.0<br>Distance to home: 17.0",
          "Node: 37<br>Time: 1988<br>Days: [0, 1, 2, 3, 4]<br>Priority: 0.43<br>Angle to home: 338.1985905136482<br>Distance to home: 16.16",
          "Node: 98<br>Time: 2052<br>Days: [0, 1, 2, 3, 4]<br>Priority: 0.90<br>Angle to home: 291.8014094863518<br>Distance to home: 16.16",
          "Node: 0<br>Time: 2104<br>Days: [0, 1, 2, 3, 4]<br>Priority: 0.54<br>Angle to home: 0.0<br>Distance to home: 0.0"
         ],
         "line": {
          "color": "#76B041",
          "width": 2
         },
         "marker": {
          "color": "#76B041",
          "size": 8
         },
         "mode": "lines+markers",
         "name": "Route (frozenset({3.0, 4.0}),)",
         "type": "scatter",
         "x": [
          55,
          40,
          31,
          23,
          19,
          32,
          39,
          47,
          67,
          69,
          71,
          77,
          82,
          79,
          77,
          86,
          82,
          79,
          88,
          83,
          70,
          67,
          68,
          78,
          77,
          76,
          82,
          92,
          88,
          94,
          88,
          84,
          84,
          99,
          83,
          72,
          70,
          61,
          55
         ],
         "y": [
          91,
          86,
          77,
          58,
          25,
          25,
          14,
          38,
          17,
          3,
          3,
          3,
          9,
          11,
          14,
          14,
          18,
          21,
          26,
          37,
          36,
          42,
          44,
          44,
          47,
          53,
          51,
          49,
          57,
          62,
          72,
          73,
          85,
          89,
          96,
          91,
          85,
          76,
          91
         ]
        },
        {
         "hoverinfo": "text",
         "hovertext": [
          "Node: 0<br>Time: 0<br>Days: [0, 1, 2, 3, 4]<br>Priority: 0.54<br>Angle to home: 0.0<br>Distance to home: 0.0",
          "Node: 65<br>Time: 69<br>Days: [0, 1, 2, 3, 4]<br>Priority: 0.10<br>Angle to home: 264.5596679689945<br>Distance to home: 21.1",
          "Node: 75<br>Time: 115<br>Days: [0, 1, 2, 3, 4]<br>Priority: 0.47<br>Angle to home: 263.418055344822<br>Distance to home: 26.17",
          "Node: 79<br>Time: 195<br>Days: [0, 1, 2, 3, 4]<br>Priority: 1.00<br>Angle to home: 266.3477772196936<br>Distance to home: 47.1",
          "Node: 11<br>Time: 238<br>Days: [0, 1, 2, 3, 4]<br>Priority: 0.69<br>Angle to home: 264.0531369460265<br>Distance to home: 48.26",
          "Node: 7<br>Time: 284<br>Days: [0, 1, 2, 3, 4]<br>Priority: 0.90<br>Angle to home: 270.0<br>Distance to home: 57.0",
          "Node: 95<br>Time: 337<br>Days: [0, 1, 2, 3, 4]<br>Priority: 0.10<br>Angle to home: 267.316224840531<br>Distance to home: 64.07",
          "Node: 64<br>Time: 387<br>Days: [0, 1, 2, 3, 4]<br>Priority: 0.52<br>Angle to home: 264.2072035049678<br>Distance to home: 69.35",
          "Node: 81<br>Time: 438<br>Days: [0, 1, 2, 3, 4]<br>Priority: 0.37<br>Angle to home: 268.3153156821037<br>Distance to home: 68.03",
          "Node: 40<br>Time: 498<br>Days: [0, 1, 2, 3, 4]<br>Priority: 0.78<br>Angle to home: 271.6846843178963<br>Distance to home: 68.03",
          "Node: 1<br>Time: 562<br>Days: [0, 1, 2, 3, 4]<br>Priority: 1.00<br>Angle to home: 270.0<br>Distance to home: 75.0",
          "Node: 20<br>Time: 624<br>Days: [0, 1, 2, 3, 4]<br>Priority: 0.54<br>Angle to home: 269.2926806314557<br>Distance to home: 81.01",
          "Node: 13<br>Time: 673<br>Days: [0, 1, 2, 3, 4]<br>Priority: 0.07<br>Angle to home: 260.7701137562723<br>Distance to home: 81.05",
          "Node: 18<br>Time: 715<br>Days: [0, 1, 2, 3, 4]<br>Priority: 0.71<br>Angle to home: 259.9194020124577<br>Distance to home: 91.41",
          "Node: 16<br>Time: 772<br>Days: [0, 1, 2, 3, 4]<br>Priority: 0.33<br>Angle to home: 256.27770286686643<br>Distance to home: 88.53",
          "Node: 96<br>Time: 836<br>Days: [0, 1, 2, 3, 4]<br>Priority: 1.00<br>Angle to home: 256.8907918018457<br>Distance to home: 74.95",
          "Node: 42<br>Time: 888<br>Days: [0, 1, 2, 3, 4]<br>Priority: 1.00<br>Angle to home: 257.5740571345725<br>Distance to home: 60.42",
          "Node: 4<br>Time: 955<br>Days: [0, 1, 2, 3, 4]<br>Priority: 0.50<br>Angle to home: 253.07248693585296<br>Distance to home: 48.08",
          "Node: 63<br>Time: 1021<br>Days: [0, 1, 2, 3, 4]<br>Priority: 0.20<br>Angle to home: 253.30075576600638<br>Distance to home: 41.76",
          "Node: 92<br>Time: 1076<br>Days: [0, 1, 2, 3, 4]<br>Priority: 0.67<br>Angle to home: 255.96375653207352<br>Distance to home: 24.74",
          "Node: 0<br>Time: 1148<br>Days: [0, 1, 2, 3, 4]<br>Priority: 0.54<br>Angle to home: 0.0<br>Distance to home: 0.0"
         ],
         "line": {
          "color": "#F8766D",
          "width": 2
         },
         "marker": {
          "color": "#F8766D",
          "size": 8
         },
         "mode": "lines+markers",
         "name": "Route (frozenset({2.0}),)",
         "type": "scatter",
         "x": [
          55,
          53,
          52,
          52,
          50,
          55,
          52,
          48,
          53,
          57,
          55,
          54,
          42,
          39,
          34,
          38,
          42,
          41,
          43,
          49,
          55
         ],
         "y": [
          91,
          70,
          65,
          44,
          43,
          34,
          27,
          22,
          23,
          23,
          16,
          10,
          11,
          1,
          5,
          18,
          32,
          45,
          51,
          67,
          91
         ]
        },
        {
         "hoverinfo": "text",
         "hovertext": [
          "Node: 0<br>Time: 0<br>Days: [0, 1, 2, 3, 4]<br>Priority: 0.54<br>Angle to home: 0.0<br>Distance to home: 0.0",
          "Node: 78<br>Time: 72<br>Days: [0, 1, 2, 3, 4]<br>Priority: 0.15<br>Angle to home: 238.24051991518718<br>Distance to home: 24.7",
          "Node: 94<br>Time: 112<br>Days: [0, 1, 2, 3, 4]<br>Priority: 0.18<br>Angle to home: 236.88865803962796<br>Distance to home: 27.46",
          "Node: 62<br>Time: 177<br>Days: [0, 1, 2, 3, 4]<br>Priority: 1.00<br>Angle to home: 244.59228189105153<br>Distance to home: 44.28",
          "Node: 50<br>Time: 242<br>Days: [0, 1, 2, 3, 4]<br>Priority: 0.28<br>Angle to home: 245.37643521383637<br>Distance to home: 52.8",
          "Node: 2<br>Time: 283<br>Days: [0, 1, 2, 3, 4]<br>Priority: 0.04<br>Angle to home: 240.85192815428695<br>Distance to home: 59.54",
          "Node: 44<br>Time: 325<br>Days: [0, 1, 2, 3, 4]<br>Priority: 0.81<br>Angle to home: 243.07232214895947<br>Distance to home: 70.66",
          "Node: 58<br>Time: 359<br>Days: [0, 1, 2, 3, 4]<br>Priority: 0.16<br>Angle to home: 239.45242825109298<br>Distance to home: 70.83",
          "Node: 14<br>Time: 399<br>Days: [0, 1, 2, 3, 4]<br>Priority: 0.25<br>Angle to home: 239.57421619803873<br>Distance to home: 73.06",
          "Node: 47<br>Time: 460<br>Days: [0, 1, 2, 3, 4]<br>Priority: 0.15<br>Angle to home: 240.16446089973846<br>Distance to home: 78.39",
          "Node: 67<br>Time: 505<br>Days: [0, 1, 2, 3, 4]<br>Priority: 0.85<br>Angle to home: 241.50436138175502<br>Distance to home: 79.65",
          "Node: 54<br>Time: 561<br>Days: [0, 1, 2, 3, 4]<br>Priority: 0.82<br>Angle to home: 234.46232220802563<br>Distance to home: 94.63",
          "Node: 71<br>Time: 617<br>Days: [0, 1, 2, 3, 4]<br>Priority: 0.89<br>Angle to home: 235.80439459753924<br>Distance to home: 94.3",
          "Node: 80<br>Time: 661<br>Days: [0, 1, 2, 3, 4]<br>Priority: 0.35<br>Angle to home: 240.47863816541835<br>Distance to home: 95.38",
          "Node: 85<br>Time: 702<br>Days: [0, 1, 2, 3, 4]<br>Priority: 0.27<br>Angle to home: 245.35322914806886<br>Distance to home: 93.52",
          "Node: 6<br>Time: 760<br>Days: [0, 1, 2, 3, 4]<br>Priority: 0.46<br>Angle to home: 252.71850162818333<br>Distance to home: 94.25",
          "Node: 72<br>Time: 811<br>Days: [0, 1, 2, 3, 4]<br>Priority: 0.05<br>Angle to home: 249.96278983080703<br>Distance to home: 90.48",
          "Node: 55<br>Time: 866<br>Days: [0, 1, 2, 3, 4]<br>Priority: 0.39<br>Angle to home: 250.01689347810003<br>Distance to home: 81.93",
          "Node: 33<br>Time: 917<br>Days: [0, 1, 2, 3, 4]<br>Priority: 0.62<br>Angle to home: 252.28420729362307<br>Distance to home: 75.58",
          "Node: 90<br>Time: 965<br>Days: [0, 1, 2, 3, 4]<br>Priority: 0.04<br>Angle to home: 252.07208023799276<br>Distance to home: 71.47",
          "Node: 87<br>Time: 1031<br>Days: [0, 1, 2, 3, 4]<br>Priority: 0.40<br>Angle to home: 268.1523897340054<br>Distance to home: 62.03",
          "Node: 36<br>Time: 1099<br>Days: [0, 1, 2, 3, 4]<br>Priority: 0.35<br>Angle to home: 286.1443387802835<br>Distance to home: 39.56",
          "Node: 0<br>Time: 1187<br>Days: [0, 1, 2, 3, 4]<br>Priority: 0.54<br>Angle to home: 0.0<br>Distance to home: 0.0"
         ],
         "line": {
          "color": "#00BFC4",
          "width": 2
         },
         "marker": {
          "color": "#00BFC4",
          "size": 8
         },
         "mode": "lines+markers",
         "name": "Route (frozenset({0.0}),)",
         "type": "scatter",
         "x": [
          55,
          42,
          40,
          36,
          33,
          26,
          23,
          19,
          18,
          16,
          17,
          0,
          2,
          8,
          16,
          27,
          24,
          27,
          32,
          33,
          53,
          66,
          55
         ],
         "y": [
          91,
          70,
          68,
          51,
          43,
          39,
          28,
          30,
          28,
          23,
          21,
          14,
          13,
          8,
          6,
          1,
          6,
          14,
          19,
          23,
          29,
          53,
          91
         ]
        },
        {
         "hoverinfo": "text",
         "hovertext": [
          "Node: 0<br>Time: 0<br>Days: [0, 1, 2, 3, 4]<br>Priority: 0.54<br>Angle to home: 0.0<br>Distance to home: 0.0",
          "Node: 51<br>Time: 61<br>Days: [0, 1, 2, 3, 4]<br>Priority: 0.25<br>Angle to home: 158.96248897457818<br>Distance to home: 13.93",
          "Node: 34<br>Time: 124<br>Days: [0, 1, 2, 3, 4]<br>Priority: 0.18<br>Angle to home: 167.0053832080835<br>Distance to home: 26.68",
          "Node: 10<br>Time: 196<br>Days: [0, 1, 2, 3, 4]<br>Priority: 0.77<br>Angle to home: 176.34777721969368<br>Distance to home: 47.1",
          "Node: 83<br>Time: 236<br>Days: [0, 1, 2, 3, 4]<br>Priority: 0.38<br>Angle to home: 181.30195267257886<br>Distance to home: 44.01",
          "Node: 12<br>Time: 305<br>Days: [0, 1, 2, 3, 4]<br>Priority: 0.86<br>Angle to home: 199.29004621918875<br>Distance to home: 42.38",
          "Node: 56<br>Time: 374<br>Days: [0, 1, 2, 3, 4]<br>Priority: 1.00<br>Angle to home: 200.1706534118504<br>Distance to home: 52.2",
          "Node: 25<br>Time: 438<br>Days: [0, 1, 2, 3, 4]<br>Priority: 0.71<br>Angle to home: 200.32313682966296<br>Distance to home: 57.58",
          "Node: 84<br>Time: 531<br>Days: [0, 1, 2, 3, 4]<br>Priority: 0.12<br>Angle to home: 232.00126755749534<br>Distance to home: 81.22",
          "Node: 24<br>Time: 596<br>Days: [0, 1, 2, 3, 4]<br>Priority: 0.44<br>Angle to home: 244.51079944371327<br>Distance to home: 95.27",
          "Node: 15<br>Time: 674<br>Days: [0, 1, 2, 3, 4]<br>Priority: 0.92<br>Angle to home: 268.71267105847494<br>Distance to home: 89.02",
          "Node: 76<br>Time: 764<br>Days: [0, 1, 2, 3, 4]<br>Priority: 0.17<br>Angle to home: 229.70785224437222<br>Distance to home: 60.31",
          "Node: 28<br>Time: 807<br>Days: [0, 1, 2, 3, 4]<br>Priority: 0.65<br>Angle to home: 228.5322945838909<br>Distance to home: 57.38",
          "Node: 5<br>Time: 838<br>Days: [0, 1, 2, 3, 4]<br>Priority: 0.43<br>Angle to home: 229.28915332881903<br>Distance to home: 56.73",
          "Node: 9<br>Time: 876<br>Days: [0, 1, 2, 3, 4]<br>Priority: 0.80<br>Angle to home: 231.49934627965456<br>Distance to home: 56.22",
          "Node: 52<br>Time: 915<br>Days: [0, 1, 2, 3, 4]<br>Priority: 0.08<br>Angle to home: 232.6506509553594<br>Distance to home: 47.8",
          "Node: 61<br>Time: 967<br>Days: [0, 1, 2, 3, 4]<br>Priority: 0.78<br>Angle to home: 232.35237935989235<br>Distance to home: 44.2",
          "Node: 19<br>Time: 1016<br>Days: [0, 1, 2, 3, 4]<br>Priority: 0.89<br>Angle to home: 222.70938995736145<br>Distance to home: 35.38",
          "Node: 93<br>Time: 1060<br>Days: [0, 1, 2, 3, 4]<br>Priority: 0.52<br>Angle to home: 216.5730309785193<br>Distance to home: 38.6",
          "Node: 82<br>Time: 1112<br>Days: [0, 1, 2, 3, 4]<br>Priority: 0.20<br>Angle to home: 209.24882633654695<br>Distance to home: 28.65",
          "Node: 8<br>Time: 1147<br>Days: [0, 1, 2, 3, 4]<br>Priority: 0.62<br>Angle to home: 202.93210043758978<br>Distance to home: 28.23",
          "Node: 38<br>Time: 1207<br>Days: [0, 1, 2, 3, 4]<br>Priority: 0.24<br>Angle to home: 194.93141717813754<br>Distance to home: 31.05",
          "Node: 49<br>Time: 1259<br>Days: [0, 1, 2, 3, 4]<br>Priority: 0.50<br>Angle to home: 187.35237935989235<br>Distance to home: 31.26",
          "Node: 0<br>Time: 1345<br>Days: [0, 1, 2, 3, 4]<br>Priority: 0.54<br>Angle to home: 0.0<br>Distance to home: 0.0"
         ],
         "line": {
          "color": "#C77CFF",
          "width": 2
         },
         "marker": {
          "color": "#C77CFF",
          "size": 8
         },
         "mode": "lines+markers",
         "name": "Route (frozenset({1.0}),)",
         "type": "scatter",
         "x": [
          55,
          42,
          29,
          8,
          11,
          15,
          6,
          1,
          5,
          14,
          53,
          16,
          17,
          18,
          20,
          26,
          28,
          29,
          24,
          30,
          29,
          25,
          24,
          55
         ],
         "y": [
          91,
          96,
          97,
          94,
          90,
          77,
          73,
          71,
          27,
          5,
          2,
          45,
          48,
          48,
          47,
          53,
          56,
          67,
          68,
          77,
          80,
          83,
          87,
          91
         ]
        },
        {
         "hoverinfo": "text",
         "hovertext": "Home: Node 0<br>X: 55<br>Y: 91",
         "marker": {
          "color": "red",
          "size": 15,
          "symbol": "star"
         },
         "mode": "markers",
         "name": "Home Node",
         "type": "scatter",
         "x": [
          55
         ],
         "y": [
          91
         ]
        }
       ],
       "layout": {
        "height": 600,
        "hovermode": "closest",
        "legend": {
         "itemsizing": "constant",
         "title": {
          "text": "Clusters & Routes"
         }
        },
        "plot_bgcolor": "white",
        "template": {
         "data": {
          "bar": [
           {
            "error_x": {
             "color": "#2a3f5f"
            },
            "error_y": {
             "color": "#2a3f5f"
            },
            "marker": {
             "line": {
              "color": "#E5ECF6",
              "width": 0.5
             },
             "pattern": {
              "fillmode": "overlay",
              "size": 10,
              "solidity": 0.2
             }
            },
            "type": "bar"
           }
          ],
          "barpolar": [
           {
            "marker": {
             "line": {
              "color": "#E5ECF6",
              "width": 0.5
             },
             "pattern": {
              "fillmode": "overlay",
              "size": 10,
              "solidity": 0.2
             }
            },
            "type": "barpolar"
           }
          ],
          "carpet": [
           {
            "aaxis": {
             "endlinecolor": "#2a3f5f",
             "gridcolor": "white",
             "linecolor": "white",
             "minorgridcolor": "white",
             "startlinecolor": "#2a3f5f"
            },
            "baxis": {
             "endlinecolor": "#2a3f5f",
             "gridcolor": "white",
             "linecolor": "white",
             "minorgridcolor": "white",
             "startlinecolor": "#2a3f5f"
            },
            "type": "carpet"
           }
          ],
          "choropleth": [
           {
            "colorbar": {
             "outlinewidth": 0,
             "ticks": ""
            },
            "type": "choropleth"
           }
          ],
          "contour": [
           {
            "colorbar": {
             "outlinewidth": 0,
             "ticks": ""
            },
            "colorscale": [
             [
              0,
              "#0d0887"
             ],
             [
              0.1111111111111111,
              "#46039f"
             ],
             [
              0.2222222222222222,
              "#7201a8"
             ],
             [
              0.3333333333333333,
              "#9c179e"
             ],
             [
              0.4444444444444444,
              "#bd3786"
             ],
             [
              0.5555555555555556,
              "#d8576b"
             ],
             [
              0.6666666666666666,
              "#ed7953"
             ],
             [
              0.7777777777777778,
              "#fb9f3a"
             ],
             [
              0.8888888888888888,
              "#fdca26"
             ],
             [
              1,
              "#f0f921"
             ]
            ],
            "type": "contour"
           }
          ],
          "contourcarpet": [
           {
            "colorbar": {
             "outlinewidth": 0,
             "ticks": ""
            },
            "type": "contourcarpet"
           }
          ],
          "heatmap": [
           {
            "colorbar": {
             "outlinewidth": 0,
             "ticks": ""
            },
            "colorscale": [
             [
              0,
              "#0d0887"
             ],
             [
              0.1111111111111111,
              "#46039f"
             ],
             [
              0.2222222222222222,
              "#7201a8"
             ],
             [
              0.3333333333333333,
              "#9c179e"
             ],
             [
              0.4444444444444444,
              "#bd3786"
             ],
             [
              0.5555555555555556,
              "#d8576b"
             ],
             [
              0.6666666666666666,
              "#ed7953"
             ],
             [
              0.7777777777777778,
              "#fb9f3a"
             ],
             [
              0.8888888888888888,
              "#fdca26"
             ],
             [
              1,
              "#f0f921"
             ]
            ],
            "type": "heatmap"
           }
          ],
          "heatmapgl": [
           {
            "colorbar": {
             "outlinewidth": 0,
             "ticks": ""
            },
            "colorscale": [
             [
              0,
              "#0d0887"
             ],
             [
              0.1111111111111111,
              "#46039f"
             ],
             [
              0.2222222222222222,
              "#7201a8"
             ],
             [
              0.3333333333333333,
              "#9c179e"
             ],
             [
              0.4444444444444444,
              "#bd3786"
             ],
             [
              0.5555555555555556,
              "#d8576b"
             ],
             [
              0.6666666666666666,
              "#ed7953"
             ],
             [
              0.7777777777777778,
              "#fb9f3a"
             ],
             [
              0.8888888888888888,
              "#fdca26"
             ],
             [
              1,
              "#f0f921"
             ]
            ],
            "type": "heatmapgl"
           }
          ],
          "histogram": [
           {
            "marker": {
             "pattern": {
              "fillmode": "overlay",
              "size": 10,
              "solidity": 0.2
             }
            },
            "type": "histogram"
           }
          ],
          "histogram2d": [
           {
            "colorbar": {
             "outlinewidth": 0,
             "ticks": ""
            },
            "colorscale": [
             [
              0,
              "#0d0887"
             ],
             [
              0.1111111111111111,
              "#46039f"
             ],
             [
              0.2222222222222222,
              "#7201a8"
             ],
             [
              0.3333333333333333,
              "#9c179e"
             ],
             [
              0.4444444444444444,
              "#bd3786"
             ],
             [
              0.5555555555555556,
              "#d8576b"
             ],
             [
              0.6666666666666666,
              "#ed7953"
             ],
             [
              0.7777777777777778,
              "#fb9f3a"
             ],
             [
              0.8888888888888888,
              "#fdca26"
             ],
             [
              1,
              "#f0f921"
             ]
            ],
            "type": "histogram2d"
           }
          ],
          "histogram2dcontour": [
           {
            "colorbar": {
             "outlinewidth": 0,
             "ticks": ""
            },
            "colorscale": [
             [
              0,
              "#0d0887"
             ],
             [
              0.1111111111111111,
              "#46039f"
             ],
             [
              0.2222222222222222,
              "#7201a8"
             ],
             [
              0.3333333333333333,
              "#9c179e"
             ],
             [
              0.4444444444444444,
              "#bd3786"
             ],
             [
              0.5555555555555556,
              "#d8576b"
             ],
             [
              0.6666666666666666,
              "#ed7953"
             ],
             [
              0.7777777777777778,
              "#fb9f3a"
             ],
             [
              0.8888888888888888,
              "#fdca26"
             ],
             [
              1,
              "#f0f921"
             ]
            ],
            "type": "histogram2dcontour"
           }
          ],
          "mesh3d": [
           {
            "colorbar": {
             "outlinewidth": 0,
             "ticks": ""
            },
            "type": "mesh3d"
           }
          ],
          "parcoords": [
           {
            "line": {
             "colorbar": {
              "outlinewidth": 0,
              "ticks": ""
             }
            },
            "type": "parcoords"
           }
          ],
          "pie": [
           {
            "automargin": true,
            "type": "pie"
           }
          ],
          "scatter": [
           {
            "fillpattern": {
             "fillmode": "overlay",
             "size": 10,
             "solidity": 0.2
            },
            "type": "scatter"
           }
          ],
          "scatter3d": [
           {
            "line": {
             "colorbar": {
              "outlinewidth": 0,
              "ticks": ""
             }
            },
            "marker": {
             "colorbar": {
              "outlinewidth": 0,
              "ticks": ""
             }
            },
            "type": "scatter3d"
           }
          ],
          "scattercarpet": [
           {
            "marker": {
             "colorbar": {
              "outlinewidth": 0,
              "ticks": ""
             }
            },
            "type": "scattercarpet"
           }
          ],
          "scattergeo": [
           {
            "marker": {
             "colorbar": {
              "outlinewidth": 0,
              "ticks": ""
             }
            },
            "type": "scattergeo"
           }
          ],
          "scattergl": [
           {
            "marker": {
             "colorbar": {
              "outlinewidth": 0,
              "ticks": ""
             }
            },
            "type": "scattergl"
           }
          ],
          "scattermapbox": [
           {
            "marker": {
             "colorbar": {
              "outlinewidth": 0,
              "ticks": ""
             }
            },
            "type": "scattermapbox"
           }
          ],
          "scatterpolar": [
           {
            "marker": {
             "colorbar": {
              "outlinewidth": 0,
              "ticks": ""
             }
            },
            "type": "scatterpolar"
           }
          ],
          "scatterpolargl": [
           {
            "marker": {
             "colorbar": {
              "outlinewidth": 0,
              "ticks": ""
             }
            },
            "type": "scatterpolargl"
           }
          ],
          "scatterternary": [
           {
            "marker": {
             "colorbar": {
              "outlinewidth": 0,
              "ticks": ""
             }
            },
            "type": "scatterternary"
           }
          ],
          "surface": [
           {
            "colorbar": {
             "outlinewidth": 0,
             "ticks": ""
            },
            "colorscale": [
             [
              0,
              "#0d0887"
             ],
             [
              0.1111111111111111,
              "#46039f"
             ],
             [
              0.2222222222222222,
              "#7201a8"
             ],
             [
              0.3333333333333333,
              "#9c179e"
             ],
             [
              0.4444444444444444,
              "#bd3786"
             ],
             [
              0.5555555555555556,
              "#d8576b"
             ],
             [
              0.6666666666666666,
              "#ed7953"
             ],
             [
              0.7777777777777778,
              "#fb9f3a"
             ],
             [
              0.8888888888888888,
              "#fdca26"
             ],
             [
              1,
              "#f0f921"
             ]
            ],
            "type": "surface"
           }
          ],
          "table": [
           {
            "cells": {
             "fill": {
              "color": "#EBF0F8"
             },
             "line": {
              "color": "white"
             }
            },
            "header": {
             "fill": {
              "color": "#C8D4E3"
             },
             "line": {
              "color": "white"
             }
            },
            "type": "table"
           }
          ]
         },
         "layout": {
          "annotationdefaults": {
           "arrowcolor": "#2a3f5f",
           "arrowhead": 0,
           "arrowwidth": 1
          },
          "autotypenumbers": "strict",
          "coloraxis": {
           "colorbar": {
            "outlinewidth": 0,
            "ticks": ""
           }
          },
          "colorscale": {
           "diverging": [
            [
             0,
             "#8e0152"
            ],
            [
             0.1,
             "#c51b7d"
            ],
            [
             0.2,
             "#de77ae"
            ],
            [
             0.3,
             "#f1b6da"
            ],
            [
             0.4,
             "#fde0ef"
            ],
            [
             0.5,
             "#f7f7f7"
            ],
            [
             0.6,
             "#e6f5d0"
            ],
            [
             0.7,
             "#b8e186"
            ],
            [
             0.8,
             "#7fbc41"
            ],
            [
             0.9,
             "#4d9221"
            ],
            [
             1,
             "#276419"
            ]
           ],
           "sequential": [
            [
             0,
             "#0d0887"
            ],
            [
             0.1111111111111111,
             "#46039f"
            ],
            [
             0.2222222222222222,
             "#7201a8"
            ],
            [
             0.3333333333333333,
             "#9c179e"
            ],
            [
             0.4444444444444444,
             "#bd3786"
            ],
            [
             0.5555555555555556,
             "#d8576b"
            ],
            [
             0.6666666666666666,
             "#ed7953"
            ],
            [
             0.7777777777777778,
             "#fb9f3a"
            ],
            [
             0.8888888888888888,
             "#fdca26"
            ],
            [
             1,
             "#f0f921"
            ]
           ],
           "sequentialminus": [
            [
             0,
             "#0d0887"
            ],
            [
             0.1111111111111111,
             "#46039f"
            ],
            [
             0.2222222222222222,
             "#7201a8"
            ],
            [
             0.3333333333333333,
             "#9c179e"
            ],
            [
             0.4444444444444444,
             "#bd3786"
            ],
            [
             0.5555555555555556,
             "#d8576b"
            ],
            [
             0.6666666666666666,
             "#ed7953"
            ],
            [
             0.7777777777777778,
             "#fb9f3a"
            ],
            [
             0.8888888888888888,
             "#fdca26"
            ],
            [
             1,
             "#f0f921"
            ]
           ]
          },
          "colorway": [
           "#636efa",
           "#EF553B",
           "#00cc96",
           "#ab63fa",
           "#FFA15A",
           "#19d3f3",
           "#FF6692",
           "#B6E880",
           "#FF97FF",
           "#FECB52"
          ],
          "font": {
           "color": "#2a3f5f"
          },
          "geo": {
           "bgcolor": "white",
           "lakecolor": "white",
           "landcolor": "#E5ECF6",
           "showlakes": true,
           "showland": true,
           "subunitcolor": "white"
          },
          "hoverlabel": {
           "align": "left"
          },
          "hovermode": "closest",
          "mapbox": {
           "style": "light"
          },
          "paper_bgcolor": "white",
          "plot_bgcolor": "#E5ECF6",
          "polar": {
           "angularaxis": {
            "gridcolor": "white",
            "linecolor": "white",
            "ticks": ""
           },
           "bgcolor": "#E5ECF6",
           "radialaxis": {
            "gridcolor": "white",
            "linecolor": "white",
            "ticks": ""
           }
          },
          "scene": {
           "xaxis": {
            "backgroundcolor": "#E5ECF6",
            "gridcolor": "white",
            "gridwidth": 2,
            "linecolor": "white",
            "showbackground": true,
            "ticks": "",
            "zerolinecolor": "white"
           },
           "yaxis": {
            "backgroundcolor": "#E5ECF6",
            "gridcolor": "white",
            "gridwidth": 2,
            "linecolor": "white",
            "showbackground": true,
            "ticks": "",
            "zerolinecolor": "white"
           },
           "zaxis": {
            "backgroundcolor": "#E5ECF6",
            "gridcolor": "white",
            "gridwidth": 2,
            "linecolor": "white",
            "showbackground": true,
            "ticks": "",
            "zerolinecolor": "white"
           }
          },
          "shapedefaults": {
           "line": {
            "color": "#2a3f5f"
           }
          },
          "ternary": {
           "aaxis": {
            "gridcolor": "white",
            "linecolor": "white",
            "ticks": ""
           },
           "baxis": {
            "gridcolor": "white",
            "linecolor": "white",
            "ticks": ""
           },
           "bgcolor": "#E5ECF6",
           "caxis": {
            "gridcolor": "white",
            "linecolor": "white",
            "ticks": ""
           }
          },
          "title": {
           "x": 0.05
          },
          "xaxis": {
           "automargin": true,
           "gridcolor": "white",
           "linecolor": "white",
           "ticks": "",
           "title": {
            "standoff": 15
           },
           "zerolinecolor": "white",
           "zerolinewidth": 2
          },
          "yaxis": {
           "automargin": true,
           "gridcolor": "white",
           "linecolor": "white",
           "ticks": "",
           "title": {
            "standoff": 15
           },
           "zerolinecolor": "white",
           "zerolinewidth": 2
          }
         }
        },
        "title": {
         "text": "All Cluster Routes Visualization"
        },
        "width": 800,
        "xaxis": {
         "title": {
          "text": "X Coordinate"
         }
        },
        "yaxis": {
         "scaleanchor": "x",
         "scaleratio": 1,
         "title": {
          "text": "Y Coordinate"
         }
        }
       }
      }
     },
     "metadata": {},
     "output_type": "display_data"
    }
   ],
   "source": [
    "plot_all_cluster_routes(route_lists, nodes_df)"
   ]
  }
 ],
 "metadata": {
  "kernelspec": {
   "display_name": "Python 3",
   "language": "python",
   "name": "python3"
  },
  "language_info": {
   "codemirror_mode": {
    "name": "ipython",
    "version": 3
   },
   "file_extension": ".py",
   "mimetype": "text/x-python",
   "name": "python",
   "nbconvert_exporter": "python",
   "pygments_lexer": "ipython3",
   "version": "3.12.2"
  }
 },
 "nbformat": 4,
 "nbformat_minor": 2
}
