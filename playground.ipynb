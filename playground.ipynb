{
 "cells": [
  {
   "cell_type": "code",
   "execution_count": 1,
   "metadata": {},
   "outputs": [],
   "source": [
    "from src.routing import create_data, get_options_df, solve, prelim_check, save_results, load_results, append_and_save_new_results\n",
    "import time\n",
    "import pandas as pd\n",
    "import numpy as np"
   ]
  },
  {
   "cell_type": "markdown",
   "metadata": {},
   "source": [
    "# 1. Data Input"
   ]
  },
  {
   "cell_type": "markdown",
   "metadata": {},
   "source": [
    "## Work Schedule"
   ]
  },
  {
   "cell_type": "markdown",
   "metadata": {},
   "source": [
    "### MAIN"
   ]
  },
  {
   "cell_type": "code",
   "execution_count": 2,
   "metadata": {},
   "outputs": [],
   "source": [
    "# might change week to week / problem by problem (when recalculating)\n",
    "work_schedule = {\n",
    "    1: [7 * 60, 19 * 60],\n",
    "    2: [8 * 60, 18 * 60],\n",
    "    3: [18 * 60, 18 * 60],\n",
    "    4: [19 * 60, 19 * 60],\n",
    "    5: [17 * 60, 17 * 60],\n",
    "    6: [18 * 60, 18 * 60],\n",
    "    7: [18 * 60, 18 * 60]\n",
    "}\n",
    "start_node = 0 # define only for dynamic recalculating for a single day\n",
    "overnight_stays_ok = {1}\n",
    "\n",
    "# stable parameters\n",
    "min_distance_overnight = 50 # will be used to determine if an overnight stay is necessary even when planned\n",
    "lunch_earliest_start = 12 # could be derived per day from work_schedule\n",
    "lunch_duration = 30 # will need to be set to 0 if lunch is not mandatory\n",
    "fix_app_margin = 10 # min number of minutes to arrive before appointments\n",
    "\n",
    "# dummy data parameters\n",
    "num_nodes = 100\n",
    "min_work_days = 5\n",
    "percentage_of_appointments = 0"
   ]
  },
  {
   "cell_type": "markdown",
   "metadata": {},
   "source": [
    "### DERIVED"
   ]
  },
  {
   "cell_type": "code",
   "execution_count": 3,
   "metadata": {},
   "outputs": [],
   "source": [
    "day_lengths = {day: (end - start) for day, (start, end) in work_schedule.items()}\n",
    "days_off = {day for day, length in day_lengths.items() if length == 0}\n",
    "work_days = {day for day in day_lengths if day not in days_off}\n",
    "max_day_length = max(day_lengths.values())\n",
    "relative_day_lengths = [round(length / max_day_length, 2) for _, length in day_lengths.items()]\n",
    "no_overnight_stays = {day for day in day_lengths if day not in days_off and day not in overnight_stays_ok}\n",
    "max_days_off = len(days_off)\n",
    "n_work_days = 7 - max_days_off\n",
    "if start_node != 0 & n_work_days > 0:\n",
    "    # throw a warning\n",
    "    print(\"Warning: Start node is not the home node, but work days are still available.\")\n",
    "    start_node = 0"
   ]
  },
  {
   "cell_type": "markdown",
   "metadata": {},
   "source": [
    "## Algorithm (Developer Settings)"
   ]
  },
  {
   "cell_type": "code",
   "execution_count": 4,
   "metadata": {},
   "outputs": [],
   "source": [
    "overnight_cost = 2 # defintion of cost for overnight stays\n",
    "GlobalSpanCostCoefficient = 0 # set to 0 to focus on adding more nodes rather than reducting trip lengths/durations\n",
    "slack = 2000 # slack for the time windows\n",
    "num_nodes_metric_coef = 2\n",
    "spread_metric_coef = 1\n",
    "num_fixed_metric_coef = 0\n",
    "doubling_exp = 0.8 # 1 = double the length, double the size/spread/num_fixed; 0.5 = less than double; 2 = more than double\n",
    "cluster_sizes_below_1 = 1 # should be smaller the larger the doubling_exp is since small clusters will be smaller / large ones larger\n",
    "penalties = [5000, 2500, 1000, 500, 100] # first one for fixed appointments then week 0, 1, 2, 3\n",
    "first_algorithm = 'SAVINGS' # 'PATH_CHEAPEST_ARC', 'SAVINGS', 'PARALLEL_CHEAPEST_INSERTION', 'BEST_INSERTION'\n",
    "second_algorithm = 'GUIDED_LOCAL_SEARCH' # 'GUIDED_LOCAL_SEARCH', 'GREEDY_DESCENT'"
   ]
  },
  {
   "cell_type": "markdown",
   "metadata": {},
   "source": [
    "# 2. Dummy data creation and checks"
   ]
  },
  {
   "cell_type": "code",
   "execution_count": 5,
   "metadata": {},
   "outputs": [
    {
     "data": {
      "text/plain": [
       "['Appointments not within the work schedule: []',\n",
       " 'Appointments not within opening hours of node: []',\n",
       " 'Appointments removed due to conflicts among fixed appointments: []']"
      ]
     },
     "execution_count": 5,
     "metadata": {},
     "output_type": "execute_result"
    }
   ],
   "source": [
    "nodes_df, time_matrix = create_data(num_nodes, percentage_of_appointments, min_work_days, days_off, penalties, home_node_id=0, visiting_interval_min=10, visiting_interval_max=30, max_last_visit=30, simple_schedule=False)\n",
    "nodes_df, messages = prelim_check(nodes_df, time_matrix, work_schedule, fix_app_margin, work_days, verbose=False)\n",
    "options_df = get_options_df(days_off, relative_day_lengths, no_overnight_stays, max_days_off)\n",
    "messages"
   ]
  },
  {
   "cell_type": "markdown",
   "metadata": {},
   "source": [
    "# 3. Metadata - collection 1 (input)"
   ]
  },
  {
   "cell_type": "code",
   "execution_count": 6,
   "metadata": {},
   "outputs": [],
   "source": [
    "# Collect total hours, fixed appointments, spread and number_of_possible_soluions\n",
    "total_hours = 0\n",
    "for day, hours in work_schedule.items():\n",
    "    if not day in days_off:\n",
    "        total_hours += hours[1] - hours[0]\n",
    "\n",
    "n_fixed_appointments = sum(nodes_df['fixed_appointment'].notnull())\n",
    "\n",
    "avg_spread = time_matrix.iloc[nodes_df['node_id'].values, nodes_df['node_id'].values].median().median()\n",
    "max_spread = time_matrix.iloc[nodes_df['node_id'].values, nodes_df['node_id'].values].max().max()\n",
    "\n",
    "number_of_possible_solutions = len(options_df)"
   ]
  },
  {
   "cell_type": "markdown",
   "metadata": {},
   "source": [
    "# 4. Automatic Parameter Optimization (APO)"
   ]
  },
  {
   "cell_type": "code",
   "execution_count": 7,
   "metadata": {},
   "outputs": [],
   "source": [
    "# Dependent on total work hours, number of fixed appointments, geopgraphic spread and number of solutions to compare (in future, this could try definint optimal solution beforehand)\n",
    "time_limit = 10\n",
    "num_nodes_to_consider = 8"
   ]
  },
  {
   "cell_type": "markdown",
   "metadata": {},
   "source": [
    "# 5. Defining nodes to be considered in current week"
   ]
  },
  {
   "cell_type": "code",
   "execution_count": 8,
   "metadata": {},
   "outputs": [],
   "source": [
    "nodes_df = nodes_df.sort_values('priority', ascending=False, inplace=False)\n",
    "top_nodes_df = nodes_df.head(num_nodes_to_consider)\n",
    "if 0 not in top_nodes_df['node_id'].values:\n",
    "    node_zero_df = nodes_df[nodes_df['node_id'] == 0]\n",
    "    nodes_df = pd.concat([node_zero_df, top_nodes_df]).head(num_nodes_to_consider)\n",
    "else:\n",
    "    nodes_df = top_nodes_df\n",
    "nodes_df = nodes_df.sort_values('node_id', ascending=True, inplace=False)"
   ]
  },
  {
   "cell_type": "markdown",
   "metadata": {},
   "source": [
    "# 6. Metadata - storage loading"
   ]
  },
  {
   "cell_type": "code",
   "execution_count": 9,
   "metadata": {},
   "outputs": [],
   "source": [
    "existing_results_df = load_results()\n",
    "max_index = existing_results_df['index'].max() if len(existing_results_df) > 0 else 0\n",
    "results = []"
   ]
  },
  {
   "cell_type": "markdown",
   "metadata": {},
   "source": [
    "# 7. Routing"
   ]
  },
  {
   "cell_type": "code",
   "execution_count": 10,
   "metadata": {},
   "outputs": [
    {
     "name": "stdout",
     "output_type": "stream",
     "text": [
      "Option 0 with objective value 677 and 0 dropped nodes\n"
     ]
    },
    {
     "data": {
      "application/vnd.plotly.v1+json": {
       "config": {
        "plotlyServerURL": "https://plot.ly"
       },
       "data": [
        {
         "hoverinfo": "text",
         "hovertext": [
          "Node: 0<br>Time: 08:00 (day 1)<br>Priority: 2500.00<br>Days: [1, 2, 3, 4, 5, 6, 7]<br>Time Window: [['07:00 (day 1)', '19:00 (day 1)']]<br>On site time: 0<br>",
          "Node: 62<br>Time: 09:26 (day 1)<br>Priority: 2500.00<br>Days: [2, 3, 4, 5, 7]<br>Time Window: [['08:00 (day 1)', '15:02 (day 1)']]<br>On site time: 32<br>",
          "Node: 63<br>Time: 10:30 (day 1)<br>Priority: 2500.00<br>Days: [2, 4, 5, 6, 7]<br>Time Window: [['09:00 (day 1)', '16:08 (day 1)']]<br>On site time: 30<br>",
          "Node: 57<br>Time: 12:33 (day 1)<br>Priority: 2500.00<br>Days: [1, 2, 4, 6, 7]<br>Time Window: [['08:00 (day 1)', '16:52 (day 1)']]<br>On site time: 45<br>",
          "Node: 54<br>Time: 13:36 (day 1)<br>Priority: 2500.00<br>Days: [2, 3, 5, 6, 7]<br>Time Window: [['09:00 (day 1)', '17:07 (day 1)']]<br>On site time: 48<br>",
          "Node: 0<br>Time: 14:29 (day 1)<br>Priority: 2500.00<br>Days: [1, 2, 3, 4, 5, 6, 7]<br>Time Window: [['07:00 (day 1)', '19:00 (day 1)']]<br>On site time: 0<br>"
         ],
         "line": {
          "color": "#76B041",
          "width": 2
         },
         "marker": {
          "color": [
           "#76B041",
           "#76B041",
           "#76B041",
           "#76B041",
           "#76B041",
           "#76B041"
          ],
          "size": 10,
          "symbol": "circle"
         },
         "mode": "lines+markers",
         "name": "Visited - 1_day_trip_0_{2}",
         "type": "scatter",
         "x": [
          81,
          20,
          5,
          58,
          76,
          81
         ],
         "y": [
          71,
          10,
          39,
          74,
          73,
          71
         ]
        },
        {
         "hoverinfo": "text",
         "hovertext": [
          "Node: 0<br>Time: 08:03 (day 1)<br>Priority: 2500.00<br>Days: [1, 2, 3, 4, 5, 6, 7]<br>Time Window: [['07:00 (day 1)', '19:00 (day 1)']]<br>On site time: 0<br>",
          "Node: 56<br>Time: 09:00 (day 1)<br>Priority: 2500.00<br>Days: [1, 2, 3, 6, 7]<br>Time Window: [['09:00 (day 1)', '17:09 (day 1)']]<br>On site time: 54<br>",
          "Node: 59<br>Time: 10:16 (day 1)<br>Priority: 2500.00<br>Days: [1, 2, 3, 4, 7]<br>Time Window: [['09:00 (day 1)', '16:16 (day 1)']]<br>On site time: 36<br>",
          "Node: 60<br>Time: 11:33 (day 1)<br>Priority: 2500.00<br>Days: [1, 3, 4, 5, 6]<br>Time Window: [['09:00 (day 1)', '16:11 (day 1)']]<br>On site time: 51<br>",
          "Node: 0<br>Time: 13:51 (day 1)<br>Priority: 2500.00<br>Days: [1, 2, 3, 4, 5, 6, 7]<br>Time Window: [['07:00 (day 1)', '19:00 (day 1)']]<br>On site time: 0<br>"
         ],
         "line": {
          "color": "#F8766D",
          "width": 2
         },
         "marker": {
          "color": [
           "#F8766D",
           "#F8766D",
           "#F8766D",
           "#F8766D",
           "#F8766D"
          ],
          "size": 10,
          "symbol": "circle"
         },
         "mode": "lines+markers",
         "name": "Visited - 1_day_trip_1_{1}",
         "type": "scatter",
         "x": [
          81,
          65,
          43,
          26,
          81
         ],
         "y": [
          71,
          16,
          15,
          53,
          71
         ]
        },
        {
         "hoverinfo": "text",
         "hovertext": "Home: Node 0<br>X: 81<br>Y: 71",
         "marker": {
          "color": "red",
          "size": 15,
          "symbol": "star"
         },
         "mode": "markers",
         "name": "Home Node",
         "type": "scatter",
         "x": [
          81
         ],
         "y": [
          71
         ]
        }
       ],
       "layout": {
        "height": 600,
        "hovermode": "closest",
        "legend": {
         "itemsizing": "constant",
         "title": {
          "text": "Clusters & Routes"
         }
        },
        "plot_bgcolor": "white",
        "template": {
         "data": {
          "bar": [
           {
            "error_x": {
             "color": "#2a3f5f"
            },
            "error_y": {
             "color": "#2a3f5f"
            },
            "marker": {
             "line": {
              "color": "#E5ECF6",
              "width": 0.5
             },
             "pattern": {
              "fillmode": "overlay",
              "size": 10,
              "solidity": 0.2
             }
            },
            "type": "bar"
           }
          ],
          "barpolar": [
           {
            "marker": {
             "line": {
              "color": "#E5ECF6",
              "width": 0.5
             },
             "pattern": {
              "fillmode": "overlay",
              "size": 10,
              "solidity": 0.2
             }
            },
            "type": "barpolar"
           }
          ],
          "carpet": [
           {
            "aaxis": {
             "endlinecolor": "#2a3f5f",
             "gridcolor": "white",
             "linecolor": "white",
             "minorgridcolor": "white",
             "startlinecolor": "#2a3f5f"
            },
            "baxis": {
             "endlinecolor": "#2a3f5f",
             "gridcolor": "white",
             "linecolor": "white",
             "minorgridcolor": "white",
             "startlinecolor": "#2a3f5f"
            },
            "type": "carpet"
           }
          ],
          "choropleth": [
           {
            "colorbar": {
             "outlinewidth": 0,
             "ticks": ""
            },
            "type": "choropleth"
           }
          ],
          "contour": [
           {
            "colorbar": {
             "outlinewidth": 0,
             "ticks": ""
            },
            "colorscale": [
             [
              0,
              "#0d0887"
             ],
             [
              0.1111111111111111,
              "#46039f"
             ],
             [
              0.2222222222222222,
              "#7201a8"
             ],
             [
              0.3333333333333333,
              "#9c179e"
             ],
             [
              0.4444444444444444,
              "#bd3786"
             ],
             [
              0.5555555555555556,
              "#d8576b"
             ],
             [
              0.6666666666666666,
              "#ed7953"
             ],
             [
              0.7777777777777778,
              "#fb9f3a"
             ],
             [
              0.8888888888888888,
              "#fdca26"
             ],
             [
              1,
              "#f0f921"
             ]
            ],
            "type": "contour"
           }
          ],
          "contourcarpet": [
           {
            "colorbar": {
             "outlinewidth": 0,
             "ticks": ""
            },
            "type": "contourcarpet"
           }
          ],
          "heatmap": [
           {
            "colorbar": {
             "outlinewidth": 0,
             "ticks": ""
            },
            "colorscale": [
             [
              0,
              "#0d0887"
             ],
             [
              0.1111111111111111,
              "#46039f"
             ],
             [
              0.2222222222222222,
              "#7201a8"
             ],
             [
              0.3333333333333333,
              "#9c179e"
             ],
             [
              0.4444444444444444,
              "#bd3786"
             ],
             [
              0.5555555555555556,
              "#d8576b"
             ],
             [
              0.6666666666666666,
              "#ed7953"
             ],
             [
              0.7777777777777778,
              "#fb9f3a"
             ],
             [
              0.8888888888888888,
              "#fdca26"
             ],
             [
              1,
              "#f0f921"
             ]
            ],
            "type": "heatmap"
           }
          ],
          "heatmapgl": [
           {
            "colorbar": {
             "outlinewidth": 0,
             "ticks": ""
            },
            "colorscale": [
             [
              0,
              "#0d0887"
             ],
             [
              0.1111111111111111,
              "#46039f"
             ],
             [
              0.2222222222222222,
              "#7201a8"
             ],
             [
              0.3333333333333333,
              "#9c179e"
             ],
             [
              0.4444444444444444,
              "#bd3786"
             ],
             [
              0.5555555555555556,
              "#d8576b"
             ],
             [
              0.6666666666666666,
              "#ed7953"
             ],
             [
              0.7777777777777778,
              "#fb9f3a"
             ],
             [
              0.8888888888888888,
              "#fdca26"
             ],
             [
              1,
              "#f0f921"
             ]
            ],
            "type": "heatmapgl"
           }
          ],
          "histogram": [
           {
            "marker": {
             "pattern": {
              "fillmode": "overlay",
              "size": 10,
              "solidity": 0.2
             }
            },
            "type": "histogram"
           }
          ],
          "histogram2d": [
           {
            "colorbar": {
             "outlinewidth": 0,
             "ticks": ""
            },
            "colorscale": [
             [
              0,
              "#0d0887"
             ],
             [
              0.1111111111111111,
              "#46039f"
             ],
             [
              0.2222222222222222,
              "#7201a8"
             ],
             [
              0.3333333333333333,
              "#9c179e"
             ],
             [
              0.4444444444444444,
              "#bd3786"
             ],
             [
              0.5555555555555556,
              "#d8576b"
             ],
             [
              0.6666666666666666,
              "#ed7953"
             ],
             [
              0.7777777777777778,
              "#fb9f3a"
             ],
             [
              0.8888888888888888,
              "#fdca26"
             ],
             [
              1,
              "#f0f921"
             ]
            ],
            "type": "histogram2d"
           }
          ],
          "histogram2dcontour": [
           {
            "colorbar": {
             "outlinewidth": 0,
             "ticks": ""
            },
            "colorscale": [
             [
              0,
              "#0d0887"
             ],
             [
              0.1111111111111111,
              "#46039f"
             ],
             [
              0.2222222222222222,
              "#7201a8"
             ],
             [
              0.3333333333333333,
              "#9c179e"
             ],
             [
              0.4444444444444444,
              "#bd3786"
             ],
             [
              0.5555555555555556,
              "#d8576b"
             ],
             [
              0.6666666666666666,
              "#ed7953"
             ],
             [
              0.7777777777777778,
              "#fb9f3a"
             ],
             [
              0.8888888888888888,
              "#fdca26"
             ],
             [
              1,
              "#f0f921"
             ]
            ],
            "type": "histogram2dcontour"
           }
          ],
          "mesh3d": [
           {
            "colorbar": {
             "outlinewidth": 0,
             "ticks": ""
            },
            "type": "mesh3d"
           }
          ],
          "parcoords": [
           {
            "line": {
             "colorbar": {
              "outlinewidth": 0,
              "ticks": ""
             }
            },
            "type": "parcoords"
           }
          ],
          "pie": [
           {
            "automargin": true,
            "type": "pie"
           }
          ],
          "scatter": [
           {
            "fillpattern": {
             "fillmode": "overlay",
             "size": 10,
             "solidity": 0.2
            },
            "type": "scatter"
           }
          ],
          "scatter3d": [
           {
            "line": {
             "colorbar": {
              "outlinewidth": 0,
              "ticks": ""
             }
            },
            "marker": {
             "colorbar": {
              "outlinewidth": 0,
              "ticks": ""
             }
            },
            "type": "scatter3d"
           }
          ],
          "scattercarpet": [
           {
            "marker": {
             "colorbar": {
              "outlinewidth": 0,
              "ticks": ""
             }
            },
            "type": "scattercarpet"
           }
          ],
          "scattergeo": [
           {
            "marker": {
             "colorbar": {
              "outlinewidth": 0,
              "ticks": ""
             }
            },
            "type": "scattergeo"
           }
          ],
          "scattergl": [
           {
            "marker": {
             "colorbar": {
              "outlinewidth": 0,
              "ticks": ""
             }
            },
            "type": "scattergl"
           }
          ],
          "scattermapbox": [
           {
            "marker": {
             "colorbar": {
              "outlinewidth": 0,
              "ticks": ""
             }
            },
            "type": "scattermapbox"
           }
          ],
          "scatterpolar": [
           {
            "marker": {
             "colorbar": {
              "outlinewidth": 0,
              "ticks": ""
             }
            },
            "type": "scatterpolar"
           }
          ],
          "scatterpolargl": [
           {
            "marker": {
             "colorbar": {
              "outlinewidth": 0,
              "ticks": ""
             }
            },
            "type": "scatterpolargl"
           }
          ],
          "scatterternary": [
           {
            "marker": {
             "colorbar": {
              "outlinewidth": 0,
              "ticks": ""
             }
            },
            "type": "scatterternary"
           }
          ],
          "surface": [
           {
            "colorbar": {
             "outlinewidth": 0,
             "ticks": ""
            },
            "colorscale": [
             [
              0,
              "#0d0887"
             ],
             [
              0.1111111111111111,
              "#46039f"
             ],
             [
              0.2222222222222222,
              "#7201a8"
             ],
             [
              0.3333333333333333,
              "#9c179e"
             ],
             [
              0.4444444444444444,
              "#bd3786"
             ],
             [
              0.5555555555555556,
              "#d8576b"
             ],
             [
              0.6666666666666666,
              "#ed7953"
             ],
             [
              0.7777777777777778,
              "#fb9f3a"
             ],
             [
              0.8888888888888888,
              "#fdca26"
             ],
             [
              1,
              "#f0f921"
             ]
            ],
            "type": "surface"
           }
          ],
          "table": [
           {
            "cells": {
             "fill": {
              "color": "#EBF0F8"
             },
             "line": {
              "color": "white"
             }
            },
            "header": {
             "fill": {
              "color": "#C8D4E3"
             },
             "line": {
              "color": "white"
             }
            },
            "type": "table"
           }
          ]
         },
         "layout": {
          "annotationdefaults": {
           "arrowcolor": "#2a3f5f",
           "arrowhead": 0,
           "arrowwidth": 1
          },
          "autotypenumbers": "strict",
          "coloraxis": {
           "colorbar": {
            "outlinewidth": 0,
            "ticks": ""
           }
          },
          "colorscale": {
           "diverging": [
            [
             0,
             "#8e0152"
            ],
            [
             0.1,
             "#c51b7d"
            ],
            [
             0.2,
             "#de77ae"
            ],
            [
             0.3,
             "#f1b6da"
            ],
            [
             0.4,
             "#fde0ef"
            ],
            [
             0.5,
             "#f7f7f7"
            ],
            [
             0.6,
             "#e6f5d0"
            ],
            [
             0.7,
             "#b8e186"
            ],
            [
             0.8,
             "#7fbc41"
            ],
            [
             0.9,
             "#4d9221"
            ],
            [
             1,
             "#276419"
            ]
           ],
           "sequential": [
            [
             0,
             "#0d0887"
            ],
            [
             0.1111111111111111,
             "#46039f"
            ],
            [
             0.2222222222222222,
             "#7201a8"
            ],
            [
             0.3333333333333333,
             "#9c179e"
            ],
            [
             0.4444444444444444,
             "#bd3786"
            ],
            [
             0.5555555555555556,
             "#d8576b"
            ],
            [
             0.6666666666666666,
             "#ed7953"
            ],
            [
             0.7777777777777778,
             "#fb9f3a"
            ],
            [
             0.8888888888888888,
             "#fdca26"
            ],
            [
             1,
             "#f0f921"
            ]
           ],
           "sequentialminus": [
            [
             0,
             "#0d0887"
            ],
            [
             0.1111111111111111,
             "#46039f"
            ],
            [
             0.2222222222222222,
             "#7201a8"
            ],
            [
             0.3333333333333333,
             "#9c179e"
            ],
            [
             0.4444444444444444,
             "#bd3786"
            ],
            [
             0.5555555555555556,
             "#d8576b"
            ],
            [
             0.6666666666666666,
             "#ed7953"
            ],
            [
             0.7777777777777778,
             "#fb9f3a"
            ],
            [
             0.8888888888888888,
             "#fdca26"
            ],
            [
             1,
             "#f0f921"
            ]
           ]
          },
          "colorway": [
           "#636efa",
           "#EF553B",
           "#00cc96",
           "#ab63fa",
           "#FFA15A",
           "#19d3f3",
           "#FF6692",
           "#B6E880",
           "#FF97FF",
           "#FECB52"
          ],
          "font": {
           "color": "#2a3f5f"
          },
          "geo": {
           "bgcolor": "white",
           "lakecolor": "white",
           "landcolor": "#E5ECF6",
           "showlakes": true,
           "showland": true,
           "subunitcolor": "white"
          },
          "hoverlabel": {
           "align": "left"
          },
          "hovermode": "closest",
          "mapbox": {
           "style": "light"
          },
          "paper_bgcolor": "white",
          "plot_bgcolor": "#E5ECF6",
          "polar": {
           "angularaxis": {
            "gridcolor": "white",
            "linecolor": "white",
            "ticks": ""
           },
           "bgcolor": "#E5ECF6",
           "radialaxis": {
            "gridcolor": "white",
            "linecolor": "white",
            "ticks": ""
           }
          },
          "scene": {
           "xaxis": {
            "backgroundcolor": "#E5ECF6",
            "gridcolor": "white",
            "gridwidth": 2,
            "linecolor": "white",
            "showbackground": true,
            "ticks": "",
            "zerolinecolor": "white"
           },
           "yaxis": {
            "backgroundcolor": "#E5ECF6",
            "gridcolor": "white",
            "gridwidth": 2,
            "linecolor": "white",
            "showbackground": true,
            "ticks": "",
            "zerolinecolor": "white"
           },
           "zaxis": {
            "backgroundcolor": "#E5ECF6",
            "gridcolor": "white",
            "gridwidth": 2,
            "linecolor": "white",
            "showbackground": true,
            "ticks": "",
            "zerolinecolor": "white"
           }
          },
          "shapedefaults": {
           "line": {
            "color": "#2a3f5f"
           }
          },
          "ternary": {
           "aaxis": {
            "gridcolor": "white",
            "linecolor": "white",
            "ticks": ""
           },
           "baxis": {
            "gridcolor": "white",
            "linecolor": "white",
            "ticks": ""
           },
           "bgcolor": "#E5ECF6",
           "caxis": {
            "gridcolor": "white",
            "linecolor": "white",
            "ticks": ""
           }
          },
          "title": {
           "x": 0.05
          },
          "xaxis": {
           "automargin": true,
           "gridcolor": "white",
           "linecolor": "white",
           "ticks": "",
           "title": {
            "standoff": 15
           },
           "zerolinecolor": "white",
           "zerolinewidth": 2
          },
          "yaxis": {
           "automargin": true,
           "gridcolor": "white",
           "linecolor": "white",
           "ticks": "",
           "title": {
            "standoff": 15
           },
           "zerolinecolor": "white",
           "zerolinewidth": 2
          }
         }
        },
        "title": {
         "text": "All Cluster Routes Visualization"
        },
        "width": 800,
        "xaxis": {
         "title": {
          "text": "X Coordinate"
         }
        },
        "yaxis": {
         "scaleanchor": "x",
         "scaleratio": 1,
         "title": {
          "text": "Y Coordinate"
         }
        }
       }
      }
     },
     "metadata": {},
     "output_type": "display_data"
    },
    {
     "name": "stdout",
     "output_type": "stream",
     "text": [
      "Option 1 with objective value 522 and 0 dropped nodes\n"
     ]
    },
    {
     "data": {
      "application/vnd.plotly.v1+json": {
       "config": {
        "plotlyServerURL": "https://plot.ly"
       },
       "data": [
        {
         "hoverinfo": "text",
         "hovertext": [
          "Node: 0<br>Time: 14:25 (day 1)<br>Priority: 2500.00<br>Days: [1, 2, 3, 4, 5, 6, 7]<br>Time Window: [['07:00 (day 1)', '19:00 (day 1)'], ['08:00 (day 2)', '18:00 (day 2)']]<br>On site time: 0<br>",
          "Node: 57<br>Time: 14:48 (day 1)<br>Priority: 2500.00<br>Days: [1, 2, 4, 6, 7]<br>Time Window: [['09:00 (day 1)', '17:52 (day 1)'], ['08:00 (day 2)', '16:52 (day 2)']]<br>On site time: 45<br>",
          "Node: 60<br>Time: 16:11 (day 1)<br>Priority: 2500.00<br>Days: [1, 3, 4, 5, 6]<br>Time Window: [['09:00 (day 1)', '16:11 (day 1)']]<br>On site time: 51<br>",
          "Node: 63<br>Time: 09:01 (day 2)<br>Priority: 2500.00<br>Days: [2, 4, 5, 6, 7]<br>Time Window: [['09:00 (day 2)', '16:08 (day 2)']]<br>On site time: 30<br>",
          "Node: 62<br>Time: 10:03 (day 2)<br>Priority: 2500.00<br>Days: [2, 3, 4, 5, 7]<br>Time Window: [['08:00 (day 2)', '15:02 (day 2)']]<br>On site time: 32<br>",
          "Node: 59<br>Time: 10:58 (day 2)<br>Priority: 2500.00<br>Days: [1, 2, 3, 4, 7]<br>Time Window: [['09:00 (day 1)', '16:16 (day 1)'], ['08:00 (day 2)', '16:16 (day 2)']]<br>On site time: 36<br>",
          "Node: 56<br>Time: 11:56 (day 2)<br>Priority: 2500.00<br>Days: [1, 2, 3, 6, 7]<br>Time Window: [['09:00 (day 1)', '17:09 (day 1)'], ['09:00 (day 2)', '16:09 (day 2)']]<br>On site time: 54<br>",
          "Node: 54<br>Time: 14:18 (day 2)<br>Priority: 2500.00<br>Days: [2, 3, 5, 6, 7]<br>Time Window: [['09:00 (day 2)', '17:07 (day 2)']]<br>On site time: 48<br>",
          "Node: 0<br>Time: 15:11 (day 2)<br>Priority: 2500.00<br>Days: [1, 2, 3, 4, 5, 6, 7]<br>Time Window: [['07:00 (day 1)', '19:00 (day 1)'], ['08:00 (day 2)', '18:00 (day 2)']]<br>On site time: 0<br>"
         ],
         "line": {
          "color": "#76B041",
          "width": 2
         },
         "marker": {
          "color": [
           "#76B041",
           "#76B041",
           "#76B041",
           "#76B041",
           "#76B041",
           "#76B041",
           "#76B041",
           "#76B041",
           "#76B041"
          ],
          "size": 10,
          "symbol": [
           "circle",
           "circle",
           "x",
           "circle",
           "circle",
           "circle",
           "circle",
           "circle",
           "circle"
          ]
         },
         "mode": "lines+markers",
         "name": "Visited - 2_day_trip_0_{1, 2}",
         "type": "scatter",
         "x": [
          81,
          58,
          26,
          5,
          20,
          43,
          65,
          76,
          81
         ],
         "y": [
          71,
          74,
          53,
          39,
          10,
          15,
          16,
          73,
          71
         ]
        },
        {
         "hoverinfo": "text",
         "hovertext": "Home: Node 0<br>X: 81<br>Y: 71",
         "marker": {
          "color": "red",
          "size": 15,
          "symbol": "star"
         },
         "mode": "markers",
         "name": "Home Node",
         "type": "scatter",
         "x": [
          81
         ],
         "y": [
          71
         ]
        }
       ],
       "layout": {
        "height": 600,
        "hovermode": "closest",
        "legend": {
         "itemsizing": "constant",
         "title": {
          "text": "Clusters & Routes"
         }
        },
        "plot_bgcolor": "white",
        "template": {
         "data": {
          "bar": [
           {
            "error_x": {
             "color": "#2a3f5f"
            },
            "error_y": {
             "color": "#2a3f5f"
            },
            "marker": {
             "line": {
              "color": "#E5ECF6",
              "width": 0.5
             },
             "pattern": {
              "fillmode": "overlay",
              "size": 10,
              "solidity": 0.2
             }
            },
            "type": "bar"
           }
          ],
          "barpolar": [
           {
            "marker": {
             "line": {
              "color": "#E5ECF6",
              "width": 0.5
             },
             "pattern": {
              "fillmode": "overlay",
              "size": 10,
              "solidity": 0.2
             }
            },
            "type": "barpolar"
           }
          ],
          "carpet": [
           {
            "aaxis": {
             "endlinecolor": "#2a3f5f",
             "gridcolor": "white",
             "linecolor": "white",
             "minorgridcolor": "white",
             "startlinecolor": "#2a3f5f"
            },
            "baxis": {
             "endlinecolor": "#2a3f5f",
             "gridcolor": "white",
             "linecolor": "white",
             "minorgridcolor": "white",
             "startlinecolor": "#2a3f5f"
            },
            "type": "carpet"
           }
          ],
          "choropleth": [
           {
            "colorbar": {
             "outlinewidth": 0,
             "ticks": ""
            },
            "type": "choropleth"
           }
          ],
          "contour": [
           {
            "colorbar": {
             "outlinewidth": 0,
             "ticks": ""
            },
            "colorscale": [
             [
              0,
              "#0d0887"
             ],
             [
              0.1111111111111111,
              "#46039f"
             ],
             [
              0.2222222222222222,
              "#7201a8"
             ],
             [
              0.3333333333333333,
              "#9c179e"
             ],
             [
              0.4444444444444444,
              "#bd3786"
             ],
             [
              0.5555555555555556,
              "#d8576b"
             ],
             [
              0.6666666666666666,
              "#ed7953"
             ],
             [
              0.7777777777777778,
              "#fb9f3a"
             ],
             [
              0.8888888888888888,
              "#fdca26"
             ],
             [
              1,
              "#f0f921"
             ]
            ],
            "type": "contour"
           }
          ],
          "contourcarpet": [
           {
            "colorbar": {
             "outlinewidth": 0,
             "ticks": ""
            },
            "type": "contourcarpet"
           }
          ],
          "heatmap": [
           {
            "colorbar": {
             "outlinewidth": 0,
             "ticks": ""
            },
            "colorscale": [
             [
              0,
              "#0d0887"
             ],
             [
              0.1111111111111111,
              "#46039f"
             ],
             [
              0.2222222222222222,
              "#7201a8"
             ],
             [
              0.3333333333333333,
              "#9c179e"
             ],
             [
              0.4444444444444444,
              "#bd3786"
             ],
             [
              0.5555555555555556,
              "#d8576b"
             ],
             [
              0.6666666666666666,
              "#ed7953"
             ],
             [
              0.7777777777777778,
              "#fb9f3a"
             ],
             [
              0.8888888888888888,
              "#fdca26"
             ],
             [
              1,
              "#f0f921"
             ]
            ],
            "type": "heatmap"
           }
          ],
          "heatmapgl": [
           {
            "colorbar": {
             "outlinewidth": 0,
             "ticks": ""
            },
            "colorscale": [
             [
              0,
              "#0d0887"
             ],
             [
              0.1111111111111111,
              "#46039f"
             ],
             [
              0.2222222222222222,
              "#7201a8"
             ],
             [
              0.3333333333333333,
              "#9c179e"
             ],
             [
              0.4444444444444444,
              "#bd3786"
             ],
             [
              0.5555555555555556,
              "#d8576b"
             ],
             [
              0.6666666666666666,
              "#ed7953"
             ],
             [
              0.7777777777777778,
              "#fb9f3a"
             ],
             [
              0.8888888888888888,
              "#fdca26"
             ],
             [
              1,
              "#f0f921"
             ]
            ],
            "type": "heatmapgl"
           }
          ],
          "histogram": [
           {
            "marker": {
             "pattern": {
              "fillmode": "overlay",
              "size": 10,
              "solidity": 0.2
             }
            },
            "type": "histogram"
           }
          ],
          "histogram2d": [
           {
            "colorbar": {
             "outlinewidth": 0,
             "ticks": ""
            },
            "colorscale": [
             [
              0,
              "#0d0887"
             ],
             [
              0.1111111111111111,
              "#46039f"
             ],
             [
              0.2222222222222222,
              "#7201a8"
             ],
             [
              0.3333333333333333,
              "#9c179e"
             ],
             [
              0.4444444444444444,
              "#bd3786"
             ],
             [
              0.5555555555555556,
              "#d8576b"
             ],
             [
              0.6666666666666666,
              "#ed7953"
             ],
             [
              0.7777777777777778,
              "#fb9f3a"
             ],
             [
              0.8888888888888888,
              "#fdca26"
             ],
             [
              1,
              "#f0f921"
             ]
            ],
            "type": "histogram2d"
           }
          ],
          "histogram2dcontour": [
           {
            "colorbar": {
             "outlinewidth": 0,
             "ticks": ""
            },
            "colorscale": [
             [
              0,
              "#0d0887"
             ],
             [
              0.1111111111111111,
              "#46039f"
             ],
             [
              0.2222222222222222,
              "#7201a8"
             ],
             [
              0.3333333333333333,
              "#9c179e"
             ],
             [
              0.4444444444444444,
              "#bd3786"
             ],
             [
              0.5555555555555556,
              "#d8576b"
             ],
             [
              0.6666666666666666,
              "#ed7953"
             ],
             [
              0.7777777777777778,
              "#fb9f3a"
             ],
             [
              0.8888888888888888,
              "#fdca26"
             ],
             [
              1,
              "#f0f921"
             ]
            ],
            "type": "histogram2dcontour"
           }
          ],
          "mesh3d": [
           {
            "colorbar": {
             "outlinewidth": 0,
             "ticks": ""
            },
            "type": "mesh3d"
           }
          ],
          "parcoords": [
           {
            "line": {
             "colorbar": {
              "outlinewidth": 0,
              "ticks": ""
             }
            },
            "type": "parcoords"
           }
          ],
          "pie": [
           {
            "automargin": true,
            "type": "pie"
           }
          ],
          "scatter": [
           {
            "fillpattern": {
             "fillmode": "overlay",
             "size": 10,
             "solidity": 0.2
            },
            "type": "scatter"
           }
          ],
          "scatter3d": [
           {
            "line": {
             "colorbar": {
              "outlinewidth": 0,
              "ticks": ""
             }
            },
            "marker": {
             "colorbar": {
              "outlinewidth": 0,
              "ticks": ""
             }
            },
            "type": "scatter3d"
           }
          ],
          "scattercarpet": [
           {
            "marker": {
             "colorbar": {
              "outlinewidth": 0,
              "ticks": ""
             }
            },
            "type": "scattercarpet"
           }
          ],
          "scattergeo": [
           {
            "marker": {
             "colorbar": {
              "outlinewidth": 0,
              "ticks": ""
             }
            },
            "type": "scattergeo"
           }
          ],
          "scattergl": [
           {
            "marker": {
             "colorbar": {
              "outlinewidth": 0,
              "ticks": ""
             }
            },
            "type": "scattergl"
           }
          ],
          "scattermapbox": [
           {
            "marker": {
             "colorbar": {
              "outlinewidth": 0,
              "ticks": ""
             }
            },
            "type": "scattermapbox"
           }
          ],
          "scatterpolar": [
           {
            "marker": {
             "colorbar": {
              "outlinewidth": 0,
              "ticks": ""
             }
            },
            "type": "scatterpolar"
           }
          ],
          "scatterpolargl": [
           {
            "marker": {
             "colorbar": {
              "outlinewidth": 0,
              "ticks": ""
             }
            },
            "type": "scatterpolargl"
           }
          ],
          "scatterternary": [
           {
            "marker": {
             "colorbar": {
              "outlinewidth": 0,
              "ticks": ""
             }
            },
            "type": "scatterternary"
           }
          ],
          "surface": [
           {
            "colorbar": {
             "outlinewidth": 0,
             "ticks": ""
            },
            "colorscale": [
             [
              0,
              "#0d0887"
             ],
             [
              0.1111111111111111,
              "#46039f"
             ],
             [
              0.2222222222222222,
              "#7201a8"
             ],
             [
              0.3333333333333333,
              "#9c179e"
             ],
             [
              0.4444444444444444,
              "#bd3786"
             ],
             [
              0.5555555555555556,
              "#d8576b"
             ],
             [
              0.6666666666666666,
              "#ed7953"
             ],
             [
              0.7777777777777778,
              "#fb9f3a"
             ],
             [
              0.8888888888888888,
              "#fdca26"
             ],
             [
              1,
              "#f0f921"
             ]
            ],
            "type": "surface"
           }
          ],
          "table": [
           {
            "cells": {
             "fill": {
              "color": "#EBF0F8"
             },
             "line": {
              "color": "white"
             }
            },
            "header": {
             "fill": {
              "color": "#C8D4E3"
             },
             "line": {
              "color": "white"
             }
            },
            "type": "table"
           }
          ]
         },
         "layout": {
          "annotationdefaults": {
           "arrowcolor": "#2a3f5f",
           "arrowhead": 0,
           "arrowwidth": 1
          },
          "autotypenumbers": "strict",
          "coloraxis": {
           "colorbar": {
            "outlinewidth": 0,
            "ticks": ""
           }
          },
          "colorscale": {
           "diverging": [
            [
             0,
             "#8e0152"
            ],
            [
             0.1,
             "#c51b7d"
            ],
            [
             0.2,
             "#de77ae"
            ],
            [
             0.3,
             "#f1b6da"
            ],
            [
             0.4,
             "#fde0ef"
            ],
            [
             0.5,
             "#f7f7f7"
            ],
            [
             0.6,
             "#e6f5d0"
            ],
            [
             0.7,
             "#b8e186"
            ],
            [
             0.8,
             "#7fbc41"
            ],
            [
             0.9,
             "#4d9221"
            ],
            [
             1,
             "#276419"
            ]
           ],
           "sequential": [
            [
             0,
             "#0d0887"
            ],
            [
             0.1111111111111111,
             "#46039f"
            ],
            [
             0.2222222222222222,
             "#7201a8"
            ],
            [
             0.3333333333333333,
             "#9c179e"
            ],
            [
             0.4444444444444444,
             "#bd3786"
            ],
            [
             0.5555555555555556,
             "#d8576b"
            ],
            [
             0.6666666666666666,
             "#ed7953"
            ],
            [
             0.7777777777777778,
             "#fb9f3a"
            ],
            [
             0.8888888888888888,
             "#fdca26"
            ],
            [
             1,
             "#f0f921"
            ]
           ],
           "sequentialminus": [
            [
             0,
             "#0d0887"
            ],
            [
             0.1111111111111111,
             "#46039f"
            ],
            [
             0.2222222222222222,
             "#7201a8"
            ],
            [
             0.3333333333333333,
             "#9c179e"
            ],
            [
             0.4444444444444444,
             "#bd3786"
            ],
            [
             0.5555555555555556,
             "#d8576b"
            ],
            [
             0.6666666666666666,
             "#ed7953"
            ],
            [
             0.7777777777777778,
             "#fb9f3a"
            ],
            [
             0.8888888888888888,
             "#fdca26"
            ],
            [
             1,
             "#f0f921"
            ]
           ]
          },
          "colorway": [
           "#636efa",
           "#EF553B",
           "#00cc96",
           "#ab63fa",
           "#FFA15A",
           "#19d3f3",
           "#FF6692",
           "#B6E880",
           "#FF97FF",
           "#FECB52"
          ],
          "font": {
           "color": "#2a3f5f"
          },
          "geo": {
           "bgcolor": "white",
           "lakecolor": "white",
           "landcolor": "#E5ECF6",
           "showlakes": true,
           "showland": true,
           "subunitcolor": "white"
          },
          "hoverlabel": {
           "align": "left"
          },
          "hovermode": "closest",
          "mapbox": {
           "style": "light"
          },
          "paper_bgcolor": "white",
          "plot_bgcolor": "#E5ECF6",
          "polar": {
           "angularaxis": {
            "gridcolor": "white",
            "linecolor": "white",
            "ticks": ""
           },
           "bgcolor": "#E5ECF6",
           "radialaxis": {
            "gridcolor": "white",
            "linecolor": "white",
            "ticks": ""
           }
          },
          "scene": {
           "xaxis": {
            "backgroundcolor": "#E5ECF6",
            "gridcolor": "white",
            "gridwidth": 2,
            "linecolor": "white",
            "showbackground": true,
            "ticks": "",
            "zerolinecolor": "white"
           },
           "yaxis": {
            "backgroundcolor": "#E5ECF6",
            "gridcolor": "white",
            "gridwidth": 2,
            "linecolor": "white",
            "showbackground": true,
            "ticks": "",
            "zerolinecolor": "white"
           },
           "zaxis": {
            "backgroundcolor": "#E5ECF6",
            "gridcolor": "white",
            "gridwidth": 2,
            "linecolor": "white",
            "showbackground": true,
            "ticks": "",
            "zerolinecolor": "white"
           }
          },
          "shapedefaults": {
           "line": {
            "color": "#2a3f5f"
           }
          },
          "ternary": {
           "aaxis": {
            "gridcolor": "white",
            "linecolor": "white",
            "ticks": ""
           },
           "baxis": {
            "gridcolor": "white",
            "linecolor": "white",
            "ticks": ""
           },
           "bgcolor": "#E5ECF6",
           "caxis": {
            "gridcolor": "white",
            "linecolor": "white",
            "ticks": ""
           }
          },
          "title": {
           "x": 0.05
          },
          "xaxis": {
           "automargin": true,
           "gridcolor": "white",
           "linecolor": "white",
           "ticks": "",
           "title": {
            "standoff": 15
           },
           "zerolinecolor": "white",
           "zerolinewidth": 2
          },
          "yaxis": {
           "automargin": true,
           "gridcolor": "white",
           "linecolor": "white",
           "ticks": "",
           "title": {
            "standoff": 15
           },
           "zerolinecolor": "white",
           "zerolinewidth": 2
          }
         }
        },
        "title": {
         "text": "All Cluster Routes Visualization"
        },
        "width": 800,
        "xaxis": {
         "title": {
          "text": "X Coordinate"
         }
        },
        "yaxis": {
         "scaleanchor": "x",
         "scaleratio": 1,
         "title": {
          "text": "Y Coordinate"
         }
        }
       }
      }
     },
     "metadata": {},
     "output_type": "display_data"
    }
   ],
   "source": [
    "# Main\n",
    "start_time = time.time()\n",
    "\n",
    "updated_options_df, figs, routes, updated_nodes_df = solve(options_df, nodes_df, time_matrix, slack, work_schedule, fix_app_margin, time_limit, lunch_duration, first_algorithm, second_algorithm, GlobalSpanCostCoefficient, min_distance_overnight, start_node, num_nodes_metric_coef, spread_metric_coef, num_fixed_metric_coef, doubling_exp, cluster_sizes_below_1, verbose=False, visual=1, restrictive=False)\n",
    "\n",
    "end_time = time.time()\n",
    "duration = end_time - start_time\n",
    "\n",
    "# Define best option automatically\n",
    "max_app_cons = updated_options_df['fixed_app_cons'].max()\n",
    "best_solutions = updated_options_df[updated_options_df['fixed_app_cons'] == max_app_cons]\n",
    "best_solutions['num_nodes_cons'] -= best_solutions['n_overnight_trips'] * overnight_cost\n",
    "best_solution = best_solutions['num_nodes_cons'].idxmax()\n",
    "best_option_df = updated_options_df.iloc[best_solution]"
   ]
  },
  {
   "cell_type": "code",
   "execution_count": 14,
   "metadata": {},
   "outputs": [
    {
     "data": {
      "text/plain": [
       "{2: {54, 57, 62, 63}, 1: {56, 59, 60}}"
      ]
     },
     "execution_count": 14,
     "metadata": {},
     "output_type": "execute_result"
    }
   ],
   "source": [
    "def extract_visited_nodes_by_day(routes_dict):\n",
    "    day_to_nodes = {}  # Initialize a dictionary to store sets of nodes for each day.\n",
    "    \n",
    "    for key, value in routes_dict.items():\n",
    "        # Extract the day from the route key, assuming it's within curly braces and is an integer.\n",
    "        day = int(key[key.find('{') + 1:key.find('}')])\n",
    "        if day not in day_to_nodes:\n",
    "            day_to_nodes[day] = set()\n",
    "        \n",
    "        # Iterate over the tuples in the list (node_id, timestamp)\n",
    "        for node_id, _ in value:\n",
    "            if node_id != 0:  # Exclude node 0\n",
    "                day_to_nodes[day].add(node_id)\n",
    "    \n",
    "    return day_to_nodes\n",
    "\n",
    "routes_dict = best_option_df['route_lists']\n",
    "extract_visited_nodes_by_day(routes_dict)\n",
    "\n",
    "# define fixed appointment visits and define how a visit there might require different updating of subsequent last visit dates in nodes df"
   ]
  },
  {
   "cell_type": "markdown",
   "metadata": {},
   "source": [
    "# Recursion"
   ]
  },
  {
   "cell_type": "code",
   "execution_count": 12,
   "metadata": {},
   "outputs": [
    {
     "data": {
      "text/plain": [
       "[54, 56, 57, 59, 60, 62, 63]"
      ]
     },
     "execution_count": 12,
     "metadata": {},
     "output_type": "execute_result"
    }
   ],
   "source": [
    "# collect respected nodes to upate last visit\n",
    "[x for x in list(best_option_df['respected_nodes']) if x != 0]"
   ]
  },
  {
   "cell_type": "markdown",
   "metadata": {},
   "source": [
    "# 9. Metadata - collection 2 (output)"
   ]
  },
  {
   "cell_type": "code",
   "execution_count": 13,
   "metadata": {},
   "outputs": [
    {
     "name": "stdout",
     "output_type": "stream",
     "text": [
      "Results saved to vrp_results.csv\n"
     ]
    }
   ],
   "source": [
    "# Collect results\n",
    "result = {\n",
    "    \"index\": max_index + 1,\n",
    "    \"time\": pd.Timestamp.now().strftime('%Y-%m-%d %H:%M'),\n",
    "    \"in_first_algo\": first_algorithm,\n",
    "    \"in_second_algo\": second_algorithm,\n",
    "\n",
    "    \"in_fixed_app_fraction\": percentage_of_appointments,\n",
    "\n",
    "    \"thr_num_fixed_appointments\": n_fixed_appointments,\n",
    "    \"thr_total_hours\": total_hours,\n",
    "    \"thr_avg_spread\": round(avg_spread, 2),\n",
    "    \"thr_max_spread\": round(max_spread, 2),\n",
    "    \"thr_n_work_days\": n_work_days,\n",
    "    \"thr_number_of_possible_solutions\": number_of_possible_solutions,\n",
    "\n",
    "    \"thr_time_limit\": time_limit,\n",
    "    \"thr_num_nodes_to_consider\": num_nodes_to_consider,\n",
    "\n",
    "    \"out_obj_value\": best_option_df[\"obj_value\"],\n",
    "    \"out_num_nodes_cons\": best_option_df['num_nodes_cons'],\n",
    "    \"out_n_overnight_trips\": best_option_df['n_overnight_trips'],\n",
    "    \"out_rel_nodes_cons\": round(best_option_df['nodes_cons'],2),\n",
    "    \"out_rel_fixed_app_cons\": best_option_df['fixed_app_cons'] if len(updated_options_df['fixed_appointments_nodes'].values[0]) >= 1 else np.nan,\n",
    "    \"out_time_taken\": round(duration, 2)\n",
    "}\n",
    "results.append(result)\n",
    "\n",
    "# Convert list of dictionaries to DataFrame\n",
    "new_results_df = pd.DataFrame(results)\n",
    "\n",
    "append_and_save_new_results(new_results_df)"
   ]
  }
 ],
 "metadata": {
  "kernelspec": {
   "display_name": "Python 3",
   "language": "python",
   "name": "python3"
  },
  "language_info": {
   "codemirror_mode": {
    "name": "ipython",
    "version": 3
   },
   "file_extension": ".py",
   "mimetype": "text/x-python",
   "name": "python",
   "nbconvert_exporter": "python",
   "pygments_lexer": "ipython3",
   "version": "3.12.2"
  }
 },
 "nbformat": 4,
 "nbformat_minor": 2
}
