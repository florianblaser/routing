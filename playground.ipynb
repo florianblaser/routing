{
 "cells": [
  {
   "cell_type": "code",
   "execution_count": 1,
   "metadata": {},
   "outputs": [
    {
     "name": "stdout",
     "output_type": "stream",
     "text": [
      "Adjusted max days off to 4 because 4 days off were defined.\n"
     ]
    }
   ],
   "source": [
    "num_nodes = 50\n",
    "margin = 10 # time margin for arrival before appointments\n",
    "percentage_of_appointments = 0\n",
    "GlobalSpanCostCoefficient = 0 # adjust\n",
    "slack = 200000 # adjust\n",
    "min_work_days = 7 # minimum number of work days per location\n",
    "\n",
    "work_schedule = {\n",
    "    1: [8 * 60, 19 * 60],\n",
    "    2: [8 * 60, 19 * 60],\n",
    "    3: [8 * 60, 19 * 60],\n",
    "    4: [8 * 60, 19 * 60],\n",
    "    5: [8 * 60, 18 * 60],\n",
    "    6: [8 * 60, 18 * 60],\n",
    "    7: [8 * 60, 18 * 60]\n",
    "}\n",
    "# week (mon-sun) constraints\n",
    "max_days_off = 0\n",
    "days_off = {5,6,7,4} # default Sunday no work\n",
    "max_overnight_stays = 2\n",
    "no_overnight_stays = {}\n",
    "if len(no_overnight_stays) > 0:\n",
    "    possible_overnight_stays = set(range(1, 8)) - no_overnight_stays\n",
    "else:\n",
    "    possible_overnight_stays = set(range(1, 8))\n",
    "max_short_days = 0\n",
    "short_days = {day for day, hours in work_schedule.items() if (hours[1] - hours[0]) / 60 <= 4}\n",
    "\n",
    "# Check for short days or overnight stays defined on days off\n",
    "removed_days = [day for day in list(days_off) if day in short_days]\n",
    "for day in removed_days:\n",
    "    days_off.remove(day)\n",
    "    print(f\"Removed day {day} from days off because it's a short day or overnight stay.\")\n",
    "\n",
    "# Check for more days off defined than max days off\n",
    "if len(days_off) > max_days_off:\n",
    "    max_days_off = len(days_off)\n",
    "    print(f\"Adjusted max days off to {max_days_off} because {len(days_off)} days off were defined.\")\n",
    "\n",
    "# Check for more short days defined than max short days\n",
    "if len(short_days) > max_short_days:\n",
    "    max_short_days = len(short_days)\n",
    "    print(f\"Adjusted max short days to {max_short_days} because {len(short_days)} short days were defined.\")"
   ]
  },
  {
   "cell_type": "code",
   "execution_count": 2,
   "metadata": {},
   "outputs": [
    {
     "name": "stdout",
     "output_type": "stream",
     "text": [
      "Option 0 with objective value 18300 and 29 dropped nodes\n"
     ]
    },
    {
     "data": {
      "application/vnd.plotly.v1+json": {
       "config": {
        "plotlyServerURL": "https://plot.ly"
       },
       "data": [
        {
         "hoverinfo": "text",
         "hovertext": [
          "Node: 0<br>                 Time: 11:00<br>                Days: [1, 2, 3, 4, 5, 6, 7]<br>                Priority: 300.00<br>                Angle to home: 0.0<br>                Distance to home: 0.0<br>                Time Window: [[660, 1140]]<br>                On site time: 0<br>                ",
          "Node: 13<br>                 Time: 11:18<br>                Days: [1, 2, 3, 4, 5, 6, 7]<br>                Priority: 7719.00<br>                Angle to home: 254.47588900324575<br>                Distance to home: 18.68<br>                Time Window: [[660, 1068]]<br>                On site time: 53<br>                ",
          "Node: 29<br>                 Time: 13:16<br>                Days: [1, 2, 3, 4, 5, 6, 7]<br>                Priority: 300.00<br>                Angle to home: 323.74616226255523<br>                Distance to home: 37.2<br>                Time Window: [[660, 1059]]<br>                On site time: 44<br>                ",
          "Node: 49<br>                 Time: 14:13<br>                Days: [1, 2, 3, 4, 5, 6, 7]<br>                Priority: 429.00<br>                Angle to home: 341.1468412355809<br>                Distance to home: 43.32<br>                Time Window: [[660, 1059]]<br>                On site time: 38<br>                ",
          "Node: 8<br>                 Time: 15:08<br>                Days: [1, 2, 3, 4, 5, 6, 7]<br>                Priority: 300.00<br>                Angle to home: 344.3577535427913<br>                Distance to home: 25.96<br>                Time Window: [[660, 1071]]<br>                On site time: 43<br>                ",
          "Node: 35<br>                 Time: 16:04<br>                Days: [1, 2, 3, 4, 5, 6, 7]<br>                Priority: 1197.00<br>                Angle to home: 11.689369175439193<br>                Distance to home: 29.61<br>                Time Window: [[720, 1063]]<br>                On site time: 47<br>                ",
          "Node: 22<br>                 Time: 17:03<br>                Days: [1, 2, 3, 4, 5, 6, 7]<br>                Priority: 1097.00<br>                Angle to home: 6.7098368077569335<br>                Distance to home: 17.12<br>                Time Window: [[660, 1071]]<br>                On site time: 52<br>                ",
          "Node: 18<br>                 Time: 18:00<br>                Days: [1, 2, 3, 4, 5, 6, 7]<br>                Priority: 302.00<br>                Angle to home: 351.86989764584405<br>                Distance to home: 14.14<br>                Time Window: [[720, 1082]]<br>                On site time: 44<br>                ",
          "Node: 0<br>                 Time: 18:58<br>                Days: [1, 2, 3, 4, 5, 6, 7]<br>                Priority: 300.00<br>                Angle to home: 0.0<br>                Distance to home: 0.0<br>                Time Window: [[660, 1140]]<br>                On site time: 0<br>                "
         ],
         "line": {
          "color": "#76B041",
          "width": 2
         },
         "marker": {
          "color": [
           "#76B041",
           "#76B041",
           "#76B041",
           "#76B041",
           "#76B041",
           "#76B041",
           "#76B041",
           "#76B041",
           "#76B041"
          ],
          "size": 8
         },
         "mode": "lines+markers",
         "name": "Route 1_day_trip_0",
         "type": "scatter",
         "x": [
          42,
          37,
          72,
          83,
          67,
          71,
          59,
          56,
          42
         ],
         "y": [
          22,
          4,
          0,
          8,
          15,
          28,
          24,
          20,
          22
         ]
        },
        {
         "hoverinfo": "text",
         "hovertext": [
          "Node: 0<br>                 Time: 11:00<br>                Days: [1, 2, 3, 4, 5, 6, 7]<br>                Priority: 300.00<br>                Angle to home: 0.0<br>                Distance to home: 0.0<br>                Time Window: [[660, 1140]]<br>                On site time: 0<br>                ",
          "Node: 42<br>                 Time: 11:06<br>                Days: [1, 2, 3, 4, 5, 6, 7]<br>                Priority: 325.00<br>                Angle to home: 26.56505117707799<br>                Distance to home: 6.71<br>                Time Window: [[660, 1092]]<br>                On site time: 41<br>                ",
          "Node: 30<br>                 Time: 12:53<br>                Days: [1, 2, 3, 4, 5, 6, 7]<br>                Priority: 324.00<br>                Angle to home: 61.606980578617005<br>                Distance to home: 42.06<br>                Time Window: [[720, 1040]]<br>                On site time: 58<br>                ",
          "Node: 37<br>                 Time: 14:03<br>                Days: [1, 2, 3, 4, 5, 6, 7]<br>                Priority: 325.00<br>                Angle to home: 65.82089285331082<br>                Distance to home: 53.71<br>                Time Window: [[660, 1046]]<br>                On site time: 40<br>                ",
          "Node: 11<br>                 Time: 14:52<br>                Days: [1, 2, 3, 4, 5, 6, 7]<br>                Priority: 365.00<br>                Angle to home: 74.05460409907715<br>                Distance to home: 58.24<br>                Time Window: [[720, 1037]]<br>                On site time: 45<br>                ",
          "Node: 48<br>                 Time: 15:41<br>                Days: [1, 2, 3, 4, 5, 6, 7]<br>                Priority: 312.00<br>                Angle to home: 77.69198418257209<br>                Distance to home: 56.29<br>                Time Window: [[720, 1038]]<br>                On site time: 46<br>                ",
          "Node: 39<br>                 Time: 16:40<br>                Days: [1, 2, 3, 4, 5, 6, 7]<br>                Priority: 521.00<br>                Angle to home: 90.0<br>                Distance to home: 61.0<br>                Time Window: [[720, 656], [799, 1032]]<br>                On site time: 47<br>                ",
          "Node: 10<br>                 Time: 18:09<br>                Days: [1, 2, 3, 4, 5, 6, 7]<br>                Priority: 300.00<br>                Angle to home: 81.02737338510362<br>                Distance to home: 19.24<br>                Time Window: [[720, 1091]]<br>                On site time: 30<br>                ",
          "Node: 0<br>                 Time: 18:58<br>                Days: [1, 2, 3, 4, 5, 6, 7]<br>                Priority: 300.00<br>                Angle to home: 0.0<br>                Distance to home: 0.0<br>                Time Window: [[660, 1140]]<br>                On site time: 0<br>                "
         ],
         "line": {
          "color": "#F8766D",
          "width": 2
         },
         "marker": {
          "color": [
           "#F8766D",
           "#F8766D",
           "#F8766D",
           "#F8766D",
           "#F8766D",
           "#F8766D",
           "#F8766D",
           "#F8766D",
           "#F8766D"
          ],
          "size": 8
         },
         "mode": "lines+markers",
         "name": "Route 1_day_trip_1",
         "type": "scatter",
         "x": [
          42,
          48,
          62,
          64,
          58,
          54,
          42,
          45,
          42
         ],
         "y": [
          22,
          25,
          59,
          71,
          78,
          77,
          83,
          41,
          22
         ]
        },
        {
         "hoverinfo": "text",
         "hovertext": [
          "Node: 0<br>                 Time: 11:00<br>                Days: [1, 2, 3, 4, 5, 6, 7]<br>                Priority: 300.00<br>                Angle to home: 0.0<br>                Distance to home: 0.0<br>                Time Window: [[660, 1140]]<br>                On site time: 0<br>                ",
          "Node: 1<br>                 Time: 11:23<br>                Days: [1, 2, 3, 4, 5, 6, 7]<br>                Priority: 556.00<br>                Angle to home: 157.75097634278765<br>                Distance to home: 23.77<br>                Time Window: [[660, 1059]]<br>                On site time: 57<br>                ",
          "Node: 5<br>                 Time: 13:05<br>                Days: [1, 2, 3, 4, 5, 6, 7]<br>                Priority: 307.00<br>                Angle to home: 146.72511201516508<br>                Distance to home: 38.28<br>                Time Window: [[660, 1066]]<br>                On site time: 36<br>                ",
          "Node: 26<br>                 Time: 14:02<br>                Days: [1, 2, 3, 4, 5, 6, 7]<br>                Priority: 300.00<br>                Angle to home: 135.0<br>                Distance to home: 57.98<br>                Time Window: [[660, 1045]]<br>                On site time: 37<br>                ",
          "Node: 40<br>                 Time: 14:59<br>                Days: [1, 2, 3, 4, 5, 6, 7]<br>                Priority: 10300.00<br>                Angle to home: 118.47420361007437<br>                Distance to home: 67.12<br>                Time Window: [[720, 1013]]<br>                On site time: 60<br>                ",
          "Node: 27<br>                 Time: 16:24<br>                Days: [1, 2, 3, 4, 5, 6, 7]<br>                Priority: 429.00<br>                Angle to home: 96.88172363063696<br>                Distance to home: 58.42<br>                Time Window: [[660, 1036]]<br>                On site time: 46<br>                ",
          "Node: 36<br>                 Time: 17:24<br>                Days: [1, 2, 3, 4, 5, 6, 7]<br>                Priority: 312.00<br>                Angle to home: 91.27303002005671<br>                Distance to home: 45.01<br>                Time Window: [[720, 728], [860, 1054]]<br>                On site time: 41<br>                ",
          "Node: 0<br>                 Time: 18:50<br>                Days: [1, 2, 3, 4, 5, 6, 7]<br>                Priority: 300.00<br>                Angle to home: 0.0<br>                Distance to home: 0.0<br>                Time Window: [[660, 1140]]<br>                On site time: 0<br>                "
         ],
         "line": {
          "color": "#00BFC4",
          "width": 2
         },
         "marker": {
          "color": [
           "#00BFC4",
           "#00BFC4",
           "#00BFC4",
           "#00BFC4",
           "#00BFC4",
           "#00BFC4",
           "#00BFC4",
           "#00BFC4"
          ],
          "size": 8
         },
         "mode": "lines+markers",
         "name": "Route 1_day_trip_2",
         "type": "scatter",
         "x": [
          42,
          20,
          10,
          1,
          10,
          35,
          41,
          42
         ],
         "y": [
          22,
          31,
          43,
          63,
          81,
          80,
          67,
          22
         ]
        },
        {
         "hoverinfo": "text",
         "hovertext": "Home: Node 0<br>X: 42<br>Y: 22",
         "marker": {
          "color": "red",
          "size": 15,
          "symbol": "star"
         },
         "mode": "markers",
         "name": "Home Node",
         "type": "scatter",
         "x": [
          42
         ],
         "y": [
          22
         ]
        }
       ],
       "layout": {
        "height": 600,
        "hovermode": "closest",
        "legend": {
         "itemsizing": "constant",
         "title": {
          "text": "Clusters & Routes"
         }
        },
        "plot_bgcolor": "white",
        "template": {
         "data": {
          "bar": [
           {
            "error_x": {
             "color": "#2a3f5f"
            },
            "error_y": {
             "color": "#2a3f5f"
            },
            "marker": {
             "line": {
              "color": "#E5ECF6",
              "width": 0.5
             },
             "pattern": {
              "fillmode": "overlay",
              "size": 10,
              "solidity": 0.2
             }
            },
            "type": "bar"
           }
          ],
          "barpolar": [
           {
            "marker": {
             "line": {
              "color": "#E5ECF6",
              "width": 0.5
             },
             "pattern": {
              "fillmode": "overlay",
              "size": 10,
              "solidity": 0.2
             }
            },
            "type": "barpolar"
           }
          ],
          "carpet": [
           {
            "aaxis": {
             "endlinecolor": "#2a3f5f",
             "gridcolor": "white",
             "linecolor": "white",
             "minorgridcolor": "white",
             "startlinecolor": "#2a3f5f"
            },
            "baxis": {
             "endlinecolor": "#2a3f5f",
             "gridcolor": "white",
             "linecolor": "white",
             "minorgridcolor": "white",
             "startlinecolor": "#2a3f5f"
            },
            "type": "carpet"
           }
          ],
          "choropleth": [
           {
            "colorbar": {
             "outlinewidth": 0,
             "ticks": ""
            },
            "type": "choropleth"
           }
          ],
          "contour": [
           {
            "colorbar": {
             "outlinewidth": 0,
             "ticks": ""
            },
            "colorscale": [
             [
              0,
              "#0d0887"
             ],
             [
              0.1111111111111111,
              "#46039f"
             ],
             [
              0.2222222222222222,
              "#7201a8"
             ],
             [
              0.3333333333333333,
              "#9c179e"
             ],
             [
              0.4444444444444444,
              "#bd3786"
             ],
             [
              0.5555555555555556,
              "#d8576b"
             ],
             [
              0.6666666666666666,
              "#ed7953"
             ],
             [
              0.7777777777777778,
              "#fb9f3a"
             ],
             [
              0.8888888888888888,
              "#fdca26"
             ],
             [
              1,
              "#f0f921"
             ]
            ],
            "type": "contour"
           }
          ],
          "contourcarpet": [
           {
            "colorbar": {
             "outlinewidth": 0,
             "ticks": ""
            },
            "type": "contourcarpet"
           }
          ],
          "heatmap": [
           {
            "colorbar": {
             "outlinewidth": 0,
             "ticks": ""
            },
            "colorscale": [
             [
              0,
              "#0d0887"
             ],
             [
              0.1111111111111111,
              "#46039f"
             ],
             [
              0.2222222222222222,
              "#7201a8"
             ],
             [
              0.3333333333333333,
              "#9c179e"
             ],
             [
              0.4444444444444444,
              "#bd3786"
             ],
             [
              0.5555555555555556,
              "#d8576b"
             ],
             [
              0.6666666666666666,
              "#ed7953"
             ],
             [
              0.7777777777777778,
              "#fb9f3a"
             ],
             [
              0.8888888888888888,
              "#fdca26"
             ],
             [
              1,
              "#f0f921"
             ]
            ],
            "type": "heatmap"
           }
          ],
          "heatmapgl": [
           {
            "colorbar": {
             "outlinewidth": 0,
             "ticks": ""
            },
            "colorscale": [
             [
              0,
              "#0d0887"
             ],
             [
              0.1111111111111111,
              "#46039f"
             ],
             [
              0.2222222222222222,
              "#7201a8"
             ],
             [
              0.3333333333333333,
              "#9c179e"
             ],
             [
              0.4444444444444444,
              "#bd3786"
             ],
             [
              0.5555555555555556,
              "#d8576b"
             ],
             [
              0.6666666666666666,
              "#ed7953"
             ],
             [
              0.7777777777777778,
              "#fb9f3a"
             ],
             [
              0.8888888888888888,
              "#fdca26"
             ],
             [
              1,
              "#f0f921"
             ]
            ],
            "type": "heatmapgl"
           }
          ],
          "histogram": [
           {
            "marker": {
             "pattern": {
              "fillmode": "overlay",
              "size": 10,
              "solidity": 0.2
             }
            },
            "type": "histogram"
           }
          ],
          "histogram2d": [
           {
            "colorbar": {
             "outlinewidth": 0,
             "ticks": ""
            },
            "colorscale": [
             [
              0,
              "#0d0887"
             ],
             [
              0.1111111111111111,
              "#46039f"
             ],
             [
              0.2222222222222222,
              "#7201a8"
             ],
             [
              0.3333333333333333,
              "#9c179e"
             ],
             [
              0.4444444444444444,
              "#bd3786"
             ],
             [
              0.5555555555555556,
              "#d8576b"
             ],
             [
              0.6666666666666666,
              "#ed7953"
             ],
             [
              0.7777777777777778,
              "#fb9f3a"
             ],
             [
              0.8888888888888888,
              "#fdca26"
             ],
             [
              1,
              "#f0f921"
             ]
            ],
            "type": "histogram2d"
           }
          ],
          "histogram2dcontour": [
           {
            "colorbar": {
             "outlinewidth": 0,
             "ticks": ""
            },
            "colorscale": [
             [
              0,
              "#0d0887"
             ],
             [
              0.1111111111111111,
              "#46039f"
             ],
             [
              0.2222222222222222,
              "#7201a8"
             ],
             [
              0.3333333333333333,
              "#9c179e"
             ],
             [
              0.4444444444444444,
              "#bd3786"
             ],
             [
              0.5555555555555556,
              "#d8576b"
             ],
             [
              0.6666666666666666,
              "#ed7953"
             ],
             [
              0.7777777777777778,
              "#fb9f3a"
             ],
             [
              0.8888888888888888,
              "#fdca26"
             ],
             [
              1,
              "#f0f921"
             ]
            ],
            "type": "histogram2dcontour"
           }
          ],
          "mesh3d": [
           {
            "colorbar": {
             "outlinewidth": 0,
             "ticks": ""
            },
            "type": "mesh3d"
           }
          ],
          "parcoords": [
           {
            "line": {
             "colorbar": {
              "outlinewidth": 0,
              "ticks": ""
             }
            },
            "type": "parcoords"
           }
          ],
          "pie": [
           {
            "automargin": true,
            "type": "pie"
           }
          ],
          "scatter": [
           {
            "fillpattern": {
             "fillmode": "overlay",
             "size": 10,
             "solidity": 0.2
            },
            "type": "scatter"
           }
          ],
          "scatter3d": [
           {
            "line": {
             "colorbar": {
              "outlinewidth": 0,
              "ticks": ""
             }
            },
            "marker": {
             "colorbar": {
              "outlinewidth": 0,
              "ticks": ""
             }
            },
            "type": "scatter3d"
           }
          ],
          "scattercarpet": [
           {
            "marker": {
             "colorbar": {
              "outlinewidth": 0,
              "ticks": ""
             }
            },
            "type": "scattercarpet"
           }
          ],
          "scattergeo": [
           {
            "marker": {
             "colorbar": {
              "outlinewidth": 0,
              "ticks": ""
             }
            },
            "type": "scattergeo"
           }
          ],
          "scattergl": [
           {
            "marker": {
             "colorbar": {
              "outlinewidth": 0,
              "ticks": ""
             }
            },
            "type": "scattergl"
           }
          ],
          "scattermapbox": [
           {
            "marker": {
             "colorbar": {
              "outlinewidth": 0,
              "ticks": ""
             }
            },
            "type": "scattermapbox"
           }
          ],
          "scatterpolar": [
           {
            "marker": {
             "colorbar": {
              "outlinewidth": 0,
              "ticks": ""
             }
            },
            "type": "scatterpolar"
           }
          ],
          "scatterpolargl": [
           {
            "marker": {
             "colorbar": {
              "outlinewidth": 0,
              "ticks": ""
             }
            },
            "type": "scatterpolargl"
           }
          ],
          "scatterternary": [
           {
            "marker": {
             "colorbar": {
              "outlinewidth": 0,
              "ticks": ""
             }
            },
            "type": "scatterternary"
           }
          ],
          "surface": [
           {
            "colorbar": {
             "outlinewidth": 0,
             "ticks": ""
            },
            "colorscale": [
             [
              0,
              "#0d0887"
             ],
             [
              0.1111111111111111,
              "#46039f"
             ],
             [
              0.2222222222222222,
              "#7201a8"
             ],
             [
              0.3333333333333333,
              "#9c179e"
             ],
             [
              0.4444444444444444,
              "#bd3786"
             ],
             [
              0.5555555555555556,
              "#d8576b"
             ],
             [
              0.6666666666666666,
              "#ed7953"
             ],
             [
              0.7777777777777778,
              "#fb9f3a"
             ],
             [
              0.8888888888888888,
              "#fdca26"
             ],
             [
              1,
              "#f0f921"
             ]
            ],
            "type": "surface"
           }
          ],
          "table": [
           {
            "cells": {
             "fill": {
              "color": "#EBF0F8"
             },
             "line": {
              "color": "white"
             }
            },
            "header": {
             "fill": {
              "color": "#C8D4E3"
             },
             "line": {
              "color": "white"
             }
            },
            "type": "table"
           }
          ]
         },
         "layout": {
          "annotationdefaults": {
           "arrowcolor": "#2a3f5f",
           "arrowhead": 0,
           "arrowwidth": 1
          },
          "autotypenumbers": "strict",
          "coloraxis": {
           "colorbar": {
            "outlinewidth": 0,
            "ticks": ""
           }
          },
          "colorscale": {
           "diverging": [
            [
             0,
             "#8e0152"
            ],
            [
             0.1,
             "#c51b7d"
            ],
            [
             0.2,
             "#de77ae"
            ],
            [
             0.3,
             "#f1b6da"
            ],
            [
             0.4,
             "#fde0ef"
            ],
            [
             0.5,
             "#f7f7f7"
            ],
            [
             0.6,
             "#e6f5d0"
            ],
            [
             0.7,
             "#b8e186"
            ],
            [
             0.8,
             "#7fbc41"
            ],
            [
             0.9,
             "#4d9221"
            ],
            [
             1,
             "#276419"
            ]
           ],
           "sequential": [
            [
             0,
             "#0d0887"
            ],
            [
             0.1111111111111111,
             "#46039f"
            ],
            [
             0.2222222222222222,
             "#7201a8"
            ],
            [
             0.3333333333333333,
             "#9c179e"
            ],
            [
             0.4444444444444444,
             "#bd3786"
            ],
            [
             0.5555555555555556,
             "#d8576b"
            ],
            [
             0.6666666666666666,
             "#ed7953"
            ],
            [
             0.7777777777777778,
             "#fb9f3a"
            ],
            [
             0.8888888888888888,
             "#fdca26"
            ],
            [
             1,
             "#f0f921"
            ]
           ],
           "sequentialminus": [
            [
             0,
             "#0d0887"
            ],
            [
             0.1111111111111111,
             "#46039f"
            ],
            [
             0.2222222222222222,
             "#7201a8"
            ],
            [
             0.3333333333333333,
             "#9c179e"
            ],
            [
             0.4444444444444444,
             "#bd3786"
            ],
            [
             0.5555555555555556,
             "#d8576b"
            ],
            [
             0.6666666666666666,
             "#ed7953"
            ],
            [
             0.7777777777777778,
             "#fb9f3a"
            ],
            [
             0.8888888888888888,
             "#fdca26"
            ],
            [
             1,
             "#f0f921"
            ]
           ]
          },
          "colorway": [
           "#636efa",
           "#EF553B",
           "#00cc96",
           "#ab63fa",
           "#FFA15A",
           "#19d3f3",
           "#FF6692",
           "#B6E880",
           "#FF97FF",
           "#FECB52"
          ],
          "font": {
           "color": "#2a3f5f"
          },
          "geo": {
           "bgcolor": "white",
           "lakecolor": "white",
           "landcolor": "#E5ECF6",
           "showlakes": true,
           "showland": true,
           "subunitcolor": "white"
          },
          "hoverlabel": {
           "align": "left"
          },
          "hovermode": "closest",
          "mapbox": {
           "style": "light"
          },
          "paper_bgcolor": "white",
          "plot_bgcolor": "#E5ECF6",
          "polar": {
           "angularaxis": {
            "gridcolor": "white",
            "linecolor": "white",
            "ticks": ""
           },
           "bgcolor": "#E5ECF6",
           "radialaxis": {
            "gridcolor": "white",
            "linecolor": "white",
            "ticks": ""
           }
          },
          "scene": {
           "xaxis": {
            "backgroundcolor": "#E5ECF6",
            "gridcolor": "white",
            "gridwidth": 2,
            "linecolor": "white",
            "showbackground": true,
            "ticks": "",
            "zerolinecolor": "white"
           },
           "yaxis": {
            "backgroundcolor": "#E5ECF6",
            "gridcolor": "white",
            "gridwidth": 2,
            "linecolor": "white",
            "showbackground": true,
            "ticks": "",
            "zerolinecolor": "white"
           },
           "zaxis": {
            "backgroundcolor": "#E5ECF6",
            "gridcolor": "white",
            "gridwidth": 2,
            "linecolor": "white",
            "showbackground": true,
            "ticks": "",
            "zerolinecolor": "white"
           }
          },
          "shapedefaults": {
           "line": {
            "color": "#2a3f5f"
           }
          },
          "ternary": {
           "aaxis": {
            "gridcolor": "white",
            "linecolor": "white",
            "ticks": ""
           },
           "baxis": {
            "gridcolor": "white",
            "linecolor": "white",
            "ticks": ""
           },
           "bgcolor": "#E5ECF6",
           "caxis": {
            "gridcolor": "white",
            "linecolor": "white",
            "ticks": ""
           }
          },
          "title": {
           "x": 0.05
          },
          "xaxis": {
           "automargin": true,
           "gridcolor": "white",
           "linecolor": "white",
           "ticks": "",
           "title": {
            "standoff": 15
           },
           "zerolinecolor": "white",
           "zerolinewidth": 2
          },
          "yaxis": {
           "automargin": true,
           "gridcolor": "white",
           "linecolor": "white",
           "ticks": "",
           "title": {
            "standoff": 15
           },
           "zerolinecolor": "white",
           "zerolinewidth": 2
          }
         }
        },
        "title": {
         "text": "All Cluster Routes Visualization"
        },
        "width": 800,
        "xaxis": {
         "title": {
          "text": "X Coordinate"
         }
        },
        "yaxis": {
         "scaleanchor": "x",
         "scaleratio": 1,
         "title": {
          "text": "Y Coordinate"
         }
        }
       }
      }
     },
     "metadata": {},
     "output_type": "display_data"
    },
    {
     "name": "stdout",
     "output_type": "stream",
     "text": [
      "Option 1 with objective value 18740 and 28 dropped nodes\n"
     ]
    },
    {
     "data": {
      "application/vnd.plotly.v1+json": {
       "config": {
        "plotlyServerURL": "https://plot.ly"
       },
       "data": [
        {
         "hoverinfo": "text",
         "hovertext": [
          "Node: 0<br>                 Time: 11:00<br>                Days: [1, 2, 3, 4, 5, 6, 7]<br>                Priority: 300.00<br>                Angle to home: 0.0<br>                Distance to home: 0.0<br>                Time Window: [[660, 1140], [2100, 2580]]<br>                On site time: 0<br>                ",
          "Node: 18<br>                 Time: 11:14<br>                Days: [1, 2, 3, 4, 5, 6, 7]<br>                Priority: 302.00<br>                Angle to home: 351.86989764584405<br>                Distance to home: 14.14<br>                Time Window: [[660, 1082]]<br>                On site time: 44<br>                ",
          "Node: 22<br>                 Time: 12:33<br>                Days: [1, 2, 3, 4, 5, 6, 7]<br>                Priority: 1097.00<br>                Angle to home: 6.7098368077569335<br>                Distance to home: 17.12<br>                Time Window: [[660, 1071]]<br>                On site time: 52<br>                ",
          "Node: 8<br>                 Time: 13:37<br>                Days: [1, 2, 3, 4, 5, 6, 7]<br>                Priority: 300.00<br>                Angle to home: 344.3577535427913<br>                Distance to home: 25.96<br>                Time Window: [[660, 1071]]<br>                On site time: 43<br>                ",
          "Node: 49<br>                 Time: 14:37<br>                Days: [1, 2, 3, 4, 5, 6, 7]<br>                Priority: 429.00<br>                Angle to home: 341.1468412355809<br>                Distance to home: 43.32<br>                Time Window: [[660, 1059]]<br>                On site time: 38<br>                ",
          "Node: 29<br>                 Time: 15:28<br>                Days: [1, 2, 3, 4, 5, 6, 7]<br>                Priority: 300.00<br>                Angle to home: 323.74616226255523<br>                Distance to home: 37.2<br>                Time Window: [[720, 1059]]<br>                On site time: 44<br>                ",
          "Node: 47<br>                 Time: 16:34<br>                Days: [1, 2, 3, 4, 5, 6, 7]<br>                Priority: 300.00<br>                Angle to home: 291.8014094863518<br>                Distance to home: 21.54<br>                Time Window: [[720, 1064]]<br>                On site time: 54<br>                ",
          "Node: 13<br>                 Time: 17:41<br>                Days: [1, 2, 3, 4, 5, 6, 7]<br>                Priority: 7719.00<br>                Angle to home: 254.47588900324575<br>                Distance to home: 18.68<br>                Time Window: [[720, 1068]]<br>                On site time: 53<br>                ",
          "Node: 0<br>                 Time: 18:52<br>                Days: [1, 2, 3, 4, 5, 6, 7]<br>                Priority: 300.00<br>                Angle to home: 0.0<br>                Distance to home: 0.0<br>                Time Window: [[660, 1140], [2100, 2580]]<br>                On site time: 0<br>                "
         ],
         "line": {
          "color": "#76B041",
          "width": 2
         },
         "marker": {
          "color": [
           "#76B041",
           "#76B041",
           "#76B041",
           "#76B041",
           "#76B041",
           "#76B041",
           "#76B041",
           "#76B041",
           "#76B041"
          ],
          "size": 8
         },
         "mode": "lines+markers",
         "name": "Route 1_day_trip_0",
         "type": "scatter",
         "x": [
          42,
          56,
          59,
          67,
          83,
          72,
          50,
          37,
          42
         ],
         "y": [
          22,
          20,
          24,
          15,
          8,
          0,
          2,
          4,
          22
         ]
        },
        {
         "hoverinfo": "text",
         "hovertext": [
          "Node: 0<br>                 Time: 11:08<br>                Days: [1, 2, 3, 4, 5, 6, 7]<br>                Priority: 300.00<br>                Angle to home: 0.0<br>                Distance to home: 0.0<br>                Time Window: [[660, 1140], [2100, 2580]]<br>                On site time: 0<br>                ",
          "Node: 42<br>                 Time: 11:14<br>                Days: [1, 2, 3, 4, 5, 6, 7]<br>                Priority: 325.00<br>                Angle to home: 26.56505117707799<br>                Distance to home: 6.71<br>                Time Window: [[660, 1092], [2100, 2532]]<br>                On site time: 41<br>                ",
          "Node: 1<br>                 Time: 12:53<br>                Days: [1, 2, 3, 4, 5, 6, 7]<br>                Priority: 556.00<br>                Angle to home: 157.75097634278765<br>                Distance to home: 23.77<br>                Time Window: [[720, 1059], [2160, 2499]]<br>                On site time: 57<br>                ",
          "Node: 5<br>                 Time: 14:05<br>                Days: [1, 2, 3, 4, 5, 6, 7]<br>                Priority: 307.00<br>                Angle to home: 146.72511201516508<br>                Distance to home: 38.28<br>                Time Window: [[720, 1066], [2160, 2506]]<br>                On site time: 36<br>                ",
          "Node: 40<br>                 Time: 15:19<br>                Days: [1, 2, 3, 4, 5, 6, 7]<br>                Priority: 10300.00<br>                Angle to home: 118.47420361007437<br>                Distance to home: 67.12<br>                Time Window: [[660, 1013], [2100, 2453]]<br>                On site time: 60<br>                ",
          "Node: 27<br>                 Time: 16:44<br>                Days: [1, 2, 3, 4, 5, 6, 7]<br>                Priority: 429.00<br>                Angle to home: 96.88172363063696<br>                Distance to home: 58.42<br>                Time Window: [[720, 1036], [2100, 2090], [2253, 2476]]<br>                On site time: 46<br>                ",
          "Node: 10<br>                 Time: 18:10<br>                Days: [1, 2, 3, 4, 5, 6, 7]<br>                Priority: 300.00<br>                Angle to home: 81.02737338510362<br>                Distance to home: 19.24<br>                Time Window: [[720, 1091], [2100, 2531]]<br>                On site time: 30<br>                ",
          "Node: 39<br>                 Time: 11:01<br>                Days: [1, 2, 3, 4, 5, 6, 7]<br>                Priority: 521.00<br>                Angle to home: 90.0<br>                Distance to home: 61.0<br>                Time Window: [[720, 656], [799, 1032], [2100, 2472]]<br>                On site time: 47<br>                ",
          "Node: 2<br>                 Time: 12:33<br>                Days: [1, 2, 3, 4, 5, 6, 7]<br>                Priority: 300.00<br>                Angle to home: 76.6075022462489<br>                Distance to home: 64.76<br>                Time Window: [[720, 1040], [2100, 2480]]<br>                On site time: 35<br>                ",
          "Node: 11<br>                 Time: 13:15<br>                Days: [1, 2, 3, 4, 5, 6, 7]<br>                Priority: 365.00<br>                Angle to home: 74.05460409907715<br>                Distance to home: 58.24<br>                Time Window: [[720, 1037], [2160, 2477]]<br>                On site time: 45<br>                ",
          "Node: 46<br>                 Time: 14:17<br>                Days: [1, 2, 3, 4, 5, 6, 7]<br>                Priority: 300.00<br>                Angle to home: 59.93141717813756<br>                Distance to home: 65.86<br>                Time Window: [[660, 1038], [2160, 2478]]<br>                On site time: 36<br>                ",
          "Node: 41<br>                 Time: 14:59<br>                Days: [1, 2, 3, 4, 5, 6, 7]<br>                Priority: 300.00<br>                Angle to home: 62.152421740211835<br>                Distance to home: 59.94<br>                Time Window: [[660, 1050], [2100, 2490]]<br>                On site time: 30<br>                ",
          "Node: 37<br>                 Time: 15:36<br>                Days: [1, 2, 3, 4, 5, 6, 7]<br>                Priority: 325.00<br>                Angle to home: 65.82089285331082<br>                Distance to home: 53.71<br>                Time Window: [[660, 1046], [2100, 2486]]<br>                On site time: 40<br>                ",
          "Node: 9<br>                 Time: 16:29<br>                Days: [1, 2, 3, 4, 5, 6, 7]<br>                Priority: 300.00<br>                Angle to home: 53.13010235415598<br>                Distance to home: 45.0<br>                Time Window: [[720, 1051], [2160, 2142], [2333, 2491]]<br>                On site time: 44<br>                ",
          "Node: 35<br>                 Time: 17:43<br>                Days: [1, 2, 3, 4, 5, 6, 7]<br>                Priority: 1197.00<br>                Angle to home: 11.689369175439193<br>                Distance to home: 29.61<br>                Time Window: [[720, 1063], [2160, 2503]]<br>                On site time: 47<br>                ",
          "Node: 0<br>                 Time: 18:59<br>                Days: [1, 2, 3, 4, 5, 6, 7]<br>                Priority: 300.00<br>                Angle to home: 0.0<br>                Distance to home: 0.0<br>                Time Window: [[660, 1140], [2100, 2580]]<br>                On site time: 0<br>                "
         ],
         "line": {
          "color": "#F8766D",
          "width": 2
         },
         "marker": {
          "color": [
           "#F8766D",
           "#F8766D",
           "#F8766D",
           "#F8766D",
           "#F8766D",
           "#F8766D",
           "#F8766D",
           "#F8766D",
           "#F8766D",
           "#F8766D",
           "#F8766D",
           "#F8766D",
           "#F8766D",
           "#F8766D",
           "#F8766D",
           "#F8766D"
          ],
          "size": 8
         },
         "mode": "lines+markers",
         "name": "Route 2_day_trip_0",
         "type": "scatter",
         "x": [
          42,
          48,
          20,
          10,
          10,
          35,
          45,
          42,
          57,
          58,
          75,
          70,
          64,
          69,
          71,
          42
         ],
         "y": [
          22,
          25,
          31,
          43,
          81,
          80,
          41,
          83,
          85,
          78,
          79,
          75,
          71,
          58,
          28,
          22
         ]
        },
        {
         "hoverinfo": "text",
         "hovertext": "Home: Node 0<br>X: 42<br>Y: 22",
         "marker": {
          "color": "red",
          "size": 15,
          "symbol": "star"
         },
         "mode": "markers",
         "name": "Home Node",
         "type": "scatter",
         "x": [
          42
         ],
         "y": [
          22
         ]
        }
       ],
       "layout": {
        "height": 600,
        "hovermode": "closest",
        "legend": {
         "itemsizing": "constant",
         "title": {
          "text": "Clusters & Routes"
         }
        },
        "plot_bgcolor": "white",
        "template": {
         "data": {
          "bar": [
           {
            "error_x": {
             "color": "#2a3f5f"
            },
            "error_y": {
             "color": "#2a3f5f"
            },
            "marker": {
             "line": {
              "color": "#E5ECF6",
              "width": 0.5
             },
             "pattern": {
              "fillmode": "overlay",
              "size": 10,
              "solidity": 0.2
             }
            },
            "type": "bar"
           }
          ],
          "barpolar": [
           {
            "marker": {
             "line": {
              "color": "#E5ECF6",
              "width": 0.5
             },
             "pattern": {
              "fillmode": "overlay",
              "size": 10,
              "solidity": 0.2
             }
            },
            "type": "barpolar"
           }
          ],
          "carpet": [
           {
            "aaxis": {
             "endlinecolor": "#2a3f5f",
             "gridcolor": "white",
             "linecolor": "white",
             "minorgridcolor": "white",
             "startlinecolor": "#2a3f5f"
            },
            "baxis": {
             "endlinecolor": "#2a3f5f",
             "gridcolor": "white",
             "linecolor": "white",
             "minorgridcolor": "white",
             "startlinecolor": "#2a3f5f"
            },
            "type": "carpet"
           }
          ],
          "choropleth": [
           {
            "colorbar": {
             "outlinewidth": 0,
             "ticks": ""
            },
            "type": "choropleth"
           }
          ],
          "contour": [
           {
            "colorbar": {
             "outlinewidth": 0,
             "ticks": ""
            },
            "colorscale": [
             [
              0,
              "#0d0887"
             ],
             [
              0.1111111111111111,
              "#46039f"
             ],
             [
              0.2222222222222222,
              "#7201a8"
             ],
             [
              0.3333333333333333,
              "#9c179e"
             ],
             [
              0.4444444444444444,
              "#bd3786"
             ],
             [
              0.5555555555555556,
              "#d8576b"
             ],
             [
              0.6666666666666666,
              "#ed7953"
             ],
             [
              0.7777777777777778,
              "#fb9f3a"
             ],
             [
              0.8888888888888888,
              "#fdca26"
             ],
             [
              1,
              "#f0f921"
             ]
            ],
            "type": "contour"
           }
          ],
          "contourcarpet": [
           {
            "colorbar": {
             "outlinewidth": 0,
             "ticks": ""
            },
            "type": "contourcarpet"
           }
          ],
          "heatmap": [
           {
            "colorbar": {
             "outlinewidth": 0,
             "ticks": ""
            },
            "colorscale": [
             [
              0,
              "#0d0887"
             ],
             [
              0.1111111111111111,
              "#46039f"
             ],
             [
              0.2222222222222222,
              "#7201a8"
             ],
             [
              0.3333333333333333,
              "#9c179e"
             ],
             [
              0.4444444444444444,
              "#bd3786"
             ],
             [
              0.5555555555555556,
              "#d8576b"
             ],
             [
              0.6666666666666666,
              "#ed7953"
             ],
             [
              0.7777777777777778,
              "#fb9f3a"
             ],
             [
              0.8888888888888888,
              "#fdca26"
             ],
             [
              1,
              "#f0f921"
             ]
            ],
            "type": "heatmap"
           }
          ],
          "heatmapgl": [
           {
            "colorbar": {
             "outlinewidth": 0,
             "ticks": ""
            },
            "colorscale": [
             [
              0,
              "#0d0887"
             ],
             [
              0.1111111111111111,
              "#46039f"
             ],
             [
              0.2222222222222222,
              "#7201a8"
             ],
             [
              0.3333333333333333,
              "#9c179e"
             ],
             [
              0.4444444444444444,
              "#bd3786"
             ],
             [
              0.5555555555555556,
              "#d8576b"
             ],
             [
              0.6666666666666666,
              "#ed7953"
             ],
             [
              0.7777777777777778,
              "#fb9f3a"
             ],
             [
              0.8888888888888888,
              "#fdca26"
             ],
             [
              1,
              "#f0f921"
             ]
            ],
            "type": "heatmapgl"
           }
          ],
          "histogram": [
           {
            "marker": {
             "pattern": {
              "fillmode": "overlay",
              "size": 10,
              "solidity": 0.2
             }
            },
            "type": "histogram"
           }
          ],
          "histogram2d": [
           {
            "colorbar": {
             "outlinewidth": 0,
             "ticks": ""
            },
            "colorscale": [
             [
              0,
              "#0d0887"
             ],
             [
              0.1111111111111111,
              "#46039f"
             ],
             [
              0.2222222222222222,
              "#7201a8"
             ],
             [
              0.3333333333333333,
              "#9c179e"
             ],
             [
              0.4444444444444444,
              "#bd3786"
             ],
             [
              0.5555555555555556,
              "#d8576b"
             ],
             [
              0.6666666666666666,
              "#ed7953"
             ],
             [
              0.7777777777777778,
              "#fb9f3a"
             ],
             [
              0.8888888888888888,
              "#fdca26"
             ],
             [
              1,
              "#f0f921"
             ]
            ],
            "type": "histogram2d"
           }
          ],
          "histogram2dcontour": [
           {
            "colorbar": {
             "outlinewidth": 0,
             "ticks": ""
            },
            "colorscale": [
             [
              0,
              "#0d0887"
             ],
             [
              0.1111111111111111,
              "#46039f"
             ],
             [
              0.2222222222222222,
              "#7201a8"
             ],
             [
              0.3333333333333333,
              "#9c179e"
             ],
             [
              0.4444444444444444,
              "#bd3786"
             ],
             [
              0.5555555555555556,
              "#d8576b"
             ],
             [
              0.6666666666666666,
              "#ed7953"
             ],
             [
              0.7777777777777778,
              "#fb9f3a"
             ],
             [
              0.8888888888888888,
              "#fdca26"
             ],
             [
              1,
              "#f0f921"
             ]
            ],
            "type": "histogram2dcontour"
           }
          ],
          "mesh3d": [
           {
            "colorbar": {
             "outlinewidth": 0,
             "ticks": ""
            },
            "type": "mesh3d"
           }
          ],
          "parcoords": [
           {
            "line": {
             "colorbar": {
              "outlinewidth": 0,
              "ticks": ""
             }
            },
            "type": "parcoords"
           }
          ],
          "pie": [
           {
            "automargin": true,
            "type": "pie"
           }
          ],
          "scatter": [
           {
            "fillpattern": {
             "fillmode": "overlay",
             "size": 10,
             "solidity": 0.2
            },
            "type": "scatter"
           }
          ],
          "scatter3d": [
           {
            "line": {
             "colorbar": {
              "outlinewidth": 0,
              "ticks": ""
             }
            },
            "marker": {
             "colorbar": {
              "outlinewidth": 0,
              "ticks": ""
             }
            },
            "type": "scatter3d"
           }
          ],
          "scattercarpet": [
           {
            "marker": {
             "colorbar": {
              "outlinewidth": 0,
              "ticks": ""
             }
            },
            "type": "scattercarpet"
           }
          ],
          "scattergeo": [
           {
            "marker": {
             "colorbar": {
              "outlinewidth": 0,
              "ticks": ""
             }
            },
            "type": "scattergeo"
           }
          ],
          "scattergl": [
           {
            "marker": {
             "colorbar": {
              "outlinewidth": 0,
              "ticks": ""
             }
            },
            "type": "scattergl"
           }
          ],
          "scattermapbox": [
           {
            "marker": {
             "colorbar": {
              "outlinewidth": 0,
              "ticks": ""
             }
            },
            "type": "scattermapbox"
           }
          ],
          "scatterpolar": [
           {
            "marker": {
             "colorbar": {
              "outlinewidth": 0,
              "ticks": ""
             }
            },
            "type": "scatterpolar"
           }
          ],
          "scatterpolargl": [
           {
            "marker": {
             "colorbar": {
              "outlinewidth": 0,
              "ticks": ""
             }
            },
            "type": "scatterpolargl"
           }
          ],
          "scatterternary": [
           {
            "marker": {
             "colorbar": {
              "outlinewidth": 0,
              "ticks": ""
             }
            },
            "type": "scatterternary"
           }
          ],
          "surface": [
           {
            "colorbar": {
             "outlinewidth": 0,
             "ticks": ""
            },
            "colorscale": [
             [
              0,
              "#0d0887"
             ],
             [
              0.1111111111111111,
              "#46039f"
             ],
             [
              0.2222222222222222,
              "#7201a8"
             ],
             [
              0.3333333333333333,
              "#9c179e"
             ],
             [
              0.4444444444444444,
              "#bd3786"
             ],
             [
              0.5555555555555556,
              "#d8576b"
             ],
             [
              0.6666666666666666,
              "#ed7953"
             ],
             [
              0.7777777777777778,
              "#fb9f3a"
             ],
             [
              0.8888888888888888,
              "#fdca26"
             ],
             [
              1,
              "#f0f921"
             ]
            ],
            "type": "surface"
           }
          ],
          "table": [
           {
            "cells": {
             "fill": {
              "color": "#EBF0F8"
             },
             "line": {
              "color": "white"
             }
            },
            "header": {
             "fill": {
              "color": "#C8D4E3"
             },
             "line": {
              "color": "white"
             }
            },
            "type": "table"
           }
          ]
         },
         "layout": {
          "annotationdefaults": {
           "arrowcolor": "#2a3f5f",
           "arrowhead": 0,
           "arrowwidth": 1
          },
          "autotypenumbers": "strict",
          "coloraxis": {
           "colorbar": {
            "outlinewidth": 0,
            "ticks": ""
           }
          },
          "colorscale": {
           "diverging": [
            [
             0,
             "#8e0152"
            ],
            [
             0.1,
             "#c51b7d"
            ],
            [
             0.2,
             "#de77ae"
            ],
            [
             0.3,
             "#f1b6da"
            ],
            [
             0.4,
             "#fde0ef"
            ],
            [
             0.5,
             "#f7f7f7"
            ],
            [
             0.6,
             "#e6f5d0"
            ],
            [
             0.7,
             "#b8e186"
            ],
            [
             0.8,
             "#7fbc41"
            ],
            [
             0.9,
             "#4d9221"
            ],
            [
             1,
             "#276419"
            ]
           ],
           "sequential": [
            [
             0,
             "#0d0887"
            ],
            [
             0.1111111111111111,
             "#46039f"
            ],
            [
             0.2222222222222222,
             "#7201a8"
            ],
            [
             0.3333333333333333,
             "#9c179e"
            ],
            [
             0.4444444444444444,
             "#bd3786"
            ],
            [
             0.5555555555555556,
             "#d8576b"
            ],
            [
             0.6666666666666666,
             "#ed7953"
            ],
            [
             0.7777777777777778,
             "#fb9f3a"
            ],
            [
             0.8888888888888888,
             "#fdca26"
            ],
            [
             1,
             "#f0f921"
            ]
           ],
           "sequentialminus": [
            [
             0,
             "#0d0887"
            ],
            [
             0.1111111111111111,
             "#46039f"
            ],
            [
             0.2222222222222222,
             "#7201a8"
            ],
            [
             0.3333333333333333,
             "#9c179e"
            ],
            [
             0.4444444444444444,
             "#bd3786"
            ],
            [
             0.5555555555555556,
             "#d8576b"
            ],
            [
             0.6666666666666666,
             "#ed7953"
            ],
            [
             0.7777777777777778,
             "#fb9f3a"
            ],
            [
             0.8888888888888888,
             "#fdca26"
            ],
            [
             1,
             "#f0f921"
            ]
           ]
          },
          "colorway": [
           "#636efa",
           "#EF553B",
           "#00cc96",
           "#ab63fa",
           "#FFA15A",
           "#19d3f3",
           "#FF6692",
           "#B6E880",
           "#FF97FF",
           "#FECB52"
          ],
          "font": {
           "color": "#2a3f5f"
          },
          "geo": {
           "bgcolor": "white",
           "lakecolor": "white",
           "landcolor": "#E5ECF6",
           "showlakes": true,
           "showland": true,
           "subunitcolor": "white"
          },
          "hoverlabel": {
           "align": "left"
          },
          "hovermode": "closest",
          "mapbox": {
           "style": "light"
          },
          "paper_bgcolor": "white",
          "plot_bgcolor": "#E5ECF6",
          "polar": {
           "angularaxis": {
            "gridcolor": "white",
            "linecolor": "white",
            "ticks": ""
           },
           "bgcolor": "#E5ECF6",
           "radialaxis": {
            "gridcolor": "white",
            "linecolor": "white",
            "ticks": ""
           }
          },
          "scene": {
           "xaxis": {
            "backgroundcolor": "#E5ECF6",
            "gridcolor": "white",
            "gridwidth": 2,
            "linecolor": "white",
            "showbackground": true,
            "ticks": "",
            "zerolinecolor": "white"
           },
           "yaxis": {
            "backgroundcolor": "#E5ECF6",
            "gridcolor": "white",
            "gridwidth": 2,
            "linecolor": "white",
            "showbackground": true,
            "ticks": "",
            "zerolinecolor": "white"
           },
           "zaxis": {
            "backgroundcolor": "#E5ECF6",
            "gridcolor": "white",
            "gridwidth": 2,
            "linecolor": "white",
            "showbackground": true,
            "ticks": "",
            "zerolinecolor": "white"
           }
          },
          "shapedefaults": {
           "line": {
            "color": "#2a3f5f"
           }
          },
          "ternary": {
           "aaxis": {
            "gridcolor": "white",
            "linecolor": "white",
            "ticks": ""
           },
           "baxis": {
            "gridcolor": "white",
            "linecolor": "white",
            "ticks": ""
           },
           "bgcolor": "#E5ECF6",
           "caxis": {
            "gridcolor": "white",
            "linecolor": "white",
            "ticks": ""
           }
          },
          "title": {
           "x": 0.05
          },
          "xaxis": {
           "automargin": true,
           "gridcolor": "white",
           "linecolor": "white",
           "ticks": "",
           "title": {
            "standoff": 15
           },
           "zerolinecolor": "white",
           "zerolinewidth": 2
          },
          "yaxis": {
           "automargin": true,
           "gridcolor": "white",
           "linecolor": "white",
           "ticks": "",
           "title": {
            "standoff": 15
           },
           "zerolinecolor": "white",
           "zerolinewidth": 2
          }
         }
        },
        "title": {
         "text": "All Cluster Routes Visualization"
        },
        "width": 800,
        "xaxis": {
         "title": {
          "text": "X Coordinate"
         }
        },
        "yaxis": {
         "scaleanchor": "x",
         "scaleratio": 1,
         "title": {
          "text": "Y Coordinate"
         }
        }
       }
      }
     },
     "metadata": {},
     "output_type": "display_data"
    },
    {
     "name": "stdout",
     "output_type": "stream",
     "text": [
      "Option 2 with objective value 18690 and 28 dropped nodes\n"
     ]
    },
    {
     "data": {
      "application/vnd.plotly.v1+json": {
       "config": {
        "plotlyServerURL": "https://plot.ly"
       },
       "data": [
        {
         "hoverinfo": "text",
         "hovertext": [
          "Node: 0<br>                 Time: 11:05<br>                Days: [1, 2, 3, 4, 5, 6, 7]<br>                Priority: 300.00<br>                Angle to home: 0.0<br>                Distance to home: 0.0<br>                Time Window: [[660, 1140]]<br>                On site time: 0<br>                ",
          "Node: 19<br>                 Time: 12:30<br>                Days: [1, 2, 3, 4, 5, 6, 7]<br>                Priority: 302.00<br>                Angle to home: 99.29330859939712<br>                Distance to home: 55.73<br>                Time Window: [[660, 1040]]<br>                On site time: 44<br>                ",
          "Node: 21<br>                 Time: 13:17<br>                Days: [1, 2, 3, 4, 5, 6, 7]<br>                Priority: 300.00<br>                Angle to home: 102.52880770915151<br>                Distance to home: 55.32<br>                Time Window: [[660, 1034]]<br>                On site time: 51<br>                ",
          "Node: 40<br>                 Time: 14:28<br>                Days: [1, 2, 3, 4, 5, 6, 7]<br>                Priority: 10300.00<br>                Angle to home: 118.47420361007437<br>                Distance to home: 67.12<br>                Time Window: [[660, 1013]]<br>                On site time: 60<br>                ",
          "Node: 26<br>                 Time: 15:48<br>                Days: [1, 2, 3, 4, 5, 6, 7]<br>                Priority: 300.00<br>                Angle to home: 135.0<br>                Distance to home: 57.98<br>                Time Window: [[720, 1045]]<br>                On site time: 37<br>                ",
          "Node: 5<br>                 Time: 16:46<br>                Days: [1, 2, 3, 4, 5, 6, 7]<br>                Priority: 307.00<br>                Angle to home: 146.72511201516508<br>                Distance to home: 38.28<br>                Time Window: [[720, 1066]]<br>                On site time: 36<br>                ",
          "Node: 1<br>                 Time: 17:37<br>                Days: [1, 2, 3, 4, 5, 6, 7]<br>                Priority: 556.00<br>                Angle to home: 157.75097634278765<br>                Distance to home: 23.77<br>                Time Window: [[720, 1059]]<br>                On site time: 57<br>                ",
          "Node: 0<br>                 Time: 18:57<br>                Days: [1, 2, 3, 4, 5, 6, 7]<br>                Priority: 300.00<br>                Angle to home: 0.0<br>                Distance to home: 0.0<br>                Time Window: [[660, 1140]]<br>                On site time: 0<br>                "
         ],
         "line": {
          "color": "#76B041",
          "width": 2
         },
         "marker": {
          "color": [
           "#76B041",
           "#76B041",
           "#76B041",
           "#76B041",
           "#76B041",
           "#76B041",
           "#76B041",
           "#76B041"
          ],
          "size": 8
         },
         "mode": "lines+markers",
         "name": "Route 1_day_trip_0",
         "type": "scatter",
         "x": [
          42,
          33,
          30,
          10,
          1,
          10,
          20,
          42
         ],
         "y": [
          22,
          77,
          76,
          81,
          63,
          43,
          31,
          22
         ]
        },
        {
         "hoverinfo": "text",
         "hovertext": [
          "Node: 0<br>                 Time: 11:00<br>                Days: [1, 2, 3, 4, 5, 6, 7]<br>                Priority: 300.00<br>                Angle to home: 0.0<br>                Distance to home: 0.0<br>                Time Window: [[660, 1140]]<br>                On site time: 0<br>                ",
          "Node: 42<br>                 Time: 11:06<br>                Days: [1, 2, 3, 4, 5, 6, 7]<br>                Priority: 325.00<br>                Angle to home: 26.56505117707799<br>                Distance to home: 6.71<br>                Time Window: [[660, 1092], [2100, 2532]]<br>                On site time: 41<br>                ",
          "Node: 13<br>                 Time: 12:40<br>                Days: [1, 2, 3, 4, 5, 6, 7]<br>                Priority: 7719.00<br>                Angle to home: 254.47588900324575<br>                Distance to home: 18.68<br>                Time Window: [[720, 1068], [2100, 2508]]<br>                On site time: 53<br>                ",
          "Node: 8<br>                 Time: 14:04<br>                Days: [1, 2, 3, 4, 5, 6, 7]<br>                Priority: 300.00<br>                Angle to home: 344.3577535427913<br>                Distance to home: 25.96<br>                Time Window: [[660, 1071], [2100, 2511]]<br>                On site time: 43<br>                ",
          "Node: 49<br>                 Time: 15:04<br>                Days: [1, 2, 3, 4, 5, 6, 7]<br>                Priority: 429.00<br>                Angle to home: 341.1468412355809<br>                Distance to home: 43.32<br>                Time Window: [[660, 1059], [2160, 2499]]<br>                On site time: 38<br>                ",
          "Node: 35<br>                 Time: 16:05<br>                Days: [1, 2, 3, 4, 5, 6, 7]<br>                Priority: 1197.00<br>                Angle to home: 11.689369175439193<br>                Distance to home: 29.61<br>                Time Window: [[720, 1063], [2160, 2503]]<br>                On site time: 47<br>                ",
          "Node: 22<br>                 Time: 17:04<br>                Days: [1, 2, 3, 4, 5, 6, 7]<br>                Priority: 1097.00<br>                Angle to home: 6.7098368077569335<br>                Distance to home: 17.12<br>                Time Window: [[660, 1071], [2160, 2149], [2257, 2511]]<br>                On site time: 52<br>                ",
          "Node: 18<br>                 Time: 18:01<br>                Days: [1, 2, 3, 4, 5, 6, 7]<br>                Priority: 302.00<br>                Angle to home: 351.86989764584405<br>                Distance to home: 14.14<br>                Time Window: [[660, 1082], [2160, 2162], [2302, 2522]]<br>                On site time: 44<br>                ",
          "Node: 37<br>                 Time: 11:01<br>                Days: [1, 2, 3, 4, 5, 6, 7]<br>                Priority: 325.00<br>                Angle to home: 65.82089285331082<br>                Distance to home: 53.71<br>                Time Window: [[720, 736], [892, 1046], [2100, 2486]]<br>                On site time: 40<br>                ",
          "Node: 41<br>                 Time: 12:30<br>                Days: [1, 2, 3, 4, 5, 6, 7]<br>                Priority: 300.00<br>                Angle to home: 62.152421740211835<br>                Distance to home: 59.94<br>                Time Window: [[720, 1050], [2100, 2490]]<br>                On site time: 30<br>                ",
          "Node: 11<br>                 Time: 13:12<br>                Days: [1, 2, 3, 4, 5, 6, 7]<br>                Priority: 365.00<br>                Angle to home: 74.05460409907715<br>                Distance to home: 58.24<br>                Time Window: [[720, 1037], [2160, 2477]]<br>                On site time: 45<br>                ",
          "Node: 48<br>                 Time: 14:01<br>                Days: [1, 2, 3, 4, 5, 6, 7]<br>                Priority: 312.00<br>                Angle to home: 77.69198418257209<br>                Distance to home: 56.29<br>                Time Window: [[660, 1038], [2160, 2478]]<br>                On site time: 46<br>                ",
          "Node: 39<br>                 Time: 15:00<br>                Days: [1, 2, 3, 4, 5, 6, 7]<br>                Priority: 521.00<br>                Angle to home: 90.0<br>                Distance to home: 61.0<br>                Time Window: [[660, 1032], [2160, 2096], [2239, 2472]]<br>                On site time: 47<br>                ",
          "Node: 27<br>                 Time: 15:54<br>                Days: [1, 2, 3, 4, 5, 6, 7]<br>                Priority: 429.00<br>                Angle to home: 96.88172363063696<br>                Distance to home: 58.42<br>                Time Window: [[660, 650], [813, 1036]]<br>                On site time: 46<br>                ",
          "Node: 36<br>                 Time: 16:54<br>                Days: [1, 2, 3, 4, 5, 6, 7]<br>                Priority: 312.00<br>                Angle to home: 91.27303002005671<br>                Distance to home: 45.01<br>                Time Window: [[720, 728], [860, 1054], [2160, 2494]]<br>                On site time: 41<br>                ",
          "Node: 10<br>                 Time: 18:01<br>                Days: [1, 2, 3, 4, 5, 6, 7]<br>                Priority: 300.00<br>                Angle to home: 81.02737338510362<br>                Distance to home: 19.24<br>                Time Window: [[660, 1091], [2160, 2531]]<br>                On site time: 30<br>                ",
          "Node: 0<br>                 Time: 18:50<br>                Days: [1, 2, 3, 4, 5, 6, 7]<br>                Priority: 300.00<br>                Angle to home: 0.0<br>                Distance to home: 0.0<br>                Time Window: [[660, 1140]]<br>                On site time: 0<br>                "
         ],
         "line": {
          "color": "#F8766D",
          "width": 2
         },
         "marker": {
          "color": [
           "#F8766D",
           "#F8766D",
           "#F8766D",
           "#F8766D",
           "#F8766D",
           "#F8766D",
           "#F8766D",
           "#F8766D",
           "#F8766D",
           "#F8766D",
           "#F8766D",
           "#F8766D",
           "#F8766D",
           "#F8766D",
           "#F8766D",
           "#F8766D",
           "#F8766D"
          ],
          "size": 8
         },
         "mode": "lines+markers",
         "name": "Route 2_day_trip_0",
         "type": "scatter",
         "x": [
          42,
          48,
          37,
          67,
          83,
          71,
          59,
          56,
          64,
          70,
          58,
          54,
          42,
          35,
          41,
          45,
          42
         ],
         "y": [
          22,
          25,
          4,
          15,
          8,
          28,
          24,
          20,
          71,
          75,
          78,
          77,
          83,
          80,
          67,
          41,
          22
         ]
        },
        {
         "hoverinfo": "text",
         "hovertext": "Home: Node 0<br>X: 42<br>Y: 22",
         "marker": {
          "color": "red",
          "size": 15,
          "symbol": "star"
         },
         "mode": "markers",
         "name": "Home Node",
         "type": "scatter",
         "x": [
          42
         ],
         "y": [
          22
         ]
        }
       ],
       "layout": {
        "height": 600,
        "hovermode": "closest",
        "legend": {
         "itemsizing": "constant",
         "title": {
          "text": "Clusters & Routes"
         }
        },
        "plot_bgcolor": "white",
        "template": {
         "data": {
          "bar": [
           {
            "error_x": {
             "color": "#2a3f5f"
            },
            "error_y": {
             "color": "#2a3f5f"
            },
            "marker": {
             "line": {
              "color": "#E5ECF6",
              "width": 0.5
             },
             "pattern": {
              "fillmode": "overlay",
              "size": 10,
              "solidity": 0.2
             }
            },
            "type": "bar"
           }
          ],
          "barpolar": [
           {
            "marker": {
             "line": {
              "color": "#E5ECF6",
              "width": 0.5
             },
             "pattern": {
              "fillmode": "overlay",
              "size": 10,
              "solidity": 0.2
             }
            },
            "type": "barpolar"
           }
          ],
          "carpet": [
           {
            "aaxis": {
             "endlinecolor": "#2a3f5f",
             "gridcolor": "white",
             "linecolor": "white",
             "minorgridcolor": "white",
             "startlinecolor": "#2a3f5f"
            },
            "baxis": {
             "endlinecolor": "#2a3f5f",
             "gridcolor": "white",
             "linecolor": "white",
             "minorgridcolor": "white",
             "startlinecolor": "#2a3f5f"
            },
            "type": "carpet"
           }
          ],
          "choropleth": [
           {
            "colorbar": {
             "outlinewidth": 0,
             "ticks": ""
            },
            "type": "choropleth"
           }
          ],
          "contour": [
           {
            "colorbar": {
             "outlinewidth": 0,
             "ticks": ""
            },
            "colorscale": [
             [
              0,
              "#0d0887"
             ],
             [
              0.1111111111111111,
              "#46039f"
             ],
             [
              0.2222222222222222,
              "#7201a8"
             ],
             [
              0.3333333333333333,
              "#9c179e"
             ],
             [
              0.4444444444444444,
              "#bd3786"
             ],
             [
              0.5555555555555556,
              "#d8576b"
             ],
             [
              0.6666666666666666,
              "#ed7953"
             ],
             [
              0.7777777777777778,
              "#fb9f3a"
             ],
             [
              0.8888888888888888,
              "#fdca26"
             ],
             [
              1,
              "#f0f921"
             ]
            ],
            "type": "contour"
           }
          ],
          "contourcarpet": [
           {
            "colorbar": {
             "outlinewidth": 0,
             "ticks": ""
            },
            "type": "contourcarpet"
           }
          ],
          "heatmap": [
           {
            "colorbar": {
             "outlinewidth": 0,
             "ticks": ""
            },
            "colorscale": [
             [
              0,
              "#0d0887"
             ],
             [
              0.1111111111111111,
              "#46039f"
             ],
             [
              0.2222222222222222,
              "#7201a8"
             ],
             [
              0.3333333333333333,
              "#9c179e"
             ],
             [
              0.4444444444444444,
              "#bd3786"
             ],
             [
              0.5555555555555556,
              "#d8576b"
             ],
             [
              0.6666666666666666,
              "#ed7953"
             ],
             [
              0.7777777777777778,
              "#fb9f3a"
             ],
             [
              0.8888888888888888,
              "#fdca26"
             ],
             [
              1,
              "#f0f921"
             ]
            ],
            "type": "heatmap"
           }
          ],
          "heatmapgl": [
           {
            "colorbar": {
             "outlinewidth": 0,
             "ticks": ""
            },
            "colorscale": [
             [
              0,
              "#0d0887"
             ],
             [
              0.1111111111111111,
              "#46039f"
             ],
             [
              0.2222222222222222,
              "#7201a8"
             ],
             [
              0.3333333333333333,
              "#9c179e"
             ],
             [
              0.4444444444444444,
              "#bd3786"
             ],
             [
              0.5555555555555556,
              "#d8576b"
             ],
             [
              0.6666666666666666,
              "#ed7953"
             ],
             [
              0.7777777777777778,
              "#fb9f3a"
             ],
             [
              0.8888888888888888,
              "#fdca26"
             ],
             [
              1,
              "#f0f921"
             ]
            ],
            "type": "heatmapgl"
           }
          ],
          "histogram": [
           {
            "marker": {
             "pattern": {
              "fillmode": "overlay",
              "size": 10,
              "solidity": 0.2
             }
            },
            "type": "histogram"
           }
          ],
          "histogram2d": [
           {
            "colorbar": {
             "outlinewidth": 0,
             "ticks": ""
            },
            "colorscale": [
             [
              0,
              "#0d0887"
             ],
             [
              0.1111111111111111,
              "#46039f"
             ],
             [
              0.2222222222222222,
              "#7201a8"
             ],
             [
              0.3333333333333333,
              "#9c179e"
             ],
             [
              0.4444444444444444,
              "#bd3786"
             ],
             [
              0.5555555555555556,
              "#d8576b"
             ],
             [
              0.6666666666666666,
              "#ed7953"
             ],
             [
              0.7777777777777778,
              "#fb9f3a"
             ],
             [
              0.8888888888888888,
              "#fdca26"
             ],
             [
              1,
              "#f0f921"
             ]
            ],
            "type": "histogram2d"
           }
          ],
          "histogram2dcontour": [
           {
            "colorbar": {
             "outlinewidth": 0,
             "ticks": ""
            },
            "colorscale": [
             [
              0,
              "#0d0887"
             ],
             [
              0.1111111111111111,
              "#46039f"
             ],
             [
              0.2222222222222222,
              "#7201a8"
             ],
             [
              0.3333333333333333,
              "#9c179e"
             ],
             [
              0.4444444444444444,
              "#bd3786"
             ],
             [
              0.5555555555555556,
              "#d8576b"
             ],
             [
              0.6666666666666666,
              "#ed7953"
             ],
             [
              0.7777777777777778,
              "#fb9f3a"
             ],
             [
              0.8888888888888888,
              "#fdca26"
             ],
             [
              1,
              "#f0f921"
             ]
            ],
            "type": "histogram2dcontour"
           }
          ],
          "mesh3d": [
           {
            "colorbar": {
             "outlinewidth": 0,
             "ticks": ""
            },
            "type": "mesh3d"
           }
          ],
          "parcoords": [
           {
            "line": {
             "colorbar": {
              "outlinewidth": 0,
              "ticks": ""
             }
            },
            "type": "parcoords"
           }
          ],
          "pie": [
           {
            "automargin": true,
            "type": "pie"
           }
          ],
          "scatter": [
           {
            "fillpattern": {
             "fillmode": "overlay",
             "size": 10,
             "solidity": 0.2
            },
            "type": "scatter"
           }
          ],
          "scatter3d": [
           {
            "line": {
             "colorbar": {
              "outlinewidth": 0,
              "ticks": ""
             }
            },
            "marker": {
             "colorbar": {
              "outlinewidth": 0,
              "ticks": ""
             }
            },
            "type": "scatter3d"
           }
          ],
          "scattercarpet": [
           {
            "marker": {
             "colorbar": {
              "outlinewidth": 0,
              "ticks": ""
             }
            },
            "type": "scattercarpet"
           }
          ],
          "scattergeo": [
           {
            "marker": {
             "colorbar": {
              "outlinewidth": 0,
              "ticks": ""
             }
            },
            "type": "scattergeo"
           }
          ],
          "scattergl": [
           {
            "marker": {
             "colorbar": {
              "outlinewidth": 0,
              "ticks": ""
             }
            },
            "type": "scattergl"
           }
          ],
          "scattermapbox": [
           {
            "marker": {
             "colorbar": {
              "outlinewidth": 0,
              "ticks": ""
             }
            },
            "type": "scattermapbox"
           }
          ],
          "scatterpolar": [
           {
            "marker": {
             "colorbar": {
              "outlinewidth": 0,
              "ticks": ""
             }
            },
            "type": "scatterpolar"
           }
          ],
          "scatterpolargl": [
           {
            "marker": {
             "colorbar": {
              "outlinewidth": 0,
              "ticks": ""
             }
            },
            "type": "scatterpolargl"
           }
          ],
          "scatterternary": [
           {
            "marker": {
             "colorbar": {
              "outlinewidth": 0,
              "ticks": ""
             }
            },
            "type": "scatterternary"
           }
          ],
          "surface": [
           {
            "colorbar": {
             "outlinewidth": 0,
             "ticks": ""
            },
            "colorscale": [
             [
              0,
              "#0d0887"
             ],
             [
              0.1111111111111111,
              "#46039f"
             ],
             [
              0.2222222222222222,
              "#7201a8"
             ],
             [
              0.3333333333333333,
              "#9c179e"
             ],
             [
              0.4444444444444444,
              "#bd3786"
             ],
             [
              0.5555555555555556,
              "#d8576b"
             ],
             [
              0.6666666666666666,
              "#ed7953"
             ],
             [
              0.7777777777777778,
              "#fb9f3a"
             ],
             [
              0.8888888888888888,
              "#fdca26"
             ],
             [
              1,
              "#f0f921"
             ]
            ],
            "type": "surface"
           }
          ],
          "table": [
           {
            "cells": {
             "fill": {
              "color": "#EBF0F8"
             },
             "line": {
              "color": "white"
             }
            },
            "header": {
             "fill": {
              "color": "#C8D4E3"
             },
             "line": {
              "color": "white"
             }
            },
            "type": "table"
           }
          ]
         },
         "layout": {
          "annotationdefaults": {
           "arrowcolor": "#2a3f5f",
           "arrowhead": 0,
           "arrowwidth": 1
          },
          "autotypenumbers": "strict",
          "coloraxis": {
           "colorbar": {
            "outlinewidth": 0,
            "ticks": ""
           }
          },
          "colorscale": {
           "diverging": [
            [
             0,
             "#8e0152"
            ],
            [
             0.1,
             "#c51b7d"
            ],
            [
             0.2,
             "#de77ae"
            ],
            [
             0.3,
             "#f1b6da"
            ],
            [
             0.4,
             "#fde0ef"
            ],
            [
             0.5,
             "#f7f7f7"
            ],
            [
             0.6,
             "#e6f5d0"
            ],
            [
             0.7,
             "#b8e186"
            ],
            [
             0.8,
             "#7fbc41"
            ],
            [
             0.9,
             "#4d9221"
            ],
            [
             1,
             "#276419"
            ]
           ],
           "sequential": [
            [
             0,
             "#0d0887"
            ],
            [
             0.1111111111111111,
             "#46039f"
            ],
            [
             0.2222222222222222,
             "#7201a8"
            ],
            [
             0.3333333333333333,
             "#9c179e"
            ],
            [
             0.4444444444444444,
             "#bd3786"
            ],
            [
             0.5555555555555556,
             "#d8576b"
            ],
            [
             0.6666666666666666,
             "#ed7953"
            ],
            [
             0.7777777777777778,
             "#fb9f3a"
            ],
            [
             0.8888888888888888,
             "#fdca26"
            ],
            [
             1,
             "#f0f921"
            ]
           ],
           "sequentialminus": [
            [
             0,
             "#0d0887"
            ],
            [
             0.1111111111111111,
             "#46039f"
            ],
            [
             0.2222222222222222,
             "#7201a8"
            ],
            [
             0.3333333333333333,
             "#9c179e"
            ],
            [
             0.4444444444444444,
             "#bd3786"
            ],
            [
             0.5555555555555556,
             "#d8576b"
            ],
            [
             0.6666666666666666,
             "#ed7953"
            ],
            [
             0.7777777777777778,
             "#fb9f3a"
            ],
            [
             0.8888888888888888,
             "#fdca26"
            ],
            [
             1,
             "#f0f921"
            ]
           ]
          },
          "colorway": [
           "#636efa",
           "#EF553B",
           "#00cc96",
           "#ab63fa",
           "#FFA15A",
           "#19d3f3",
           "#FF6692",
           "#B6E880",
           "#FF97FF",
           "#FECB52"
          ],
          "font": {
           "color": "#2a3f5f"
          },
          "geo": {
           "bgcolor": "white",
           "lakecolor": "white",
           "landcolor": "#E5ECF6",
           "showlakes": true,
           "showland": true,
           "subunitcolor": "white"
          },
          "hoverlabel": {
           "align": "left"
          },
          "hovermode": "closest",
          "mapbox": {
           "style": "light"
          },
          "paper_bgcolor": "white",
          "plot_bgcolor": "#E5ECF6",
          "polar": {
           "angularaxis": {
            "gridcolor": "white",
            "linecolor": "white",
            "ticks": ""
           },
           "bgcolor": "#E5ECF6",
           "radialaxis": {
            "gridcolor": "white",
            "linecolor": "white",
            "ticks": ""
           }
          },
          "scene": {
           "xaxis": {
            "backgroundcolor": "#E5ECF6",
            "gridcolor": "white",
            "gridwidth": 2,
            "linecolor": "white",
            "showbackground": true,
            "ticks": "",
            "zerolinecolor": "white"
           },
           "yaxis": {
            "backgroundcolor": "#E5ECF6",
            "gridcolor": "white",
            "gridwidth": 2,
            "linecolor": "white",
            "showbackground": true,
            "ticks": "",
            "zerolinecolor": "white"
           },
           "zaxis": {
            "backgroundcolor": "#E5ECF6",
            "gridcolor": "white",
            "gridwidth": 2,
            "linecolor": "white",
            "showbackground": true,
            "ticks": "",
            "zerolinecolor": "white"
           }
          },
          "shapedefaults": {
           "line": {
            "color": "#2a3f5f"
           }
          },
          "ternary": {
           "aaxis": {
            "gridcolor": "white",
            "linecolor": "white",
            "ticks": ""
           },
           "baxis": {
            "gridcolor": "white",
            "linecolor": "white",
            "ticks": ""
           },
           "bgcolor": "#E5ECF6",
           "caxis": {
            "gridcolor": "white",
            "linecolor": "white",
            "ticks": ""
           }
          },
          "title": {
           "x": 0.05
          },
          "xaxis": {
           "automargin": true,
           "gridcolor": "white",
           "linecolor": "white",
           "ticks": "",
           "title": {
            "standoff": 15
           },
           "zerolinecolor": "white",
           "zerolinewidth": 2
          },
          "yaxis": {
           "automargin": true,
           "gridcolor": "white",
           "linecolor": "white",
           "ticks": "",
           "title": {
            "standoff": 15
           },
           "zerolinecolor": "white",
           "zerolinewidth": 2
          }
         }
        },
        "title": {
         "text": "All Cluster Routes Visualization"
        },
        "width": 800,
        "xaxis": {
         "title": {
          "text": "X Coordinate"
         }
        },
        "yaxis": {
         "scaleanchor": "x",
         "scaleratio": 1,
         "title": {
          "text": "Y Coordinate"
         }
        }
       }
      }
     },
     "metadata": {},
     "output_type": "display_data"
    },
    {
     "name": "stdout",
     "output_type": "stream",
     "text": [
      "Option 3 with objective value 19382 and 28 dropped nodes\n"
     ]
    },
    {
     "data": {
      "application/vnd.plotly.v1+json": {
       "config": {
        "plotlyServerURL": "https://plot.ly"
       },
       "data": [
        {
         "hoverinfo": "text",
         "hovertext": [
          "Node: 0<br>                 Time: 11:43<br>                Days: [1, 2, 3, 4, 5, 6, 7]<br>                Priority: 300.00<br>                Angle to home: 0.0<br>                Distance to home: 0.0<br>                Time Window: [[660, 1140], [2100, 2580], [3540, 4020]]<br>                On site time: 0<br>                ",
          "Node: 13<br>                 Time: 12:31<br>                Days: [1, 2, 3, 4, 5, 6, 7]<br>                Priority: 7719.00<br>                Angle to home: 254.47588900324575<br>                Distance to home: 18.68<br>                Time Window: [[720, 1068], [2100, 2508], [3540, 3948]]<br>                On site time: 53<br>                ",
          "Node: 18<br>                 Time: 13:48<br>                Days: [1, 2, 3, 4, 5, 6, 7]<br>                Priority: 302.00<br>                Angle to home: 351.86989764584405<br>                Distance to home: 14.14<br>                Time Window: [[660, 1082], [2160, 2162], [2302, 2522], [3600, 3962]]<br>                On site time: 44<br>                ",
          "Node: 22<br>                 Time: 14:37<br>                Days: [1, 2, 3, 4, 5, 6, 7]<br>                Priority: 1097.00<br>                Angle to home: 6.7098368077569335<br>                Distance to home: 17.12<br>                Time Window: [[660, 1071], [2160, 2149], [2257, 2511], [3540, 3951]]<br>                On site time: 52<br>                ",
          "Node: 8<br>                 Time: 15:41<br>                Days: [1, 2, 3, 4, 5, 6, 7]<br>                Priority: 300.00<br>                Angle to home: 344.3577535427913<br>                Distance to home: 25.96<br>                Time Window: [[660, 1071], [2100, 2511], [3540, 3951]]<br>                On site time: 43<br>                ",
          "Node: 49<br>                 Time: 16:41<br>                Days: [1, 2, 3, 4, 5, 6, 7]<br>                Priority: 429.00<br>                Angle to home: 341.1468412355809<br>                Distance to home: 43.32<br>                Time Window: [[660, 1059], [2160, 2499], [3540, 3939]]<br>                On site time: 38<br>                ",
          "Node: 35<br>                 Time: 17:42<br>                Days: [1, 2, 3, 4, 5, 6, 7]<br>                Priority: 1197.00<br>                Angle to home: 11.689369175439193<br>                Distance to home: 29.61<br>                Time Window: [[720, 1063], [2160, 2503], [3600, 3943]]<br>                On site time: 47<br>                ",
          "Node: 37<br>                 Time: 11:01<br>                Days: [1, 2, 3, 4, 5, 6, 7]<br>                Priority: 325.00<br>                Angle to home: 65.82089285331082<br>                Distance to home: 53.71<br>                Time Window: [[720, 736], [892, 1046], [2100, 2486], [3540, 3926]]<br>                On site time: 40<br>                ",
          "Node: 41<br>                 Time: 11:48<br>                Days: [1, 2, 3, 4, 5, 6, 7]<br>                Priority: 300.00<br>                Angle to home: 62.152421740211835<br>                Distance to home: 59.94<br>                Time Window: [[720, 1050], [2100, 2490], [3540, 3930]]<br>                On site time: 30<br>                ",
          "Node: 11<br>                 Time: 13:00<br>                Days: [1, 2, 3, 4, 5, 6, 7]<br>                Priority: 365.00<br>                Angle to home: 74.05460409907715<br>                Distance to home: 58.24<br>                Time Window: [[720, 1037], [2160, 2477], [3600, 3917]]<br>                On site time: 45<br>                ",
          "Node: 48<br>                 Time: 13:49<br>                Days: [1, 2, 3, 4, 5, 6, 7]<br>                Priority: 312.00<br>                Angle to home: 77.69198418257209<br>                Distance to home: 56.29<br>                Time Window: [[660, 1038], [2160, 2478], [3540, 3918]]<br>                On site time: 46<br>                ",
          "Node: 2<br>                 Time: 14:43<br>                Days: [1, 2, 3, 4, 5, 6, 7]<br>                Priority: 300.00<br>                Angle to home: 76.6075022462489<br>                Distance to home: 64.76<br>                Time Window: [[660, 1040], [2160, 2480], [3540, 3920]]<br>                On site time: 35<br>                ",
          "Node: 39<br>                 Time: 15:33<br>                Days: [1, 2, 3, 4, 5, 6, 7]<br>                Priority: 521.00<br>                Angle to home: 90.0<br>                Distance to home: 61.0<br>                Time Window: [[660, 1032], [2160, 2096], [2239, 2472], [3540, 3912]]<br>                On site time: 47<br>                ",
          "Node: 27<br>                 Time: 16:27<br>                Days: [1, 2, 3, 4, 5, 6, 7]<br>                Priority: 429.00<br>                Angle to home: 96.88172363063696<br>                Distance to home: 58.42<br>                Time Window: [[660, 1036], [2160, 2476], [3540, 3530], [3693, 3916]]<br>                On site time: 46<br>                ",
          "Node: 19<br>                 Time: 17:16<br>                Days: [1, 2, 3, 4, 5, 6, 7]<br>                Priority: 302.00<br>                Angle to home: 99.29330859939712<br>                Distance to home: 55.73<br>                Time Window: [[660, 1040], [2160, 2480], [3540, 3920]]<br>                On site time: 44<br>                ",
          "Node: 21<br>                 Time: 11:01<br>                Days: [1, 2, 3, 4, 5, 6, 7]<br>                Priority: 300.00<br>                Angle to home: 102.52880770915151<br>                Distance to home: 55.32<br>                Time Window: [[720, 1034], [2100, 2474], [3540, 3914]]<br>                On site time: 51<br>                ",
          "Node: 40<br>                 Time: 12:42<br>                Days: [1, 2, 3, 4, 5, 6, 7]<br>                Priority: 10300.00<br>                Angle to home: 118.47420361007437<br>                Distance to home: 67.12<br>                Time Window: [[720, 1013], [2100, 2453], [3540, 3893]]<br>                On site time: 60<br>                ",
          "Node: 26<br>                 Time: 14:02<br>                Days: [1, 2, 3, 4, 5, 6, 7]<br>                Priority: 300.00<br>                Angle to home: 135.0<br>                Distance to home: 57.98<br>                Time Window: [[660, 1045], [2100, 2485], [3600, 3925]]<br>                On site time: 37<br>                ",
          "Node: 5<br>                 Time: 15:00<br>                Days: [1, 2, 3, 4, 5, 6, 7]<br>                Priority: 307.00<br>                Angle to home: 146.72511201516508<br>                Distance to home: 38.28<br>                Time Window: [[660, 1066], [2160, 2506], [3600, 3946]]<br>                On site time: 36<br>                ",
          "Node: 1<br>                 Time: 15:51<br>                Days: [1, 2, 3, 4, 5, 6, 7]<br>                Priority: 556.00<br>                Angle to home: 157.75097634278765<br>                Distance to home: 23.77<br>                Time Window: [[660, 1059], [2160, 2499], [3600, 3939]]<br>                On site time: 57<br>                ",
          "Node: 10<br>                 Time: 17:14<br>                Days: [1, 2, 3, 4, 5, 6, 7]<br>                Priority: 300.00<br>                Angle to home: 81.02737338510362<br>                Distance to home: 19.24<br>                Time Window: [[660, 1091], [2160, 2531], [3540, 3971]]<br>                On site time: 30<br>                ",
          "Node: 42<br>                 Time: 18:00<br>                Days: [1, 2, 3, 4, 5, 6, 7]<br>                Priority: 325.00<br>                Angle to home: 26.56505117707799<br>                Distance to home: 6.71<br>                Time Window: [[660, 1092], [2100, 2532], [3540, 3972]]<br>                On site time: 41<br>                ",
          "Node: 0<br>                 Time: 18:47<br>                Days: [1, 2, 3, 4, 5, 6, 7]<br>                Priority: 300.00<br>                Angle to home: 0.0<br>                Distance to home: 0.0<br>                Time Window: [[660, 1140], [2100, 2580], [3540, 4020]]<br>                On site time: 0<br>                "
         ],
         "line": {
          "color": "#76B041",
          "width": 2
         },
         "marker": {
          "color": [
           "#76B041",
           "#76B041",
           "#76B041",
           "#76B041",
           "#76B041",
           "#76B041",
           "#76B041",
           "#76B041",
           "#76B041",
           "#76B041",
           "#76B041",
           "#76B041",
           "#76B041",
           "#76B041",
           "#76B041",
           "#76B041",
           "#76B041",
           "#76B041",
           "#76B041",
           "#76B041",
           "#76B041",
           "#76B041",
           "#76B041"
          ],
          "size": 8
         },
         "mode": "lines+markers",
         "name": "Route 3_day_trip_0",
         "type": "scatter",
         "x": [
          42,
          37,
          56,
          59,
          67,
          83,
          71,
          64,
          70,
          58,
          54,
          57,
          42,
          35,
          33,
          30,
          10,
          1,
          10,
          20,
          45,
          48,
          42
         ],
         "y": [
          22,
          4,
          20,
          24,
          15,
          8,
          28,
          71,
          75,
          78,
          77,
          85,
          83,
          80,
          77,
          76,
          81,
          63,
          43,
          31,
          41,
          25,
          22
         ]
        },
        {
         "hoverinfo": "text",
         "hovertext": "Home: Node 0<br>X: 42<br>Y: 22",
         "marker": {
          "color": "red",
          "size": 15,
          "symbol": "star"
         },
         "mode": "markers",
         "name": "Home Node",
         "type": "scatter",
         "x": [
          42
         ],
         "y": [
          22
         ]
        }
       ],
       "layout": {
        "height": 600,
        "hovermode": "closest",
        "legend": {
         "itemsizing": "constant",
         "title": {
          "text": "Clusters & Routes"
         }
        },
        "plot_bgcolor": "white",
        "template": {
         "data": {
          "bar": [
           {
            "error_x": {
             "color": "#2a3f5f"
            },
            "error_y": {
             "color": "#2a3f5f"
            },
            "marker": {
             "line": {
              "color": "#E5ECF6",
              "width": 0.5
             },
             "pattern": {
              "fillmode": "overlay",
              "size": 10,
              "solidity": 0.2
             }
            },
            "type": "bar"
           }
          ],
          "barpolar": [
           {
            "marker": {
             "line": {
              "color": "#E5ECF6",
              "width": 0.5
             },
             "pattern": {
              "fillmode": "overlay",
              "size": 10,
              "solidity": 0.2
             }
            },
            "type": "barpolar"
           }
          ],
          "carpet": [
           {
            "aaxis": {
             "endlinecolor": "#2a3f5f",
             "gridcolor": "white",
             "linecolor": "white",
             "minorgridcolor": "white",
             "startlinecolor": "#2a3f5f"
            },
            "baxis": {
             "endlinecolor": "#2a3f5f",
             "gridcolor": "white",
             "linecolor": "white",
             "minorgridcolor": "white",
             "startlinecolor": "#2a3f5f"
            },
            "type": "carpet"
           }
          ],
          "choropleth": [
           {
            "colorbar": {
             "outlinewidth": 0,
             "ticks": ""
            },
            "type": "choropleth"
           }
          ],
          "contour": [
           {
            "colorbar": {
             "outlinewidth": 0,
             "ticks": ""
            },
            "colorscale": [
             [
              0,
              "#0d0887"
             ],
             [
              0.1111111111111111,
              "#46039f"
             ],
             [
              0.2222222222222222,
              "#7201a8"
             ],
             [
              0.3333333333333333,
              "#9c179e"
             ],
             [
              0.4444444444444444,
              "#bd3786"
             ],
             [
              0.5555555555555556,
              "#d8576b"
             ],
             [
              0.6666666666666666,
              "#ed7953"
             ],
             [
              0.7777777777777778,
              "#fb9f3a"
             ],
             [
              0.8888888888888888,
              "#fdca26"
             ],
             [
              1,
              "#f0f921"
             ]
            ],
            "type": "contour"
           }
          ],
          "contourcarpet": [
           {
            "colorbar": {
             "outlinewidth": 0,
             "ticks": ""
            },
            "type": "contourcarpet"
           }
          ],
          "heatmap": [
           {
            "colorbar": {
             "outlinewidth": 0,
             "ticks": ""
            },
            "colorscale": [
             [
              0,
              "#0d0887"
             ],
             [
              0.1111111111111111,
              "#46039f"
             ],
             [
              0.2222222222222222,
              "#7201a8"
             ],
             [
              0.3333333333333333,
              "#9c179e"
             ],
             [
              0.4444444444444444,
              "#bd3786"
             ],
             [
              0.5555555555555556,
              "#d8576b"
             ],
             [
              0.6666666666666666,
              "#ed7953"
             ],
             [
              0.7777777777777778,
              "#fb9f3a"
             ],
             [
              0.8888888888888888,
              "#fdca26"
             ],
             [
              1,
              "#f0f921"
             ]
            ],
            "type": "heatmap"
           }
          ],
          "heatmapgl": [
           {
            "colorbar": {
             "outlinewidth": 0,
             "ticks": ""
            },
            "colorscale": [
             [
              0,
              "#0d0887"
             ],
             [
              0.1111111111111111,
              "#46039f"
             ],
             [
              0.2222222222222222,
              "#7201a8"
             ],
             [
              0.3333333333333333,
              "#9c179e"
             ],
             [
              0.4444444444444444,
              "#bd3786"
             ],
             [
              0.5555555555555556,
              "#d8576b"
             ],
             [
              0.6666666666666666,
              "#ed7953"
             ],
             [
              0.7777777777777778,
              "#fb9f3a"
             ],
             [
              0.8888888888888888,
              "#fdca26"
             ],
             [
              1,
              "#f0f921"
             ]
            ],
            "type": "heatmapgl"
           }
          ],
          "histogram": [
           {
            "marker": {
             "pattern": {
              "fillmode": "overlay",
              "size": 10,
              "solidity": 0.2
             }
            },
            "type": "histogram"
           }
          ],
          "histogram2d": [
           {
            "colorbar": {
             "outlinewidth": 0,
             "ticks": ""
            },
            "colorscale": [
             [
              0,
              "#0d0887"
             ],
             [
              0.1111111111111111,
              "#46039f"
             ],
             [
              0.2222222222222222,
              "#7201a8"
             ],
             [
              0.3333333333333333,
              "#9c179e"
             ],
             [
              0.4444444444444444,
              "#bd3786"
             ],
             [
              0.5555555555555556,
              "#d8576b"
             ],
             [
              0.6666666666666666,
              "#ed7953"
             ],
             [
              0.7777777777777778,
              "#fb9f3a"
             ],
             [
              0.8888888888888888,
              "#fdca26"
             ],
             [
              1,
              "#f0f921"
             ]
            ],
            "type": "histogram2d"
           }
          ],
          "histogram2dcontour": [
           {
            "colorbar": {
             "outlinewidth": 0,
             "ticks": ""
            },
            "colorscale": [
             [
              0,
              "#0d0887"
             ],
             [
              0.1111111111111111,
              "#46039f"
             ],
             [
              0.2222222222222222,
              "#7201a8"
             ],
             [
              0.3333333333333333,
              "#9c179e"
             ],
             [
              0.4444444444444444,
              "#bd3786"
             ],
             [
              0.5555555555555556,
              "#d8576b"
             ],
             [
              0.6666666666666666,
              "#ed7953"
             ],
             [
              0.7777777777777778,
              "#fb9f3a"
             ],
             [
              0.8888888888888888,
              "#fdca26"
             ],
             [
              1,
              "#f0f921"
             ]
            ],
            "type": "histogram2dcontour"
           }
          ],
          "mesh3d": [
           {
            "colorbar": {
             "outlinewidth": 0,
             "ticks": ""
            },
            "type": "mesh3d"
           }
          ],
          "parcoords": [
           {
            "line": {
             "colorbar": {
              "outlinewidth": 0,
              "ticks": ""
             }
            },
            "type": "parcoords"
           }
          ],
          "pie": [
           {
            "automargin": true,
            "type": "pie"
           }
          ],
          "scatter": [
           {
            "fillpattern": {
             "fillmode": "overlay",
             "size": 10,
             "solidity": 0.2
            },
            "type": "scatter"
           }
          ],
          "scatter3d": [
           {
            "line": {
             "colorbar": {
              "outlinewidth": 0,
              "ticks": ""
             }
            },
            "marker": {
             "colorbar": {
              "outlinewidth": 0,
              "ticks": ""
             }
            },
            "type": "scatter3d"
           }
          ],
          "scattercarpet": [
           {
            "marker": {
             "colorbar": {
              "outlinewidth": 0,
              "ticks": ""
             }
            },
            "type": "scattercarpet"
           }
          ],
          "scattergeo": [
           {
            "marker": {
             "colorbar": {
              "outlinewidth": 0,
              "ticks": ""
             }
            },
            "type": "scattergeo"
           }
          ],
          "scattergl": [
           {
            "marker": {
             "colorbar": {
              "outlinewidth": 0,
              "ticks": ""
             }
            },
            "type": "scattergl"
           }
          ],
          "scattermapbox": [
           {
            "marker": {
             "colorbar": {
              "outlinewidth": 0,
              "ticks": ""
             }
            },
            "type": "scattermapbox"
           }
          ],
          "scatterpolar": [
           {
            "marker": {
             "colorbar": {
              "outlinewidth": 0,
              "ticks": ""
             }
            },
            "type": "scatterpolar"
           }
          ],
          "scatterpolargl": [
           {
            "marker": {
             "colorbar": {
              "outlinewidth": 0,
              "ticks": ""
             }
            },
            "type": "scatterpolargl"
           }
          ],
          "scatterternary": [
           {
            "marker": {
             "colorbar": {
              "outlinewidth": 0,
              "ticks": ""
             }
            },
            "type": "scatterternary"
           }
          ],
          "surface": [
           {
            "colorbar": {
             "outlinewidth": 0,
             "ticks": ""
            },
            "colorscale": [
             [
              0,
              "#0d0887"
             ],
             [
              0.1111111111111111,
              "#46039f"
             ],
             [
              0.2222222222222222,
              "#7201a8"
             ],
             [
              0.3333333333333333,
              "#9c179e"
             ],
             [
              0.4444444444444444,
              "#bd3786"
             ],
             [
              0.5555555555555556,
              "#d8576b"
             ],
             [
              0.6666666666666666,
              "#ed7953"
             ],
             [
              0.7777777777777778,
              "#fb9f3a"
             ],
             [
              0.8888888888888888,
              "#fdca26"
             ],
             [
              1,
              "#f0f921"
             ]
            ],
            "type": "surface"
           }
          ],
          "table": [
           {
            "cells": {
             "fill": {
              "color": "#EBF0F8"
             },
             "line": {
              "color": "white"
             }
            },
            "header": {
             "fill": {
              "color": "#C8D4E3"
             },
             "line": {
              "color": "white"
             }
            },
            "type": "table"
           }
          ]
         },
         "layout": {
          "annotationdefaults": {
           "arrowcolor": "#2a3f5f",
           "arrowhead": 0,
           "arrowwidth": 1
          },
          "autotypenumbers": "strict",
          "coloraxis": {
           "colorbar": {
            "outlinewidth": 0,
            "ticks": ""
           }
          },
          "colorscale": {
           "diverging": [
            [
             0,
             "#8e0152"
            ],
            [
             0.1,
             "#c51b7d"
            ],
            [
             0.2,
             "#de77ae"
            ],
            [
             0.3,
             "#f1b6da"
            ],
            [
             0.4,
             "#fde0ef"
            ],
            [
             0.5,
             "#f7f7f7"
            ],
            [
             0.6,
             "#e6f5d0"
            ],
            [
             0.7,
             "#b8e186"
            ],
            [
             0.8,
             "#7fbc41"
            ],
            [
             0.9,
             "#4d9221"
            ],
            [
             1,
             "#276419"
            ]
           ],
           "sequential": [
            [
             0,
             "#0d0887"
            ],
            [
             0.1111111111111111,
             "#46039f"
            ],
            [
             0.2222222222222222,
             "#7201a8"
            ],
            [
             0.3333333333333333,
             "#9c179e"
            ],
            [
             0.4444444444444444,
             "#bd3786"
            ],
            [
             0.5555555555555556,
             "#d8576b"
            ],
            [
             0.6666666666666666,
             "#ed7953"
            ],
            [
             0.7777777777777778,
             "#fb9f3a"
            ],
            [
             0.8888888888888888,
             "#fdca26"
            ],
            [
             1,
             "#f0f921"
            ]
           ],
           "sequentialminus": [
            [
             0,
             "#0d0887"
            ],
            [
             0.1111111111111111,
             "#46039f"
            ],
            [
             0.2222222222222222,
             "#7201a8"
            ],
            [
             0.3333333333333333,
             "#9c179e"
            ],
            [
             0.4444444444444444,
             "#bd3786"
            ],
            [
             0.5555555555555556,
             "#d8576b"
            ],
            [
             0.6666666666666666,
             "#ed7953"
            ],
            [
             0.7777777777777778,
             "#fb9f3a"
            ],
            [
             0.8888888888888888,
             "#fdca26"
            ],
            [
             1,
             "#f0f921"
            ]
           ]
          },
          "colorway": [
           "#636efa",
           "#EF553B",
           "#00cc96",
           "#ab63fa",
           "#FFA15A",
           "#19d3f3",
           "#FF6692",
           "#B6E880",
           "#FF97FF",
           "#FECB52"
          ],
          "font": {
           "color": "#2a3f5f"
          },
          "geo": {
           "bgcolor": "white",
           "lakecolor": "white",
           "landcolor": "#E5ECF6",
           "showlakes": true,
           "showland": true,
           "subunitcolor": "white"
          },
          "hoverlabel": {
           "align": "left"
          },
          "hovermode": "closest",
          "mapbox": {
           "style": "light"
          },
          "paper_bgcolor": "white",
          "plot_bgcolor": "#E5ECF6",
          "polar": {
           "angularaxis": {
            "gridcolor": "white",
            "linecolor": "white",
            "ticks": ""
           },
           "bgcolor": "#E5ECF6",
           "radialaxis": {
            "gridcolor": "white",
            "linecolor": "white",
            "ticks": ""
           }
          },
          "scene": {
           "xaxis": {
            "backgroundcolor": "#E5ECF6",
            "gridcolor": "white",
            "gridwidth": 2,
            "linecolor": "white",
            "showbackground": true,
            "ticks": "",
            "zerolinecolor": "white"
           },
           "yaxis": {
            "backgroundcolor": "#E5ECF6",
            "gridcolor": "white",
            "gridwidth": 2,
            "linecolor": "white",
            "showbackground": true,
            "ticks": "",
            "zerolinecolor": "white"
           },
           "zaxis": {
            "backgroundcolor": "#E5ECF6",
            "gridcolor": "white",
            "gridwidth": 2,
            "linecolor": "white",
            "showbackground": true,
            "ticks": "",
            "zerolinecolor": "white"
           }
          },
          "shapedefaults": {
           "line": {
            "color": "#2a3f5f"
           }
          },
          "ternary": {
           "aaxis": {
            "gridcolor": "white",
            "linecolor": "white",
            "ticks": ""
           },
           "baxis": {
            "gridcolor": "white",
            "linecolor": "white",
            "ticks": ""
           },
           "bgcolor": "#E5ECF6",
           "caxis": {
            "gridcolor": "white",
            "linecolor": "white",
            "ticks": ""
           }
          },
          "title": {
           "x": 0.05
          },
          "xaxis": {
           "automargin": true,
           "gridcolor": "white",
           "linecolor": "white",
           "ticks": "",
           "title": {
            "standoff": 15
           },
           "zerolinecolor": "white",
           "zerolinewidth": 2
          },
          "yaxis": {
           "automargin": true,
           "gridcolor": "white",
           "linecolor": "white",
           "ticks": "",
           "title": {
            "standoff": 15
           },
           "zerolinecolor": "white",
           "zerolinewidth": 2
          }
         }
        },
        "title": {
         "text": "All Cluster Routes Visualization"
        },
        "width": 800,
        "xaxis": {
         "title": {
          "text": "X Coordinate"
         }
        },
        "yaxis": {
         "scaleanchor": "x",
         "scaleratio": 1,
         "title": {
          "text": "Y Coordinate"
         }
        }
       }
      }
     },
     "metadata": {},
     "output_type": "display_data"
    }
   ],
   "source": [
    "penalty_factor = [10, 10000, 300]\n",
    "time_limit = 40\n",
    "overnight_cost = 2\n",
    "from src.routing import solve, create_data\n",
    "nodes_df, time_matrix = create_data(min_work_days, days_off, percentage_of_appointments, num_nodes, penalty_factor)\n",
    "options_df, figs, route_lists = solve(nodes_df, time_matrix, slack, days_off, max_days_off, short_days, max_short_days, no_overnight_stays, max_overnight_stays, work_schedule, margin, time_limit, overnight_cost, lunch_duration=30, first_optimization_algorithm='BEST_INSERTION', second_optimization_algorithm='GUIDED_LOCAL_SEARCH', GlobalSpanCostCoefficient=GlobalSpanCostCoefficient, verbose=False, visual=True, restrictive=False)"
   ]
  },
  {
   "cell_type": "code",
   "execution_count": 3,
   "metadata": {},
   "outputs": [
    {
     "data": {
      "text/html": [
       "<div>\n",
       "<style scoped>\n",
       "    .dataframe tbody tr th:only-of-type {\n",
       "        vertical-align: middle;\n",
       "    }\n",
       "\n",
       "    .dataframe tbody tr th {\n",
       "        vertical-align: top;\n",
       "    }\n",
       "\n",
       "    .dataframe thead th {\n",
       "        text-align: right;\n",
       "    }\n",
       "</style>\n",
       "<table border=\"1\" class=\"dataframe\">\n",
       "  <thead>\n",
       "    <tr style=\"text-align: right;\">\n",
       "      <th></th>\n",
       "      <th>obj_value</th>\n",
       "      <th>n_overnight_trips</th>\n",
       "      <th>nodes_dropped</th>\n",
       "      <th>n_fixed_appointments_cons</th>\n",
       "      <th>n_fixed_appointments</th>\n",
       "      <th>route_lists</th>\n",
       "      <th>gaps</th>\n",
       "      <th>Sum</th>\n",
       "      <th>Length</th>\n",
       "      <th>num_nodes_considered</th>\n",
       "      <th>overnight_days</th>\n",
       "      <th>short_days</th>\n",
       "      <th>n_short_days</th>\n",
       "      <th>off_days</th>\n",
       "      <th>n_days_off</th>\n",
       "      <th>blocks</th>\n",
       "      <th>respected_nodes</th>\n",
       "      <th>fixed_appointments_nodes</th>\n",
       "    </tr>\n",
       "  </thead>\n",
       "  <tbody>\n",
       "    <tr>\n",
       "      <th>0</th>\n",
       "      <td>18300.0</td>\n",
       "      <td>0</td>\n",
       "      <td>57.99999999999999%</td>\n",
       "      <td>0.0</td>\n",
       "      <td>0.0</td>\n",
       "      <td>{'1_day_trip_0': [(0, '11:00'), (13, '11:18'),...</td>\n",
       "      <td>[1, 1, 1, 0, 0, 0, 0]</td>\n",
       "      <td>3.0</td>\n",
       "      <td>7</td>\n",
       "      <td>21.0</td>\n",
       "      <td>[]</td>\n",
       "      <td>[]</td>\n",
       "      <td>0</td>\n",
       "      <td>[4, 5, 6, 7]</td>\n",
       "      <td>4</td>\n",
       "      <td>{1: 3}</td>\n",
       "      <td>{0, 1, 5, 8, 10, 11, 13, 18, 22, 26, 27, 29, 3...</td>\n",
       "      <td>[]</td>\n",
       "    </tr>\n",
       "    <tr>\n",
       "      <th>1</th>\n",
       "      <td>18740.0</td>\n",
       "      <td>1</td>\n",
       "      <td>56.00000000000001%</td>\n",
       "      <td>0.0</td>\n",
       "      <td>0.0</td>\n",
       "      <td>{'1_day_trip_0': [(0, '11:00'), (18, '11:14'),...</td>\n",
       "      <td>[1, 2, 0, 0, 0, 0]</td>\n",
       "      <td>3.0</td>\n",
       "      <td>6</td>\n",
       "      <td>22.0</td>\n",
       "      <td>[2]</td>\n",
       "      <td>[]</td>\n",
       "      <td>0</td>\n",
       "      <td>[4, 5, 6, 7]</td>\n",
       "      <td>4</td>\n",
       "      <td>{1: 1, 2: 1}</td>\n",
       "      <td>{0, 1, 2, 5, 8, 9, 10, 11, 13, 18, 22, 27, 29,...</td>\n",
       "      <td>[]</td>\n",
       "    </tr>\n",
       "    <tr>\n",
       "      <th>2</th>\n",
       "      <td>18690.0</td>\n",
       "      <td>1</td>\n",
       "      <td>56.00000000000001%</td>\n",
       "      <td>0.0</td>\n",
       "      <td>0.0</td>\n",
       "      <td>{'1_day_trip_0': [(0, '11:05'), (19, '12:30'),...</td>\n",
       "      <td>[2, 1, 0, 0, 0, 0]</td>\n",
       "      <td>3.0</td>\n",
       "      <td>6</td>\n",
       "      <td>22.0</td>\n",
       "      <td>[1]</td>\n",
       "      <td>[]</td>\n",
       "      <td>0</td>\n",
       "      <td>[4, 5, 6, 7]</td>\n",
       "      <td>4</td>\n",
       "      <td>{2: 1, 1: 1}</td>\n",
       "      <td>{0, 1, 5, 8, 10, 11, 13, 18, 19, 21, 22, 26, 2...</td>\n",
       "      <td>[]</td>\n",
       "    </tr>\n",
       "    <tr>\n",
       "      <th>3</th>\n",
       "      <td>19382.0</td>\n",
       "      <td>2</td>\n",
       "      <td>56.00000000000001%</td>\n",
       "      <td>0.0</td>\n",
       "      <td>0.0</td>\n",
       "      <td>{'3_day_trip_0': [(0, '11:43'), (13, '12:31'),...</td>\n",
       "      <td>[3, 0, 0, 0, 0]</td>\n",
       "      <td>3.0</td>\n",
       "      <td>5</td>\n",
       "      <td>22.0</td>\n",
       "      <td>[1, 2]</td>\n",
       "      <td>[]</td>\n",
       "      <td>0</td>\n",
       "      <td>[4, 5, 6, 7]</td>\n",
       "      <td>4</td>\n",
       "      <td>{3: 1}</td>\n",
       "      <td>{0, 1, 2, 5, 8, 10, 11, 13, 18, 19, 21, 22, 26...</td>\n",
       "      <td>[]</td>\n",
       "    </tr>\n",
       "  </tbody>\n",
       "</table>\n",
       "</div>"
      ],
      "text/plain": [
       "   obj_value  n_overnight_trips       nodes_dropped  \\\n",
       "0    18300.0                  0  57.99999999999999%   \n",
       "1    18740.0                  1  56.00000000000001%   \n",
       "2    18690.0                  1  56.00000000000001%   \n",
       "3    19382.0                  2  56.00000000000001%   \n",
       "\n",
       "   n_fixed_appointments_cons  n_fixed_appointments  \\\n",
       "0                        0.0                   0.0   \n",
       "1                        0.0                   0.0   \n",
       "2                        0.0                   0.0   \n",
       "3                        0.0                   0.0   \n",
       "\n",
       "                                         route_lists                   gaps  \\\n",
       "0  {'1_day_trip_0': [(0, '11:00'), (13, '11:18'),...  [1, 1, 1, 0, 0, 0, 0]   \n",
       "1  {'1_day_trip_0': [(0, '11:00'), (18, '11:14'),...     [1, 2, 0, 0, 0, 0]   \n",
       "2  {'1_day_trip_0': [(0, '11:05'), (19, '12:30'),...     [2, 1, 0, 0, 0, 0]   \n",
       "3  {'3_day_trip_0': [(0, '11:43'), (13, '12:31'),...        [3, 0, 0, 0, 0]   \n",
       "\n",
       "   Sum  Length  num_nodes_considered overnight_days short_days  n_short_days  \\\n",
       "0  3.0       7                  21.0             []         []             0   \n",
       "1  3.0       6                  22.0            [2]         []             0   \n",
       "2  3.0       6                  22.0            [1]         []             0   \n",
       "3  3.0       5                  22.0         [1, 2]         []             0   \n",
       "\n",
       "       off_days  n_days_off        blocks  \\\n",
       "0  [4, 5, 6, 7]           4        {1: 3}   \n",
       "1  [4, 5, 6, 7]           4  {1: 1, 2: 1}   \n",
       "2  [4, 5, 6, 7]           4  {2: 1, 1: 1}   \n",
       "3  [4, 5, 6, 7]           4        {3: 1}   \n",
       "\n",
       "                                     respected_nodes fixed_appointments_nodes  \n",
       "0  {0, 1, 5, 8, 10, 11, 13, 18, 22, 26, 27, 29, 3...                       []  \n",
       "1  {0, 1, 2, 5, 8, 9, 10, 11, 13, 18, 22, 27, 29,...                       []  \n",
       "2  {0, 1, 5, 8, 10, 11, 13, 18, 19, 21, 22, 26, 2...                       []  \n",
       "3  {0, 1, 2, 5, 8, 10, 11, 13, 18, 19, 21, 22, 26...                       []  "
      ]
     },
     "execution_count": 3,
     "metadata": {},
     "output_type": "execute_result"
    }
   ],
   "source": [
    "options_df"
   ]
  }
 ],
 "metadata": {
  "kernelspec": {
   "display_name": "Python 3",
   "language": "python",
   "name": "python3"
  },
  "language_info": {
   "codemirror_mode": {
    "name": "ipython",
    "version": 3
   },
   "file_extension": ".py",
   "mimetype": "text/x-python",
   "name": "python",
   "nbconvert_exporter": "python",
   "pygments_lexer": "ipython3",
   "version": "3.12.2"
  }
 },
 "nbformat": 4,
 "nbformat_minor": 2
}
