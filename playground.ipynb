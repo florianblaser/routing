{
 "cells": [
  {
   "cell_type": "code",
   "execution_count": 2406,
   "metadata": {},
   "outputs": [],
   "source": [
    "from src.routing import create_nodes_dataframe, custom_clustering, find_route, plot_refined_clusters, plot_ind_route, plot_all_cluster_routes"
   ]
  },
  {
   "cell_type": "code",
   "execution_count": 2407,
   "metadata": {},
   "outputs": [],
   "source": [
    "nodes_df, distance_matrix = create_nodes_dataframe(num_nodes=50, min_work_days=4, home_node_id=0, visiting_interval_min=10, visiting_interval_max=30, max_last_visit=20)"
   ]
  },
  {
   "cell_type": "code",
   "execution_count": 2408,
   "metadata": {},
   "outputs": [],
   "source": [
    "\"\"\"\n",
    "- Define subset of nodes_df based on node priority and distance to root node (those further away should be included more likely)\n",
    "- Test Discrete Priority (must be visited this week; must be visited next week; ...)\n",
    "\"\"\"\n",
    "nodes_df = nodes_df"
   ]
  },
  {
   "cell_type": "code",
   "execution_count": 2409,
   "metadata": {},
   "outputs": [
    {
     "data": {
      "text/plain": [
       "0       0.000000\n",
       "1     302.735226\n",
       "2      81.869898\n",
       "3     199.025606\n",
       "4     277.431408\n",
       "5     346.607502\n",
       "6     308.418055\n",
       "7     118.739795\n",
       "8     290.973493\n",
       "9     258.023868\n",
       "10     37.405357\n",
       "11    225.000000\n",
       "12    321.483074\n",
       "13    273.179830\n",
       "14    135.000000\n",
       "15    237.907409\n",
       "16    288.434949\n",
       "17    315.000000\n",
       "18    246.571307\n",
       "19    345.677280\n",
       "20    233.471145\n",
       "21    219.173658\n",
       "22    321.340192\n",
       "23    272.045408\n",
       "24     47.726311\n",
       "25    225.000000\n",
       "26    294.507405\n",
       "27    278.130102\n",
       "28    284.036243\n",
       "29    210.465545\n",
       "30    297.897271\n",
       "31    240.255119\n",
       "32      0.000000\n",
       "33    352.874984\n",
       "34    289.057705\n",
       "35    272.161079\n",
       "36     74.357754\n",
       "37    246.124719\n",
       "38    359.045159\n",
       "39    211.504267\n",
       "40    261.027373\n",
       "41    248.498566\n",
       "42     21.974508\n",
       "43     19.983107\n",
       "44    236.534621\n",
       "45    124.695154\n",
       "46     16.336043\n",
       "47    214.695154\n",
       "48    320.648247\n",
       "49    338.404690\n",
       "Name: angle_to_home, dtype: float64"
      ]
     },
     "execution_count": 2409,
     "metadata": {},
     "output_type": "execute_result"
    }
   ],
   "source": [
    "nodes_df['angle_to_home']"
   ]
  },
  {
   "cell_type": "code",
   "execution_count": 2410,
   "metadata": {},
   "outputs": [
    {
     "name": "stdout",
     "output_type": "stream",
     "text": [
      "Largest gap spans from 135.0° to 199.02560603756868°, covering 64.02560603756868°.\n"
     ]
    }
   ],
   "source": [
    "if nodes_df.index[0] == 0:\n",
    "    nodes_df_copy = nodes_df.drop(0).copy()\n",
    "        \n",
    "angles = sorted(nodes_df_copy['angle_to_home'])\n",
    "\n",
    "# Calculate differences between consecutive angles\n",
    "diffs = [angles[i + 1] - angles[i] for i in range(len(angles) - 1)]\n",
    "\n",
    "# Consider the circular difference between the last and first angles\n",
    "diffs.append(360 - angles[-1] + angles[0])\n",
    "\n",
    "# Find the largest gap\n",
    "max_gap = max(diffs)\n",
    "\n",
    "# Identify the range of the largest gap\n",
    "start_angle = angles[diffs.index(max_gap)]\n",
    "end_angle = angles[(diffs.index(max_gap) + 1) % len(angles)]\n",
    "\n",
    "print(f\"Largest gap spans from {start_angle}° to {end_angle}°, covering {max_gap}°.\")"
   ]
  },
  {
   "cell_type": "code",
   "execution_count": 2411,
   "metadata": {},
   "outputs": [],
   "source": [
    "def custom_clustering(distance_matrix, nodes_df, num_small_clusters, num_large_clusters, overnight_factor, precision, adjustment_speed, home_node_id = 0):\n",
    "    \"\"\"\n",
    "    Custom clustering algorithm that divides nodes into angular clusters.\n",
    "    Balances clusters between small and large based on the metric calculations.\n",
    "    Includes the home node at the start of each cluster.\n",
    "    \n",
    "    Args:\n",
    "    - distance_matrix: DataFrame containing distances between nodes.\n",
    "    - nodes_df: DataFrame containing node data.\n",
    "    - num_small_clusters: Number of smaller clusters to create.\n",
    "    - num_large_clusters: Number of larger clusters to create.\n",
    "    - factor: Adjustment factor used in balancing clusters.\n",
    "    - precision: Number of iterations for refining the clusters.\n",
    "    - home_node_id: ID of the home node to be included at the start of each cluster.\n",
    "    \"\"\"\n",
    "    if nodes_df.index[0] == 0:\n",
    "        nodes_df = nodes_df.drop(0)\n",
    "    \n",
    "    clusters = {f'small_{i}': [home_node_id] for i in range(num_small_clusters)}\n",
    "    clusters.update({f'large_{i}': [home_node_id] for i in range(num_large_clusters)})\n",
    "\n",
    "    angles = sorted(nodes_df_copy['angle_to_home'])\n",
    "    diffs = [angles[i + 1] - angles[i] for i in range(len(angles) - 1)]\n",
    "    diffs.append(360 - angles[-1] + angles[0])\n",
    "\n",
    "    max_gap = max(diffs)\n",
    "    start_angle = angles[diffs.index(max_gap)]\n",
    "    end_angle = angles[(diffs.index(max_gap) + 1) % len(angles)]\n",
    "\n",
    "\n",
    "\n",
    "    gap_start = angles[diffs.index(max_gap)]\n",
    "    gap_end = angles[(diffs.index(max_gap) + 1) % len(angles)]\n",
    "    # Define cluster_start and cluster_end with proper circular handling\n",
    "    cluster_start = gap_end\n",
    "    cluster_end = gap_start if gap_start > gap_end else gap_start + 360\n",
    "    # Normalize the cluster_end to ensure it does not exceed 360\n",
    "    cluster_end = cluster_end if cluster_end <= 360 else cluster_end - 360\n",
    "\n",
    "    num_clusters = num_small_clusters + num_large_clusters\n",
    "    step = (cluster_end - cluster_start) % 360 / num_clusters # step = max_gap / num_clusters\n",
    "    current_angle = cluster_start\n",
    "    # max_gap = 360\n",
    "\n",
    "    # angle_ranges = {f'small_{i}': (i * step, (i + 1) * step) for i in range(num_small_clusters)}\n",
    "    # angle_ranges.update({f'large_{i}': ((i + num_small_clusters) * step, (i + num_small_clusters + 1) * step) for i in range(num_large_clusters)})\n",
    "\n",
    "    # BECOMES\n",
    "    angle_ranges = {}\n",
    "    for i in range(num_clusters):\n",
    "        range_start = current_angle\n",
    "        range_end = (current_angle + step) % 360\n",
    "        cluster_id = f'small_{i}' if i < num_small_clusters else f'large_{i - num_small_clusters}'\n",
    "        angle_ranges[cluster_id] = (range_start, range_end)\n",
    "        current_angle = range_end\n",
    "\n",
    "    # Iteratively adjust cluster assignments based on the metrics\n",
    "    for _ in range(precision):\n",
    "        # Start each iteration by clearing clusters but keeping the home node\n",
    "        for key in clusters.keys():\n",
    "            clusters[key] = [home_node_id]\n",
    "\n",
    "        # Distribute nodes based on (adjusted) angle ranges\n",
    "        for index, row in nodes_df.iterrows():\n",
    "            if index == home_node_id:\n",
    "                continue  # Skip the home node in regular assignments\n",
    "            node_angle = row['angle_to_home']\n",
    "            for cluster_id, (cluster_start_angle, cluster_end_angle) in angle_ranges.items():\n",
    "                \n",
    "                \n",
    "                \n",
    "                if cluster_start_angle <= node_angle < cluster_end_angle or (cluster_start_angle > cluster_end_angle and (node_angle >= cluster_start_angle or node_angle < cluster_end_angle)):\n",
    "                # if cluster_start_angle <= node_angle < cluster_end_angle:\n",
    "                    \n",
    "                    \n",
    "                    \n",
    "                    clusters[cluster_id].append(index)\n",
    "                    break\n",
    "\n",
    "        # Adjust angles based on cluster metrics\n",
    "        # removed the current_angle parameter  \n",
    "        angle_ranges = adjust_angles(clusters, nodes_df, angle_ranges, adjustment_speed)\n",
    "\n",
    "    return clusters, angle_ranges\n",
    "\n",
    "def adjust_angles(clusters, nodes_df, angle_ranges, adjustment_speed):    \n",
    "    total_nodes = len(nodes_df)\n",
    "    num_clusters = len(clusters)\n",
    "    desired_size = total_nodes / num_clusters\n",
    "    current_sizes = {cluster_id: len(indices) for cluster_id, indices in clusters.items()}\n",
    "    angle_changes = {}\n",
    "    total_angle_change = 0\n",
    "\n",
    "    for cluster_id, size in current_sizes.items():\n",
    "        deviation = size - desired_size\n",
    "        angle_changes[cluster_id] = -deviation * adjustment_speed\n",
    "        total_angle_change += angle_changes[cluster_id]\n",
    "\n",
    "    correction = -total_angle_change / num_clusters\n",
    "\n",
    "    adjusted_angle_ranges = {}\n",
    "    for cluster_id, initial_range in angle_ranges.items():\n",
    "        start_angle, end_angle = initial_range\n",
    "        angle_width = end_angle - start_angle + angle_changes[cluster_id] + correction\n",
    "        adjusted_angle_ranges[cluster_id] = ((start_angle + angle_width) % 360, (end_angle + angle_width) % 360)\n",
    "\n",
    "    return adjusted_angle_ranges\n",
    "\n",
    "def adjust_angles(clusters, nodes_df, angle_ranges, adjustment_speed):    \n",
    "    total_nodes = len(nodes_df)\n",
    "    num_clusters = len(clusters)\n",
    "    desired_size = total_nodes / num_clusters\n",
    "\n",
    "    # Calculate current sizes and prepare adjustments\n",
    "    current_sizes = {cluster_id: len(indices) for cluster_id, indices in clusters.items()}\n",
    "    angle_changes = {}\n",
    "\n",
    "    # Calculate total angle change needed based on node distribution\n",
    "    total_angle_change = 0\n",
    "    for cluster_id, size in current_sizes.items():\n",
    "        deviation = size - desired_size\n",
    "        # Here, angle adjustment could be proportional to the deviation from desired size\n",
    "        angle_changes[cluster_id] = -deviation * adjustment_speed  # Adjust scaling factor as needed\n",
    "        total_angle_change += angle_changes[cluster_id]\n",
    "\n",
    "    # Ensure total angle remains 360 degrees\n",
    "    correction = -total_angle_change / num_clusters # Potentially CHANGE HERE or below\n",
    "\n",
    "    # Adjust angles\n",
    "    adjusted_angle_ranges = {}\n",
    "    for cluster_id, initial_range in angle_ranges.items():\n",
    "        start_angle, end_angle = initial_range\n",
    "        angle_width = (end_angle - start_angle + angle_changes[cluster_id] + correction) % 360\n",
    "        adjusted_angle_ranges[cluster_id] = (start_angle, (start_angle + angle_width) % 360)\n",
    "    \n",
    "\n",
    "    # OLD\n",
    "    # for cluster_id, initial_range in angle_ranges.items():\n",
    "    #     # initial start and end angle are accessed\n",
    "    #     start_angle, end_angle = initial_range\n",
    "    #     # the new total angle width is defined\n",
    "    #     angle_width = end_angle - start_angle + angle_changes[cluster_id] + correction\n",
    "    #     # adjusted angle ranges per cluster ID are stored\n",
    "    #     adjusted_angle_ranges[cluster_id] = (current_angle, current_angle + angle_width)\n",
    "    #     # the current_angle is updated\n",
    "    #     current_angle += angle_width\n",
    "    \n",
    "    return adjusted_angle_ranges"
   ]
  },
  {
   "cell_type": "code",
   "execution_count": 2412,
   "metadata": {},
   "outputs": [],
   "source": [
    "\"\"\"\n",
    "- Prevent clusters from jumping angles when home node is not in the center\n",
    "- Make large clusters larger\n",
    "- Adjust angles based on:\n",
    "    - number of nodes\n",
    "    - variance and mean of priorities\n",
    "    - variance and mean distances between nodes\n",
    "    - max and mean of distance to root\n",
    "- Respect fixed appointments\n",
    "\"\"\"\n",
    "adjustment_speed = len(nodes_df) / 100\n",
    "clusters, angle_ranges = custom_clustering(distance_matrix.values, nodes_df, num_small_clusters=5, num_large_clusters=0, overnight_factor=1.5, precision=100, adjustment_speed=adjustment_speed)"
   ]
  },
  {
   "cell_type": "code",
   "execution_count": 2413,
   "metadata": {},
   "outputs": [
    {
     "name": "stdout",
     "output_type": "stream",
     "text": [
      "[6, 6, 6, 7, 6]\n"
     ]
    }
   ],
   "source": [
    "print([len(c) for c in clusters.values()])"
   ]
  },
  {
   "cell_type": "code",
   "execution_count": 2414,
   "metadata": {},
   "outputs": [
    {
     "data": {
      "application/vnd.plotly.v1+json": {
       "config": {
        "plotlyServerURL": "https://plot.ly"
       },
       "data": [
        {
         "hoverinfo": "text",
         "hovertext": [
          "Node: 0<br>Days: [0, 1, 2, 3]<br>Priority: 0.38 <br>Angle to home: 0.0",
          "Node: 3<br>Days: [0, 1, 2, 3]<br>Priority: 0.44 <br>Angle to home: 199.02560603756868",
          "Node: 21<br>Days: [0, 1, 2, 3]<br>Priority: 0.95 <br>Angle to home: 219.17365797044422",
          "Node: 29<br>Days: [0, 1, 3, 4]<br>Priority: 0.74 <br>Angle to home: 210.46554491945986",
          "Node: 39<br>Days: [0, 2, 3, 4]<br>Priority: 0.11 <br>Angle to home: 211.50426671920417",
          "Node: 47<br>Days: [0, 2, 3, 4]<br>Priority: 0.31 <br>Angle to home: 214.69515353123396"
         ],
         "marker": {
          "color": "#76B041",
          "size": 10
         },
         "mode": "markers",
         "name": "small_0",
         "type": "scatter",
         "x": [
          40,
          11,
          13,
          6,
          9,
          14
         ],
         "y": [
          69,
          59,
          47,
          49,
          50,
          51
         ]
        },
        {
         "hoverinfo": "text",
         "hovertext": [
          "Node: 0<br>Days: [0, 1, 2, 3]<br>Priority: 0.38 <br>Angle to home: 0.0",
          "Node: 4<br>Days: [1, 2, 3, 4]<br>Priority: 0.65 <br>Angle to home: 277.4314079711725",
          "Node: 13<br>Days: [0, 2, 3, 4]<br>Priority: 0.58 <br>Angle to home: 273.1798301198642",
          "Node: 23<br>Days: [0, 1, 2, 3]<br>Priority: 0.41 <br>Angle to home: 272.04540848888723",
          "Node: 35<br>Days: [0, 1, 3, 4]<br>Priority: 0.06 <br>Angle to home: 272.1610794882264",
          "Node: 40<br>Days: [1, 2, 3, 4]<br>Priority: 0.53 <br>Angle to home: 261.0273733851036"
         ],
         "marker": {
          "color": "#F8766D",
          "size": 10
         },
         "mode": "markers",
         "name": "small_1",
         "type": "scatter",
         "x": [
          40,
          46,
          42,
          41,
          42,
          37
         ],
         "y": [
          69,
          23,
          33,
          41,
          16,
          50
         ]
        },
        {
         "hoverinfo": "text",
         "hovertext": [
          "Node: 0<br>Days: [0, 1, 2, 3]<br>Priority: 0.38 <br>Angle to home: 0.0",
          "Node: 12<br>Days: [0, 1, 2, 3]<br>Priority: 1.00 <br>Angle to home: 321.4830736928972",
          "Node: 19<br>Days: [0, 1, 2, 4]<br>Priority: 0.54 <br>Angle to home: 345.67728002179643",
          "Node: 22<br>Days: [1, 2, 3, 4]<br>Priority: 0.46 <br>Angle to home: 321.3401917459099",
          "Node: 48<br>Days: [0, 2, 3, 4]<br>Priority: 0.40 <br>Angle to home: 320.6482473737353",
          "Node: 49<br>Days: [0, 1, 2, 4]<br>Priority: 0.54 <br>Angle to home: 338.40468955103233"
         ],
         "marker": {
          "color": "#00BFC4",
          "size": 10
         },
         "mode": "markers",
         "name": "small_2",
         "type": "scatter",
         "x": [
          40,
          89,
          87,
          65,
          90,
          88
         ],
         "y": [
          69,
          30,
          57,
          49,
          28,
          50
         ]
        },
        {
         "hoverinfo": "text",
         "hovertext": [
          "Node: 0<br>Days: [0, 1, 2, 3]<br>Priority: 0.38 <br>Angle to home: 0.0",
          "Node: 2<br>Days: [0, 1, 2, 3]<br>Priority: 1.00 <br>Angle to home: 81.86989764584403",
          "Node: 10<br>Days: [0, 1, 2, 3]<br>Priority: 0.26 <br>Angle to home: 37.40535663140855",
          "Node: 24<br>Days: [0, 1, 3, 4]<br>Priority: 0.61 <br>Angle to home: 47.72631099390627",
          "Node: 36<br>Days: [0, 1, 3, 4]<br>Priority: 1.00 <br>Angle to home: 74.35775354279127",
          "Node: 42<br>Days: [0, 2, 3, 4]<br>Priority: 0.43 <br>Angle to home: 21.974507991471963",
          "Node: 43<br>Days: [0, 2, 3, 4]<br>Priority: 0.40 <br>Angle to home: 19.98310652189998"
         ],
         "marker": {
          "color": "#C77CFF",
          "size": 10
         },
         "mode": "markers",
         "name": "small_3",
         "type": "scatter",
         "x": [
          40,
          43,
          74,
          50,
          47,
          97,
          73
         ],
         "y": [
          69,
          90,
          95,
          80,
          94,
          92,
          81
         ]
        },
        {
         "hoverinfo": "text",
         "hovertext": [
          "Node: 0<br>Days: [0, 1, 2, 3]<br>Priority: 0.38 <br>Angle to home: 0.0",
          "Node: 7<br>Days: [0, 1, 2, 3]<br>Priority: 0.21 <br>Angle to home: 118.73979529168805",
          "Node: 11<br>Days: [0, 1, 2, 4]<br>Priority: 1.00 <br>Angle to home: 225.0",
          "Node: 14<br>Days: [1, 2, 3, 4]<br>Priority: 0.64 <br>Angle to home: 135.0",
          "Node: 25<br>Days: [0, 2, 3, 4]<br>Priority: 0.91 <br>Angle to home: 225.0",
          "Node: 45<br>Days: [0, 1, 3, 4]<br>Priority: 0.27 <br>Angle to home: 124.69515353123397"
         ],
         "marker": {
          "color": "#FF61CC",
          "size": 10
         },
         "mode": "markers",
         "name": "small_4",
         "type": "scatter",
         "x": [
          40,
          23,
          26,
          24,
          12,
          31
         ],
         "y": [
          69,
          100,
          55,
          85,
          41,
          82
         ]
        },
        {
         "hoverinfo": "text",
         "hovertext": [
          "Node: 1<br>Days: [0, 1, 2, 4]<br>Priority: 0.07 <br>Angle to home: 302.7352262721076",
          "Node: 5<br>Days: [0, 1, 2, 3]<br>Priority: 0.65 <br>Angle to home: 346.6075022462489",
          "Node: 6<br>Days: [0, 1, 3, 4]<br>Priority: 0.46 <br>Angle to home: 308.418055344822",
          "Node: 8<br>Days: [0, 2, 3, 4]<br>Priority: 1.00 <br>Angle to home: 290.97349342132077",
          "Node: 9<br>Days: [0, 1, 2, 4]<br>Priority: 0.64 <br>Angle to home: 258.02386755579664",
          "Node: 15<br>Days: [0, 1, 2, 4]<br>Priority: 0.55 <br>Angle to home: 237.90740867126584",
          "Node: 16<br>Days: [0, 2, 3, 4]<br>Priority: 1.00 <br>Angle to home: 288.434948822922",
          "Node: 17<br>Days: [0, 2, 3, 4]<br>Priority: 0.39 <br>Angle to home: 315.0",
          "Node: 18<br>Days: [1, 2, 3, 4]<br>Priority: 0.57 <br>Angle to home: 246.57130719125462",
          "Node: 20<br>Days: [0, 2, 3, 4]<br>Priority: 0.21 <br>Angle to home: 233.47114463301483",
          "Node: 26<br>Days: [0, 1, 2, 4]<br>Priority: 0.46 <br>Angle to home: 294.50740523012973",
          "Node: 27<br>Days: [0, 2, 3, 4]<br>Priority: 1.00 <br>Angle to home: 278.13010235415595",
          "Node: 28<br>Days: [0, 2, 3, 4]<br>Priority: 0.75 <br>Angle to home: 284.03624346792645",
          "Node: 30<br>Days: [0, 2, 3, 4]<br>Priority: 0.20 <br>Angle to home: 297.89727103094765",
          "Node: 31<br>Days: [0, 2, 3, 4]<br>Priority: 0.27 <br>Angle to home: 240.25511870305778",
          "Node: 32<br>Days: [0, 2, 3, 4]<br>Priority: 0.52 <br>Angle to home: 0.0",
          "Node: 33<br>Days: [0, 2, 3, 4]<br>Priority: 0.55 <br>Angle to home: 352.8749836510982",
          "Node: 34<br>Days: [1, 2, 3, 4]<br>Priority: 0.27 <br>Angle to home: 289.05770451012836",
          "Node: 37<br>Days: [1, 2, 3, 4]<br>Priority: 0.73 <br>Angle to home: 246.1247191460725",
          "Node: 38<br>Days: [1, 2, 3, 4]<br>Priority: 0.67 <br>Angle to home: 359.0451587461278",
          "Node: 41<br>Days: [0, 1, 3, 4]<br>Priority: 0.67 <br>Angle to home: 248.49856567595208",
          "Node: 44<br>Days: [0, 1, 2, 4]<br>Priority: 1.00 <br>Angle to home: 236.5346206536447",
          "Node: 46<br>Days: [0, 1, 2, 3]<br>Priority: 0.38 <br>Angle to home: 16.336042889718467"
         ],
         "marker": {
          "color": "#B0B0B0",
          "size": 5
         },
         "mode": "markers",
         "name": "Unassigned Nodes",
         "type": "scatter",
         "x": [
          49,
          61,
          63,
          63,
          26,
          3,
          53,
          68,
          27,
          0,
          71,
          49,
          51,
          67,
          32,
          89,
          48,
          59,
          13,
          100,
          14,
          1,
          98
         ],
         "y": [
          55,
          64,
          40,
          9,
          3,
          10,
          30,
          41,
          39,
          15,
          1,
          6,
          25,
          18,
          55,
          69,
          68,
          14,
          8,
          68,
          3,
          10,
          86
         ]
        },
        {
         "hoverinfo": "text",
         "hovertext": "Home: Node 0",
         "marker": {
          "color": "black",
          "size": 12,
          "symbol": "x"
         },
         "mode": "markers",
         "name": "Home Node",
         "type": "scatter",
         "x": [
          40
         ],
         "y": [
          69
         ]
        }
       ],
       "layout": {
        "height": 500,
        "hovermode": "closest",
        "legend": {
         "itemsizing": "constant",
         "title": {
          "text": "Clusters"
         }
        },
        "plot_bgcolor": "white",
        "template": {
         "data": {
          "bar": [
           {
            "error_x": {
             "color": "#2a3f5f"
            },
            "error_y": {
             "color": "#2a3f5f"
            },
            "marker": {
             "line": {
              "color": "#E5ECF6",
              "width": 0.5
             },
             "pattern": {
              "fillmode": "overlay",
              "size": 10,
              "solidity": 0.2
             }
            },
            "type": "bar"
           }
          ],
          "barpolar": [
           {
            "marker": {
             "line": {
              "color": "#E5ECF6",
              "width": 0.5
             },
             "pattern": {
              "fillmode": "overlay",
              "size": 10,
              "solidity": 0.2
             }
            },
            "type": "barpolar"
           }
          ],
          "carpet": [
           {
            "aaxis": {
             "endlinecolor": "#2a3f5f",
             "gridcolor": "white",
             "linecolor": "white",
             "minorgridcolor": "white",
             "startlinecolor": "#2a3f5f"
            },
            "baxis": {
             "endlinecolor": "#2a3f5f",
             "gridcolor": "white",
             "linecolor": "white",
             "minorgridcolor": "white",
             "startlinecolor": "#2a3f5f"
            },
            "type": "carpet"
           }
          ],
          "choropleth": [
           {
            "colorbar": {
             "outlinewidth": 0,
             "ticks": ""
            },
            "type": "choropleth"
           }
          ],
          "contour": [
           {
            "colorbar": {
             "outlinewidth": 0,
             "ticks": ""
            },
            "colorscale": [
             [
              0,
              "#0d0887"
             ],
             [
              0.1111111111111111,
              "#46039f"
             ],
             [
              0.2222222222222222,
              "#7201a8"
             ],
             [
              0.3333333333333333,
              "#9c179e"
             ],
             [
              0.4444444444444444,
              "#bd3786"
             ],
             [
              0.5555555555555556,
              "#d8576b"
             ],
             [
              0.6666666666666666,
              "#ed7953"
             ],
             [
              0.7777777777777778,
              "#fb9f3a"
             ],
             [
              0.8888888888888888,
              "#fdca26"
             ],
             [
              1,
              "#f0f921"
             ]
            ],
            "type": "contour"
           }
          ],
          "contourcarpet": [
           {
            "colorbar": {
             "outlinewidth": 0,
             "ticks": ""
            },
            "type": "contourcarpet"
           }
          ],
          "heatmap": [
           {
            "colorbar": {
             "outlinewidth": 0,
             "ticks": ""
            },
            "colorscale": [
             [
              0,
              "#0d0887"
             ],
             [
              0.1111111111111111,
              "#46039f"
             ],
             [
              0.2222222222222222,
              "#7201a8"
             ],
             [
              0.3333333333333333,
              "#9c179e"
             ],
             [
              0.4444444444444444,
              "#bd3786"
             ],
             [
              0.5555555555555556,
              "#d8576b"
             ],
             [
              0.6666666666666666,
              "#ed7953"
             ],
             [
              0.7777777777777778,
              "#fb9f3a"
             ],
             [
              0.8888888888888888,
              "#fdca26"
             ],
             [
              1,
              "#f0f921"
             ]
            ],
            "type": "heatmap"
           }
          ],
          "heatmapgl": [
           {
            "colorbar": {
             "outlinewidth": 0,
             "ticks": ""
            },
            "colorscale": [
             [
              0,
              "#0d0887"
             ],
             [
              0.1111111111111111,
              "#46039f"
             ],
             [
              0.2222222222222222,
              "#7201a8"
             ],
             [
              0.3333333333333333,
              "#9c179e"
             ],
             [
              0.4444444444444444,
              "#bd3786"
             ],
             [
              0.5555555555555556,
              "#d8576b"
             ],
             [
              0.6666666666666666,
              "#ed7953"
             ],
             [
              0.7777777777777778,
              "#fb9f3a"
             ],
             [
              0.8888888888888888,
              "#fdca26"
             ],
             [
              1,
              "#f0f921"
             ]
            ],
            "type": "heatmapgl"
           }
          ],
          "histogram": [
           {
            "marker": {
             "pattern": {
              "fillmode": "overlay",
              "size": 10,
              "solidity": 0.2
             }
            },
            "type": "histogram"
           }
          ],
          "histogram2d": [
           {
            "colorbar": {
             "outlinewidth": 0,
             "ticks": ""
            },
            "colorscale": [
             [
              0,
              "#0d0887"
             ],
             [
              0.1111111111111111,
              "#46039f"
             ],
             [
              0.2222222222222222,
              "#7201a8"
             ],
             [
              0.3333333333333333,
              "#9c179e"
             ],
             [
              0.4444444444444444,
              "#bd3786"
             ],
             [
              0.5555555555555556,
              "#d8576b"
             ],
             [
              0.6666666666666666,
              "#ed7953"
             ],
             [
              0.7777777777777778,
              "#fb9f3a"
             ],
             [
              0.8888888888888888,
              "#fdca26"
             ],
             [
              1,
              "#f0f921"
             ]
            ],
            "type": "histogram2d"
           }
          ],
          "histogram2dcontour": [
           {
            "colorbar": {
             "outlinewidth": 0,
             "ticks": ""
            },
            "colorscale": [
             [
              0,
              "#0d0887"
             ],
             [
              0.1111111111111111,
              "#46039f"
             ],
             [
              0.2222222222222222,
              "#7201a8"
             ],
             [
              0.3333333333333333,
              "#9c179e"
             ],
             [
              0.4444444444444444,
              "#bd3786"
             ],
             [
              0.5555555555555556,
              "#d8576b"
             ],
             [
              0.6666666666666666,
              "#ed7953"
             ],
             [
              0.7777777777777778,
              "#fb9f3a"
             ],
             [
              0.8888888888888888,
              "#fdca26"
             ],
             [
              1,
              "#f0f921"
             ]
            ],
            "type": "histogram2dcontour"
           }
          ],
          "mesh3d": [
           {
            "colorbar": {
             "outlinewidth": 0,
             "ticks": ""
            },
            "type": "mesh3d"
           }
          ],
          "parcoords": [
           {
            "line": {
             "colorbar": {
              "outlinewidth": 0,
              "ticks": ""
             }
            },
            "type": "parcoords"
           }
          ],
          "pie": [
           {
            "automargin": true,
            "type": "pie"
           }
          ],
          "scatter": [
           {
            "fillpattern": {
             "fillmode": "overlay",
             "size": 10,
             "solidity": 0.2
            },
            "type": "scatter"
           }
          ],
          "scatter3d": [
           {
            "line": {
             "colorbar": {
              "outlinewidth": 0,
              "ticks": ""
             }
            },
            "marker": {
             "colorbar": {
              "outlinewidth": 0,
              "ticks": ""
             }
            },
            "type": "scatter3d"
           }
          ],
          "scattercarpet": [
           {
            "marker": {
             "colorbar": {
              "outlinewidth": 0,
              "ticks": ""
             }
            },
            "type": "scattercarpet"
           }
          ],
          "scattergeo": [
           {
            "marker": {
             "colorbar": {
              "outlinewidth": 0,
              "ticks": ""
             }
            },
            "type": "scattergeo"
           }
          ],
          "scattergl": [
           {
            "marker": {
             "colorbar": {
              "outlinewidth": 0,
              "ticks": ""
             }
            },
            "type": "scattergl"
           }
          ],
          "scattermapbox": [
           {
            "marker": {
             "colorbar": {
              "outlinewidth": 0,
              "ticks": ""
             }
            },
            "type": "scattermapbox"
           }
          ],
          "scatterpolar": [
           {
            "marker": {
             "colorbar": {
              "outlinewidth": 0,
              "ticks": ""
             }
            },
            "type": "scatterpolar"
           }
          ],
          "scatterpolargl": [
           {
            "marker": {
             "colorbar": {
              "outlinewidth": 0,
              "ticks": ""
             }
            },
            "type": "scatterpolargl"
           }
          ],
          "scatterternary": [
           {
            "marker": {
             "colorbar": {
              "outlinewidth": 0,
              "ticks": ""
             }
            },
            "type": "scatterternary"
           }
          ],
          "surface": [
           {
            "colorbar": {
             "outlinewidth": 0,
             "ticks": ""
            },
            "colorscale": [
             [
              0,
              "#0d0887"
             ],
             [
              0.1111111111111111,
              "#46039f"
             ],
             [
              0.2222222222222222,
              "#7201a8"
             ],
             [
              0.3333333333333333,
              "#9c179e"
             ],
             [
              0.4444444444444444,
              "#bd3786"
             ],
             [
              0.5555555555555556,
              "#d8576b"
             ],
             [
              0.6666666666666666,
              "#ed7953"
             ],
             [
              0.7777777777777778,
              "#fb9f3a"
             ],
             [
              0.8888888888888888,
              "#fdca26"
             ],
             [
              1,
              "#f0f921"
             ]
            ],
            "type": "surface"
           }
          ],
          "table": [
           {
            "cells": {
             "fill": {
              "color": "#EBF0F8"
             },
             "line": {
              "color": "white"
             }
            },
            "header": {
             "fill": {
              "color": "#C8D4E3"
             },
             "line": {
              "color": "white"
             }
            },
            "type": "table"
           }
          ]
         },
         "layout": {
          "annotationdefaults": {
           "arrowcolor": "#2a3f5f",
           "arrowhead": 0,
           "arrowwidth": 1
          },
          "autotypenumbers": "strict",
          "coloraxis": {
           "colorbar": {
            "outlinewidth": 0,
            "ticks": ""
           }
          },
          "colorscale": {
           "diverging": [
            [
             0,
             "#8e0152"
            ],
            [
             0.1,
             "#c51b7d"
            ],
            [
             0.2,
             "#de77ae"
            ],
            [
             0.3,
             "#f1b6da"
            ],
            [
             0.4,
             "#fde0ef"
            ],
            [
             0.5,
             "#f7f7f7"
            ],
            [
             0.6,
             "#e6f5d0"
            ],
            [
             0.7,
             "#b8e186"
            ],
            [
             0.8,
             "#7fbc41"
            ],
            [
             0.9,
             "#4d9221"
            ],
            [
             1,
             "#276419"
            ]
           ],
           "sequential": [
            [
             0,
             "#0d0887"
            ],
            [
             0.1111111111111111,
             "#46039f"
            ],
            [
             0.2222222222222222,
             "#7201a8"
            ],
            [
             0.3333333333333333,
             "#9c179e"
            ],
            [
             0.4444444444444444,
             "#bd3786"
            ],
            [
             0.5555555555555556,
             "#d8576b"
            ],
            [
             0.6666666666666666,
             "#ed7953"
            ],
            [
             0.7777777777777778,
             "#fb9f3a"
            ],
            [
             0.8888888888888888,
             "#fdca26"
            ],
            [
             1,
             "#f0f921"
            ]
           ],
           "sequentialminus": [
            [
             0,
             "#0d0887"
            ],
            [
             0.1111111111111111,
             "#46039f"
            ],
            [
             0.2222222222222222,
             "#7201a8"
            ],
            [
             0.3333333333333333,
             "#9c179e"
            ],
            [
             0.4444444444444444,
             "#bd3786"
            ],
            [
             0.5555555555555556,
             "#d8576b"
            ],
            [
             0.6666666666666666,
             "#ed7953"
            ],
            [
             0.7777777777777778,
             "#fb9f3a"
            ],
            [
             0.8888888888888888,
             "#fdca26"
            ],
            [
             1,
             "#f0f921"
            ]
           ]
          },
          "colorway": [
           "#636efa",
           "#EF553B",
           "#00cc96",
           "#ab63fa",
           "#FFA15A",
           "#19d3f3",
           "#FF6692",
           "#B6E880",
           "#FF97FF",
           "#FECB52"
          ],
          "font": {
           "color": "#2a3f5f"
          },
          "geo": {
           "bgcolor": "white",
           "lakecolor": "white",
           "landcolor": "#E5ECF6",
           "showlakes": true,
           "showland": true,
           "subunitcolor": "white"
          },
          "hoverlabel": {
           "align": "left"
          },
          "hovermode": "closest",
          "mapbox": {
           "style": "light"
          },
          "paper_bgcolor": "white",
          "plot_bgcolor": "#E5ECF6",
          "polar": {
           "angularaxis": {
            "gridcolor": "white",
            "linecolor": "white",
            "ticks": ""
           },
           "bgcolor": "#E5ECF6",
           "radialaxis": {
            "gridcolor": "white",
            "linecolor": "white",
            "ticks": ""
           }
          },
          "scene": {
           "xaxis": {
            "backgroundcolor": "#E5ECF6",
            "gridcolor": "white",
            "gridwidth": 2,
            "linecolor": "white",
            "showbackground": true,
            "ticks": "",
            "zerolinecolor": "white"
           },
           "yaxis": {
            "backgroundcolor": "#E5ECF6",
            "gridcolor": "white",
            "gridwidth": 2,
            "linecolor": "white",
            "showbackground": true,
            "ticks": "",
            "zerolinecolor": "white"
           },
           "zaxis": {
            "backgroundcolor": "#E5ECF6",
            "gridcolor": "white",
            "gridwidth": 2,
            "linecolor": "white",
            "showbackground": true,
            "ticks": "",
            "zerolinecolor": "white"
           }
          },
          "shapedefaults": {
           "line": {
            "color": "#2a3f5f"
           }
          },
          "ternary": {
           "aaxis": {
            "gridcolor": "white",
            "linecolor": "white",
            "ticks": ""
           },
           "baxis": {
            "gridcolor": "white",
            "linecolor": "white",
            "ticks": ""
           },
           "bgcolor": "#E5ECF6",
           "caxis": {
            "gridcolor": "white",
            "linecolor": "white",
            "ticks": ""
           }
          },
          "title": {
           "x": 0.05
          },
          "xaxis": {
           "automargin": true,
           "gridcolor": "white",
           "linecolor": "white",
           "ticks": "",
           "title": {
            "standoff": 15
           },
           "zerolinecolor": "white",
           "zerolinewidth": 2
          },
          "yaxis": {
           "automargin": true,
           "gridcolor": "white",
           "linecolor": "white",
           "ticks": "",
           "title": {
            "standoff": 15
           },
           "zerolinecolor": "white",
           "zerolinewidth": 2
          }
         }
        },
        "title": {
         "text": "Node Allocation by Refined Clusters"
        },
        "width": 700,
        "xaxis": {
         "range": [
          -5,
          105
         ],
         "title": {
          "text": "X Coordinate"
         }
        },
        "yaxis": {
         "range": [
          -5,
          105
         ],
         "scaleanchor": "x",
         "scaleratio": 1,
         "title": {
          "text": "Y Coordinate"
         }
        }
       }
      }
     },
     "metadata": {},
     "output_type": "display_data"
    }
   ],
   "source": [
    "plot_refined_clusters(clusters, nodes_df)"
   ]
  },
  {
   "cell_type": "code",
   "execution_count": 2415,
   "metadata": {},
   "outputs": [
    {
     "data": {
      "application/vnd.plotly.v1+json": {
       "config": {
        "plotlyServerURL": "https://plot.ly"
       },
       "data": [
        {
         "hoverinfo": "text",
         "hovertext": [
          "Node: 0<br>Days: [0, 1, 2, 3]<br>Priority: 0.38",
          "Node: 3<br>Days: [0, 1, 2, 3]<br>Priority: 0.44",
          "Node: 29<br>Days: [0, 1, 3, 4]<br>Priority: 0.74",
          "Node: 39<br>Days: [0, 2, 3, 4]<br>Priority: 0.11",
          "Node: 21<br>Days: [0, 1, 2, 3]<br>Priority: 0.95",
          "Node: 47<br>Days: [0, 2, 3, 4]<br>Priority: 0.31",
          "Node: 0<br>Days: [0, 1, 2, 3]<br>Priority: 0.38"
         ],
         "line": {
          "color": "#76B041",
          "width": 2
         },
         "marker": {
          "color": "#76B041",
          "size": 8
         },
         "mode": "lines+markers",
         "name": "Route small_0",
         "type": "scatter",
         "x": [
          40,
          11,
          6,
          9,
          13,
          14,
          40
         ],
         "y": [
          69,
          59,
          49,
          50,
          47,
          51,
          69
         ]
        },
        {
         "hoverinfo": "text",
         "hovertext": [
          "Node: 0<br>Days: [0, 1, 2, 3]<br>Priority: 0.38",
          "Node: 40<br>Days: [1, 2, 3, 4]<br>Priority: 0.53",
          "Node: 23<br>Days: [0, 1, 2, 3]<br>Priority: 0.41",
          "Node: 13<br>Days: [0, 2, 3, 4]<br>Priority: 0.58",
          "Node: 4<br>Days: [1, 2, 3, 4]<br>Priority: 0.65",
          "Node: 35<br>Days: [0, 1, 3, 4]<br>Priority: 0.06",
          "Node: 0<br>Days: [0, 1, 2, 3]<br>Priority: 0.38"
         ],
         "line": {
          "color": "#F8766D",
          "width": 2
         },
         "marker": {
          "color": "#F8766D",
          "size": 8
         },
         "mode": "lines+markers",
         "name": "Route small_1",
         "type": "scatter",
         "x": [
          40,
          37,
          41,
          42,
          46,
          42,
          40
         ],
         "y": [
          69,
          50,
          41,
          33,
          23,
          16,
          69
         ]
        },
        {
         "hoverinfo": "text",
         "hovertext": [
          "Node: 0<br>Days: [0, 1, 2, 3]<br>Priority: 0.38",
          "Node: 22<br>Days: [1, 2, 3, 4]<br>Priority: 0.46",
          "Node: 48<br>Days: [0, 2, 3, 4]<br>Priority: 0.40",
          "Node: 12<br>Days: [0, 1, 2, 3]<br>Priority: 1.00",
          "Node: 49<br>Days: [0, 1, 2, 4]<br>Priority: 0.54",
          "Node: 19<br>Days: [0, 1, 2, 4]<br>Priority: 0.54",
          "Node: 0<br>Days: [0, 1, 2, 3]<br>Priority: 0.38"
         ],
         "line": {
          "color": "#00BFC4",
          "width": 2
         },
         "marker": {
          "color": "#00BFC4",
          "size": 8
         },
         "mode": "lines+markers",
         "name": "Route small_2",
         "type": "scatter",
         "x": [
          40,
          65,
          90,
          89,
          88,
          87,
          40
         ],
         "y": [
          69,
          49,
          28,
          30,
          50,
          57,
          69
         ]
        },
        {
         "hoverinfo": "text",
         "hovertext": [
          "Node: 0<br>Days: [0, 1, 2, 3]<br>Priority: 0.38",
          "Node: 24<br>Days: [0, 1, 3, 4]<br>Priority: 0.61",
          "Node: 43<br>Days: [0, 2, 3, 4]<br>Priority: 0.40",
          "Node: 42<br>Days: [0, 2, 3, 4]<br>Priority: 0.43",
          "Node: 10<br>Days: [0, 1, 2, 3]<br>Priority: 0.26",
          "Node: 36<br>Days: [0, 1, 3, 4]<br>Priority: 1.00",
          "Node: 2<br>Days: [0, 1, 2, 3]<br>Priority: 1.00",
          "Node: 0<br>Days: [0, 1, 2, 3]<br>Priority: 0.38"
         ],
         "line": {
          "color": "#C77CFF",
          "width": 2
         },
         "marker": {
          "color": "#C77CFF",
          "size": 8
         },
         "mode": "lines+markers",
         "name": "Route small_3",
         "type": "scatter",
         "x": [
          40,
          50,
          73,
          97,
          74,
          47,
          43,
          40
         ],
         "y": [
          69,
          80,
          81,
          92,
          95,
          94,
          90,
          69
         ]
        },
        {
         "hoverinfo": "text",
         "hovertext": [
          "Node: 0<br>Days: [0, 1, 2, 3]<br>Priority: 0.38",
          "Node: 45<br>Days: [0, 1, 3, 4]<br>Priority: 0.27",
          "Node: 7<br>Days: [0, 1, 2, 3]<br>Priority: 0.21",
          "Node: 14<br>Days: [1, 2, 3, 4]<br>Priority: 0.64",
          "Node: 25<br>Days: [0, 2, 3, 4]<br>Priority: 0.91",
          "Node: 11<br>Days: [0, 1, 2, 4]<br>Priority: 1.00",
          "Node: 0<br>Days: [0, 1, 2, 3]<br>Priority: 0.38"
         ],
         "line": {
          "color": "#FF61CC",
          "width": 2
         },
         "marker": {
          "color": "#FF61CC",
          "size": 8
         },
         "mode": "lines+markers",
         "name": "Route small_4",
         "type": "scatter",
         "x": [
          40,
          31,
          23,
          24,
          12,
          26,
          40
         ],
         "y": [
          69,
          82,
          100,
          85,
          41,
          55,
          69
         ]
        },
        {
         "hoverinfo": "text",
         "hovertext": "Home: Node 0<br>X: 40<br>Y: 69",
         "marker": {
          "color": "red",
          "size": 15,
          "symbol": "star"
         },
         "mode": "markers",
         "name": "Home Node",
         "type": "scatter",
         "x": [
          40
         ],
         "y": [
          69
         ]
        }
       ],
       "layout": {
        "height": 600,
        "hovermode": "closest",
        "legend": {
         "itemsizing": "constant",
         "title": {
          "text": "Clusters & Routes"
         }
        },
        "plot_bgcolor": "white",
        "template": {
         "data": {
          "bar": [
           {
            "error_x": {
             "color": "#2a3f5f"
            },
            "error_y": {
             "color": "#2a3f5f"
            },
            "marker": {
             "line": {
              "color": "#E5ECF6",
              "width": 0.5
             },
             "pattern": {
              "fillmode": "overlay",
              "size": 10,
              "solidity": 0.2
             }
            },
            "type": "bar"
           }
          ],
          "barpolar": [
           {
            "marker": {
             "line": {
              "color": "#E5ECF6",
              "width": 0.5
             },
             "pattern": {
              "fillmode": "overlay",
              "size": 10,
              "solidity": 0.2
             }
            },
            "type": "barpolar"
           }
          ],
          "carpet": [
           {
            "aaxis": {
             "endlinecolor": "#2a3f5f",
             "gridcolor": "white",
             "linecolor": "white",
             "minorgridcolor": "white",
             "startlinecolor": "#2a3f5f"
            },
            "baxis": {
             "endlinecolor": "#2a3f5f",
             "gridcolor": "white",
             "linecolor": "white",
             "minorgridcolor": "white",
             "startlinecolor": "#2a3f5f"
            },
            "type": "carpet"
           }
          ],
          "choropleth": [
           {
            "colorbar": {
             "outlinewidth": 0,
             "ticks": ""
            },
            "type": "choropleth"
           }
          ],
          "contour": [
           {
            "colorbar": {
             "outlinewidth": 0,
             "ticks": ""
            },
            "colorscale": [
             [
              0,
              "#0d0887"
             ],
             [
              0.1111111111111111,
              "#46039f"
             ],
             [
              0.2222222222222222,
              "#7201a8"
             ],
             [
              0.3333333333333333,
              "#9c179e"
             ],
             [
              0.4444444444444444,
              "#bd3786"
             ],
             [
              0.5555555555555556,
              "#d8576b"
             ],
             [
              0.6666666666666666,
              "#ed7953"
             ],
             [
              0.7777777777777778,
              "#fb9f3a"
             ],
             [
              0.8888888888888888,
              "#fdca26"
             ],
             [
              1,
              "#f0f921"
             ]
            ],
            "type": "contour"
           }
          ],
          "contourcarpet": [
           {
            "colorbar": {
             "outlinewidth": 0,
             "ticks": ""
            },
            "type": "contourcarpet"
           }
          ],
          "heatmap": [
           {
            "colorbar": {
             "outlinewidth": 0,
             "ticks": ""
            },
            "colorscale": [
             [
              0,
              "#0d0887"
             ],
             [
              0.1111111111111111,
              "#46039f"
             ],
             [
              0.2222222222222222,
              "#7201a8"
             ],
             [
              0.3333333333333333,
              "#9c179e"
             ],
             [
              0.4444444444444444,
              "#bd3786"
             ],
             [
              0.5555555555555556,
              "#d8576b"
             ],
             [
              0.6666666666666666,
              "#ed7953"
             ],
             [
              0.7777777777777778,
              "#fb9f3a"
             ],
             [
              0.8888888888888888,
              "#fdca26"
             ],
             [
              1,
              "#f0f921"
             ]
            ],
            "type": "heatmap"
           }
          ],
          "heatmapgl": [
           {
            "colorbar": {
             "outlinewidth": 0,
             "ticks": ""
            },
            "colorscale": [
             [
              0,
              "#0d0887"
             ],
             [
              0.1111111111111111,
              "#46039f"
             ],
             [
              0.2222222222222222,
              "#7201a8"
             ],
             [
              0.3333333333333333,
              "#9c179e"
             ],
             [
              0.4444444444444444,
              "#bd3786"
             ],
             [
              0.5555555555555556,
              "#d8576b"
             ],
             [
              0.6666666666666666,
              "#ed7953"
             ],
             [
              0.7777777777777778,
              "#fb9f3a"
             ],
             [
              0.8888888888888888,
              "#fdca26"
             ],
             [
              1,
              "#f0f921"
             ]
            ],
            "type": "heatmapgl"
           }
          ],
          "histogram": [
           {
            "marker": {
             "pattern": {
              "fillmode": "overlay",
              "size": 10,
              "solidity": 0.2
             }
            },
            "type": "histogram"
           }
          ],
          "histogram2d": [
           {
            "colorbar": {
             "outlinewidth": 0,
             "ticks": ""
            },
            "colorscale": [
             [
              0,
              "#0d0887"
             ],
             [
              0.1111111111111111,
              "#46039f"
             ],
             [
              0.2222222222222222,
              "#7201a8"
             ],
             [
              0.3333333333333333,
              "#9c179e"
             ],
             [
              0.4444444444444444,
              "#bd3786"
             ],
             [
              0.5555555555555556,
              "#d8576b"
             ],
             [
              0.6666666666666666,
              "#ed7953"
             ],
             [
              0.7777777777777778,
              "#fb9f3a"
             ],
             [
              0.8888888888888888,
              "#fdca26"
             ],
             [
              1,
              "#f0f921"
             ]
            ],
            "type": "histogram2d"
           }
          ],
          "histogram2dcontour": [
           {
            "colorbar": {
             "outlinewidth": 0,
             "ticks": ""
            },
            "colorscale": [
             [
              0,
              "#0d0887"
             ],
             [
              0.1111111111111111,
              "#46039f"
             ],
             [
              0.2222222222222222,
              "#7201a8"
             ],
             [
              0.3333333333333333,
              "#9c179e"
             ],
             [
              0.4444444444444444,
              "#bd3786"
             ],
             [
              0.5555555555555556,
              "#d8576b"
             ],
             [
              0.6666666666666666,
              "#ed7953"
             ],
             [
              0.7777777777777778,
              "#fb9f3a"
             ],
             [
              0.8888888888888888,
              "#fdca26"
             ],
             [
              1,
              "#f0f921"
             ]
            ],
            "type": "histogram2dcontour"
           }
          ],
          "mesh3d": [
           {
            "colorbar": {
             "outlinewidth": 0,
             "ticks": ""
            },
            "type": "mesh3d"
           }
          ],
          "parcoords": [
           {
            "line": {
             "colorbar": {
              "outlinewidth": 0,
              "ticks": ""
             }
            },
            "type": "parcoords"
           }
          ],
          "pie": [
           {
            "automargin": true,
            "type": "pie"
           }
          ],
          "scatter": [
           {
            "fillpattern": {
             "fillmode": "overlay",
             "size": 10,
             "solidity": 0.2
            },
            "type": "scatter"
           }
          ],
          "scatter3d": [
           {
            "line": {
             "colorbar": {
              "outlinewidth": 0,
              "ticks": ""
             }
            },
            "marker": {
             "colorbar": {
              "outlinewidth": 0,
              "ticks": ""
             }
            },
            "type": "scatter3d"
           }
          ],
          "scattercarpet": [
           {
            "marker": {
             "colorbar": {
              "outlinewidth": 0,
              "ticks": ""
             }
            },
            "type": "scattercarpet"
           }
          ],
          "scattergeo": [
           {
            "marker": {
             "colorbar": {
              "outlinewidth": 0,
              "ticks": ""
             }
            },
            "type": "scattergeo"
           }
          ],
          "scattergl": [
           {
            "marker": {
             "colorbar": {
              "outlinewidth": 0,
              "ticks": ""
             }
            },
            "type": "scattergl"
           }
          ],
          "scattermapbox": [
           {
            "marker": {
             "colorbar": {
              "outlinewidth": 0,
              "ticks": ""
             }
            },
            "type": "scattermapbox"
           }
          ],
          "scatterpolar": [
           {
            "marker": {
             "colorbar": {
              "outlinewidth": 0,
              "ticks": ""
             }
            },
            "type": "scatterpolar"
           }
          ],
          "scatterpolargl": [
           {
            "marker": {
             "colorbar": {
              "outlinewidth": 0,
              "ticks": ""
             }
            },
            "type": "scatterpolargl"
           }
          ],
          "scatterternary": [
           {
            "marker": {
             "colorbar": {
              "outlinewidth": 0,
              "ticks": ""
             }
            },
            "type": "scatterternary"
           }
          ],
          "surface": [
           {
            "colorbar": {
             "outlinewidth": 0,
             "ticks": ""
            },
            "colorscale": [
             [
              0,
              "#0d0887"
             ],
             [
              0.1111111111111111,
              "#46039f"
             ],
             [
              0.2222222222222222,
              "#7201a8"
             ],
             [
              0.3333333333333333,
              "#9c179e"
             ],
             [
              0.4444444444444444,
              "#bd3786"
             ],
             [
              0.5555555555555556,
              "#d8576b"
             ],
             [
              0.6666666666666666,
              "#ed7953"
             ],
             [
              0.7777777777777778,
              "#fb9f3a"
             ],
             [
              0.8888888888888888,
              "#fdca26"
             ],
             [
              1,
              "#f0f921"
             ]
            ],
            "type": "surface"
           }
          ],
          "table": [
           {
            "cells": {
             "fill": {
              "color": "#EBF0F8"
             },
             "line": {
              "color": "white"
             }
            },
            "header": {
             "fill": {
              "color": "#C8D4E3"
             },
             "line": {
              "color": "white"
             }
            },
            "type": "table"
           }
          ]
         },
         "layout": {
          "annotationdefaults": {
           "arrowcolor": "#2a3f5f",
           "arrowhead": 0,
           "arrowwidth": 1
          },
          "autotypenumbers": "strict",
          "coloraxis": {
           "colorbar": {
            "outlinewidth": 0,
            "ticks": ""
           }
          },
          "colorscale": {
           "diverging": [
            [
             0,
             "#8e0152"
            ],
            [
             0.1,
             "#c51b7d"
            ],
            [
             0.2,
             "#de77ae"
            ],
            [
             0.3,
             "#f1b6da"
            ],
            [
             0.4,
             "#fde0ef"
            ],
            [
             0.5,
             "#f7f7f7"
            ],
            [
             0.6,
             "#e6f5d0"
            ],
            [
             0.7,
             "#b8e186"
            ],
            [
             0.8,
             "#7fbc41"
            ],
            [
             0.9,
             "#4d9221"
            ],
            [
             1,
             "#276419"
            ]
           ],
           "sequential": [
            [
             0,
             "#0d0887"
            ],
            [
             0.1111111111111111,
             "#46039f"
            ],
            [
             0.2222222222222222,
             "#7201a8"
            ],
            [
             0.3333333333333333,
             "#9c179e"
            ],
            [
             0.4444444444444444,
             "#bd3786"
            ],
            [
             0.5555555555555556,
             "#d8576b"
            ],
            [
             0.6666666666666666,
             "#ed7953"
            ],
            [
             0.7777777777777778,
             "#fb9f3a"
            ],
            [
             0.8888888888888888,
             "#fdca26"
            ],
            [
             1,
             "#f0f921"
            ]
           ],
           "sequentialminus": [
            [
             0,
             "#0d0887"
            ],
            [
             0.1111111111111111,
             "#46039f"
            ],
            [
             0.2222222222222222,
             "#7201a8"
            ],
            [
             0.3333333333333333,
             "#9c179e"
            ],
            [
             0.4444444444444444,
             "#bd3786"
            ],
            [
             0.5555555555555556,
             "#d8576b"
            ],
            [
             0.6666666666666666,
             "#ed7953"
            ],
            [
             0.7777777777777778,
             "#fb9f3a"
            ],
            [
             0.8888888888888888,
             "#fdca26"
            ],
            [
             1,
             "#f0f921"
            ]
           ]
          },
          "colorway": [
           "#636efa",
           "#EF553B",
           "#00cc96",
           "#ab63fa",
           "#FFA15A",
           "#19d3f3",
           "#FF6692",
           "#B6E880",
           "#FF97FF",
           "#FECB52"
          ],
          "font": {
           "color": "#2a3f5f"
          },
          "geo": {
           "bgcolor": "white",
           "lakecolor": "white",
           "landcolor": "#E5ECF6",
           "showlakes": true,
           "showland": true,
           "subunitcolor": "white"
          },
          "hoverlabel": {
           "align": "left"
          },
          "hovermode": "closest",
          "mapbox": {
           "style": "light"
          },
          "paper_bgcolor": "white",
          "plot_bgcolor": "#E5ECF6",
          "polar": {
           "angularaxis": {
            "gridcolor": "white",
            "linecolor": "white",
            "ticks": ""
           },
           "bgcolor": "#E5ECF6",
           "radialaxis": {
            "gridcolor": "white",
            "linecolor": "white",
            "ticks": ""
           }
          },
          "scene": {
           "xaxis": {
            "backgroundcolor": "#E5ECF6",
            "gridcolor": "white",
            "gridwidth": 2,
            "linecolor": "white",
            "showbackground": true,
            "ticks": "",
            "zerolinecolor": "white"
           },
           "yaxis": {
            "backgroundcolor": "#E5ECF6",
            "gridcolor": "white",
            "gridwidth": 2,
            "linecolor": "white",
            "showbackground": true,
            "ticks": "",
            "zerolinecolor": "white"
           },
           "zaxis": {
            "backgroundcolor": "#E5ECF6",
            "gridcolor": "white",
            "gridwidth": 2,
            "linecolor": "white",
            "showbackground": true,
            "ticks": "",
            "zerolinecolor": "white"
           }
          },
          "shapedefaults": {
           "line": {
            "color": "#2a3f5f"
           }
          },
          "ternary": {
           "aaxis": {
            "gridcolor": "white",
            "linecolor": "white",
            "ticks": ""
           },
           "baxis": {
            "gridcolor": "white",
            "linecolor": "white",
            "ticks": ""
           },
           "bgcolor": "#E5ECF6",
           "caxis": {
            "gridcolor": "white",
            "linecolor": "white",
            "ticks": ""
           }
          },
          "title": {
           "x": 0.05
          },
          "xaxis": {
           "automargin": true,
           "gridcolor": "white",
           "linecolor": "white",
           "ticks": "",
           "title": {
            "standoff": 15
           },
           "zerolinecolor": "white",
           "zerolinewidth": 2
          },
          "yaxis": {
           "automargin": true,
           "gridcolor": "white",
           "linecolor": "white",
           "ticks": "",
           "title": {
            "standoff": 15
           },
           "zerolinecolor": "white",
           "zerolinewidth": 2
          }
         }
        },
        "title": {
         "text": "All Cluster Routes Visualization"
        },
        "width": 800,
        "xaxis": {
         "title": {
          "text": "X Coordinate"
         }
        },
        "yaxis": {
         "scaleanchor": "x",
         "scaleratio": 1,
         "title": {
          "text": "Y Coordinate"
         }
        }
       }
      }
     },
     "metadata": {},
     "output_type": "display_data"
    }
   ],
   "source": [
    "\"\"\"\n",
    "- How to choose max_travel_distance and span_cost_coefficient?\n",
    "- Define route based on:\n",
    "    - working hours (implicitly defined by total travel time)\n",
    "    - opening hours\n",
    "    - fixed appointments\n",
    "- Store state and if it was possible to find routes for all solutions add nodes\n",
    "- Compare routes with and without overnight stays / large clusters\n",
    "\"\"\"\n",
    "route_lists = find_route(clusters, nodes_df, distance_matrix)\n",
    "plot_all_cluster_routes(route_lists, nodes_df)"
   ]
  }
 ],
 "metadata": {
  "kernelspec": {
   "display_name": "Python 3",
   "language": "python",
   "name": "python3"
  },
  "language_info": {
   "codemirror_mode": {
    "name": "ipython",
    "version": 3
   },
   "file_extension": ".py",
   "mimetype": "text/x-python",
   "name": "python",
   "nbconvert_exporter": "python",
   "pygments_lexer": "ipython3",
   "version": "3.12.2"
  }
 },
 "nbformat": 4,
 "nbformat_minor": 2
}
