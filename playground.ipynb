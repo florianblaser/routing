{
 "cells": [
  {
   "cell_type": "markdown",
   "metadata": {},
   "source": [
    "Enter:\n",
    "- working hours\n",
    "- preference for overnight stays\n",
    "- fixed appointments"
   ]
  },
  {
   "cell_type": "code",
   "execution_count": 58,
   "metadata": {},
   "outputs": [],
   "source": [
    "from src.routing import create_nodes_dataframe, custom_clustering, plot_refined_clusters, assign_weekdays_to_clusters, plot_ind_route, plot_all_cluster_routes, create_data_model\n",
    "import pandas as pd\n",
    "\n",
    "from collections import Counter\n",
    "\n",
    "from ortools.constraint_solver import routing_enums_pb2\n",
    "from ortools.constraint_solver import pywrapcp\n",
    "\n",
    "num_large_clusters = 1\n",
    "num_small_clusters = 3"
   ]
  },
  {
   "cell_type": "code",
   "execution_count": 59,
   "metadata": {},
   "outputs": [],
   "source": [
    "nodes_df, time_matrix = create_nodes_dataframe(num_nodes=50, min_work_days=5, home_node_id=0, visiting_interval_min=10, visiting_interval_max=30, max_last_visit=20, frac_fixed_app=.05)"
   ]
  },
  {
   "cell_type": "code",
   "execution_count": 60,
   "metadata": {},
   "outputs": [],
   "source": [
    "clusters = custom_clustering(time_matrix.values, nodes_df, num_small_clusters=num_small_clusters, num_large_clusters=num_large_clusters, overnight_factor=1.3, precision=30)"
   ]
  },
  {
   "cell_type": "code",
   "execution_count": 61,
   "metadata": {},
   "outputs": [],
   "source": [
    "node_to_cluster = {node: cluster for cluster, nodes in clusters.items() for node in nodes}\n",
    "nodes_df['cluster'] = nodes_df['node_id'].map(node_to_cluster)"
   ]
  },
  {
   "cell_type": "code",
   "execution_count": 62,
   "metadata": {},
   "outputs": [],
   "source": [
    "nodes_df = assign_weekdays_to_clusters(nodes_df)"
   ]
  },
  {
   "cell_type": "markdown",
   "metadata": {},
   "source": [
    "The below will Fail if there are lunch breaks"
   ]
  },
  {
   "cell_type": "code",
   "execution_count": 63,
   "metadata": {},
   "outputs": [],
   "source": [
    "nodes_df['visit_day'] = nodes_df['visit_day'].apply(frozenset)\n",
    "\n",
    "def adjust_opening_hours(row):\n",
    "    visit_days = row['visit_day']\n",
    "    opening_hours = row['opening_hours']\n",
    "    adjusted_hours = {}\n",
    "    for day in visit_days:\n",
    "        if day in opening_hours:\n",
    "            open_time, close_time = opening_hours[day]\n",
    "            adjusted_open = open_time.hour * 60 + open_time.minute\n",
    "            adjusted_close = close_time.hour * 60 + close_time.minute\n",
    "            if len(visit_days) == 2 and max(visit_days) == day: # fail here if lunch break\n",
    "                adjusted_open += 1440\n",
    "                adjusted_close += 1440\n",
    "            adjusted_hours[int(day)] = (adjusted_open, adjusted_close)\n",
    "    return adjusted_hours\n",
    "\n",
    "nodes_df['adjusted_opening_hours'] = nodes_df.apply(adjust_opening_hours, axis=1)"
   ]
  },
  {
   "cell_type": "markdown",
   "metadata": {},
   "source": [
    "use margin as hyperparameter"
   ]
  },
  {
   "cell_type": "code",
   "execution_count": 64,
   "metadata": {},
   "outputs": [],
   "source": [
    "margin = 5\n",
    "\n",
    "def time_to_minutes(t):\n",
    "    return t.hour * 60 + t.minute + t.second / 60\n",
    "\n",
    "def adjust_hours(row):\n",
    "    opening_hours = row['adjusted_opening_hours']\n",
    "    appointment = row['fixed_appointment']\n",
    "    if appointment:\n",
    "        day, start_time, end_time = appointment\n",
    "        start_minutes = int(time_to_minutes(start_time) - margin)\n",
    "        end_minutes = int(time_to_minutes(end_time) + margin)\n",
    "\n",
    "        # Get the highest day key in the adjusted_opening_hours\n",
    "        max_day_key = max(opening_hours.keys()) if opening_hours else None\n",
    "        \n",
    "        # Check if the appointment is on the last (highest) day\n",
    "        if (day == max_day_key) & (day != 0):\n",
    "            start_minutes += 1440  # Add 24 hours in minutes\n",
    "            end_minutes += 1440\n",
    "\n",
    "        # Adjust opening hours for the appointment day\n",
    "        if day in opening_hours:\n",
    "            opening_hours = {day: (start_minutes, end_minutes)}\n",
    "        else:\n",
    "            # Add new day if it does not exist\n",
    "            opening_hours[day] = (start_minutes, end_minutes)\n",
    "    # make opening_hours a list of tuples\n",
    "    opening_hours = [[v[0], v[1]] for _, v in opening_hours.items()]\n",
    "    return opening_hours\n",
    "\n",
    "# Applying the function\n",
    "nodes_df['adjusted_opening_hours'] = nodes_df.apply(adjust_hours, axis=1)\n",
    "nodes_df['forbidden_starts'] = nodes_df['adjusted_opening_hours'].apply(lambda x: [0] + [i[1] for i in x])\n",
    "nodes_df['forbidden_ends'] = nodes_df['adjusted_opening_hours'].apply(lambda x: [i[0] for i in x] + [4880])\n",
    "# potentially ensure that all forbidden ends/starts are of equal length\n",
    "# [len(i) for i in nodes_df['forbidden_ends']].count(2), [len(i) for i in nodes_df['forbidden_ends']].count(3)"
   ]
  },
  {
   "cell_type": "code",
   "execution_count": 65,
   "metadata": {},
   "outputs": [],
   "source": [
    "nodes_df['cluster_size'] = nodes_df['cluster'].str.split('_').str[0]"
   ]
  },
  {
   "cell_type": "code",
   "execution_count": 66,
   "metadata": {},
   "outputs": [],
   "source": [
    "result_dfs = {}\n",
    "for index, group in nodes_df.groupby('visit_day'):\n",
    "    result_dfs[index] = group[['node_id', 'priority', 'adjusted_opening_hours', 'cluster_size', 'visit_day']]"
   ]
  },
  {
   "cell_type": "code",
   "execution_count": 67,
   "metadata": {},
   "outputs": [],
   "source": [
    "sub_nodes_df = result_dfs[list(result_dfs.keys())[1]]"
   ]
  },
  {
   "cell_type": "markdown",
   "metadata": {},
   "source": [
    "- allow not considering node with a certain penalty (larger for high prio [incl. distance to home] nodes and impossible if node has prio 1. nodes with fixed appointments have prio 1)\n",
    "- add non-consecutive time-window restrictions per node\n",
    "- ensure that routes end where they started"
   ]
  },
  {
   "cell_type": "code",
   "execution_count": 68,
   "metadata": {},
   "outputs": [
    {
     "name": "stdout",
     "output_type": "stream",
     "text": [
      "None\n"
     ]
    }
   ],
   "source": [
    "solutions = {}\n",
    "working_hours = [8 * 60, 18 * 60]\n",
    "span_cost_coefficient = 100 # adjust\n",
    "slack = 0\n",
    "\n",
    "def create_data_model(sub_nodes_df, sub_time_matrix):\n",
    "    \"\"\"Stores the data for the problem.\"\"\"\n",
    "    data = {}\n",
    "    data['time_matrix'] = sub_time_matrix\n",
    "    data['windows'] = sub_nodes_df['adjusted_opening_hours'].tolist()\n",
    "    data['priorities'] = sub_nodes_df['priority'].tolist()\n",
    "    data['num_vehicles'] = 1\n",
    "    data['depot'] = 0\n",
    "    return data\n",
    "\n",
    "def extract_solution_as_list(manager, routing, solution):\n",
    "    \"\"\"Extract the route and the start time of visits from the solution.\"\"\"\n",
    "    index = routing.Start(0)\n",
    "    route_sequence = []\n",
    "    time_dimension = routing.GetDimensionOrDie('Time')\n",
    "    while not routing.IsEnd(index):\n",
    "        node_index = manager.IndexToNode(index)\n",
    "        time_var = time_dimension.CumulVar(index)\n",
    "        start_time = solution.Min(time_var)\n",
    "        route_sequence.append((node_index, start_time))\n",
    "        index = solution.Value(routing.NextVar(index))\n",
    "    route_sequence.append((manager.IndexToNode(index), solution.Min(time_dimension.CumulVar(index))))\n",
    "    return route_sequence\n",
    "\n",
    "max_travel_time = 720 if len(sub_nodes_df['visit_day'].iloc[0]) == 1 else 1440\n",
    "nodes = sub_nodes_df['node_id'].tolist()\n",
    "sub_time_matrix = time_matrix.loc[nodes, nodes].values.tolist()\n",
    "sub_time_matrix = [[int(x) for x in row] for row in sub_time_matrix]\n",
    "\n",
    "data = create_data_model(sub_nodes_df, sub_time_matrix)\n",
    "\n",
    "manager = pywrapcp.RoutingIndexManager(len(data[\"time_matrix\"]), data[\"num_vehicles\"], data[\"depot\"])\n",
    "\n",
    "routing = pywrapcp.RoutingModel(manager)\n",
    "\n",
    "def time_callback(from_index, to_index):\n",
    "    from_node = manager.IndexToNode(from_index)\n",
    "    to_node = manager.IndexToNode(to_index)\n",
    "    return data[\"time_matrix\"][from_node][to_node]\n",
    "\n",
    "transit_callback_index = routing.RegisterTransitCallback(time_callback)\n",
    "\n",
    "routing.SetArcCostEvaluatorOfAllVehicles(transit_callback_index)\n",
    "\n",
    "dimension_name = \"total_time\"\n",
    "routing.AddDimension(\n",
    "    transit_callback_index,\n",
    "    slack,  # upper bound for slack / waiting time\n",
    "    max_travel_time,  # upper bound for vehicle maximum travel time\n",
    "    True,  # start cumul to zero\n",
    "    dimension_name\n",
    ")\n",
    "\n",
    "time_dimension = routing.GetDimensionOrDie(dimension_name)\n",
    "time_dimension.SetGlobalSpanCostCoefficient(span_cost_coefficient)\n",
    "\n",
    "for location_index, priority in enumerate(data['priorities']):\n",
    "    index = manager.NodeToIndex(location_index)\n",
    "    if index == 0:\n",
    "        continue\n",
    "    else:\n",
    "        routing.AddDisjunction([index], int(round((priority*100)**2/100, 0)))\n",
    "\n",
    "for location_index, windows in enumerate(data['windows']):\n",
    "    index = manager.NodeToIndex(location_index)\n",
    "    days = len(windows)\n",
    "    start_time = 0\n",
    "    end_time = days * 1440\n",
    "    \n",
    "    # remove start to windows[0][0] and windows[-1][1] to end\n",
    "    latest_start = max(start_time, windows[0][0])\n",
    "    time_dimension.CumulVar(index).RemoveInterval(start_time, windows[0][0])\n",
    "    time_dimension.CumulVar(index).RemoveInterval(start_time, working_hours[0])\n",
    "    \n",
    "    earliest_end = min(end_time, windows[-1][1])\n",
    "    time_dimension.CumulVar(index).RemoveInterval(windows[-1][1], end_time)\n",
    "    time_dimension.CumulVar(index).RemoveInterval(windows[-1][1], working_hours[1])\n",
    "\n",
    "    # remove time between days\n",
    "    if days > 1:\n",
    "        for day in range(1, days):\n",
    "            time_dimension.CumulVar(index).RemoveInterval(windows[day-1][1], windows[day][0])\n",
    "            time_dimension.CumulVar(index).RemoveInterval(working_hours[1] + 1440 * (day-1), working_hours[0] + 1440 * day)\n",
    "\n",
    "solver = routing.solver()\n",
    "\n",
    "search_parameters = pywrapcp.DefaultRoutingSearchParameters()\n",
    "search_parameters.first_solution_strategy = (\n",
    "    routing_enums_pb2.FirstSolutionStrategy.PATH_CHEAPEST_ARC  # alternative: PARALLEL_CHEAPEST_INSERTION\n",
    ")\n",
    "\n",
    "solution = routing.SolveWithParameters(search_parameters)\n",
    "    # if solution:\n",
    "    #     solution_list = extract_solution_as_list(manager, routing, solution)\n",
    "    #     solutions[key] = solution_list\n",
    "    # else:\n",
    "    #     solutions[key] = 'No solution found.'\n",
    "\n",
    "print(solution)"
   ]
  },
  {
   "cell_type": "markdown",
   "metadata": {},
   "source": [
    "- print more info (opening hours, fixed appointments, priority, decisions [removing a node, replacing a node to another day, priority, etc])\n",
    "- use data to fine tune hyperparameters\n",
    "\n",
    "evtl:\n",
    "- Store state and if it was possible to find routes for all solutions iteratively add nodes based on node priority and distance to root node (those further away should be included more likely)\n",
    "- Test Discrete Priority (must be visited this week; must be visited next week; ...)\n",
    "- Compare routes with and without overnight stays / large clusters"
   ]
  },
  {
   "cell_type": "code",
   "execution_count": 69,
   "metadata": {},
   "outputs": [],
   "source": [
    "# plot_all_cluster_routes(solutions, nodes_df)"
   ]
  }
 ],
 "metadata": {
  "kernelspec": {
   "display_name": "Python 3",
   "language": "python",
   "name": "python3"
  },
  "language_info": {
   "codemirror_mode": {
    "name": "ipython",
    "version": 3
   },
   "file_extension": ".py",
   "mimetype": "text/x-python",
   "name": "python",
   "nbconvert_exporter": "python",
   "pygments_lexer": "ipython3",
   "version": "3.12.2"
  }
 },
 "nbformat": 4,
 "nbformat_minor": 2
}
