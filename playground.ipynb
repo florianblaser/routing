{
 "cells": [
  {
   "cell_type": "code",
   "execution_count": 11,
   "metadata": {},
   "outputs": [],
   "source": [
    "from src.routing import create_data, get_options_df, solve, prelim_check\n",
    "import time\n",
    "import pandas as pd\n",
    "import numpy as np"
   ]
  },
  {
   "cell_type": "code",
   "execution_count": 12,
   "metadata": {},
   "outputs": [],
   "source": [
    "def save_results(results_df, filename='vrp_results.csv'):\n",
    "    results_df.to_csv(filename, index=False)\n",
    "    print(f\"Results saved to {filename}\")\n",
    "    \n",
    "def load_results(filename='vrp_results.csv'):\n",
    "    import os\n",
    "    if os.path.exists(filename):\n",
    "        return pd.read_csv(filename)\n",
    "    else:\n",
    "        print(f\"No existing file found. A new DataFrame will be initialized.\")\n",
    "        return pd.DataFrame()  # Return an empty DataFrame if the file does not exist\n",
    "\n",
    "def append_and_save_new_results(new_results, filename='vrp_results.csv'):\n",
    "    existing_results_df = load_results(filename)\n",
    "    # Concatenate new results to the existing DataFrame\n",
    "    updated_results_df = pd.concat([existing_results_df, pd.DataFrame(new_results)], ignore_index=True)\n",
    "    # Save the updated DataFrame\n",
    "    save_results(updated_results_df, filename)"
   ]
  },
  {
   "cell_type": "code",
   "execution_count": 13,
   "metadata": {},
   "outputs": [],
   "source": [
    "# Work_schedule\n",
    "work_schedule = {\n",
    "    1: [7 * 60, 19 * 60],\n",
    "    2: [18 * 60, 18 * 60],\n",
    "    3: [18 * 60, 18 * 60],\n",
    "    4: [19 * 60, 19 * 60],\n",
    "    5: [17 * 60, 17 * 60],\n",
    "    6: [18 * 60, 18 * 60],\n",
    "    7: [18 * 60, 18 * 60]\n",
    "}"
   ]
  },
  {
   "cell_type": "code",
   "execution_count": 14,
   "metadata": {},
   "outputs": [],
   "source": [
    "num_nodes = 100\n",
    "min_work_days = 5\n",
    "percentage_of_appointments = 0.2\n",
    "\n",
    "overnight_stays_ok = {1}\n",
    "min_distance_overnight = 50\n",
    "lunch_earliest_start = 12\n",
    "lunch_duration = 30\n",
    "fix_app_margin = 10\n",
    "\n",
    "day_lengths = {day: (end - start) for day, (start, end) in work_schedule.items()}\n",
    "days_off = {day for day, length in day_lengths.items() if length == 0}\n",
    "work_days = {day for day in day_lengths if day not in days_off}\n",
    "max_day_length = max(day_lengths.values())\n",
    "relative_day_lengths = [round(length / max_day_length, 2) for _, length in day_lengths.items()]\n",
    "no_overnight_stays = {day for day in day_lengths if day not in days_off and day not in overnight_stays_ok}\n",
    "max_days_off = len(days_off)\n",
    "n_work_days = 7 - max_days_off\n",
    "\n",
    "# Algorithm\n",
    "#penalty_factor = [10, 100000, 200] # exponent (more spread between fixed/nonfixed) & max/min prio\n",
    "overnight_cost = 2\n",
    "GlobalSpanCostCoefficient = 0\n",
    "slack = 200000\n",
    "\n",
    "nodes_df, time_matrix = create_data(num_nodes, percentage_of_appointments, home_node_id=0, min_work_days=min_work_days, days_off=days_off, visiting_interval_min=10, visiting_interval_max=30, max_last_visit=30, simple_schedule=False)\n",
    "nodes_df, messages = prelim_check(nodes_df, time_matrix, work_schedule, fix_app_margin, work_days, verbose=False)"
   ]
  },
  {
   "cell_type": "code",
   "execution_count": 15,
   "metadata": {},
   "outputs": [],
   "source": [
    "total_hours = 0\n",
    "for day, hours in work_schedule.items():\n",
    "    if not day in days_off:\n",
    "        total_hours += hours[1] - hours[0]\n",
    "\n",
    "n_fixed_appointments = sum(nodes_df['fixed_appointment'].notnull())\n",
    "\n",
    "avg_spread = time_matrix.iloc[nodes_df['node_id'].values, nodes_df['node_id'].values].median().median()\n",
    "max_spread = time_matrix.iloc[nodes_df['node_id'].values, nodes_df['node_id'].values].max().max()\n",
    "options_df = get_options_df(days_off, relative_day_lengths, no_overnight_stays, max_days_off)\n",
    "time_limit = 10\n",
    "num_nodes_to_consider = 8\n",
    "\n",
    "nodes_df = nodes_df.sort_values('priority', ascending=False, inplace=False)\n",
    "top_nodes_df = nodes_df.head(num_nodes_to_consider)\n",
    "if 0 not in top_nodes_df['node_id'].values:\n",
    "    node_zero_df = nodes_df[nodes_df['node_id'] == 0]\n",
    "    nodes_df = pd.concat([node_zero_df, top_nodes_df]).head(num_nodes_to_consider)\n",
    "else:\n",
    "    nodes_df = top_nodes_df\n",
    "nodes_df = nodes_df.sort_values('node_id', ascending=True, inplace=False)\n",
    "\n",
    "existing_results_df = load_results()\n",
    "max_index = existing_results_df['index'].max() if len(existing_results_df) > 0 else 0\n",
    "\n",
    "results = []\n",
    "\n",
    "first_algorithm = 'SAVINGS' # 'PATH_CHEAPEST_ARC', 'SAVINGS', 'PARALLEL_CHEAPEST_INSERTION', 'BEST_INSERTION'\n",
    "second_algorithm = 'GUIDED_LOCAL_SEARCH' # 'GUIDED_LOCAL_SEARCH', 'GREEDY_DESCENT'\n",
    "\n",
    "start_time = time.time()"
   ]
  },
  {
   "cell_type": "code",
   "execution_count": 21,
   "metadata": {},
   "outputs": [
    {
     "name": "stdout",
     "output_type": "stream",
     "text": [
      "0     {1}\n",
      "1     {1}\n",
      "36    {1}\n",
      "44    {1}\n",
      "47    {1}\n",
      "55    {1}\n",
      "68    {1}\n",
      "73    {1}\n",
      "Name: cluster, dtype: object\n",
      "end index: 4 internal start index: 5, data depot: 0\n",
      "location index: 0 and initial index 0, windows: [[420, 1140]]\n",
      "location index: 1 and initial index 1, windows: [[480, 892]]\n",
      "location index: 2 and initial index 36, windows: [[1032, 1032]]\n",
      "location index: 3 and initial index 44, windows: [[480, 962]]\n",
      "location index: 4 and initial index 47, windows: [[775, 775]]\n",
      "location index: 5 and initial index 55, windows: [[480, 908]]\n",
      "location index: 6 and initial index 68, windows: [[480, 931]]\n",
      "location index: 7 and initial index 73, windows: [[661, 661]]\n",
      "Option 0 with objective value 510 and 0 dropped nodes\n"
     ]
    },
    {
     "data": {
      "application/vnd.plotly.v1+json": {
       "config": {
        "plotlyServerURL": "https://plot.ly"
       },
       "data": [
        {
         "hoverinfo": "text",
         "hovertext": [
          "Node: 55<br>Time: 00:01 (day 1)<br>Priority: 1000.00<br>Days: [1, 3, 5, 6, 7]<br>Time Window: [['08:00 (day 1)', '15:08 (day 1)']]<br>On site time: 34<br>",
          "Node: 1<br>Time: 00:58 (day 1)<br>Priority: 1000.00<br>Days: [1, 2, 3, 5, 6]<br>Time Window: [['08:00 (day 1)', '14:52 (day 1)']]<br>On site time: 56<br>",
          "Node: 47<br>Time: 02:39 (day 1)<br>Priority: 5000.00<br>Days: [1, 2, 3, 4, 6]<br>Time Window: [['12:55 (day 1)', '12:55 (day 1)']]<br>On site time: 43<br>",
          "Node: 36<br>Time: 03:45 (day 1)<br>Priority: 5000.00<br>Days: [1, 2, 3, 4, 5]<br>Time Window: [['17:12 (day 1)', '17:12 (day 1)']]<br>On site time: 47<br>",
          "Node: 44<br>Time: 04:49 (day 1)<br>Priority: 1000.00<br>Days: [1, 2, 5, 6, 7]<br>Time Window: [['08:00 (day 1)', '16:02 (day 1)']]<br>On site time: 53<br>",
          "Node: 73<br>Time: 05:48 (day 1)<br>Priority: 5000.00<br>Days: [1, 3, 5, 6, 7]<br>Time Window: [['11:01 (day 1)', '11:01 (day 1)']]<br>On site time: 36<br>",
          "Node: 68<br>Time: 07:03 (day 1)<br>Priority: 1000.00<br>Days: [1, 2, 3, 4, 5]<br>Time Window: [['08:00 (day 1)', '15:31 (day 1)']]<br>On site time: 49<br>",
          "Node: 0<br>Time: 08:31 (day 1)<br>Priority: 1000.00<br>Days: [1, 2, 3, 4, 5, 6, 7]<br>Time Window: [['07:00 (day 1)', '19:00 (day 1)']]<br>On site time: 0<br>"
         ],
         "line": {
          "color": "#76B041",
          "width": 2
         },
         "marker": {
          "color": [
           "#76B041",
           "#76B041",
           "black",
           "black",
           "#76B041",
           "black",
           "#76B041",
           "#76B041"
          ],
          "size": 10,
          "symbol": "circle"
         },
         "mode": "lines+markers",
         "name": "Visited - 1_day_trip_0_{1}",
         "type": "scatter",
         "x": [
          12,
          32,
          56,
          79,
          76,
          76,
          89,
          77
         ],
         "y": [
          17,
          5,
          44,
          39,
          56,
          62,
          99,
          61
         ]
        },
        {
         "hoverinfo": "text",
         "hovertext": "Home: Node 0<br>X: 77<br>Y: 61",
         "marker": {
          "color": "red",
          "size": 15,
          "symbol": "star"
         },
         "mode": "markers",
         "name": "Home Node",
         "type": "scatter",
         "x": [
          77
         ],
         "y": [
          61
         ]
        }
       ],
       "layout": {
        "height": 600,
        "hovermode": "closest",
        "legend": {
         "itemsizing": "constant",
         "title": {
          "text": "Clusters & Routes"
         }
        },
        "plot_bgcolor": "white",
        "template": {
         "data": {
          "bar": [
           {
            "error_x": {
             "color": "#2a3f5f"
            },
            "error_y": {
             "color": "#2a3f5f"
            },
            "marker": {
             "line": {
              "color": "#E5ECF6",
              "width": 0.5
             },
             "pattern": {
              "fillmode": "overlay",
              "size": 10,
              "solidity": 0.2
             }
            },
            "type": "bar"
           }
          ],
          "barpolar": [
           {
            "marker": {
             "line": {
              "color": "#E5ECF6",
              "width": 0.5
             },
             "pattern": {
              "fillmode": "overlay",
              "size": 10,
              "solidity": 0.2
             }
            },
            "type": "barpolar"
           }
          ],
          "carpet": [
           {
            "aaxis": {
             "endlinecolor": "#2a3f5f",
             "gridcolor": "white",
             "linecolor": "white",
             "minorgridcolor": "white",
             "startlinecolor": "#2a3f5f"
            },
            "baxis": {
             "endlinecolor": "#2a3f5f",
             "gridcolor": "white",
             "linecolor": "white",
             "minorgridcolor": "white",
             "startlinecolor": "#2a3f5f"
            },
            "type": "carpet"
           }
          ],
          "choropleth": [
           {
            "colorbar": {
             "outlinewidth": 0,
             "ticks": ""
            },
            "type": "choropleth"
           }
          ],
          "contour": [
           {
            "colorbar": {
             "outlinewidth": 0,
             "ticks": ""
            },
            "colorscale": [
             [
              0,
              "#0d0887"
             ],
             [
              0.1111111111111111,
              "#46039f"
             ],
             [
              0.2222222222222222,
              "#7201a8"
             ],
             [
              0.3333333333333333,
              "#9c179e"
             ],
             [
              0.4444444444444444,
              "#bd3786"
             ],
             [
              0.5555555555555556,
              "#d8576b"
             ],
             [
              0.6666666666666666,
              "#ed7953"
             ],
             [
              0.7777777777777778,
              "#fb9f3a"
             ],
             [
              0.8888888888888888,
              "#fdca26"
             ],
             [
              1,
              "#f0f921"
             ]
            ],
            "type": "contour"
           }
          ],
          "contourcarpet": [
           {
            "colorbar": {
             "outlinewidth": 0,
             "ticks": ""
            },
            "type": "contourcarpet"
           }
          ],
          "heatmap": [
           {
            "colorbar": {
             "outlinewidth": 0,
             "ticks": ""
            },
            "colorscale": [
             [
              0,
              "#0d0887"
             ],
             [
              0.1111111111111111,
              "#46039f"
             ],
             [
              0.2222222222222222,
              "#7201a8"
             ],
             [
              0.3333333333333333,
              "#9c179e"
             ],
             [
              0.4444444444444444,
              "#bd3786"
             ],
             [
              0.5555555555555556,
              "#d8576b"
             ],
             [
              0.6666666666666666,
              "#ed7953"
             ],
             [
              0.7777777777777778,
              "#fb9f3a"
             ],
             [
              0.8888888888888888,
              "#fdca26"
             ],
             [
              1,
              "#f0f921"
             ]
            ],
            "type": "heatmap"
           }
          ],
          "heatmapgl": [
           {
            "colorbar": {
             "outlinewidth": 0,
             "ticks": ""
            },
            "colorscale": [
             [
              0,
              "#0d0887"
             ],
             [
              0.1111111111111111,
              "#46039f"
             ],
             [
              0.2222222222222222,
              "#7201a8"
             ],
             [
              0.3333333333333333,
              "#9c179e"
             ],
             [
              0.4444444444444444,
              "#bd3786"
             ],
             [
              0.5555555555555556,
              "#d8576b"
             ],
             [
              0.6666666666666666,
              "#ed7953"
             ],
             [
              0.7777777777777778,
              "#fb9f3a"
             ],
             [
              0.8888888888888888,
              "#fdca26"
             ],
             [
              1,
              "#f0f921"
             ]
            ],
            "type": "heatmapgl"
           }
          ],
          "histogram": [
           {
            "marker": {
             "pattern": {
              "fillmode": "overlay",
              "size": 10,
              "solidity": 0.2
             }
            },
            "type": "histogram"
           }
          ],
          "histogram2d": [
           {
            "colorbar": {
             "outlinewidth": 0,
             "ticks": ""
            },
            "colorscale": [
             [
              0,
              "#0d0887"
             ],
             [
              0.1111111111111111,
              "#46039f"
             ],
             [
              0.2222222222222222,
              "#7201a8"
             ],
             [
              0.3333333333333333,
              "#9c179e"
             ],
             [
              0.4444444444444444,
              "#bd3786"
             ],
             [
              0.5555555555555556,
              "#d8576b"
             ],
             [
              0.6666666666666666,
              "#ed7953"
             ],
             [
              0.7777777777777778,
              "#fb9f3a"
             ],
             [
              0.8888888888888888,
              "#fdca26"
             ],
             [
              1,
              "#f0f921"
             ]
            ],
            "type": "histogram2d"
           }
          ],
          "histogram2dcontour": [
           {
            "colorbar": {
             "outlinewidth": 0,
             "ticks": ""
            },
            "colorscale": [
             [
              0,
              "#0d0887"
             ],
             [
              0.1111111111111111,
              "#46039f"
             ],
             [
              0.2222222222222222,
              "#7201a8"
             ],
             [
              0.3333333333333333,
              "#9c179e"
             ],
             [
              0.4444444444444444,
              "#bd3786"
             ],
             [
              0.5555555555555556,
              "#d8576b"
             ],
             [
              0.6666666666666666,
              "#ed7953"
             ],
             [
              0.7777777777777778,
              "#fb9f3a"
             ],
             [
              0.8888888888888888,
              "#fdca26"
             ],
             [
              1,
              "#f0f921"
             ]
            ],
            "type": "histogram2dcontour"
           }
          ],
          "mesh3d": [
           {
            "colorbar": {
             "outlinewidth": 0,
             "ticks": ""
            },
            "type": "mesh3d"
           }
          ],
          "parcoords": [
           {
            "line": {
             "colorbar": {
              "outlinewidth": 0,
              "ticks": ""
             }
            },
            "type": "parcoords"
           }
          ],
          "pie": [
           {
            "automargin": true,
            "type": "pie"
           }
          ],
          "scatter": [
           {
            "fillpattern": {
             "fillmode": "overlay",
             "size": 10,
             "solidity": 0.2
            },
            "type": "scatter"
           }
          ],
          "scatter3d": [
           {
            "line": {
             "colorbar": {
              "outlinewidth": 0,
              "ticks": ""
             }
            },
            "marker": {
             "colorbar": {
              "outlinewidth": 0,
              "ticks": ""
             }
            },
            "type": "scatter3d"
           }
          ],
          "scattercarpet": [
           {
            "marker": {
             "colorbar": {
              "outlinewidth": 0,
              "ticks": ""
             }
            },
            "type": "scattercarpet"
           }
          ],
          "scattergeo": [
           {
            "marker": {
             "colorbar": {
              "outlinewidth": 0,
              "ticks": ""
             }
            },
            "type": "scattergeo"
           }
          ],
          "scattergl": [
           {
            "marker": {
             "colorbar": {
              "outlinewidth": 0,
              "ticks": ""
             }
            },
            "type": "scattergl"
           }
          ],
          "scattermapbox": [
           {
            "marker": {
             "colorbar": {
              "outlinewidth": 0,
              "ticks": ""
             }
            },
            "type": "scattermapbox"
           }
          ],
          "scatterpolar": [
           {
            "marker": {
             "colorbar": {
              "outlinewidth": 0,
              "ticks": ""
             }
            },
            "type": "scatterpolar"
           }
          ],
          "scatterpolargl": [
           {
            "marker": {
             "colorbar": {
              "outlinewidth": 0,
              "ticks": ""
             }
            },
            "type": "scatterpolargl"
           }
          ],
          "scatterternary": [
           {
            "marker": {
             "colorbar": {
              "outlinewidth": 0,
              "ticks": ""
             }
            },
            "type": "scatterternary"
           }
          ],
          "surface": [
           {
            "colorbar": {
             "outlinewidth": 0,
             "ticks": ""
            },
            "colorscale": [
             [
              0,
              "#0d0887"
             ],
             [
              0.1111111111111111,
              "#46039f"
             ],
             [
              0.2222222222222222,
              "#7201a8"
             ],
             [
              0.3333333333333333,
              "#9c179e"
             ],
             [
              0.4444444444444444,
              "#bd3786"
             ],
             [
              0.5555555555555556,
              "#d8576b"
             ],
             [
              0.6666666666666666,
              "#ed7953"
             ],
             [
              0.7777777777777778,
              "#fb9f3a"
             ],
             [
              0.8888888888888888,
              "#fdca26"
             ],
             [
              1,
              "#f0f921"
             ]
            ],
            "type": "surface"
           }
          ],
          "table": [
           {
            "cells": {
             "fill": {
              "color": "#EBF0F8"
             },
             "line": {
              "color": "white"
             }
            },
            "header": {
             "fill": {
              "color": "#C8D4E3"
             },
             "line": {
              "color": "white"
             }
            },
            "type": "table"
           }
          ]
         },
         "layout": {
          "annotationdefaults": {
           "arrowcolor": "#2a3f5f",
           "arrowhead": 0,
           "arrowwidth": 1
          },
          "autotypenumbers": "strict",
          "coloraxis": {
           "colorbar": {
            "outlinewidth": 0,
            "ticks": ""
           }
          },
          "colorscale": {
           "diverging": [
            [
             0,
             "#8e0152"
            ],
            [
             0.1,
             "#c51b7d"
            ],
            [
             0.2,
             "#de77ae"
            ],
            [
             0.3,
             "#f1b6da"
            ],
            [
             0.4,
             "#fde0ef"
            ],
            [
             0.5,
             "#f7f7f7"
            ],
            [
             0.6,
             "#e6f5d0"
            ],
            [
             0.7,
             "#b8e186"
            ],
            [
             0.8,
             "#7fbc41"
            ],
            [
             0.9,
             "#4d9221"
            ],
            [
             1,
             "#276419"
            ]
           ],
           "sequential": [
            [
             0,
             "#0d0887"
            ],
            [
             0.1111111111111111,
             "#46039f"
            ],
            [
             0.2222222222222222,
             "#7201a8"
            ],
            [
             0.3333333333333333,
             "#9c179e"
            ],
            [
             0.4444444444444444,
             "#bd3786"
            ],
            [
             0.5555555555555556,
             "#d8576b"
            ],
            [
             0.6666666666666666,
             "#ed7953"
            ],
            [
             0.7777777777777778,
             "#fb9f3a"
            ],
            [
             0.8888888888888888,
             "#fdca26"
            ],
            [
             1,
             "#f0f921"
            ]
           ],
           "sequentialminus": [
            [
             0,
             "#0d0887"
            ],
            [
             0.1111111111111111,
             "#46039f"
            ],
            [
             0.2222222222222222,
             "#7201a8"
            ],
            [
             0.3333333333333333,
             "#9c179e"
            ],
            [
             0.4444444444444444,
             "#bd3786"
            ],
            [
             0.5555555555555556,
             "#d8576b"
            ],
            [
             0.6666666666666666,
             "#ed7953"
            ],
            [
             0.7777777777777778,
             "#fb9f3a"
            ],
            [
             0.8888888888888888,
             "#fdca26"
            ],
            [
             1,
             "#f0f921"
            ]
           ]
          },
          "colorway": [
           "#636efa",
           "#EF553B",
           "#00cc96",
           "#ab63fa",
           "#FFA15A",
           "#19d3f3",
           "#FF6692",
           "#B6E880",
           "#FF97FF",
           "#FECB52"
          ],
          "font": {
           "color": "#2a3f5f"
          },
          "geo": {
           "bgcolor": "white",
           "lakecolor": "white",
           "landcolor": "#E5ECF6",
           "showlakes": true,
           "showland": true,
           "subunitcolor": "white"
          },
          "hoverlabel": {
           "align": "left"
          },
          "hovermode": "closest",
          "mapbox": {
           "style": "light"
          },
          "paper_bgcolor": "white",
          "plot_bgcolor": "#E5ECF6",
          "polar": {
           "angularaxis": {
            "gridcolor": "white",
            "linecolor": "white",
            "ticks": ""
           },
           "bgcolor": "#E5ECF6",
           "radialaxis": {
            "gridcolor": "white",
            "linecolor": "white",
            "ticks": ""
           }
          },
          "scene": {
           "xaxis": {
            "backgroundcolor": "#E5ECF6",
            "gridcolor": "white",
            "gridwidth": 2,
            "linecolor": "white",
            "showbackground": true,
            "ticks": "",
            "zerolinecolor": "white"
           },
           "yaxis": {
            "backgroundcolor": "#E5ECF6",
            "gridcolor": "white",
            "gridwidth": 2,
            "linecolor": "white",
            "showbackground": true,
            "ticks": "",
            "zerolinecolor": "white"
           },
           "zaxis": {
            "backgroundcolor": "#E5ECF6",
            "gridcolor": "white",
            "gridwidth": 2,
            "linecolor": "white",
            "showbackground": true,
            "ticks": "",
            "zerolinecolor": "white"
           }
          },
          "shapedefaults": {
           "line": {
            "color": "#2a3f5f"
           }
          },
          "ternary": {
           "aaxis": {
            "gridcolor": "white",
            "linecolor": "white",
            "ticks": ""
           },
           "baxis": {
            "gridcolor": "white",
            "linecolor": "white",
            "ticks": ""
           },
           "bgcolor": "#E5ECF6",
           "caxis": {
            "gridcolor": "white",
            "linecolor": "white",
            "ticks": ""
           }
          },
          "title": {
           "x": 0.05
          },
          "xaxis": {
           "automargin": true,
           "gridcolor": "white",
           "linecolor": "white",
           "ticks": "",
           "title": {
            "standoff": 15
           },
           "zerolinecolor": "white",
           "zerolinewidth": 2
          },
          "yaxis": {
           "automargin": true,
           "gridcolor": "white",
           "linecolor": "white",
           "ticks": "",
           "title": {
            "standoff": 15
           },
           "zerolinecolor": "white",
           "zerolinewidth": 2
          }
         }
        },
        "title": {
         "text": "All Cluster Routes Visualization"
        },
        "width": 800,
        "xaxis": {
         "title": {
          "text": "X Coordinate"
         }
        },
        "yaxis": {
         "scaleanchor": "x",
         "scaleratio": 1,
         "title": {
          "text": "Y Coordinate"
         }
        }
       }
      }
     },
     "metadata": {},
     "output_type": "display_data"
    }
   ],
   "source": [
    "start_node = 55\n",
    "updated_options_df, figs, routes, updated_nodes_df = solve(options_df, nodes_df, time_matrix, slack, work_schedule, fix_app_margin, time_limit, lunch_duration, first_algorithm, second_algorithm, GlobalSpanCostCoefficient, min_distance_overnight, start_node, verbose=False, visual=True, restrictive=False)\n",
    "\n",
    "# Stop timing\n",
    "end_time = time.time()\n",
    "duration = end_time - start_time\n",
    "\n",
    "# Process and extract relevant details\n",
    "max_app_cons = updated_options_df['fixed_app_cons'].max()\n",
    "best_solutions = updated_options_df[updated_options_df['fixed_app_cons'] == max_app_cons]\n",
    "best_solutions['num_nodes_cons'] -= best_solutions['n_overnight_trips'] * overnight_cost\n",
    "best_solution = best_solutions['num_nodes_cons'].idxmax()\n",
    "best_option_df = updated_options_df.iloc[best_solution]"
   ]
  },
  {
   "cell_type": "code",
   "execution_count": 18,
   "metadata": {},
   "outputs": [],
   "source": [
    "# # Collect results\n",
    "# result = {\n",
    "#     \"index\": max_index + 1,\n",
    "#     \"time\": pd.Timestamp.now().strftime('%Y-%m-%d %H:%M'),\n",
    "#     \"in_first_algo\": first_algorithm,\n",
    "#     \"in_second_algo\": second_algorithm,\n",
    "#     \"in_penalty_exp\": np.nan,\n",
    "#     \"in_penalty_max\": np.nan,\n",
    "#     \"in_penalty_min\": np.nan,\n",
    "#     \"in_fixed_app_fraction\": percentage_of_appointments,\n",
    "    \n",
    "#     \"thr_num_nodes_to_consider\": num_nodes_to_consider,\n",
    "#     \"thr_num_fixed_appointments\": n_fixed_appointments,\n",
    "#     \"thr_n_overnight_trips\": best_option_df['n_overnight_trips'],\n",
    "#     \"thr_total_hours\": total_hours,\n",
    "#     \"thr_avg_spread\": round(avg_spread, 2),\n",
    "#     \"thr_max_spread\": round(max_spread, 2),\n",
    "#     \"thr_n_work_days\": n_work_days,\n",
    "#     \"thr_time_limit\": time_limit,\n",
    "\n",
    "#     \"out_obj_value\": best_option_df[\"obj_value\"],\n",
    "#     \"out_num_nodes_cons\": best_option_df['num_nodes_cons'],\n",
    "#     \"out_rel_nodes_cons\": round(best_option_df['nodes_cons'],2),\n",
    "#     \"out_rel_fixed_app_cons\": best_option_df['fixed_app_cons'] if len(updated_options_df['fixed_appointments_nodes'].values[0]) >= 1 else np.nan,\n",
    "#     \"out_time_taken\": round(duration, 2)\n",
    "# }\n",
    "# results.append(result)\n",
    "\n",
    "# # Convert list of dictionaries to DataFrame\n",
    "# new_results_df = pd.DataFrame(results)\n",
    "\n",
    "# append_and_save_new_results(new_results_df)"
   ]
  }
 ],
 "metadata": {
  "kernelspec": {
   "display_name": "Python 3",
   "language": "python",
   "name": "python3"
  },
  "language_info": {
   "codemirror_mode": {
    "name": "ipython",
    "version": 3
   },
   "file_extension": ".py",
   "mimetype": "text/x-python",
   "name": "python",
   "nbconvert_exporter": "python",
   "pygments_lexer": "ipython3",
   "version": "3.12.2"
  }
 },
 "nbformat": 4,
 "nbformat_minor": 2
}
