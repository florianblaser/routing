{
 "cells": [
  {
   "cell_type": "markdown",
   "metadata": {},
   "source": [
    "#  create dummy data and calculate clusters / routes"
   ]
  },
  {
   "cell_type": "code",
   "execution_count": 1194,
   "metadata": {},
   "outputs": [],
   "source": [
    "num_nodes = 60\n",
    "margin = 5 # time margin for arrival before appointment and stay beyond\n",
    "working_hours = [8 * 60, 18 * 60] # 8am to 6pm\n",
    "percentage_of_appointments = 0.05\n",
    "span_cost_coefficient = 20000 # adjust\n",
    "slack = 20000 # adjust\n",
    "penalty_factor = 300000\n",
    "num_large_clusters = 1\n",
    "num_small_clusters = 0\n",
    "lunch_start = 11 * 60  # 12 PM in minutes\n",
    "lunch_end = 13 * 60  # 2 PM in minutes\n",
    "lunch_duration = 30\n",
    "\n",
    "# week constraints\n",
    "max_days_off = 1\n",
    "days_off = {6}\n",
    "no_overnight_stays = {1}\n",
    "max_overnight_stays = 4"
   ]
  },
  {
   "cell_type": "code",
   "execution_count": 1195,
   "metadata": {},
   "outputs": [],
   "source": [
    "from src.routing import create_nodes_dataframe, custom_clustering, plot_refined_clusters, assign_weekdays_to_clusters, plot_ind_route, plot_all_cluster_routes, create_data_model, plot_all_nodes_with_angles\n",
    "import pandas as pd\n",
    "import numpy as np\n",
    "import concurrent.futures\n",
    "from datetime import datetime, timedelta\n",
    "import random\n",
    "\n",
    "from scipy.spatial import distance\n",
    "\n",
    "from ortools.constraint_solver import routing_enums_pb2\n",
    "from ortools.constraint_solver import pywrapcp"
   ]
  },
  {
   "cell_type": "code",
   "execution_count": 1196,
   "metadata": {},
   "outputs": [],
   "source": [
    "nodes_df, time_matrix = create_nodes_dataframe(num_nodes=num_nodes, min_work_days=5, home_node_id=0, visiting_interval_min=10, visiting_interval_max=30, max_last_visit=20, frac_fixed_app=percentage_of_appointments)\n",
    "nodes_df['weekdays_fixed_appointments'] = nodes_df['fixed_appointment'].apply(lambda x: x[0] if isinstance(x, tuple) else None)"
   ]
  },
  {
   "cell_type": "code",
   "execution_count": 1197,
   "metadata": {},
   "outputs": [
    {
     "name": "stdout",
     "output_type": "stream",
     "text": [
      "Warning: VIP node 4 is closed on day(s) 6.\n",
      "Warning: VIP node 7 is closed on day(s) 6.\n",
      "Warning: VIP node 15 is closed on day(s) 6.\n",
      "Warning: VIP node 21 is closed on day(s) 6.\n",
      "Warning: VIP node 24 is closed on day(s) 6.\n",
      "Warning: VIP node 26 is closed on day(s) 6.\n"
     ]
    }
   ],
   "source": [
    "all_days = set(range(1, 8))\n",
    "# Calculate open days as sets from the dictionary keys\n",
    "nodes_df['open_days'] = nodes_df['opening_hours'].apply(lambda x: set(x.keys()))\n",
    "\n",
    "# Calculate closed days\n",
    "nodes_df['closed_days'] = nodes_df['open_days'].apply(lambda x: list(all_days - x))\n",
    "\n",
    "# Filter for VIP nodes based on priority\n",
    "VIP_nodes = nodes_df[nodes_df['priority'] > 0.8]\n",
    "\n",
    "# For each VIP node, identify specific closed days that match the days off\n",
    "for index, row in VIP_nodes.iterrows():\n",
    "    closed_days_off = set(row['closed_days']) & days_off\n",
    "    if closed_days_off:\n",
    "        closed_days_off_str = ', '.join(map(str, sorted(closed_days_off)))\n",
    "        print(f\"Warning: VIP node {row['node_id']} is closed on day(s) {closed_days_off_str}.\")"
   ]
  },
  {
   "cell_type": "code",
   "execution_count": 1198,
   "metadata": {},
   "outputs": [],
   "source": [
    "weekdays_fixed_appointments = nodes_df['weekdays_fixed_appointments'].dropna().unique()\n",
    "# if any(days_off in weekdays_fixed_appointments for days_off in days_off):\n",
    "#     raise ValueError(\"Fixed appointments are scheduled on days off\")"
   ]
  },
  {
   "cell_type": "markdown",
   "metadata": {},
   "source": [
    "- work with list instead to try around with assigning the right nodes to the right cluster (e.g. agent1 wants no overnight stay from Wed-Thu but nodes with fixed appointments on Wed/Thu are assigned to the large cluster....)"
   ]
  },
  {
   "cell_type": "code",
   "execution_count": 1199,
   "metadata": {},
   "outputs": [],
   "source": [
    "# Generate valid lists as provided\n",
    "def find_lists(current_list, current_sum, max_length, target_sum):\n",
    "    if current_sum > target_sum or len(current_list) > max_length:\n",
    "        return []\n",
    "    if current_sum == target_sum and len(current_list) <= max_length:\n",
    "        return [current_list]\n",
    "    results = []\n",
    "    for i in range(0, 8):\n",
    "        adjusted_sum = current_sum + (i if i > 0 else 1)  # Adjust sum for 0s treated as 1\n",
    "        results.extend(find_lists(current_list + [i], adjusted_sum, max_length, target_sum))\n",
    "    return results\n",
    "\n",
    "# Generate valid lists\n",
    "valid_lists = find_lists([], 0, 7, 7)\n",
    "\n",
    "# Function to repeat values in the list according to their integer value\n",
    "def repeat_values(lst, overnight_trips=0):\n",
    "    repeated_list = []\n",
    "    for num in lst:\n",
    "        if overnight_trips == 1:\n",
    "            repeated_list.extend([num] * (num - 1) + [0] if num > 0 else [0])\n",
    "        else:\n",
    "            repeated_list.extend([num] * num if num > 0 else [0])\n",
    "    return repeated_list\n",
    "\n",
    "# Calculate days off for each list\n",
    "def calculate_days_off(lst):\n",
    "    repeated_lst = repeat_values(lst)\n",
    "    days_off = []\n",
    "    for i in range(min(len(repeated_lst), 7)):\n",
    "        if repeated_lst[i] == 0:\n",
    "            days_off.append(i + 1)  # Use 1-based indexing for days\n",
    "    return days_off\n",
    "\n",
    "# Calculate trip days for each list\n",
    "def calculate_overnight_trips(lst):\n",
    "    repeated_lst = repeat_values(lst, overnight_trips=1)  \n",
    "    trip_days = []\n",
    "    for i in range(min(len(repeated_lst), 7)):\n",
    "        if repeated_lst[i] > 1:\n",
    "            trip_days.append(i + 1)  # Use 1-based indexing for days\n",
    "    return trip_days\n",
    "\n",
    "def calculate_overnight_stays(lst):\n",
    "    overnight_stays = 0\n",
    "    for i in range(min(len(lst), 7)):\n",
    "        if lst[i] > 1:\n",
    "            overnight_stays += lst[i] - 1\n",
    "    return overnight_stays\n",
    "\n",
    "# Create a DataFrame\n",
    "data = {\n",
    "    'List': valid_lists,\n",
    "    # 'Sum': [sum(lst) for lst in valid_lists],  # Calculating sum normally, 0s count as 0\n",
    "    # 'Length': [len(lst) for lst in valid_lists],\n",
    "    'n_Overnight_trips': [calculate_overnight_stays(lst) for lst in valid_lists],\n",
    "    'Overnight_days': [calculate_overnight_trips(lst) for lst in valid_lists],\n",
    "    'Off_days': [calculate_days_off(lst) for lst in valid_lists],\n",
    "    'n_Days_off': [lst.count(0) for lst in valid_lists], \n",
    "}\n",
    "\n",
    "df = pd.DataFrame(data)\n",
    "\n",
    "# Filter the DataFrame based on the constraints\n",
    "df = df[df['Off_days'].apply(lambda x: all(day in x for day in days_off))]\n",
    "df = df[df['Overnight_days'].apply(lambda x: not any(day in x for day in no_overnight_stays))]\n",
    "df = df[df['n_Overnight_trips'].apply(lambda x: x <= max_overnight_stays)]\n",
    "df = df[df['n_Days_off'].apply(lambda x: x <= max_days_off)]\n",
    "# add a column to df containing a dictionary counting the number of times an integer >1 appears in the list\n",
    "from collections import Counter\n",
    "df['Count'] = df['List'].apply(lambda x: Counter([item for item in x if item > 0]))\n",
    "combinations = df['Count'].drop_duplicates().tolist()"
   ]
  },
  {
   "cell_type": "markdown",
   "metadata": {},
   "source": [
    "- do simple solution finding for the above combinations, find best solution give cost of overnight stay, improve best solution"
   ]
  },
  {
   "cell_type": "code",
   "execution_count": 1200,
   "metadata": {},
   "outputs": [],
   "source": [
    "# plot_all_nodes_with_angles(nodes_df)"
   ]
  },
  {
   "cell_type": "markdown",
   "metadata": {},
   "source": [
    "- in rare cases the below will make trouble because there are two large gaps and a cluster is entirely contained within the second largest leading to size = nan"
   ]
  },
  {
   "cell_type": "code",
   "execution_count": 1201,
   "metadata": {},
   "outputs": [],
   "source": [
    "def calculate_metric(nodes_df, global_max_dist, node_ids, cluster_id, print_ind_metrics=False):\n",
    "    if len(node_ids) > 0:\n",
    "        filtered_nodes_df = nodes_df[nodes_df['node_id'].isin(node_ids)]\n",
    "\n",
    "        num_nodes_metric = len(filtered_nodes_df) / len(nodes_df)\n",
    "        \n",
    "        priority_metric = filtered_nodes_df['priority'].nlargest(int(0.5 * len(filtered_nodes_df))).mean()\n",
    "        priority_metric = priority_metric / int(cluster_id.split('_')[0])\n",
    "\n",
    "        max_dist_to_root = filtered_nodes_df['dist_to_home'].max()\n",
    "        dist_metric = max_dist_to_root / global_max_dist\n",
    "\n",
    "        # prevent any metric from being nan\n",
    "        if np.isnan(num_nodes_metric):\n",
    "            # print(f'Problems with num_nodes_metric for {cluster_id}')\n",
    "            num_nodes_metric = 0.5\n",
    "        if np.isnan(priority_metric):\n",
    "            # print(f'Problems with priority_metric for {cluster_id}')\n",
    "            priority_metric = 0.3\n",
    "        if np.isnan(dist_metric):\n",
    "            # print(f'Problems with dist_metric for {cluster_id}')\n",
    "            dist_metric = 0.5\n",
    "\n",
    "        metric = num_nodes_metric\n",
    "\n",
    "        if print_ind_metrics:\n",
    "            print(f'Cluster: {cluster_id}')\n",
    "            print(f\"Number of nodes metric: {num_nodes_metric}\")\n",
    "            print(f\"Priority metric: {priority_metric}\")\n",
    "            print(f\"Distance metric: {dist_metric}\")\n",
    "            print(f\"Overall metric: {metric}\")\n",
    "    else:\n",
    "        metric = 0\n",
    "\n",
    "        if print_ind_metrics:\n",
    "            print('Found a cluster wihtout nodes')\n",
    "    \n",
    "    return metric\n",
    "\n",
    "def adjust_angles(clusters, nodes_df, angle_sizes, degree_adj, global_max_dist, cluster_sizes, total_span, verbose):\n",
    "    metrics = {}\n",
    "    for cluster_id, node_ids in clusters.items():\n",
    "        metrics[cluster_id] = calculate_metric(nodes_df, global_max_dist, node_ids, cluster_id)\n",
    "\n",
    "    total_metric = sum(metrics.values())\n",
    "    # total_days = sum of each key multiplied by the value in cluster_sizes\n",
    "    total_days = sum([key * value for key, value in cluster_sizes.items()])\n",
    "    base_metric = total_metric / total_days\n",
    "    \n",
    "    target_metrics = {}\n",
    "    for cluster, metric in metrics.items():\n",
    "        size = int(cluster.split('_')[0])\n",
    "        target_metrics[cluster] = base_metric * size\n",
    "\n",
    "    new_angle_sizes = angle_sizes.copy()  # Copy existing angle sizes to modify\n",
    "    \n",
    "    deviations = {}\n",
    "    for cluster_id, metric in metrics.items():\n",
    "        size = int(cluster_id.split('_')[0])\n",
    "        soll_metric = target_metrics[cluster_id]\n",
    "        deviation = metric - soll_metric\n",
    "        deviations[cluster_id] = deviation\n",
    "        new_angle_sizes[cluster_id] -= deviation * degree_adj\n",
    "\n",
    "    # Normalize the new angles to ensure they sum to total_span\n",
    "    total_new_angles = sum(new_angle_sizes.values())\n",
    "    scale_factor = total_span / total_new_angles\n",
    "    for cluster_id in new_angle_sizes:\n",
    "        new_angle_sizes[cluster_id] *= scale_factor\n",
    "\n",
    "    if verbose:\n",
    "        print(\"Deviations, metrics, and new angle sizes:\")\n",
    "        for cluster_id in clusters:\n",
    "            print(f\"Cluster {cluster_id} with deviation {round(deviations[cluster_id], 2)}, \"\n",
    "                  f'and initial angle size {round(angle_sizes[cluster_id], 2)}° '\n",
    "                  f\"has new angle size {round(new_angle_sizes[cluster_id], 2)}°.\")\n",
    "\n",
    "    return new_angle_sizes\n",
    "\n",
    "def custom_clustering(nodes_df, cluster_sizes, precision, home_node_id=0, verbose=False, visual=False):\n",
    "    # remove the home node from the nodes_df\n",
    "    if nodes_df.index[0] == 0:\n",
    "        nodes_df_copy = nodes_df.drop(0).copy()\n",
    "    \n",
    "    clusters = {}\n",
    "    for size, count in cluster_sizes.items():\n",
    "        for i in range(count):\n",
    "            clusters[f'{size}_day_trip_{i}'] = []\n",
    "    \n",
    "    angles = sorted(nodes_df_copy['angle_to_home'])\n",
    "    diffs = [angles[i + 1] - angles[i] for i in range(len(angles) - 1)]\n",
    "    diffs.append(360 - angles[-1] + angles[0])\n",
    "    \n",
    "    max_gap = max(diffs)\n",
    "    gap_start = angles[diffs.index(max_gap)]\n",
    "    gap_end = angles[(diffs.index(max_gap) + 1) % len(angles)]\n",
    "\n",
    "    max_gap = max(diffs)\n",
    "    total_span = 360 - max_gap\n",
    "\n",
    "    if verbose == True:\n",
    "        print(f\"Largest gap spans from {gap_start}° to {gap_end}°, covering {max_gap}° leaving a total span of {total_span} for locations.\")\n",
    "\n",
    "    total_equivalent_degrees = sum(count * size for size, count in cluster_sizes.items())\n",
    "    base_degree = total_span / total_equivalent_degrees\n",
    "\n",
    "    angle_sizes = {}\n",
    "    for size, count in cluster_sizes.items():\n",
    "        # Calculate the angular size for each cluster of this size\n",
    "        cluster_angle_size = base_degree * size\n",
    "        for i in range(count):\n",
    "            cluster_id = f'{size}_day_trip_{i}'\n",
    "            angle_sizes[cluster_id] = cluster_angle_size\n",
    "    global_max_dist = nodes_df_copy['dist_to_home'].max()\n",
    "\n",
    "    cluster_start = gap_end\n",
    "    degree_adj = total_span / 7\n",
    "\n",
    "    # Initial assignment of nodes to clusters\n",
    "    for i in range(precision):\n",
    "        current_angle = cluster_start  # Reset the start angle for each precision iteration\n",
    "            \n",
    "        # add the home node to each cluster\n",
    "        for key in clusters.keys():\n",
    "            clusters[key] = [home_node_id]\n",
    "\n",
    "        # Assign nodes to clusters based on their angle to the home node\n",
    "        for cluster_id, size in angle_sizes.items():\n",
    "            start_angle = current_angle\n",
    "            # round up to the nearest integer\n",
    "            start_angle = int(start_angle)\n",
    "            end_angle = (current_angle + size) % 360\n",
    "            end_angle = int(np.ceil(end_angle))\n",
    "            # Ensuring all nodes are assigned, handling the wrap-around scenario more cleanly\n",
    "            if end_angle < start_angle:  # This handles the case where the segment wraps past 360 degrees\n",
    "                nodes_in_cluster = [index for index, row in nodes_df_copy.iterrows() if \n",
    "                                    (row['angle_to_home'] >= start_angle or row['angle_to_home'] < end_angle)]\n",
    "            else:  # No wrap-around, normal case\n",
    "                nodes_in_cluster = [index for index, row in nodes_df_copy.iterrows() if \n",
    "                                    (start_angle <= row['angle_to_home'] < end_angle)]\n",
    "\n",
    "            clusters[cluster_id] = [home_node_id] + nodes_in_cluster\n",
    "            current_angle = end_angle\n",
    "\n",
    "        if (i == 0 and verbose):\n",
    "            print(\"Initial clusters:\")\n",
    "            for key, value in clusters.items():\n",
    "                print(f\"{key}: {value}\")\n",
    "\n",
    "        if i % 10 == 0 and visual:\n",
    "            plot_refined_clusters(clusters, nodes_df)\n",
    "        \n",
    "        angle_sizes = adjust_angles(clusters, nodes_df_copy, angle_sizes, degree_adj, global_max_dist, cluster_sizes, total_span, verbose)\n",
    "        degree_adj *= 0.95\n",
    "\n",
    "        sum_of_angles = sum(angle_sizes.values())\n",
    "        if verbose:\n",
    "            print(f\"Sum of angles: {sum_of_angles} vs. total span: {total_span}\")\n",
    "        \n",
    "    return clusters"
   ]
  },
  {
   "cell_type": "code",
   "execution_count": 1202,
   "metadata": {},
   "outputs": [],
   "source": [
    "cluster_sizes = {1:1,2:2,1:1}\n",
    "clusters = custom_clustering(nodes_df, cluster_sizes, precision=50, verbose=False, visual=False)"
   ]
  },
  {
   "cell_type": "code",
   "execution_count": 1203,
   "metadata": {},
   "outputs": [
    {
     "name": "stdout",
     "output_type": "stream",
     "text": [
      "Cluster 1_day_trip_0:\n",
      "Average node priority: 0.43\n",
      "Average distance to home: 42.45\n",
      "Count of nodes: 13\n",
      "Cluster 2_day_trip_0:\n",
      "Average node priority: 0.54\n",
      "Average distance to home: 53.86\n",
      "Count of nodes: 26\n",
      "Cluster 2_day_trip_1:\n",
      "Average node priority: 0.57\n",
      "Average distance to home: 35.51\n",
      "Count of nodes: 23\n"
     ]
    }
   ],
   "source": [
    "# print the average node priority, distance to home and count of nodes in each cluster\n",
    "for cluster, nodes in clusters.items():\n",
    "    print(f\"Cluster {cluster}:\")\n",
    "    print(f\"Average node priority: {round(nodes_df.loc[nodes_df['node_id'].isin(nodes), 'priority'].mean(), 2)}\")\n",
    "    print(f\"Average distance to home: {round(nodes_df.loc[nodes_df['node_id'].isin(nodes), 'dist_to_home'].mean(), 2)}\")\n",
    "    print(f\"Count of nodes: {len(nodes)}\")"
   ]
  },
  {
   "cell_type": "code",
   "execution_count": 1204,
   "metadata": {},
   "outputs": [
    {
     "data": {
      "application/vnd.plotly.v1+json": {
       "config": {
        "plotlyServerURL": "https://plot.ly"
       },
       "data": [
        {
         "hoverinfo": "text",
         "hovertext": [
          "Node: 0<br>Days: [1, 4, 5, 6, 7]<br>Priority: 0.72 <br>Angle to home: 0.0 <br>Distance to home: 0.0",
          "Node: 2<br>Days: [2, 3, 4, 5, 7]<br>Priority: 0.27 <br>Angle to home: 322.4314079711725 <br>Distance to home: 32.8",
          "Node: 9<br>Days: [1, 2, 5, 6, 7]<br>Priority: 0.32 <br>Angle to home: 347.77487732426425 <br>Distance to home: 61.39",
          "Node: 13<br>Days: [1, 2, 4, 5, 7]<br>Priority: 0.57 <br>Angle to home: 325.8855270546587 <br>Distance to home: 37.44",
          "Node: 18<br>Days: [2, 3, 4, 5, 6]<br>Priority: 0.44 <br>Angle to home: 344.82708465447473 <br>Distance to home: 61.13",
          "Node: 23<br>Days: [1, 4, 5, 6, 7]<br>Priority: 1.00 <br>Angle to home: 318.2397002961021 <br>Distance to home: 37.54",
          "Node: 25<br>Days: [1, 2, 3, 6, 7]<br>Priority: 0.22 <br>Angle to home: 336.0375110254218 <br>Distance to home: 68.94",
          "Node: 27<br>Days: [2, 3, 4, 5, 7]<br>Priority: 0.27 <br>Angle to home: 352.05652818940956 <br>Distance to home: 43.42",
          "Node: 36<br>Days: [1, 2, 3, 4, 6]<br>Priority: 0.42 <br>Angle to home: 340.9743939624313 <br>Distance to home: 61.35",
          "Node: 41<br>Days: [1, 3, 5, 6, 7]<br>Priority: 0.06 <br>Angle to home: 350.0493733120484 <br>Distance to home: 57.87",
          "Node: 47<br>Days: [1, 2, 3, 6, 7]<br>Priority: 0.58 <br>Angle to home: 327.9946167919165 <br>Distance to home: 9.43",
          "Node: 54<br>Days: [1, 3, 4, 5, 6]<br>Priority: 0.33 <br>Angle to home: 343.3007557660064 <br>Distance to home: 41.76",
          "Node: 56<br>Days: [1, 3, 4, 5, 6]<br>Priority: 0.33 <br>Angle to home: 325.4914770123316 <br>Distance to home: 38.83"
         ],
         "marker": {
          "color": "#76B041",
          "size": 10
         },
         "mode": "markers",
         "name": "1_day_trip_0",
         "type": "scatter",
         "x": [
          34,
          60,
          94,
          65,
          93,
          62,
          97,
          77,
          92,
          91,
          42,
          74,
          66
         ],
         "y": [
          30,
          10,
          17,
          9,
          14,
          5,
          2,
          24,
          10,
          20,
          25,
          18,
          8
         ]
        },
        {
         "hoverinfo": "text",
         "hovertext": [
          "Node: 0<br>Days: [1, 4, 5, 6, 7]<br>Priority: 0.72 <br>Angle to home: 0.0 <br>Distance to home: 0.0",
          "Node: 1<br>Days: [1, 3, 4, 5, 7]<br>Priority: 0.10 <br>Angle to home: 78.02386755579664 <br>Distance to home: 33.73",
          "Node: 3<br>Days: [1, 2, 5, 6, 7]<br>Priority: 1.00 <br>Angle to home: 29.538782259558097 <br>Distance to home: 34.48",
          "Node: 5<br>Days: [2, 3, 4, 6, 7]<br>Priority: 0.23 <br>Angle to home: 50.648247373735266 <br>Distance to home: 64.66",
          "Node: 8<br>Days: [2, 3, 4, 5, 7]<br>Priority: 0.38 <br>Angle to home: 80.53767779197439 <br>Distance to home: 60.83",
          "Node: 10<br>Days: [1, 4, 5, 6, 7]<br>Priority: 0.24 <br>Angle to home: 45.545657593415726 <br>Distance to home: 74.25",
          "Node: 11<br>Days: [1, 2, 5, 6, 7]<br>Priority: 0.05 <br>Angle to home: 45.0 <br>Distance to home: 1.41",
          "Node: 14<br>Days: [2, 4, 5, 6, 7]<br>Priority: 0.85 <br>Angle to home: 49.76364169072618 <br>Distance to home: 85.15",
          "Node: 15<br>Days: [1, 3, 4, 5, 7]<br>Priority: 0.91 <br>Angle to home: 34.796026278268315 <br>Distance to home: 71.85",
          "Node: 19<br>Days: [2, 4, 5, 6, 7]<br>Priority: 0.25 <br>Angle to home: 75.96375653207353 <br>Distance to home: 70.09",
          "Node: 20<br>Days: [1, 3, 4, 6, 7]<br>Priority: 0.46 <br>Angle to home: 18.165956529225532 <br>Distance to home: 67.36",
          "Node: 21<br>Days: [1, 2, 3, 5, 7]<br>Priority: 1.00 <br>Angle to home: 1.507435758774968 <br>Distance to home: 38.01",
          "Node: 22<br>Days: [2, 3, 4, 5, 7]<br>Priority: 0.04 <br>Angle to home: 28.810793742973058 <br>Distance to home: 22.83",
          "Node: 28<br>Days: [2, 3, 5, 6, 7]<br>Priority: 0.58 <br>Angle to home: 21.501434324047903 <br>Distance to home: 35.47",
          "Node: 31<br>Days: [1, 2, 3, 5, 6]<br>Priority: 0.57 <br>Angle to home: 53.13010235415598 <br>Distance to home: 75.0",
          "Node: 32<br>Days: [1, 2, 3, 6, 7]<br>Priority: 1.00 <br>Angle to home: 33.97654403625686 <br>Distance to home: 55.47",
          "Node: 33<br>Days: [1, 2, 3, 5, 6]<br>Priority: 0.38 <br>Angle to home: 10.7842978675626 <br>Distance to home: 42.76",
          "Node: 39<br>Days: [1, 3, 4, 5, 6]<br>Priority: 0.44 <br>Angle to home: 61.38954033403479 <br>Distance to home: 50.12",
          "Node: 43<br>Days: [1, 3, 4, 5, 7]<br>Priority: 0.25 <br>Angle to home: 69.44395478041653 <br>Distance to home: 42.72",
          "Node: 44<br>Days: [1, 2, 3, 5, 6]<br>Priority: 0.57 <br>Angle to home: 42.954591511112774 <br>Distance to home: 79.25",
          "Node: 45<br>Days: [1, 2, 3, 6, 7]<br>Priority: 1.00 <br>Angle to home: 30.256437163529263 <br>Distance to home: 69.46",
          "Node: 49<br>Days: [2, 3, 4, 5, 7]<br>Priority: 0.19 <br>Angle to home: 46.27303002005671 <br>Distance to home: 95.48",
          "Node: 51<br>Days: [1, 2, 3, 4, 5]<br>Priority: 0.52 <br>Angle to home: 12.030596096537868 <br>Distance to home: 62.37",
          "Node: 53<br>Days: [1, 2, 3, 5, 6]<br>Priority: 1.00 <br>Angle to home: 66.80140948635182 <br>Distance to home: 76.16",
          "Node: 57<br>Days: [1, 3, 4, 5, 7]<br>Priority: 0.76 <br>Angle to home: 32.61924307119283 <br>Distance to home: 29.68",
          "Node: 58<br>Days: [3, 4, 5, 6, 7]<br>Priority: 0.44 <br>Angle to home: 26.980230718222856 <br>Distance to home: 61.72"
         ],
         "marker": {
          "color": "#F8766D",
          "size": 10
         },
         "mode": "markers",
         "name": "2_day_trip_0",
         "type": "scatter",
         "x": [
          34,
          41,
          64,
          75,
          44,
          86,
          35,
          89,
          93,
          51,
          98,
          72,
          54,
          67,
          79,
          80,
          76,
          58,
          49,
          92,
          94,
          100,
          95,
          64,
          59,
          89
         ],
         "y": [
          30,
          63,
          47,
          80,
          90,
          83,
          31,
          95,
          71,
          98,
          51,
          31,
          41,
          43,
          90,
          61,
          38,
          74,
          70,
          84,
          65,
          99,
          43,
          100,
          46,
          58
         ]
        },
        {
         "hoverinfo": "text",
         "hovertext": [
          "Node: 0<br>Days: [1, 4, 5, 6, 7]<br>Priority: 0.72 <br>Angle to home: 0.0 <br>Distance to home: 0.0",
          "Node: 4<br>Days: [2, 3, 4, 5, 7]<br>Priority: 0.95 <br>Angle to home: 103.53585636913425 <br>Distance to home: 55.54",
          "Node: 6<br>Days: [1, 2, 3, 4, 6]<br>Priority: 0.60 <br>Angle to home: 116.05349531049094 <br>Distance to home: 50.09",
          "Node: 7<br>Days: [1, 2, 4, 5, 7]<br>Priority: 0.93 <br>Angle to home: 166.75948008481282 <br>Distance to home: 34.93",
          "Node: 12<br>Days: [1, 2, 4, 5, 7]<br>Priority: 0.06 <br>Angle to home: 108.43494882292202 <br>Distance to home: 56.92",
          "Node: 16<br>Days: [1, 3, 5, 6, 7]<br>Priority: 1.00 <br>Angle to home: 118.92642583525362 <br>Distance to home: 43.42",
          "Node: 17<br>Days: [1, 3, 4, 5, 7]<br>Priority: 0.80 <br>Angle to home: 93.46822925891715 <br>Distance to home: 33.06",
          "Node: 24<br>Days: [2, 3, 4, 5, 7]<br>Priority: 0.86 <br>Angle to home: 113.49856567595211 <br>Distance to home: 25.08",
          "Node: 26<br>Days: [1, 2, 3, 4, 7]<br>Priority: 0.83 <br>Angle to home: 111.33685929180565 <br>Distance to home: 68.71",
          "Node: 29<br>Days: [1, 2, 4, 5, 7]<br>Priority: 0.18 <br>Angle to home: 233.13010235415598 <br>Distance to home: 25.0",
          "Node: 30<br>Days: [1, 2, 3, 6, 7]<br>Priority: 0.36 <br>Angle to home: 195.25511870305778 <br>Distance to home: 34.21",
          "Node: 34<br>Days: [2, 3, 4, 6, 7]<br>Priority: 1.00 <br>Angle to home: 248.96248897457818 <br>Distance to home: 27.86",
          "Node: 35<br>Days: [1, 3, 4, 5, 7]<br>Priority: 0.64 <br>Angle to home: 153.434948822922 <br>Distance to home: 20.12",
          "Node: 37<br>Days: [1, 2, 3, 6, 7]<br>Priority: 0.58 <br>Angle to home: 104.79676224505735 <br>Distance to home: 54.82",
          "Node: 38<br>Days: [1, 3, 4, 5, 6]<br>Priority: 0.83 <br>Angle to home: 94.51398845800126 <br>Distance to home: 38.12",
          "Node: 40<br>Days: [2, 3, 4, 6, 7]<br>Priority: 0.41 <br>Angle to home: 153.434948822922 <br>Distance to home: 26.83",
          "Node: 42<br>Days: [1, 2, 4, 5, 6]<br>Priority: 0.19 <br>Angle to home: 208.17859010995915 <br>Distance to home: 31.76",
          "Node: 46<br>Days: [1, 2, 3, 4, 6]<br>Priority: 0.17 <br>Angle to home: 266.4236656250026 <br>Distance to home: 16.03",
          "Node: 48<br>Days: [1, 3, 4, 5, 7]<br>Priority: 0.09 <br>Angle to home: 119.6044507460049 <br>Distance to home: 50.61",
          "Node: 50<br>Days: [1, 2, 3, 6, 7]<br>Priority: 0.14 <br>Angle to home: 94.92710994764901 <br>Distance to home: 58.22",
          "Node: 52<br>Days: [1, 3, 5, 6, 7]<br>Priority: 1.00 <br>Angle to home: 240.94539590092285 <br>Distance to home: 10.3",
          "Node: 55<br>Days: [2, 3, 4, 5, 6]<br>Priority: 0.80 <br>Angle to home: 173.8844964337146 <br>Distance to home: 28.16",
          "Node: 59<br>Days: [1, 2, 3, 4, 5]<br>Priority: 0.06 <br>Angle to home: 105.06848815949222 <br>Distance to home: 26.93"
         ],
         "marker": {
          "color": "#00BFC4",
          "size": 10
         },
         "mode": "markers",
         "name": "2_day_trip_1",
         "type": "scatter",
         "x": [
          34,
          21,
          12,
          0,
          16,
          13,
          32,
          24,
          9,
          19,
          1,
          24,
          16,
          20,
          31,
          10,
          6,
          33,
          9,
          29,
          29,
          6,
          27
         ],
         "y": [
          30,
          84,
          75,
          38,
          84,
          68,
          63,
          53,
          94,
          10,
          21,
          4,
          39,
          83,
          68,
          42,
          15,
          14,
          74,
          88,
          21,
          33,
          56
         ]
        },
        {
         "hoverinfo": "text",
         "hovertext": "Home: Node 0",
         "marker": {
          "color": "black",
          "size": 12,
          "symbol": "x"
         },
         "mode": "markers",
         "name": "Home Node",
         "type": "scatter",
         "x": [
          34
         ],
         "y": [
          30
         ]
        }
       ],
       "layout": {
        "height": 500,
        "hovermode": "closest",
        "legend": {
         "itemsizing": "constant",
         "title": {
          "text": "Clusters"
         }
        },
        "plot_bgcolor": "white",
        "template": {
         "data": {
          "bar": [
           {
            "error_x": {
             "color": "#2a3f5f"
            },
            "error_y": {
             "color": "#2a3f5f"
            },
            "marker": {
             "line": {
              "color": "#E5ECF6",
              "width": 0.5
             },
             "pattern": {
              "fillmode": "overlay",
              "size": 10,
              "solidity": 0.2
             }
            },
            "type": "bar"
           }
          ],
          "barpolar": [
           {
            "marker": {
             "line": {
              "color": "#E5ECF6",
              "width": 0.5
             },
             "pattern": {
              "fillmode": "overlay",
              "size": 10,
              "solidity": 0.2
             }
            },
            "type": "barpolar"
           }
          ],
          "carpet": [
           {
            "aaxis": {
             "endlinecolor": "#2a3f5f",
             "gridcolor": "white",
             "linecolor": "white",
             "minorgridcolor": "white",
             "startlinecolor": "#2a3f5f"
            },
            "baxis": {
             "endlinecolor": "#2a3f5f",
             "gridcolor": "white",
             "linecolor": "white",
             "minorgridcolor": "white",
             "startlinecolor": "#2a3f5f"
            },
            "type": "carpet"
           }
          ],
          "choropleth": [
           {
            "colorbar": {
             "outlinewidth": 0,
             "ticks": ""
            },
            "type": "choropleth"
           }
          ],
          "contour": [
           {
            "colorbar": {
             "outlinewidth": 0,
             "ticks": ""
            },
            "colorscale": [
             [
              0,
              "#0d0887"
             ],
             [
              0.1111111111111111,
              "#46039f"
             ],
             [
              0.2222222222222222,
              "#7201a8"
             ],
             [
              0.3333333333333333,
              "#9c179e"
             ],
             [
              0.4444444444444444,
              "#bd3786"
             ],
             [
              0.5555555555555556,
              "#d8576b"
             ],
             [
              0.6666666666666666,
              "#ed7953"
             ],
             [
              0.7777777777777778,
              "#fb9f3a"
             ],
             [
              0.8888888888888888,
              "#fdca26"
             ],
             [
              1,
              "#f0f921"
             ]
            ],
            "type": "contour"
           }
          ],
          "contourcarpet": [
           {
            "colorbar": {
             "outlinewidth": 0,
             "ticks": ""
            },
            "type": "contourcarpet"
           }
          ],
          "heatmap": [
           {
            "colorbar": {
             "outlinewidth": 0,
             "ticks": ""
            },
            "colorscale": [
             [
              0,
              "#0d0887"
             ],
             [
              0.1111111111111111,
              "#46039f"
             ],
             [
              0.2222222222222222,
              "#7201a8"
             ],
             [
              0.3333333333333333,
              "#9c179e"
             ],
             [
              0.4444444444444444,
              "#bd3786"
             ],
             [
              0.5555555555555556,
              "#d8576b"
             ],
             [
              0.6666666666666666,
              "#ed7953"
             ],
             [
              0.7777777777777778,
              "#fb9f3a"
             ],
             [
              0.8888888888888888,
              "#fdca26"
             ],
             [
              1,
              "#f0f921"
             ]
            ],
            "type": "heatmap"
           }
          ],
          "heatmapgl": [
           {
            "colorbar": {
             "outlinewidth": 0,
             "ticks": ""
            },
            "colorscale": [
             [
              0,
              "#0d0887"
             ],
             [
              0.1111111111111111,
              "#46039f"
             ],
             [
              0.2222222222222222,
              "#7201a8"
             ],
             [
              0.3333333333333333,
              "#9c179e"
             ],
             [
              0.4444444444444444,
              "#bd3786"
             ],
             [
              0.5555555555555556,
              "#d8576b"
             ],
             [
              0.6666666666666666,
              "#ed7953"
             ],
             [
              0.7777777777777778,
              "#fb9f3a"
             ],
             [
              0.8888888888888888,
              "#fdca26"
             ],
             [
              1,
              "#f0f921"
             ]
            ],
            "type": "heatmapgl"
           }
          ],
          "histogram": [
           {
            "marker": {
             "pattern": {
              "fillmode": "overlay",
              "size": 10,
              "solidity": 0.2
             }
            },
            "type": "histogram"
           }
          ],
          "histogram2d": [
           {
            "colorbar": {
             "outlinewidth": 0,
             "ticks": ""
            },
            "colorscale": [
             [
              0,
              "#0d0887"
             ],
             [
              0.1111111111111111,
              "#46039f"
             ],
             [
              0.2222222222222222,
              "#7201a8"
             ],
             [
              0.3333333333333333,
              "#9c179e"
             ],
             [
              0.4444444444444444,
              "#bd3786"
             ],
             [
              0.5555555555555556,
              "#d8576b"
             ],
             [
              0.6666666666666666,
              "#ed7953"
             ],
             [
              0.7777777777777778,
              "#fb9f3a"
             ],
             [
              0.8888888888888888,
              "#fdca26"
             ],
             [
              1,
              "#f0f921"
             ]
            ],
            "type": "histogram2d"
           }
          ],
          "histogram2dcontour": [
           {
            "colorbar": {
             "outlinewidth": 0,
             "ticks": ""
            },
            "colorscale": [
             [
              0,
              "#0d0887"
             ],
             [
              0.1111111111111111,
              "#46039f"
             ],
             [
              0.2222222222222222,
              "#7201a8"
             ],
             [
              0.3333333333333333,
              "#9c179e"
             ],
             [
              0.4444444444444444,
              "#bd3786"
             ],
             [
              0.5555555555555556,
              "#d8576b"
             ],
             [
              0.6666666666666666,
              "#ed7953"
             ],
             [
              0.7777777777777778,
              "#fb9f3a"
             ],
             [
              0.8888888888888888,
              "#fdca26"
             ],
             [
              1,
              "#f0f921"
             ]
            ],
            "type": "histogram2dcontour"
           }
          ],
          "mesh3d": [
           {
            "colorbar": {
             "outlinewidth": 0,
             "ticks": ""
            },
            "type": "mesh3d"
           }
          ],
          "parcoords": [
           {
            "line": {
             "colorbar": {
              "outlinewidth": 0,
              "ticks": ""
             }
            },
            "type": "parcoords"
           }
          ],
          "pie": [
           {
            "automargin": true,
            "type": "pie"
           }
          ],
          "scatter": [
           {
            "fillpattern": {
             "fillmode": "overlay",
             "size": 10,
             "solidity": 0.2
            },
            "type": "scatter"
           }
          ],
          "scatter3d": [
           {
            "line": {
             "colorbar": {
              "outlinewidth": 0,
              "ticks": ""
             }
            },
            "marker": {
             "colorbar": {
              "outlinewidth": 0,
              "ticks": ""
             }
            },
            "type": "scatter3d"
           }
          ],
          "scattercarpet": [
           {
            "marker": {
             "colorbar": {
              "outlinewidth": 0,
              "ticks": ""
             }
            },
            "type": "scattercarpet"
           }
          ],
          "scattergeo": [
           {
            "marker": {
             "colorbar": {
              "outlinewidth": 0,
              "ticks": ""
             }
            },
            "type": "scattergeo"
           }
          ],
          "scattergl": [
           {
            "marker": {
             "colorbar": {
              "outlinewidth": 0,
              "ticks": ""
             }
            },
            "type": "scattergl"
           }
          ],
          "scattermapbox": [
           {
            "marker": {
             "colorbar": {
              "outlinewidth": 0,
              "ticks": ""
             }
            },
            "type": "scattermapbox"
           }
          ],
          "scatterpolar": [
           {
            "marker": {
             "colorbar": {
              "outlinewidth": 0,
              "ticks": ""
             }
            },
            "type": "scatterpolar"
           }
          ],
          "scatterpolargl": [
           {
            "marker": {
             "colorbar": {
              "outlinewidth": 0,
              "ticks": ""
             }
            },
            "type": "scatterpolargl"
           }
          ],
          "scatterternary": [
           {
            "marker": {
             "colorbar": {
              "outlinewidth": 0,
              "ticks": ""
             }
            },
            "type": "scatterternary"
           }
          ],
          "surface": [
           {
            "colorbar": {
             "outlinewidth": 0,
             "ticks": ""
            },
            "colorscale": [
             [
              0,
              "#0d0887"
             ],
             [
              0.1111111111111111,
              "#46039f"
             ],
             [
              0.2222222222222222,
              "#7201a8"
             ],
             [
              0.3333333333333333,
              "#9c179e"
             ],
             [
              0.4444444444444444,
              "#bd3786"
             ],
             [
              0.5555555555555556,
              "#d8576b"
             ],
             [
              0.6666666666666666,
              "#ed7953"
             ],
             [
              0.7777777777777778,
              "#fb9f3a"
             ],
             [
              0.8888888888888888,
              "#fdca26"
             ],
             [
              1,
              "#f0f921"
             ]
            ],
            "type": "surface"
           }
          ],
          "table": [
           {
            "cells": {
             "fill": {
              "color": "#EBF0F8"
             },
             "line": {
              "color": "white"
             }
            },
            "header": {
             "fill": {
              "color": "#C8D4E3"
             },
             "line": {
              "color": "white"
             }
            },
            "type": "table"
           }
          ]
         },
         "layout": {
          "annotationdefaults": {
           "arrowcolor": "#2a3f5f",
           "arrowhead": 0,
           "arrowwidth": 1
          },
          "autotypenumbers": "strict",
          "coloraxis": {
           "colorbar": {
            "outlinewidth": 0,
            "ticks": ""
           }
          },
          "colorscale": {
           "diverging": [
            [
             0,
             "#8e0152"
            ],
            [
             0.1,
             "#c51b7d"
            ],
            [
             0.2,
             "#de77ae"
            ],
            [
             0.3,
             "#f1b6da"
            ],
            [
             0.4,
             "#fde0ef"
            ],
            [
             0.5,
             "#f7f7f7"
            ],
            [
             0.6,
             "#e6f5d0"
            ],
            [
             0.7,
             "#b8e186"
            ],
            [
             0.8,
             "#7fbc41"
            ],
            [
             0.9,
             "#4d9221"
            ],
            [
             1,
             "#276419"
            ]
           ],
           "sequential": [
            [
             0,
             "#0d0887"
            ],
            [
             0.1111111111111111,
             "#46039f"
            ],
            [
             0.2222222222222222,
             "#7201a8"
            ],
            [
             0.3333333333333333,
             "#9c179e"
            ],
            [
             0.4444444444444444,
             "#bd3786"
            ],
            [
             0.5555555555555556,
             "#d8576b"
            ],
            [
             0.6666666666666666,
             "#ed7953"
            ],
            [
             0.7777777777777778,
             "#fb9f3a"
            ],
            [
             0.8888888888888888,
             "#fdca26"
            ],
            [
             1,
             "#f0f921"
            ]
           ],
           "sequentialminus": [
            [
             0,
             "#0d0887"
            ],
            [
             0.1111111111111111,
             "#46039f"
            ],
            [
             0.2222222222222222,
             "#7201a8"
            ],
            [
             0.3333333333333333,
             "#9c179e"
            ],
            [
             0.4444444444444444,
             "#bd3786"
            ],
            [
             0.5555555555555556,
             "#d8576b"
            ],
            [
             0.6666666666666666,
             "#ed7953"
            ],
            [
             0.7777777777777778,
             "#fb9f3a"
            ],
            [
             0.8888888888888888,
             "#fdca26"
            ],
            [
             1,
             "#f0f921"
            ]
           ]
          },
          "colorway": [
           "#636efa",
           "#EF553B",
           "#00cc96",
           "#ab63fa",
           "#FFA15A",
           "#19d3f3",
           "#FF6692",
           "#B6E880",
           "#FF97FF",
           "#FECB52"
          ],
          "font": {
           "color": "#2a3f5f"
          },
          "geo": {
           "bgcolor": "white",
           "lakecolor": "white",
           "landcolor": "#E5ECF6",
           "showlakes": true,
           "showland": true,
           "subunitcolor": "white"
          },
          "hoverlabel": {
           "align": "left"
          },
          "hovermode": "closest",
          "mapbox": {
           "style": "light"
          },
          "paper_bgcolor": "white",
          "plot_bgcolor": "#E5ECF6",
          "polar": {
           "angularaxis": {
            "gridcolor": "white",
            "linecolor": "white",
            "ticks": ""
           },
           "bgcolor": "#E5ECF6",
           "radialaxis": {
            "gridcolor": "white",
            "linecolor": "white",
            "ticks": ""
           }
          },
          "scene": {
           "xaxis": {
            "backgroundcolor": "#E5ECF6",
            "gridcolor": "white",
            "gridwidth": 2,
            "linecolor": "white",
            "showbackground": true,
            "ticks": "",
            "zerolinecolor": "white"
           },
           "yaxis": {
            "backgroundcolor": "#E5ECF6",
            "gridcolor": "white",
            "gridwidth": 2,
            "linecolor": "white",
            "showbackground": true,
            "ticks": "",
            "zerolinecolor": "white"
           },
           "zaxis": {
            "backgroundcolor": "#E5ECF6",
            "gridcolor": "white",
            "gridwidth": 2,
            "linecolor": "white",
            "showbackground": true,
            "ticks": "",
            "zerolinecolor": "white"
           }
          },
          "shapedefaults": {
           "line": {
            "color": "#2a3f5f"
           }
          },
          "ternary": {
           "aaxis": {
            "gridcolor": "white",
            "linecolor": "white",
            "ticks": ""
           },
           "baxis": {
            "gridcolor": "white",
            "linecolor": "white",
            "ticks": ""
           },
           "bgcolor": "#E5ECF6",
           "caxis": {
            "gridcolor": "white",
            "linecolor": "white",
            "ticks": ""
           }
          },
          "title": {
           "x": 0.05
          },
          "xaxis": {
           "automargin": true,
           "gridcolor": "white",
           "linecolor": "white",
           "ticks": "",
           "title": {
            "standoff": 15
           },
           "zerolinecolor": "white",
           "zerolinewidth": 2
          },
          "yaxis": {
           "automargin": true,
           "gridcolor": "white",
           "linecolor": "white",
           "ticks": "",
           "title": {
            "standoff": 15
           },
           "zerolinecolor": "white",
           "zerolinewidth": 2
          }
         }
        },
        "title": {
         "text": "Node Allocation by Refined Clusters"
        },
        "width": 700,
        "xaxis": {
         "range": [
          -5,
          105
         ],
         "title": {
          "text": "X Coordinate"
         }
        },
        "yaxis": {
         "range": [
          -5,
          105
         ],
         "scaleanchor": "x",
         "scaleratio": 1,
         "title": {
          "text": "Y Coordinate"
         }
        }
       }
      }
     },
     "metadata": {},
     "output_type": "display_data"
    }
   ],
   "source": [
    "plot_refined_clusters(clusters, nodes_df)"
   ]
  },
  {
   "cell_type": "code",
   "execution_count": 1205,
   "metadata": {},
   "outputs": [],
   "source": [
    "node_to_cluster = {node: cluster for cluster, nodes in clusters.items() for node in nodes}\n",
    "nodes_df['cluster'] = nodes_df['node_id'].map(node_to_cluster)"
   ]
  },
  {
   "cell_type": "markdown",
   "metadata": {},
   "source": [
    "- if there are no fixed appointments the below will fail\n",
    "- requires adjustements to cases where consecutive days > 2"
   ]
  },
  {
   "cell_type": "code",
   "execution_count": 1206,
   "metadata": {},
   "outputs": [],
   "source": [
    "def assign_weekdays_to_clusters(nodes_df):\n",
    "    # Handel the case of no fixed appointments and consective random assignment here\n",
    "    if nodes_df['weekdays_fixed_appointments'].isnull().all():\n",
    "        pass\n",
    "    \n",
    "    grouped_data = nodes_df.groupby(['weekdays_fixed_appointments', 'cluster']).size().unstack(fill_value=0)\n",
    "    weekdays = range(1, 8)\n",
    "\n",
    "    cluster_assignments = {}\n",
    "\n",
    "    # Identify missing weekdays\n",
    "    missing_weekdays = set(weekdays) - set(grouped_data.index)\n",
    "\n",
    "    # Add missing weekdays as new rows filled with zeros\n",
    "    for weekday in missing_weekdays:\n",
    "        grouped_data.loc[weekday] = [0] * len(grouped_data.columns)  # Create a row of zeros\n",
    "\n",
    "    # Sort the DataFrame by index to ensure weekdays are in order\n",
    "    grouped_data.sort_index(inplace=True)\n",
    "\n",
    "    # Generate priority list focusing on appropriate assignment of large clusters\n",
    "    priority_list = []\n",
    "    for cluster in grouped_data.columns:\n",
    "        for i in range(len(weekdays)):\n",
    "            if 'large' in cluster and i < len(weekdays) - 1:  # ensure there's a next day for large clusters\n",
    "                avg_appointments = (grouped_data.loc[weekdays[i], cluster] + grouped_data.loc[weekdays[i+1], cluster]) / 2\n",
    "                priority_list.append((weekdays[i], cluster, avg_appointments, f\"Days {weekdays[i]}-{weekdays[i+1]}\"))\n",
    "            elif 'small' in cluster:\n",
    "                priority_list.append((weekdays[i], cluster, grouped_data.loc[weekdays[i], cluster], f\"Day {weekdays[i]}\"))\n",
    "\n",
    "    # Sort priority list\n",
    "    priority_df = pd.DataFrame(priority_list, columns=['day', 'cluster', 'appointments', 'description'])\n",
    "    priority_df = priority_df.sort_values(by=['cluster', 'appointments'], ascending=[True, False])\n",
    "    all_clusters = nodes_df['cluster'].unique()\n",
    "    large_clusters = [cluster for cluster in all_clusters if 'large' in cluster]\n",
    "    large_clusters_not_in_priority = [cluster for cluster in large_clusters if cluster not in set(priority_df['cluster'])]\n",
    "\n",
    "    # check if there is any entry in priority_df['description'] containing 'Days'\n",
    "    for index, large_cluster in enumerate(large_clusters_not_in_priority):\n",
    "        # create a list of consecutive days based on weekdays\n",
    "        consecutive_day_pairs = []\n",
    "        for i in range(len(weekdays)):\n",
    "            if i < len(weekdays) - 1:\n",
    "                consecutive_day_pairs.append((weekdays[i], weekdays[i+1]))\n",
    "\n",
    "        # get the number of appointments for each pair of consecutive_days\n",
    "        appointments_per_pair = {}\n",
    "        try:\n",
    "            for consecutive_days in consecutive_day_pairs:\n",
    "                day1 = sum(priority_df[priority_df['day'] == consecutive_days[0]]['appointments'])\n",
    "                day2 = sum(priority_df[priority_df['day'] == consecutive_days[1]]['appointments'])\n",
    "                appointments_per_pair[consecutive_days] = day1 + day2\n",
    "\n",
    "            # get the pair of consecutive days with the least number of appointments\n",
    "            min_appointments = min(appointments_per_pair.values())\n",
    "\n",
    "            # get the pair of consecutive days with the least number of appointments\n",
    "            min_appointments_days = [k for k, v in appointments_per_pair.items() if v == min_appointments]\n",
    "\n",
    "        except:\n",
    "            min_appointments_days = [(1.0, 2.0), (3.0, 4.0)]\n",
    "\n",
    "        cluster_assignments[large_cluster] = min_appointments_days[index]\n",
    "\n",
    "    # Assign clusters to days\n",
    "    used_days = set()\n",
    "    for _, row in priority_df.iterrows():\n",
    "        cluster = row['cluster']\n",
    "        description = row['description']\n",
    "\n",
    "        if 'Days' in description and cluster not in cluster_assignments:\n",
    "            day1, day2 = map(float, description.split(' ')[1].split('-'))\n",
    "            if day1 not in used_days and day2 not in used_days:\n",
    "                cluster_assignments[cluster] = {day1, day2}\n",
    "                used_days.update([day1, day2])\n",
    "        elif 'Day' in description and cluster not in cluster_assignments and float(description.split(' ')[1]) not in used_days:\n",
    "            day = float(description.split(' ')[1])\n",
    "            cluster_assignments[cluster] = {day,}\n",
    "            used_days.add(day)\n",
    "\n",
    "    # find the clusters that are not assigned to any day\n",
    "    unassigned_clusters = set(all_clusters) - set(cluster_assignments.keys())\n",
    "    unassigned_days = set(weekdays) - used_days\n",
    "\n",
    "    # randomly assign unassigned clusters to unassigned days\n",
    "    for cluster in unassigned_clusters:\n",
    "        day = unassigned_days.pop()\n",
    "        cluster_assignments[cluster] = {day,}\n",
    "    \n",
    "    # Add a new column to nodes_df mapping each node's cluster to the weekday\n",
    "    nodes_df['visit_day'] = nodes_df['cluster'].map(cluster_assignments)\n",
    "\n",
    "    def update_visit_days(row):\n",
    "        fixed_day = row['weekdays_fixed_appointments']\n",
    "        visit_days = row['visit_day']\n",
    "        \n",
    "        # If there's a fixed appointment day and it's not in visit days, update the visit days\n",
    "        if not pd.isna(fixed_day) and fixed_day not in visit_days:\n",
    "            unique_visit_days = nodes_df['visit_day'].apply(lambda x: tuple(sorted(x))).unique()\n",
    "            for unique_days in unique_visit_days:\n",
    "                if fixed_day in unique_days:\n",
    "                    return set(unique_days)\n",
    "        return visit_days\n",
    "\n",
    "    # Apply the function to the dataframe\n",
    "    nodes_df['visit_day'] = nodes_df.apply(update_visit_days, axis=1)\n",
    "    \n",
    "    return nodes_df"
   ]
  },
  {
   "cell_type": "markdown",
   "metadata": {},
   "source": [
    "- sometimes the below assigns clusters to weekdays on which they are not opened up"
   ]
  },
  {
   "cell_type": "code",
   "execution_count": 1207,
   "metadata": {},
   "outputs": [],
   "source": [
    "nodes_df = assign_weekdays_to_clusters(nodes_df)"
   ]
  },
  {
   "cell_type": "code",
   "execution_count": 1208,
   "metadata": {},
   "outputs": [
    {
     "data": {
      "text/plain": [
       "{1}"
      ]
     },
     "execution_count": 1208,
     "metadata": {},
     "output_type": "execute_result"
    }
   ],
   "source": [
    "nodes_df['visit_day'][0]"
   ]
  },
  {
   "cell_type": "markdown",
   "metadata": {},
   "source": [
    "- the below will Fail if there are lunch breaks\n",
    "- deduce on_site_time from closing times"
   ]
  },
  {
   "cell_type": "code",
   "execution_count": 1209,
   "metadata": {},
   "outputs": [],
   "source": [
    "# Convert visit_day to a frozenset\n",
    "nodes_df['visit_day'] = nodes_df['visit_day'].apply(frozenset)\n",
    "\n",
    "# reduce opening hours to those relevant to visit days\n",
    "def adjust_opening_hours(row):\n",
    "    visit_days = row['visit_day']\n",
    "    opening_hours = row['opening_hours']\n",
    "    adjusted_hours = {}\n",
    "    for day in visit_days:\n",
    "        if day in opening_hours:\n",
    "            open_time, close_time = opening_hours[day]\n",
    "            adjusted_open = open_time.hour * 60 + open_time.minute\n",
    "            adjusted_close = close_time.hour * 60 + close_time.minute\n",
    "            if len(visit_days) == 2 and max(visit_days) == day: # fail here if lunch break\n",
    "                adjusted_open += 1440\n",
    "                adjusted_close += 1440\n",
    "            adjusted_hours[int(day)] = (adjusted_open, adjusted_close)\n",
    "    return adjusted_hours\n",
    "\n",
    "nodes_df['adjusted_opening_hours'] = nodes_df.apply(adjust_opening_hours, axis=1)"
   ]
  },
  {
   "cell_type": "code",
   "execution_count": 1210,
   "metadata": {},
   "outputs": [],
   "source": [
    "# Replace opening hours with fixed appointments if any exist\n",
    "def time_to_minutes(t):\n",
    "    return t.hour * 60 + t.minute + t.second / 60\n",
    "\n",
    "def adjust_hours(row):\n",
    "    opening_hours = row['adjusted_opening_hours']\n",
    "    appointment = row['fixed_appointment']\n",
    "    if appointment:\n",
    "        day, start_time, end_time = appointment\n",
    "        start_minutes = int(time_to_minutes(start_time) - margin)\n",
    "        end_minutes = int(time_to_minutes(end_time) + margin)\n",
    "\n",
    "        # Get the highest day key in the adjusted_opening_hours\n",
    "        max_day_key = max(opening_hours.keys()) if opening_hours else None\n",
    "        \n",
    "        # Check if the appointment is on the last (highest) day\n",
    "        if (day == max_day_key) & (day != 0):\n",
    "            start_minutes += 1440  # Add 24 hours in minutes\n",
    "            end_minutes += 1440\n",
    "\n",
    "        # Adjust opening hours for the appointment day\n",
    "        if day in opening_hours:\n",
    "            opening_hours = {day: (start_minutes, end_minutes)}\n",
    "        else:\n",
    "            # Add new day if it does not exist\n",
    "            opening_hours[day] = (start_minutes, end_minutes)\n",
    "    # make opening_hours a list of tuples\n",
    "    opening_hours = [[v[0], v[1]] for _, v in opening_hours.items()]\n",
    "    return opening_hours\n",
    "\n",
    "# Applying the function\n",
    "nodes_df['adjusted_opening_hours'] = nodes_df.apply(adjust_hours, axis=1)"
   ]
  },
  {
   "cell_type": "code",
   "execution_count": 1211,
   "metadata": {},
   "outputs": [
    {
     "data": {
      "text/plain": [
       "0                 [[540, 1020]]\n",
       "1                  [[480, 960]]\n",
       "2                 [[540, 1080]]\n",
       "3                            []\n",
       "4                            []\n",
       "5     [[540, 1080], [783, 823]]\n",
       "6                 [[480, 1020]]\n",
       "7                 [[480, 1020]]\n",
       "8                 [[540, 1020]]\n",
       "9                 [[540, 1080]]\n",
       "10                           []\n",
       "11                           []\n",
       "12                [[540, 1080]]\n",
       "13                [[480, 1020]]\n",
       "14                           []\n",
       "15                 [[480, 960]]\n",
       "16                [[540, 1020]]\n",
       "17                [[480, 1020]]\n",
       "18                [[480, 1020]]\n",
       "19                           []\n",
       "20                [[480, 1020]]\n",
       "21                [[540, 1080]]\n",
       "22                [[480, 1020]]\n",
       "23                           []\n",
       "24                           []\n",
       "25                [[540, 1020]]\n",
       "26                 [[480, 960]]\n",
       "27                [[480, 1020]]\n",
       "28                 [[480, 960]]\n",
       "29                 [[480, 960]]\n",
       "30                 [[480, 960]]\n",
       "31                [[540, 1020]]\n",
       "32                 [[480, 960]]\n",
       "33                [[480, 1020]]\n",
       "34                           []\n",
       "35                [[540, 1080]]\n",
       "36                [[540, 1080]]\n",
       "37                 [[480, 960]]\n",
       "38                [[480, 1020]]\n",
       "39                [[540, 1080]]\n",
       "40                           []\n",
       "41                           []\n",
       "42                [[540, 1020]]\n",
       "43                [[540, 1020]]\n",
       "44                 [[480, 960]]\n",
       "45                 [[480, 960]]\n",
       "46                [[540, 1020]]\n",
       "47               [[2257, 2297]]\n",
       "48                [[480, 1020]]\n",
       "49                [[480, 1020]]\n",
       "50                [[540, 1020]]\n",
       "51                [[540, 1080]]\n",
       "52                [[540, 1020]]\n",
       "53               [[2429, 2469]]\n",
       "54                           []\n",
       "55                           []\n",
       "56                           []\n",
       "57                [[540, 1080]]\n",
       "58                 [[480, 960]]\n",
       "59                [[480, 1020]]\n",
       "Name: adjusted_opening_hours, dtype: object"
      ]
     },
     "execution_count": 1211,
     "metadata": {},
     "output_type": "execute_result"
    }
   ],
   "source": [
    "nodes_df['adjusted_opening_hours']"
   ]
  },
  {
   "cell_type": "code",
   "execution_count": 1212,
   "metadata": {},
   "outputs": [],
   "source": [
    "nodes_df['cluster_size'] = nodes_df['cluster'].str.split('_').str[0]"
   ]
  },
  {
   "cell_type": "code",
   "execution_count": 1213,
   "metadata": {},
   "outputs": [],
   "source": [
    "def define_clusters(dataframe):\n",
    "    dataframe['visit_day'] = dataframe['visit_day'].apply(lambda x: tuple(x) if isinstance(x, list) else (x,))\n",
    "    dataframe['new_clusters'] = dataframe['visit_day'].astype(str).factorize()[0]\n",
    "    return dataframe\n",
    "\n",
    "# Apply the function to the DataFrame\n",
    "clustered_df = define_clusters(nodes_df)\n",
    "\n",
    "# Convert the DataFrame to the required dictionary format for plotting\n",
    "refined_clusters = clustered_df.groupby('new_clusters')['node_id'].apply(list).to_dict()"
   ]
  },
  {
   "cell_type": "code",
   "execution_count": 1214,
   "metadata": {},
   "outputs": [],
   "source": [
    "depot_node_data = nodes_df[nodes_df['node_id'] == 0].iloc[0]  # Assuming there is always a row for node 0 in the original DataFrame\n",
    "\n",
    "result_dfs = {}\n",
    "for index, group in nodes_df.groupby('visit_day'):\n",
    "    # Check if depot node is in the current group\n",
    "    if 0 not in group['node_id'].values:\n",
    "        # Append depot node data to the group\n",
    "        group = pd.concat([pd.DataFrame([depot_node_data]), group], ignore_index=True)\n",
    "    # Now group is guaranteed to include the depot node\n",
    "    result_dfs[index] = group[['node_id', 'priority', 'adjusted_opening_hours', 'cluster_size', 'visit_day', 'on_site_time']]"
   ]
  },
  {
   "cell_type": "markdown",
   "metadata": {},
   "source": [
    "- nodes with fixed appointments should have prio 1\n",
    "- add margin to not arrive before closing - amount of time staying\n",
    "- would require changes for a 3 day trip\n",
    "- correct index for printing dropped nodes\n",
    "- optimize route beyond priority choice"
   ]
  },
  {
   "cell_type": "code",
   "execution_count": 1215,
   "metadata": {},
   "outputs": [
    {
     "ename": "IndexError",
     "evalue": "list index out of range",
     "output_type": "error",
     "traceback": [
      "\u001b[0;31m---------------------------------------------------------------------------\u001b[0m",
      "\u001b[0;31mIndexError\u001b[0m                                Traceback (most recent call last)",
      "Cell \u001b[0;32mIn[1215], line 117\u001b[0m\n\u001b[1;32m    115\u001b[0m         time_dimension\u001b[38;5;241m.\u001b[39mCumulVar(index)\u001b[38;5;241m.\u001b[39mRemoveInterval(working_hours[\u001b[38;5;241m1\u001b[39m] \u001b[38;5;241m+\u001b[39m \u001b[38;5;241m1440\u001b[39m \u001b[38;5;241m*\u001b[39m (day\u001b[38;5;241m-\u001b[39m\u001b[38;5;241m1\u001b[39m), working_hours[\u001b[38;5;241m0\u001b[39m] \u001b[38;5;241m+\u001b[39m \u001b[38;5;241m1440\u001b[39m \u001b[38;5;241m*\u001b[39m day)\n\u001b[1;32m    116\u001b[0m \u001b[38;5;28;01melse\u001b[39;00m:\n\u001b[0;32m--> 117\u001b[0m     \u001b[38;5;28;01mif\u001b[39;00m \u001b[43mwindows\u001b[49m\u001b[43m[\u001b[49m\u001b[38;5;241;43m0\u001b[39;49m\u001b[43m]\u001b[49m[\u001b[38;5;241m0\u001b[39m] \u001b[38;5;241m>\u001b[39m \u001b[38;5;241m1440\u001b[39m:\n\u001b[1;32m    118\u001b[0m         \u001b[38;5;66;03m# print('work on day 2')\u001b[39;00m\n\u001b[1;32m    119\u001b[0m         work_start \u001b[38;5;241m=\u001b[39m working_hours[\u001b[38;5;241m0\u001b[39m] \u001b[38;5;241m+\u001b[39m \u001b[38;5;241m1440\u001b[39m\n\u001b[1;32m    120\u001b[0m         work_end \u001b[38;5;241m=\u001b[39m working_hours[\u001b[38;5;241m1\u001b[39m] \u001b[38;5;241m+\u001b[39m \u001b[38;5;241m1440\u001b[39m\n",
      "\u001b[0;31mIndexError\u001b[0m: list index out of range"
     ]
    }
   ],
   "source": [
    "sub_nodes_df = result_dfs[list(result_dfs.keys())[0]]\n",
    "solutions = {}\n",
    "route_lists = {}\n",
    "route_lists_with_travel = {}\n",
    "\n",
    "def minutes_to_hhmm(minutes_am):\n",
    "    minutes_am = minutes_am % 1440  # Ensure minutes are within a day\n",
    "    minutes = minutes_am % 60\n",
    "    hours = (minutes_am - minutes) // 60  # Use integer division for hours\n",
    "    return f'{hours:02}:{minutes:02}'\n",
    "\n",
    "def create_data_model(sub_nodes_df, sub_time_matrix):\n",
    "    \"\"\"Stores the data for the problem.\"\"\"\n",
    "    data = {}\n",
    "    data['time_matrix'] = sub_time_matrix\n",
    "    data['windows'] = sub_nodes_df['adjusted_opening_hours'].tolist()\n",
    "    data['priorities'] = sub_nodes_df['priority'].tolist()\n",
    "    data['num_vehicles'] = 1\n",
    "    data['on_site_time'] = sub_nodes_df['on_site_time'].tolist()\n",
    "    data['depot'] = 0\n",
    "    return data\n",
    "\n",
    "def return_route_and_times(solution, manager, routing, original_node_ids, data):\n",
    "    \"\"\"Returns the route along with the start times at each node.\"\"\"\n",
    "    index = routing.Start(0)  # Start at the depot.\n",
    "    route_with_travel = []\n",
    "    route_without_travel = []\n",
    "    time_dimension = routing.GetDimensionOrDie('total_time')  # Make sure this matches the dimension name used\n",
    "\n",
    "    while not routing.IsEnd(index):\n",
    "        node_index = manager.IndexToNode(index)\n",
    "        original_node_id = original_node_ids[node_index]  # Map back to original node ID\n",
    "        time_var = time_dimension.CumulVar(index)\n",
    "        start_time = solution.Min(time_var)\n",
    "        end_time = start_time + data['on_site_time'][node_index]  # Include on-site time\n",
    "        route_with_travel.append((original_node_id, start_time, end_time))  # Include end time for better clarity\n",
    "        route_without_travel.append((original_node_id, start_time))  # Include end time for better clarity\n",
    "        next_index = solution.Value(routing.NextVar(index))\n",
    "        \n",
    "        travel_time = routing.GetArcCostForVehicle(index, next_index, 0) - data['on_site_time'][index]  # Get travel time\n",
    "        route_with_travel.append((\"road\", travel_time))\n",
    "        \n",
    "        index = next_index\n",
    "\n",
    "    # Add the final node\n",
    "    final_node_index = manager.IndexToNode(index)\n",
    "    final_node_id = original_node_ids[final_node_index]\n",
    "    final_time_var = time_dimension.CumulVar(index)\n",
    "    final_start_time = solution.Min(final_time_var)\n",
    "    final_end_time = final_start_time + data['on_site_time'][final_node_index]\n",
    "    route_with_travel.append((final_node_id, final_start_time, final_end_time))\n",
    "    route_without_travel.append((final_node_id, final_start_time))\n",
    "\n",
    "    return route_with_travel, route_without_travel\n",
    "\n",
    "def print_route(route_with_times):\n",
    "    \"\"\"Prints the route in the desired format.\"\"\"\n",
    "    route_str = \"\"\n",
    "    for segment in route_with_times:\n",
    "        if segment[0] == \"road\":\n",
    "            route_str += f\" - road ({segment[1]}) - \"\n",
    "        else:\n",
    "            node_id, start_time, end_time = segment\n",
    "            route_str += f\"{node_id} ({minutes_to_hhmm(start_time)}-{minutes_to_hhmm(end_time)})\"\n",
    "    print(route_str)\n",
    "\n",
    "# def solve_vrp(key, sub_nodes_df):\n",
    "if True:\n",
    "    max_travel_time = 10000 if len(sub_nodes_df['visit_day'].iloc[0]) == 1 else 20000 # adjust\n",
    "    nodes = sub_nodes_df['node_id'].tolist()\n",
    "    sub_time_matrix = time_matrix.loc[nodes, nodes].values.tolist()\n",
    "    sub_time_matrix = [[int(x) for x in row] for row in sub_time_matrix]\n",
    "    data = create_data_model(sub_nodes_df, sub_time_matrix)\n",
    "    manager = pywrapcp.RoutingIndexManager(len(data[\"time_matrix\"]), data[\"num_vehicles\"], data[\"depot\"])\n",
    "    routing = pywrapcp.RoutingModel(manager)\n",
    "    def time_callback(from_index, to_index):\n",
    "        from_node = manager.IndexToNode(from_index)\n",
    "        to_node = manager.IndexToNode(to_index)\n",
    "        return data[\"time_matrix\"][from_node][to_node] + data['on_site_time'][from_node]\n",
    "    transit_callback_index = routing.RegisterTransitCallback(time_callback)\n",
    "    routing.SetArcCostEvaluatorOfAllVehicles(transit_callback_index)\n",
    "    routing.AddDimension(\n",
    "        transit_callback_index,\n",
    "        slack,  # upper bound for slack / waiting time\n",
    "        max_travel_time,  # upper bound for vehicle maximum travel time\n",
    "        False,  # start cumul to zero\n",
    "        \"total_time\"\n",
    "    )\n",
    "    time_dimension = routing.GetDimensionOrDie(\"total_time\")\n",
    "    time_dimension.SetGlobalSpanCostCoefficient(span_cost_coefficient)\n",
    "\n",
    "    # PENALTY\n",
    "    for location_index, priority in enumerate(data['priorities']):\n",
    "        index = manager.NodeToIndex(location_index)\n",
    "        if index == 0:\n",
    "            continue\n",
    "        else:\n",
    "            routing.AddDisjunction([index], int(round((priority*100)**2*penalty_factor, 0)))\n",
    "\n",
    "    # OPENING HOURS, LUNCH AND OVERNIGHT BREAKS\n",
    "    for location_index, windows in enumerate(data['windows']):\n",
    "        index = manager.NodeToIndex(location_index)\n",
    "        days = len(windows)\n",
    "        if days > 1:\n",
    "            if index < manager.GetNumberOfNodes():\n",
    "                work_start = working_hours[0]\n",
    "                work_end = working_hours[1] + 1440\n",
    "                latest_start = max(work_start, windows[0][0])\n",
    "                earliest_end = min(work_end, windows[-1][1])\n",
    "                # print(f'setting the time window from {latest_start} to {earliest_end} for node {location_index}')\n",
    "                time_dimension.CumulVar(index).SetRange(latest_start, earliest_end)\n",
    "            for day in range(1, days):\n",
    "                # print(f'and removing time between days from {working_hours[1] + 1440 * (day-1)} to {working_hours[0] + 1440 * day} for node {location_index}')\n",
    "                time_dimension.CumulVar(index).RemoveInterval(windows[day-1][1], windows[day][0])\n",
    "                time_dimension.CumulVar(index).RemoveInterval(working_hours[1] + 1440 * (day-1), working_hours[0] + 1440 * day)\n",
    "        else:\n",
    "            if windows[0][0] > 1440:\n",
    "                # print('work on day 2')\n",
    "                work_start = working_hours[0] + 1440\n",
    "                work_end = working_hours[1] + 1440\n",
    "                # print(f'work starts at {work_start} and ends at {work_end}')\n",
    "                # print(f'window starts at {windows[0][0]} and ends at {windows[0][1]}')\n",
    "                day_start = max(windows[0][0], work_start)\n",
    "                day_end = min(windows[0][1], work_end)\n",
    "            else:\n",
    "                day_start = windows[0][0]\n",
    "                day_end = windows[0][1]\n",
    "            # print(f'setting the time window from {day_start} to {day_end} for node {location_index}')\n",
    "            time_dimension.CumulVar(index).SetRange(day_start, day_end)  \n",
    "\n",
    "    node_visit_transit = {}\n",
    "    for index in range(routing.Size()):\n",
    "        node = manager.IndexToNode(index)\n",
    "        node_visit_transit[index] = data['on_site_time'][node]\n",
    "\n",
    "    lunch_break_interval = routing.solver().FixedDurationIntervalVar(\n",
    "        lunch_start, lunch_end, lunch_duration, False, 'lunch_break'\n",
    "    )\n",
    "\n",
    "    # Assign the break interval to the single vehicle\n",
    "    time_dimension.SetBreakIntervalsOfVehicle([lunch_break_interval], 0, node_visit_transit)\n",
    "\n",
    "    # Instantiate route start and end times to produce feasible times\n",
    "    routing.AddVariableMinimizedByFinalizer(time_dimension.CumulVar(routing.Start(0)))\n",
    "    routing.AddVariableMinimizedByFinalizer(time_dimension.CumulVar(routing.End(0)))\n",
    "\n",
    "    # Setting first solution heuristic\n",
    "    search_parameters = pywrapcp.DefaultRoutingSearchParameters()\n",
    "    search_parameters.first_solution_strategy = (\n",
    "        routing_enums_pb2.FirstSolutionStrategy.PATH_CHEAPEST_ARC)\n",
    "    # search_parameters.local_search_metaheuristic = (\n",
    "    #     routing_enums_pb2.LocalSearchMetaheuristic.SIMULATED_ANNEALING)\n",
    "    search_parameters.time_limit.seconds = 300\n",
    "    search_parameters.log_search = False\n",
    "\n",
    "    # Solve the problem\n",
    "    solution = routing.SolveWithParameters(search_parameters)\n",
    "\n",
    "#     if solution:\n",
    "#         dropped = []\n",
    "#         for node in range(routing.Size()):\n",
    "#             if routing.IsStart(node) or routing.IsEnd(node):\n",
    "#                 continue\n",
    "#             if solution.Value(routing.NextVar(node)) == node:\n",
    "#                 dropped.append(manager.IndexToNode(node))\n",
    "#         if len(dropped) > 0:\n",
    "#             print(f\"dropped from {key}: {dropped}\")\n",
    "#         return key, return_route_and_times(solution, manager, routing, nodes, data)\n",
    "        \n",
    "#     else:\n",
    "#         print(f\"No solution for key {key}\")\n",
    "#         return key, None\n",
    "    \n",
    "# with concurrent.futures.ThreadPoolExecutor() as executor:\n",
    "#     future_to_key = {executor.submit(solve_vrp, key, sub_nodes_df): key for key, sub_nodes_df in result_dfs.items()}\n",
    "#     for future in concurrent.futures.as_completed(future_to_key):\n",
    "#         key = future_to_key[future]\n",
    "#         # print(f\"Finding solution for key: {key}\")\n",
    "#         try:\n",
    "#             key, result = future.result()\n",
    "#             if result:\n",
    "#                 route_lists_with_travel[key] = result[0]\n",
    "#                 route_lists[key] = result[1]\n",
    "#         except Exception as e:\n",
    "#             print(f\"Error for key {key}: {e}\")\n",
    "\n",
    "# for key, route in route_lists_with_travel.items():\n",
    "#     print(f\"Route for key {key}:\")\n",
    "#     print_route(route)"
   ]
  },
  {
   "cell_type": "markdown",
   "metadata": {},
   "source": [
    "# check and visualize results"
   ]
  },
  {
   "cell_type": "code",
   "execution_count": null,
   "metadata": {},
   "outputs": [
    {
     "ename": "IndexError",
     "evalue": "list index out of range",
     "output_type": "error",
     "traceback": [
      "\u001b[0;31m---------------------------------------------------------------------------\u001b[0m",
      "\u001b[0;31mIndexError\u001b[0m                                Traceback (most recent call last)",
      "Cell \u001b[0;32mIn[195], line 1\u001b[0m\n\u001b[0;32m----> 1\u001b[0m route_and_times \u001b[38;5;241m=\u001b[39m route_lists[\u001b[38;5;28;43mlist\u001b[39;49m\u001b[43m(\u001b[49m\u001b[43mroute_lists\u001b[49m\u001b[38;5;241;43m.\u001b[39;49m\u001b[43mkeys\u001b[49m\u001b[43m(\u001b[49m\u001b[43m)\u001b[49m\u001b[43m)\u001b[49m\u001b[43m[\u001b[49m\u001b[38;5;241;43m0\u001b[39;49m\u001b[43m]\u001b[49m]\n\u001b[1;32m      2\u001b[0m route_df \u001b[38;5;241m=\u001b[39m pd\u001b[38;5;241m.\u001b[39mDataFrame(route_and_times, columns\u001b[38;5;241m=\u001b[39m[\u001b[38;5;124m'\u001b[39m\u001b[38;5;124mnode_id\u001b[39m\u001b[38;5;124m'\u001b[39m, \u001b[38;5;124m'\u001b[39m\u001b[38;5;124marrival_time\u001b[39m\u001b[38;5;124m'\u001b[39m])\n\u001b[1;32m      3\u001b[0m merged_df \u001b[38;5;241m=\u001b[39m pd\u001b[38;5;241m.\u001b[39mmerge(nodes_df, route_df, on\u001b[38;5;241m=\u001b[39m\u001b[38;5;124m'\u001b[39m\u001b[38;5;124mnode_id\u001b[39m\u001b[38;5;124m'\u001b[39m, how\u001b[38;5;241m=\u001b[39m\u001b[38;5;124m'\u001b[39m\u001b[38;5;124mleft\u001b[39m\u001b[38;5;124m'\u001b[39m)[[\u001b[38;5;124m'\u001b[39m\u001b[38;5;124madjusted_opening_hours\u001b[39m\u001b[38;5;124m'\u001b[39m, \u001b[38;5;124m'\u001b[39m\u001b[38;5;124marrival_time\u001b[39m\u001b[38;5;124m'\u001b[39m, \u001b[38;5;124m'\u001b[39m\u001b[38;5;124mnode_id\u001b[39m\u001b[38;5;124m'\u001b[39m]]\n",
      "\u001b[0;31mIndexError\u001b[0m: list index out of range"
     ]
    }
   ],
   "source": [
    "route_and_times = route_lists[list(route_lists.keys())[0]]\n",
    "route_df = pd.DataFrame(route_and_times, columns=['node_id', 'arrival_time'])\n",
    "merged_df = pd.merge(nodes_df, route_df, on='node_id', how='left')[['adjusted_opening_hours', 'arrival_time', 'node_id']]\n",
    "merged_df = merged_df[merged_df['node_id'] != 0]\n",
    "\n",
    "def check_within_ranges(arrival_time, ranges):\n",
    "    if len(ranges) == 1:\n",
    "        return ranges[0][0] <= arrival_time <= ranges[0][1]\n",
    "    elif len(ranges) == 2:\n",
    "        return (ranges[0][0] <= arrival_time <= ranges[0][1]) or (ranges[1][0] <= arrival_time <= ranges[1][1])\n",
    "    return False\n",
    "\n",
    "merged_df['time_check'] = merged_df.apply(\n",
    "    lambda row: check_within_ranges(row['arrival_time'], row['adjusted_opening_hours']), axis=1\n",
    ")\n",
    "\n",
    "if merged_df['time_check'].all():\n",
    "    print('VIOLATION OF TIME CONSTRAINTS')\n",
    "    print(merged_df[merged_df['time_check'] == False])\n",
    "\n",
    "# merged_df[['node_id', 'adjusted_opening_hours', 'arrival_time', 'time_check']]"
   ]
  },
  {
   "cell_type": "markdown",
   "metadata": {},
   "source": [
    "- print more info (opening hours, fixed appointments, priority, decisions [removing a node, replacing a node to another day, priority, etc])\n",
    "- use data to fine tune hyperparameters\n",
    "\n",
    "evtl:\n",
    "- Store state and if it was possible to find routes for all solutions iteratively add nodes based on node priority and distance to root node (those further away should be included more likely)\n",
    "- Test Discrete Priority (must be visited this week; must be visited next week; ...)\n",
    "- Compare routes with and without overnight stays / large clusters"
   ]
  },
  {
   "cell_type": "code",
   "execution_count": null,
   "metadata": {},
   "outputs": [],
   "source": [
    "plot_refined_clusters(refined_clusters, nodes_df, home_node_id=0)"
   ]
  },
  {
   "cell_type": "code",
   "execution_count": null,
   "metadata": {},
   "outputs": [],
   "source": [
    "plot_all_cluster_routes(route_lists, nodes_df)"
   ]
  }
 ],
 "metadata": {
  "kernelspec": {
   "display_name": "Python 3",
   "language": "python",
   "name": "python3"
  },
  "language_info": {
   "codemirror_mode": {
    "name": "ipython",
    "version": 3
   },
   "file_extension": ".py",
   "mimetype": "text/x-python",
   "name": "python",
   "nbconvert_exporter": "python",
   "pygments_lexer": "ipython3",
   "version": "3.12.2"
  }
 },
 "nbformat": 4,
 "nbformat_minor": 2
}
