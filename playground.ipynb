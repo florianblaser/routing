{
 "cells": [
  {
   "cell_type": "markdown",
   "metadata": {},
   "source": [
    "#  create dummy data and calculate clusters / routes"
   ]
  },
  {
   "cell_type": "code",
   "execution_count": 98,
   "metadata": {},
   "outputs": [],
   "source": [
    "num_nodes = 50\n",
    "margin = 5 # time margin for arrival before appointment and stay beyond\n",
    "working_hours = [8 * 60, 18 * 60] # 8am to 6pm\n",
    "percentage_of_appointments = 0.1\n",
    "span_cost_coefficient = 20000 # adjust\n",
    "slack = 20000 # adjust\n",
    "penalty_factor = 300000\n",
    "num_large_clusters = 1\n",
    "num_small_clusters = 3\n",
    "lunch_start = 11 * 60  # 12 PM in minutes\n",
    "lunch_end = 13 * 60  # 2 PM in minutes\n",
    "lunch_duration = 30"
   ]
  },
  {
   "cell_type": "code",
   "execution_count": 99,
   "metadata": {},
   "outputs": [],
   "source": [
    "from src.routing import create_nodes_dataframe, custom_clustering, plot_refined_clusters, assign_weekdays_to_clusters, plot_ind_route, plot_all_cluster_routes, create_data_model, plot_all_nodes_with_angles\n",
    "import pandas as pd\n",
    "import numpy as np\n",
    "from collections import Counter\n",
    "import concurrent.futures\n",
    "\n",
    "from ortools.constraint_solver import routing_enums_pb2\n",
    "from ortools.constraint_solver import pywrapcp"
   ]
  },
  {
   "cell_type": "code",
   "execution_count": 100,
   "metadata": {},
   "outputs": [],
   "source": [
    "nodes_df, time_matrix = create_nodes_dataframe(num_nodes=num_nodes, min_work_days=5, home_node_id=0, visiting_interval_min=10, visiting_interval_max=30, max_last_visit=20, frac_fixed_app=percentage_of_appointments)"
   ]
  },
  {
   "cell_type": "code",
   "execution_count": 101,
   "metadata": {},
   "outputs": [],
   "source": [
    "# plot_all_nodes_with_angles(nodes_df)"
   ]
  },
  {
   "cell_type": "markdown",
   "metadata": {},
   "source": [
    "- in rare cases the below will make trouble because there are two large gaps and a cluster is entirely contained within the second largest leading to size = nan"
   ]
  },
  {
   "cell_type": "code",
   "execution_count": 102,
   "metadata": {},
   "outputs": [],
   "source": [
    "clusters = custom_clustering(time_matrix.values, nodes_df, num_small_clusters=num_small_clusters, num_large_clusters=num_large_clusters, overnight_factor=1.3, precision=30, verbose=False)"
   ]
  },
  {
   "cell_type": "code",
   "execution_count": 103,
   "metadata": {},
   "outputs": [],
   "source": [
    "node_to_cluster = {node: cluster for cluster, nodes in clusters.items() for node in nodes}\n",
    "nodes_df['cluster'] = nodes_df['node_id'].map(node_to_cluster)"
   ]
  },
  {
   "cell_type": "markdown",
   "metadata": {},
   "source": [
    "- if there are no fixed appointments the below will fail\n",
    "- requires adjustements to cases where consecutive days > 2"
   ]
  },
  {
   "cell_type": "code",
   "execution_count": 104,
   "metadata": {},
   "outputs": [],
   "source": [
    "nodes_df = assign_weekdays_to_clusters(nodes_df)"
   ]
  },
  {
   "cell_type": "markdown",
   "metadata": {},
   "source": [
    "- the below will Fail if there are lunch breaks"
   ]
  },
  {
   "cell_type": "code",
   "execution_count": 105,
   "metadata": {},
   "outputs": [],
   "source": [
    "nodes_df['visit_day'] = nodes_df['visit_day'].apply(frozenset)\n",
    "\n",
    "def adjust_opening_hours(row):\n",
    "    visit_days = row['visit_day']\n",
    "    opening_hours = row['opening_hours']\n",
    "    adjusted_hours = {}\n",
    "    for day in visit_days:\n",
    "        if day in opening_hours:\n",
    "            open_time, close_time = opening_hours[day]\n",
    "            adjusted_open = open_time.hour * 60 + open_time.minute\n",
    "            adjusted_close = close_time.hour * 60 + close_time.minute\n",
    "            if len(visit_days) == 2 and max(visit_days) == day: # fail here if lunch break\n",
    "                adjusted_open += 1440\n",
    "                adjusted_close += 1440\n",
    "            adjusted_hours[int(day)] = (adjusted_open, adjusted_close)\n",
    "    return adjusted_hours\n",
    "\n",
    "nodes_df['adjusted_opening_hours'] = nodes_df.apply(adjust_opening_hours, axis=1)"
   ]
  },
  {
   "cell_type": "code",
   "execution_count": 106,
   "metadata": {},
   "outputs": [],
   "source": [
    "def time_to_minutes(t):\n",
    "    return t.hour * 60 + t.minute + t.second / 60\n",
    "\n",
    "def adjust_hours(row):\n",
    "    opening_hours = row['adjusted_opening_hours']\n",
    "    appointment = row['fixed_appointment']\n",
    "    if appointment:\n",
    "        day, start_time, end_time = appointment\n",
    "        start_minutes = int(time_to_minutes(start_time) - margin)\n",
    "        end_minutes = int(time_to_minutes(end_time) + margin)\n",
    "\n",
    "        # Get the highest day key in the adjusted_opening_hours\n",
    "        max_day_key = max(opening_hours.keys()) if opening_hours else None\n",
    "        \n",
    "        # Check if the appointment is on the last (highest) day\n",
    "        if (day == max_day_key) & (day != 0):\n",
    "            start_minutes += 1440  # Add 24 hours in minutes\n",
    "            end_minutes += 1440\n",
    "\n",
    "        # Adjust opening hours for the appointment day\n",
    "        if day in opening_hours:\n",
    "            opening_hours = {day: (start_minutes, end_minutes)}\n",
    "        else:\n",
    "            # Add new day if it does not exist\n",
    "            opening_hours[day] = (start_minutes, end_minutes)\n",
    "    # make opening_hours a list of tuples\n",
    "    opening_hours = [[v[0], v[1]] for _, v in opening_hours.items()]\n",
    "    return opening_hours\n",
    "\n",
    "# Applying the function\n",
    "nodes_df['adjusted_opening_hours'] = nodes_df.apply(adjust_hours, axis=1)"
   ]
  },
  {
   "cell_type": "code",
   "execution_count": 107,
   "metadata": {},
   "outputs": [],
   "source": [
    "nodes_df['cluster_size'] = nodes_df['cluster'].str.split('_').str[0]"
   ]
  },
  {
   "cell_type": "code",
   "execution_count": 108,
   "metadata": {},
   "outputs": [],
   "source": [
    "def define_clusters(dataframe):\n",
    "    dataframe['visit_day'] = dataframe['visit_day'].apply(lambda x: tuple(x) if isinstance(x, list) else (x,))\n",
    "    dataframe['new_clusters'] = dataframe['visit_day'].astype(str).factorize()[0]\n",
    "    return dataframe\n",
    "\n",
    "# Apply the function to the DataFrame\n",
    "clustered_df = define_clusters(nodes_df)\n",
    "\n",
    "# Convert the DataFrame to the required dictionary format for plotting\n",
    "refined_clusters = clustered_df.groupby('new_clusters')['node_id'].apply(list).to_dict()"
   ]
  },
  {
   "cell_type": "code",
   "execution_count": 109,
   "metadata": {},
   "outputs": [],
   "source": [
    "depot_node_data = nodes_df[nodes_df['node_id'] == 0].iloc[0]  # Assuming there is always a row for node 0 in the original DataFrame\n",
    "\n",
    "result_dfs = {}\n",
    "for index, group in nodes_df.groupby('visit_day'):\n",
    "    # Check if depot node is in the current group\n",
    "    if 0 not in group['node_id'].values:\n",
    "        # Append depot node data to the group\n",
    "        group = pd.concat([pd.DataFrame([depot_node_data]), group], ignore_index=True)\n",
    "    # Now group is guaranteed to include the depot node\n",
    "    result_dfs[index] = group[['node_id', 'priority', 'adjusted_opening_hours', 'cluster_size', 'visit_day', 'on_site_time']]"
   ]
  },
  {
   "cell_type": "markdown",
   "metadata": {},
   "source": [
    "- nodes with fixed appointments should have prio 1\n",
    "- add margin to not arrive before closing - amount of time staying\n",
    "- would require changes for a 3 day trip\n",
    "- correct index for printing dropped nodes\n",
    "- optimize route beyond priority choice"
   ]
  },
  {
   "cell_type": "code",
   "execution_count": 111,
   "metadata": {},
   "outputs": [
    {
     "name": "stdout",
     "output_type": "stream",
     "text": [
      "dropped from (frozenset({3.0}),): [6, 7, 8]\n",
      "dropped from (frozenset({1.0, 2.0}),): [7, 20]\n",
      "Route for key (frozenset({0.0}),):\n",
      "0 (08:42-08:42) - road (28) - 9 (09:10-09:50) - road (14) - 44 (10:04-10:45) - road (9) - 40 (10:54-11:28) - road (13) - 8 (12:11-12:51) - road (20) - 6 (13:11-13:45) - road (40) - 35 (14:25-14:55) - road (28) - 23 (15:23-16:14) - road (26) - 47 (16:40-17:34) - road (16) - 7 (17:50-18:37) - road (63) - 0 (19:40-19:40)\n",
      "Route for key (frozenset({4.0}),):\n",
      "0 (09:23-09:23) - road (42) - 15 (10:05-10:55) - road (4) - 33 (10:59-11:36) - road (11) - 49 (11:47-12:21) - road (20) - 42 (12:41-13:33) - road (9) - 16 (14:12-14:48) - road (24) - 28 (15:12-16:09) - road (12) - 41 (16:21-17:15) - road (45) - 27 (18:00-18:45) - road (53) - 0 (19:38-19:38)\n",
      "Route for key (frozenset({3.0}),):\n",
      "0 (09:01-09:01) - road (11) - 34 (09:12-09:53) - road (20) - 10 (10:13-11:05) - road (7) - 4 (11:12-12:07) - road (25) - 43 (12:32-13:09) - road (25) - 20 (14:04-14:49) - road (8) - 12 (14:57-15:38) - road (12) - 39 (15:50-16:31) - road (15) - 32 (16:46-17:36) - road (24) - 14 (18:00-18:56) - road (41) - 0 (19:37-19:37)\n",
      "Route for key (frozenset({1.0, 2.0}),):\n",
      "0 (08:46-08:46) - road (41) - 2 (09:27-10:22) - road (6) - 5 (10:28-11:17) - road (13) - 31 (11:30-12:17) - road (18) - 3 (12:35-13:27) - road (26) - 37 (14:23-15:03) - road (10) - 21 (15:13-15:53) - road (10) - 19 (16:03-16:49) - road (8) - 24 (16:57-17:44) - road (15) - 1 (17:59-18:52) - road (68) - 45 (08:01-08:36) - road (4) - 22 (08:40-09:24) - road (8) - 36 (09:32-10:27) - road (12) - 30 (10:39-11:33) - road (10) - 38 (11:43-12:26) - road (2) - 11 (12:28-13:10) - road (28) - 46 (13:38-14:11) - road (30) - 18 (14:41-15:31) - road (6) - 13 (15:37-16:29) - road (37) - 0 (17:06-17:06)\n"
     ]
    }
   ],
   "source": [
    "sub_nodes_df = result_dfs[list(result_dfs.keys())[0]]\n",
    "solutions = {}\n",
    "route_lists = {}\n",
    "route_lists_with_travel = {}\n",
    "\n",
    "def minutes_to_hhmm(minutes_am):\n",
    "    minutes_am = minutes_am % 1440  # Ensure minutes are within a day\n",
    "    minutes = minutes_am % 60\n",
    "    hours = (minutes_am - minutes) // 60  # Use integer division for hours\n",
    "    return f'{hours:02}:{minutes:02}'\n",
    "\n",
    "def create_data_model(sub_nodes_df, sub_time_matrix):\n",
    "    \"\"\"Stores the data for the problem.\"\"\"\n",
    "    data = {}\n",
    "    data['time_matrix'] = sub_time_matrix\n",
    "    data['windows'] = sub_nodes_df['adjusted_opening_hours'].tolist()\n",
    "    data['priorities'] = sub_nodes_df['priority'].tolist()\n",
    "    data['num_vehicles'] = 1\n",
    "    data['on_site_time'] = sub_nodes_df['on_site_time'].tolist()\n",
    "    data['depot'] = 0\n",
    "    return data\n",
    "\n",
    "def return_route_and_times(solution, manager, routing, original_node_ids, data):\n",
    "    \"\"\"Returns the route along with the start times at each node.\"\"\"\n",
    "    index = routing.Start(0)  # Start at the depot.\n",
    "    route_with_travel = []\n",
    "    route_without_travel = []\n",
    "    time_dimension = routing.GetDimensionOrDie('total_time')  # Make sure this matches the dimension name used\n",
    "\n",
    "    while not routing.IsEnd(index):\n",
    "        node_index = manager.IndexToNode(index)\n",
    "        original_node_id = original_node_ids[node_index]  # Map back to original node ID\n",
    "        time_var = time_dimension.CumulVar(index)\n",
    "        start_time = solution.Min(time_var)\n",
    "        end_time = start_time + data['on_site_time'][node_index]  # Include on-site time\n",
    "        route_with_travel.append((original_node_id, start_time, end_time))  # Include end time for better clarity\n",
    "        route_without_travel.append((original_node_id, start_time))  # Include end time for better clarity\n",
    "        next_index = solution.Value(routing.NextVar(index))\n",
    "        \n",
    "        travel_time = routing.GetArcCostForVehicle(index, next_index, 0) - data['on_site_time'][index]  # Get travel time\n",
    "        route_with_travel.append((\"road\", travel_time))\n",
    "        \n",
    "        index = next_index\n",
    "\n",
    "    # Add the final node\n",
    "    final_node_index = manager.IndexToNode(index)\n",
    "    final_node_id = original_node_ids[final_node_index]\n",
    "    final_time_var = time_dimension.CumulVar(index)\n",
    "    final_start_time = solution.Min(final_time_var)\n",
    "    final_end_time = final_start_time + data['on_site_time'][final_node_index]\n",
    "    route_with_travel.append((final_node_id, final_start_time, final_end_time))\n",
    "    route_without_travel.append((final_node_id, final_start_time))\n",
    "\n",
    "    return route_with_travel, route_without_travel\n",
    "\n",
    "def print_route(route_with_times):\n",
    "    \"\"\"Prints the route in the desired format.\"\"\"\n",
    "    route_str = \"\"\n",
    "    for segment in route_with_times:\n",
    "        if segment[0] == \"road\":\n",
    "            route_str += f\" - road ({segment[1]}) - \"\n",
    "        else:\n",
    "            node_id, start_time, end_time = segment\n",
    "            route_str += f\"{node_id} ({minutes_to_hhmm(start_time)}-{minutes_to_hhmm(end_time)})\"\n",
    "    print(route_str)\n",
    "\n",
    "def solve_vrp(key, sub_nodes_df):\n",
    "    max_travel_time = 10000 if len(sub_nodes_df['visit_day'].iloc[0]) == 1 else 20000 # adjust\n",
    "    nodes = sub_nodes_df['node_id'].tolist()\n",
    "    sub_time_matrix = time_matrix.loc[nodes, nodes].values.tolist()\n",
    "    sub_time_matrix = [[int(x) for x in row] for row in sub_time_matrix]\n",
    "    data = create_data_model(sub_nodes_df, sub_time_matrix)\n",
    "    manager = pywrapcp.RoutingIndexManager(len(data[\"time_matrix\"]), data[\"num_vehicles\"], data[\"depot\"])\n",
    "    routing = pywrapcp.RoutingModel(manager)\n",
    "    def time_callback(from_index, to_index):\n",
    "        from_node = manager.IndexToNode(from_index)\n",
    "        to_node = manager.IndexToNode(to_index)\n",
    "        return data[\"time_matrix\"][from_node][to_node] + data['on_site_time'][from_node]\n",
    "    transit_callback_index = routing.RegisterTransitCallback(time_callback)\n",
    "    routing.SetArcCostEvaluatorOfAllVehicles(transit_callback_index)\n",
    "    routing.AddDimension(\n",
    "        transit_callback_index,\n",
    "        slack,  # upper bound for slack / waiting time\n",
    "        max_travel_time,  # upper bound for vehicle maximum travel time\n",
    "        False,  # start cumul to zero\n",
    "        \"total_time\"\n",
    "    )\n",
    "    time_dimension = routing.GetDimensionOrDie(\"total_time\")\n",
    "    time_dimension.SetGlobalSpanCostCoefficient(span_cost_coefficient)\n",
    "\n",
    "    # PENALTY\n",
    "    for location_index, priority in enumerate(data['priorities']):\n",
    "        index = manager.NodeToIndex(location_index)\n",
    "        if index == 0:\n",
    "            continue\n",
    "        else:\n",
    "            routing.AddDisjunction([index], int(round((priority*100)**2*penalty_factor, 0)))\n",
    "\n",
    "    # OPENING HOURS, LUNCH AND OVERNIGHT BREAKS\n",
    "    for location_index, windows in enumerate(data['windows']):\n",
    "        index = manager.NodeToIndex(location_index)\n",
    "        days = len(windows)\n",
    "        if days > 1:\n",
    "            if index < manager.GetNumberOfNodes():\n",
    "                work_start = working_hours[0]\n",
    "                work_end = working_hours[1] + 1440\n",
    "                latest_start = max(work_start, windows[0][0])\n",
    "                earliest_end = min(work_end, windows[-1][1])\n",
    "                # print(f'setting the time window from {latest_start} to {earliest_end} for node {location_index}')\n",
    "                time_dimension.CumulVar(index).SetRange(latest_start, earliest_end)\n",
    "            for day in range(1, days):\n",
    "                # print(f'and removing time between days from {working_hours[1] + 1440 * (day-1)} to {working_hours[0] + 1440 * day} for node {location_index}')\n",
    "                time_dimension.CumulVar(index).RemoveInterval(windows[day-1][1], windows[day][0])\n",
    "                time_dimension.CumulVar(index).RemoveInterval(working_hours[1] + 1440 * (day-1), working_hours[0] + 1440 * day)\n",
    "        else:\n",
    "            if windows[0][0] > 1440:\n",
    "                # print('work on day 2')\n",
    "                work_start = working_hours[0] + 1440\n",
    "                work_end = working_hours[1] + 1440\n",
    "                # print(f'work starts at {work_start} and ends at {work_end}')\n",
    "                # print(f'window starts at {windows[0][0]} and ends at {windows[0][1]}')\n",
    "                day_start = max(windows[0][0], work_start)\n",
    "                day_end = min(windows[0][1], work_end)\n",
    "            else:\n",
    "                day_start = windows[0][0]\n",
    "                day_end = windows[0][1]\n",
    "            # print(f'setting the time window from {day_start} to {day_end} for node {location_index}')\n",
    "            time_dimension.CumulVar(index).SetRange(day_start, day_end)  \n",
    "\n",
    "    node_visit_transit = {}\n",
    "    for index in range(routing.Size()):\n",
    "        node = manager.IndexToNode(index)\n",
    "        node_visit_transit[index] = data['on_site_time'][node]\n",
    "\n",
    "    lunch_break_interval = routing.solver().FixedDurationIntervalVar(\n",
    "        lunch_start, lunch_end, lunch_duration, False, 'lunch_break'\n",
    "    )\n",
    "\n",
    "    # Assign the break interval to the single vehicle\n",
    "    time_dimension.SetBreakIntervalsOfVehicle([lunch_break_interval], 0, node_visit_transit)\n",
    "\n",
    "    # Instantiate route start and end times to produce feasible times\n",
    "    routing.AddVariableMinimizedByFinalizer(time_dimension.CumulVar(routing.Start(0)))\n",
    "    routing.AddVariableMinimizedByFinalizer(time_dimension.CumulVar(routing.End(0)))\n",
    "\n",
    "    # Setting first solution heuristic\n",
    "    search_parameters = pywrapcp.DefaultRoutingSearchParameters()\n",
    "    search_parameters.first_solution_strategy = (\n",
    "        routing_enums_pb2.FirstSolutionStrategy.PATH_CHEAPEST_ARC)\n",
    "    # search_parameters.local_search_metaheuristic = (\n",
    "    #     routing_enums_pb2.LocalSearchMetaheuristic.SIMULATED_ANNEALING)\n",
    "    search_parameters.time_limit.seconds = 300\n",
    "    search_parameters.log_search = False\n",
    "\n",
    "    # Solve the problem\n",
    "    solution = routing.SolveWithParameters(search_parameters)\n",
    "\n",
    "    if solution:\n",
    "        dropped = []\n",
    "        for node in range(routing.Size()):\n",
    "            if routing.IsStart(node) or routing.IsEnd(node):\n",
    "                continue\n",
    "            if solution.Value(routing.NextVar(node)) == node:\n",
    "                dropped.append(manager.IndexToNode(node))\n",
    "        if len(dropped) > 0:\n",
    "            print(f\"dropped from {key}: {dropped}\")\n",
    "        return key, return_route_and_times(solution, manager, routing, nodes, data)\n",
    "        \n",
    "    else:\n",
    "        print(f\"No solution for key {key}\")\n",
    "        return key, None\n",
    "    \n",
    "with concurrent.futures.ThreadPoolExecutor() as executor:\n",
    "    future_to_key = {executor.submit(solve_vrp, key, sub_nodes_df): key for key, sub_nodes_df in result_dfs.items()}\n",
    "    for future in concurrent.futures.as_completed(future_to_key):\n",
    "        key = future_to_key[future]\n",
    "        # print(f\"Finding solution for key: {key}\")\n",
    "        try:\n",
    "            key, result = future.result()\n",
    "            if result:\n",
    "                route_lists_with_travel[key] = result[0]\n",
    "                route_lists[key] = result[1]\n",
    "        except Exception as e:\n",
    "            print(f\"Error for key {key}: {e}\")\n",
    "\n",
    "for key, route in route_lists_with_travel.items():\n",
    "    print(f\"Route for key {key}:\")\n",
    "    print_route(route)"
   ]
  },
  {
   "cell_type": "markdown",
   "metadata": {},
   "source": [
    "# check and visualize results"
   ]
  },
  {
   "cell_type": "code",
   "execution_count": null,
   "metadata": {},
   "outputs": [],
   "source": [
    "route_and_times = route_lists[list(route_lists.keys())[0]]\n",
    "route_df = pd.DataFrame(route_and_times, columns=['node_id', 'arrival_time'])\n",
    "merged_df = pd.merge(nodes_df, route_df, on='node_id', how='left')[['adjusted_opening_hours', 'arrival_time', 'node_id']]\n",
    "merged_df = merged_df[merged_df['node_id'] != 0]\n",
    "\n",
    "def check_within_ranges(arrival_time, ranges):\n",
    "    if len(ranges) == 1:\n",
    "        return ranges[0][0] <= arrival_time <= ranges[0][1]\n",
    "    elif len(ranges) == 2:\n",
    "        return (ranges[0][0] <= arrival_time <= ranges[0][1]) or (ranges[1][0] <= arrival_time <= ranges[1][1])\n",
    "    return False\n",
    "\n",
    "merged_df['time_check'] = merged_df.apply(\n",
    "    lambda row: check_within_ranges(row['arrival_time'], row['adjusted_opening_hours']), axis=1\n",
    ")\n",
    "\n",
    "if merged_df['time_check'].all():\n",
    "    print('VIOLATION OF TIME CONSTRAINTS')\n",
    "    print(merged_df[merged_df['time_check'] == False])\n",
    "\n",
    "# merged_df[['node_id', 'adjusted_opening_hours', 'arrival_time', 'time_check']]"
   ]
  },
  {
   "cell_type": "markdown",
   "metadata": {},
   "source": [
    "- print more info (opening hours, fixed appointments, priority, decisions [removing a node, replacing a node to another day, priority, etc])\n",
    "- use data to fine tune hyperparameters\n",
    "\n",
    "evtl:\n",
    "- Store state and if it was possible to find routes for all solutions iteratively add nodes based on node priority and distance to root node (those further away should be included more likely)\n",
    "- Test Discrete Priority (must be visited this week; must be visited next week; ...)\n",
    "- Compare routes with and without overnight stays / large clusters"
   ]
  },
  {
   "cell_type": "code",
   "execution_count": 116,
   "metadata": {},
   "outputs": [
    {
     "data": {
      "application/vnd.plotly.v1+json": {
       "config": {
        "plotlyServerURL": "https://plot.ly"
       },
       "data": [
        {
         "hoverinfo": "text",
         "hovertext": [
          "Node: 0<br>Days: [0, 1, 2, 3, 4]<br>Priority: 0.27 <br>Angle to home: 0.0 <br>Distance to home: 0.0",
          "Node: 1<br>Days: [0, 1, 2, 3, 4]<br>Priority: 0.06 <br>Angle to home: 92.41950921665634 <br>Distance to home: 71.06",
          "Node: 2<br>Days: [0, 1, 2, 3, 4]<br>Priority: 0.18 <br>Angle to home: 102.68038349181982 <br>Distance to home: 41.0",
          "Node: 3<br>Days: [0, 1, 2, 3, 4]<br>Priority: 0.06 <br>Angle to home: 91.06091169026423 <br>Distance to home: 54.01",
          "Node: 5<br>Days: [0, 1, 2, 3, 4]<br>Priority: 1.00 <br>Angle to home: 110.55604521958347 <br>Distance to home: 42.72",
          "Node: 11<br>Days: [0, 1, 2, 3, 4]<br>Priority: 0.31 <br>Angle to home: 88.36342295838328 <br>Distance to home: 35.01",
          "Node: 13<br>Days: [0, 1, 2, 3, 4]<br>Priority: 0.86 <br>Angle to home: 108.43494882292202 <br>Distance to home: 37.95",
          "Node: 17<br>Days: [0, 1, 2, 3, 4]<br>Priority: 0.09 <br>Angle to home: 55.619655276155136 <br>Distance to home: 46.04",
          "Node: 18<br>Days: [0, 1, 2, 3, 4]<br>Priority: 0.67 <br>Angle to home: 100.00797980144135 <br>Distance to home: 34.53",
          "Node: 19<br>Days: [0, 1, 2, 3, 4]<br>Priority: 0.20 <br>Angle to home: 98.74616226255522 <br>Distance to home: 78.92",
          "Node: 21<br>Days: [0, 1, 2, 3, 4]<br>Priority: 0.50 <br>Angle to home: 101.0564129802482 <br>Distance to home: 88.65",
          "Node: 22<br>Days: [0, 1, 2, 3, 4]<br>Priority: 0.27 <br>Angle to home: 90.0 <br>Distance to home: 4.0",
          "Node: 24<br>Days: [0, 1, 2, 3, 4]<br>Priority: 0.40 <br>Angle to home: 95.31454566994475 <br>Distance to home: 86.37",
          "Node: 30<br>Days: [0, 1, 2, 3, 4]<br>Priority: 0.65 <br>Angle to home: 90.0 <br>Distance to home: 24.0",
          "Node: 31<br>Days: [0, 1, 2, 3, 4]<br>Priority: 1.00 <br>Angle to home: 109.72227776444706 <br>Distance to home: 56.3",
          "Node: 36<br>Days: [0, 1, 2, 3, 4]<br>Priority: 0.82 <br>Angle to home: 108.43494882292202 <br>Distance to home: 12.65",
          "Node: 37<br>Days: [0, 1, 2, 3, 4]<br>Priority: 0.86 <br>Angle to home: 97.21426203920676 <br>Distance to home: 79.63",
          "Node: 38<br>Days: [0, 1, 2, 3, 4]<br>Priority: 1.00 <br>Angle to home: 91.6846843178963 <br>Distance to home: 34.01",
          "Node: 45<br>Days: [0, 1, 2, 3, 4]<br>Priority: 1.00 <br>Angle to home: 143.13010235415598 <br>Distance to home: 5.0",
          "Node: 46<br>Days: [0, 1, 2, 3, 4]<br>Priority: 0.93 <br>Angle to home: 86.3670492605118 <br>Distance to home: 63.13",
          "Node: 48<br>Days: [0, 1, 2, 3, 4]<br>Priority: 0.32 <br>Angle to home: 83.45370921670597 <br>Distance to home: 61.4"
         ],
         "marker": {
          "color": "#76B041",
          "size": 10
         },
         "mode": "markers",
         "name": "0",
         "type": "scatter",
         "x": [
          19,
          16,
          10,
          18,
          4,
          20,
          7,
          45,
          13,
          7,
          2,
          19,
          11,
          19,
          0,
          15,
          9,
          18,
          15,
          23,
          26
         ],
         "y": [
          12,
          83,
          52,
          66,
          52,
          47,
          48,
          50,
          46,
          90,
          99,
          16,
          98,
          36,
          65,
          24,
          91,
          46,
          15,
          75,
          73
         ]
        },
        {
         "hoverinfo": "text",
         "hovertext": [
          "Node: 4<br>Days: [0, 1, 2, 3, 4]<br>Priority: 0.35 <br>Angle to home: 350.2724214485984 <br>Distance to home: 35.51",
          "Node: 10<br>Days: [0, 1, 2, 3, 4]<br>Priority: 1.00 <br>Angle to home: 0.0 <br>Distance to home: 31.0",
          "Node: 12<br>Days: [0, 1, 2, 3, 4]<br>Priority: 0.74 <br>Angle to home: 20.556045219583467 <br>Distance to home: 85.44",
          "Node: 14<br>Days: [0, 1, 2, 3, 4]<br>Priority: 0.61 <br>Angle to home: 12.380756928807177 <br>Distance to home: 41.98",
          "Node: 20<br>Days: [0, 1, 2, 3, 4]<br>Priority: 0.93 <br>Angle to home: 21.93848046770647 <br>Distance to home: 77.62",
          "Node: 25<br>Days: [0, 1, 2, 3, 4]<br>Priority: 0.20 <br>Angle to home: 0.0 <br>Distance to home: 77.0",
          "Node: 26<br>Days: [0, 1, 2, 3, 4]<br>Priority: 0.39 <br>Angle to home: 357.6784694101673 <br>Distance to home: 74.06",
          "Node: 29<br>Days: [0, 1, 2, 3, 4]<br>Priority: 0.33 <br>Angle to home: 29.21924669048461 <br>Distance to home: 67.6",
          "Node: 32<br>Days: [0, 1, 2, 3, 4]<br>Priority: 0.37 <br>Angle to home: 21.80140948635181 <br>Distance to home: 64.62",
          "Node: 34<br>Days: [0, 1, 2, 3, 4]<br>Priority: 0.69 <br>Angle to home: 354.8055710922652 <br>Distance to home: 11.05",
          "Node: 39<br>Days: [0, 1, 2, 3, 4]<br>Priority: 1.00 <br>Angle to home: 27.5528115767178 <br>Distance to home: 77.83",
          "Node: 43<br>Days: [0, 1, 2, 3, 4]<br>Priority: 0.46 <br>Angle to home: 14.036243467926479 <br>Distance to home: 53.6"
         ],
         "marker": {
          "color": "#F8766D",
          "size": 10
         },
         "mode": "markers",
         "name": "1",
         "type": "scatter",
         "x": [
          54,
          50,
          99,
          60,
          91,
          96,
          93,
          78,
          79,
          30,
          88,
          71
         ],
         "y": [
          6,
          12,
          42,
          21,
          41,
          12,
          9,
          45,
          36,
          11,
          48,
          25
         ]
        },
        {
         "hoverinfo": "text",
         "hovertext": [
          "Node: 6<br>Days: [0, 1, 2, 3, 4]<br>Priority: 0.62 <br>Angle to home: 53.97262661489639 <br>Distance to home: 68.01",
          "Node: 7<br>Days: [0, 1, 2, 3, 4]<br>Priority: 0.21 <br>Angle to home: 67.86450812189965 <br>Distance to home: 63.69",
          "Node: 8<br>Days: [0, 1, 2, 3, 4]<br>Priority: 0.43 <br>Angle to home: 55.30484646876604 <br>Distance to home: 47.43",
          "Node: 9<br>Days: [0, 1, 2, 3, 4]<br>Priority: 0.25 <br>Angle to home: 73.49563861824498 <br>Distance to home: 28.16",
          "Node: 23<br>Days: [0, 1, 2, 3, 4]<br>Priority: 0.24 <br>Angle to home: 67.61986494804043 <br>Distance to home: 91.92",
          "Node: 35<br>Days: [0, 1, 2, 3, 4]<br>Priority: 0.60 <br>Angle to home: 54.400780041023836 <br>Distance to home: 108.23",
          "Node: 40<br>Days: [0, 1, 2, 3, 4]<br>Priority: 0.47 <br>Angle to home: 70.49755149333778 <br>Distance to home: 50.92",
          "Node: 44<br>Days: [0, 1, 2, 3, 4]<br>Priority: 0.27 <br>Angle to home: 74.98163936884933 <br>Distance to home: 42.45",
          "Node: 47<br>Days: [0, 1, 2, 3, 4]<br>Priority: 0.42 <br>Angle to home: 80.40686573726967 <br>Distance to home: 72.01"
         ],
         "marker": {
          "color": "#00BFC4",
          "size": 10
         },
         "mode": "markers",
         "name": "2",
         "type": "scatter",
         "x": [
          59,
          43,
          46,
          27,
          54,
          82,
          36,
          30,
          31
         ],
         "y": [
          67,
          71,
          51,
          39,
          97,
          100,
          60,
          53,
          83
         ]
        },
        {
         "hoverinfo": "text",
         "hovertext": [
          "Node: 15<br>Days: [0, 1, 2, 3, 4]<br>Priority: 1.00 <br>Angle to home: 51.76617482255306 <br>Distance to home: 42.01",
          "Node: 16<br>Days: [0, 1, 2, 3, 4]<br>Priority: 0.79 <br>Angle to home: 49.32506043473846 <br>Distance to home: 84.39",
          "Node: 27<br>Days: [0, 1, 2, 3, 4]<br>Priority: 0.13 <br>Angle to home: 41.18592516570965 <br>Distance to home: 53.15",
          "Node: 28<br>Days: [0, 1, 2, 3, 4]<br>Priority: 0.78 <br>Angle to home: 50.59933933652057 <br>Distance to home: 108.71",
          "Node: 33<br>Days: [0, 1, 2, 3, 4]<br>Priority: 1.00 <br>Angle to home: 47.72631099390627 <br>Distance to home: 44.6",
          "Node: 41<br>Days: [0, 1, 2, 3, 4]<br>Priority: 0.57 <br>Angle to home: 47.060111023723124 <br>Distance to home: 98.35",
          "Node: 42<br>Days: [0, 1, 2, 3, 4]<br>Priority: 0.48 <br>Angle to home: 52.980113745168524 <br>Distance to home: 76.4",
          "Node: 49<br>Days: [0, 1, 2, 3, 4]<br>Priority: 1.00 <br>Angle to home: 52.30575953331083 <br>Distance to home: 55.61"
         ],
         "marker": {
          "color": "#C77CFF",
          "size": 10
         },
         "mode": "markers",
         "name": "3",
         "type": "scatter",
         "x": [
          45,
          74,
          59,
          88,
          49,
          86,
          65,
          53
         ],
         "y": [
          45,
          76,
          47,
          96,
          45,
          84,
          73,
          56
         ]
        },
        {
         "hoverinfo": "text",
         "hovertext": "Home: Node 0",
         "marker": {
          "color": "black",
          "size": 12,
          "symbol": "x"
         },
         "mode": "markers",
         "name": "Home Node",
         "type": "scatter",
         "x": [
          19
         ],
         "y": [
          12
         ]
        }
       ],
       "layout": {
        "height": 500,
        "hovermode": "closest",
        "legend": {
         "itemsizing": "constant",
         "title": {
          "text": "Clusters"
         }
        },
        "plot_bgcolor": "white",
        "template": {
         "data": {
          "bar": [
           {
            "error_x": {
             "color": "#2a3f5f"
            },
            "error_y": {
             "color": "#2a3f5f"
            },
            "marker": {
             "line": {
              "color": "#E5ECF6",
              "width": 0.5
             },
             "pattern": {
              "fillmode": "overlay",
              "size": 10,
              "solidity": 0.2
             }
            },
            "type": "bar"
           }
          ],
          "barpolar": [
           {
            "marker": {
             "line": {
              "color": "#E5ECF6",
              "width": 0.5
             },
             "pattern": {
              "fillmode": "overlay",
              "size": 10,
              "solidity": 0.2
             }
            },
            "type": "barpolar"
           }
          ],
          "carpet": [
           {
            "aaxis": {
             "endlinecolor": "#2a3f5f",
             "gridcolor": "white",
             "linecolor": "white",
             "minorgridcolor": "white",
             "startlinecolor": "#2a3f5f"
            },
            "baxis": {
             "endlinecolor": "#2a3f5f",
             "gridcolor": "white",
             "linecolor": "white",
             "minorgridcolor": "white",
             "startlinecolor": "#2a3f5f"
            },
            "type": "carpet"
           }
          ],
          "choropleth": [
           {
            "colorbar": {
             "outlinewidth": 0,
             "ticks": ""
            },
            "type": "choropleth"
           }
          ],
          "contour": [
           {
            "colorbar": {
             "outlinewidth": 0,
             "ticks": ""
            },
            "colorscale": [
             [
              0,
              "#0d0887"
             ],
             [
              0.1111111111111111,
              "#46039f"
             ],
             [
              0.2222222222222222,
              "#7201a8"
             ],
             [
              0.3333333333333333,
              "#9c179e"
             ],
             [
              0.4444444444444444,
              "#bd3786"
             ],
             [
              0.5555555555555556,
              "#d8576b"
             ],
             [
              0.6666666666666666,
              "#ed7953"
             ],
             [
              0.7777777777777778,
              "#fb9f3a"
             ],
             [
              0.8888888888888888,
              "#fdca26"
             ],
             [
              1,
              "#f0f921"
             ]
            ],
            "type": "contour"
           }
          ],
          "contourcarpet": [
           {
            "colorbar": {
             "outlinewidth": 0,
             "ticks": ""
            },
            "type": "contourcarpet"
           }
          ],
          "heatmap": [
           {
            "colorbar": {
             "outlinewidth": 0,
             "ticks": ""
            },
            "colorscale": [
             [
              0,
              "#0d0887"
             ],
             [
              0.1111111111111111,
              "#46039f"
             ],
             [
              0.2222222222222222,
              "#7201a8"
             ],
             [
              0.3333333333333333,
              "#9c179e"
             ],
             [
              0.4444444444444444,
              "#bd3786"
             ],
             [
              0.5555555555555556,
              "#d8576b"
             ],
             [
              0.6666666666666666,
              "#ed7953"
             ],
             [
              0.7777777777777778,
              "#fb9f3a"
             ],
             [
              0.8888888888888888,
              "#fdca26"
             ],
             [
              1,
              "#f0f921"
             ]
            ],
            "type": "heatmap"
           }
          ],
          "heatmapgl": [
           {
            "colorbar": {
             "outlinewidth": 0,
             "ticks": ""
            },
            "colorscale": [
             [
              0,
              "#0d0887"
             ],
             [
              0.1111111111111111,
              "#46039f"
             ],
             [
              0.2222222222222222,
              "#7201a8"
             ],
             [
              0.3333333333333333,
              "#9c179e"
             ],
             [
              0.4444444444444444,
              "#bd3786"
             ],
             [
              0.5555555555555556,
              "#d8576b"
             ],
             [
              0.6666666666666666,
              "#ed7953"
             ],
             [
              0.7777777777777778,
              "#fb9f3a"
             ],
             [
              0.8888888888888888,
              "#fdca26"
             ],
             [
              1,
              "#f0f921"
             ]
            ],
            "type": "heatmapgl"
           }
          ],
          "histogram": [
           {
            "marker": {
             "pattern": {
              "fillmode": "overlay",
              "size": 10,
              "solidity": 0.2
             }
            },
            "type": "histogram"
           }
          ],
          "histogram2d": [
           {
            "colorbar": {
             "outlinewidth": 0,
             "ticks": ""
            },
            "colorscale": [
             [
              0,
              "#0d0887"
             ],
             [
              0.1111111111111111,
              "#46039f"
             ],
             [
              0.2222222222222222,
              "#7201a8"
             ],
             [
              0.3333333333333333,
              "#9c179e"
             ],
             [
              0.4444444444444444,
              "#bd3786"
             ],
             [
              0.5555555555555556,
              "#d8576b"
             ],
             [
              0.6666666666666666,
              "#ed7953"
             ],
             [
              0.7777777777777778,
              "#fb9f3a"
             ],
             [
              0.8888888888888888,
              "#fdca26"
             ],
             [
              1,
              "#f0f921"
             ]
            ],
            "type": "histogram2d"
           }
          ],
          "histogram2dcontour": [
           {
            "colorbar": {
             "outlinewidth": 0,
             "ticks": ""
            },
            "colorscale": [
             [
              0,
              "#0d0887"
             ],
             [
              0.1111111111111111,
              "#46039f"
             ],
             [
              0.2222222222222222,
              "#7201a8"
             ],
             [
              0.3333333333333333,
              "#9c179e"
             ],
             [
              0.4444444444444444,
              "#bd3786"
             ],
             [
              0.5555555555555556,
              "#d8576b"
             ],
             [
              0.6666666666666666,
              "#ed7953"
             ],
             [
              0.7777777777777778,
              "#fb9f3a"
             ],
             [
              0.8888888888888888,
              "#fdca26"
             ],
             [
              1,
              "#f0f921"
             ]
            ],
            "type": "histogram2dcontour"
           }
          ],
          "mesh3d": [
           {
            "colorbar": {
             "outlinewidth": 0,
             "ticks": ""
            },
            "type": "mesh3d"
           }
          ],
          "parcoords": [
           {
            "line": {
             "colorbar": {
              "outlinewidth": 0,
              "ticks": ""
             }
            },
            "type": "parcoords"
           }
          ],
          "pie": [
           {
            "automargin": true,
            "type": "pie"
           }
          ],
          "scatter": [
           {
            "fillpattern": {
             "fillmode": "overlay",
             "size": 10,
             "solidity": 0.2
            },
            "type": "scatter"
           }
          ],
          "scatter3d": [
           {
            "line": {
             "colorbar": {
              "outlinewidth": 0,
              "ticks": ""
             }
            },
            "marker": {
             "colorbar": {
              "outlinewidth": 0,
              "ticks": ""
             }
            },
            "type": "scatter3d"
           }
          ],
          "scattercarpet": [
           {
            "marker": {
             "colorbar": {
              "outlinewidth": 0,
              "ticks": ""
             }
            },
            "type": "scattercarpet"
           }
          ],
          "scattergeo": [
           {
            "marker": {
             "colorbar": {
              "outlinewidth": 0,
              "ticks": ""
             }
            },
            "type": "scattergeo"
           }
          ],
          "scattergl": [
           {
            "marker": {
             "colorbar": {
              "outlinewidth": 0,
              "ticks": ""
             }
            },
            "type": "scattergl"
           }
          ],
          "scattermapbox": [
           {
            "marker": {
             "colorbar": {
              "outlinewidth": 0,
              "ticks": ""
             }
            },
            "type": "scattermapbox"
           }
          ],
          "scatterpolar": [
           {
            "marker": {
             "colorbar": {
              "outlinewidth": 0,
              "ticks": ""
             }
            },
            "type": "scatterpolar"
           }
          ],
          "scatterpolargl": [
           {
            "marker": {
             "colorbar": {
              "outlinewidth": 0,
              "ticks": ""
             }
            },
            "type": "scatterpolargl"
           }
          ],
          "scatterternary": [
           {
            "marker": {
             "colorbar": {
              "outlinewidth": 0,
              "ticks": ""
             }
            },
            "type": "scatterternary"
           }
          ],
          "surface": [
           {
            "colorbar": {
             "outlinewidth": 0,
             "ticks": ""
            },
            "colorscale": [
             [
              0,
              "#0d0887"
             ],
             [
              0.1111111111111111,
              "#46039f"
             ],
             [
              0.2222222222222222,
              "#7201a8"
             ],
             [
              0.3333333333333333,
              "#9c179e"
             ],
             [
              0.4444444444444444,
              "#bd3786"
             ],
             [
              0.5555555555555556,
              "#d8576b"
             ],
             [
              0.6666666666666666,
              "#ed7953"
             ],
             [
              0.7777777777777778,
              "#fb9f3a"
             ],
             [
              0.8888888888888888,
              "#fdca26"
             ],
             [
              1,
              "#f0f921"
             ]
            ],
            "type": "surface"
           }
          ],
          "table": [
           {
            "cells": {
             "fill": {
              "color": "#EBF0F8"
             },
             "line": {
              "color": "white"
             }
            },
            "header": {
             "fill": {
              "color": "#C8D4E3"
             },
             "line": {
              "color": "white"
             }
            },
            "type": "table"
           }
          ]
         },
         "layout": {
          "annotationdefaults": {
           "arrowcolor": "#2a3f5f",
           "arrowhead": 0,
           "arrowwidth": 1
          },
          "autotypenumbers": "strict",
          "coloraxis": {
           "colorbar": {
            "outlinewidth": 0,
            "ticks": ""
           }
          },
          "colorscale": {
           "diverging": [
            [
             0,
             "#8e0152"
            ],
            [
             0.1,
             "#c51b7d"
            ],
            [
             0.2,
             "#de77ae"
            ],
            [
             0.3,
             "#f1b6da"
            ],
            [
             0.4,
             "#fde0ef"
            ],
            [
             0.5,
             "#f7f7f7"
            ],
            [
             0.6,
             "#e6f5d0"
            ],
            [
             0.7,
             "#b8e186"
            ],
            [
             0.8,
             "#7fbc41"
            ],
            [
             0.9,
             "#4d9221"
            ],
            [
             1,
             "#276419"
            ]
           ],
           "sequential": [
            [
             0,
             "#0d0887"
            ],
            [
             0.1111111111111111,
             "#46039f"
            ],
            [
             0.2222222222222222,
             "#7201a8"
            ],
            [
             0.3333333333333333,
             "#9c179e"
            ],
            [
             0.4444444444444444,
             "#bd3786"
            ],
            [
             0.5555555555555556,
             "#d8576b"
            ],
            [
             0.6666666666666666,
             "#ed7953"
            ],
            [
             0.7777777777777778,
             "#fb9f3a"
            ],
            [
             0.8888888888888888,
             "#fdca26"
            ],
            [
             1,
             "#f0f921"
            ]
           ],
           "sequentialminus": [
            [
             0,
             "#0d0887"
            ],
            [
             0.1111111111111111,
             "#46039f"
            ],
            [
             0.2222222222222222,
             "#7201a8"
            ],
            [
             0.3333333333333333,
             "#9c179e"
            ],
            [
             0.4444444444444444,
             "#bd3786"
            ],
            [
             0.5555555555555556,
             "#d8576b"
            ],
            [
             0.6666666666666666,
             "#ed7953"
            ],
            [
             0.7777777777777778,
             "#fb9f3a"
            ],
            [
             0.8888888888888888,
             "#fdca26"
            ],
            [
             1,
             "#f0f921"
            ]
           ]
          },
          "colorway": [
           "#636efa",
           "#EF553B",
           "#00cc96",
           "#ab63fa",
           "#FFA15A",
           "#19d3f3",
           "#FF6692",
           "#B6E880",
           "#FF97FF",
           "#FECB52"
          ],
          "font": {
           "color": "#2a3f5f"
          },
          "geo": {
           "bgcolor": "white",
           "lakecolor": "white",
           "landcolor": "#E5ECF6",
           "showlakes": true,
           "showland": true,
           "subunitcolor": "white"
          },
          "hoverlabel": {
           "align": "left"
          },
          "hovermode": "closest",
          "mapbox": {
           "style": "light"
          },
          "paper_bgcolor": "white",
          "plot_bgcolor": "#E5ECF6",
          "polar": {
           "angularaxis": {
            "gridcolor": "white",
            "linecolor": "white",
            "ticks": ""
           },
           "bgcolor": "#E5ECF6",
           "radialaxis": {
            "gridcolor": "white",
            "linecolor": "white",
            "ticks": ""
           }
          },
          "scene": {
           "xaxis": {
            "backgroundcolor": "#E5ECF6",
            "gridcolor": "white",
            "gridwidth": 2,
            "linecolor": "white",
            "showbackground": true,
            "ticks": "",
            "zerolinecolor": "white"
           },
           "yaxis": {
            "backgroundcolor": "#E5ECF6",
            "gridcolor": "white",
            "gridwidth": 2,
            "linecolor": "white",
            "showbackground": true,
            "ticks": "",
            "zerolinecolor": "white"
           },
           "zaxis": {
            "backgroundcolor": "#E5ECF6",
            "gridcolor": "white",
            "gridwidth": 2,
            "linecolor": "white",
            "showbackground": true,
            "ticks": "",
            "zerolinecolor": "white"
           }
          },
          "shapedefaults": {
           "line": {
            "color": "#2a3f5f"
           }
          },
          "ternary": {
           "aaxis": {
            "gridcolor": "white",
            "linecolor": "white",
            "ticks": ""
           },
           "baxis": {
            "gridcolor": "white",
            "linecolor": "white",
            "ticks": ""
           },
           "bgcolor": "#E5ECF6",
           "caxis": {
            "gridcolor": "white",
            "linecolor": "white",
            "ticks": ""
           }
          },
          "title": {
           "x": 0.05
          },
          "xaxis": {
           "automargin": true,
           "gridcolor": "white",
           "linecolor": "white",
           "ticks": "",
           "title": {
            "standoff": 15
           },
           "zerolinecolor": "white",
           "zerolinewidth": 2
          },
          "yaxis": {
           "automargin": true,
           "gridcolor": "white",
           "linecolor": "white",
           "ticks": "",
           "title": {
            "standoff": 15
           },
           "zerolinecolor": "white",
           "zerolinewidth": 2
          }
         }
        },
        "title": {
         "text": "Node Allocation by Refined Clusters"
        },
        "width": 700,
        "xaxis": {
         "range": [
          -5,
          105
         ],
         "title": {
          "text": "X Coordinate"
         }
        },
        "yaxis": {
         "range": [
          -5,
          105
         ],
         "scaleanchor": "x",
         "scaleratio": 1,
         "title": {
          "text": "Y Coordinate"
         }
        }
       }
      }
     },
     "metadata": {},
     "output_type": "display_data"
    }
   ],
   "source": [
    "plot_refined_clusters(refined_clusters, nodes_df, home_node_id=0)"
   ]
  },
  {
   "cell_type": "code",
   "execution_count": 117,
   "metadata": {},
   "outputs": [
    {
     "data": {
      "application/vnd.plotly.v1+json": {
       "config": {
        "plotlyServerURL": "https://plot.ly"
       },
       "data": [
        {
         "hoverinfo": "text",
         "hovertext": [
          "Node: 0<br>                 Time: 522<br>                Days: [0, 1, 2, 3, 4]<br>                Priority: 0.27<br>                Angle to home: 0.0<br>                Distance to home: 0.0<br>                Time Window: [[480, 960], [1980, 2520]]<br>                ",
          "Node: 9<br>                 Time: 550<br>                Days: [0, 1, 2, 3, 4]<br>                Priority: 0.25<br>                Angle to home: 73.49563861824498<br>                Distance to home: 28.16<br>                Time Window: [[480, 1020]]<br>                ",
          "Node: 44<br>                 Time: 604<br>                Days: [0, 1, 2, 3, 4]<br>                Priority: 0.27<br>                Angle to home: 74.98163936884933<br>                Distance to home: 42.45<br>                Time Window: [[540, 1080]]<br>                ",
          "Node: 40<br>                 Time: 654<br>                Days: [0, 1, 2, 3, 4]<br>                Priority: 0.47<br>                Angle to home: 70.49755149333778<br>                Distance to home: 50.92<br>                Time Window: [[654, 694]]<br>                ",
          "Node: 8<br>                 Time: 731<br>                Days: [0, 1, 2, 3, 4]<br>                Priority: 0.43<br>                Angle to home: 55.30484646876604<br>                Distance to home: 47.43<br>                Time Window: [[480, 1020]]<br>                ",
          "Node: 6<br>                 Time: 791<br>                Days: [0, 1, 2, 3, 4]<br>                Priority: 0.62<br>                Angle to home: 53.97262661489639<br>                Distance to home: 68.01<br>                Time Window: [[540, 1020]]<br>                ",
          "Node: 35<br>                 Time: 865<br>                Days: [0, 1, 2, 3, 4]<br>                Priority: 0.60<br>                Angle to home: 54.400780041023836<br>                Distance to home: 108.23<br>                Time Window: [[540, 1020]]<br>                ",
          "Node: 23<br>                 Time: 923<br>                Days: [0, 1, 2, 3, 4]<br>                Priority: 0.24<br>                Angle to home: 67.61986494804043<br>                Distance to home: 91.92<br>                Time Window: [[540, 1020]]<br>                ",
          "Node: 47<br>                 Time: 1000<br>                Days: [0, 1, 2, 3, 4]<br>                Priority: 0.42<br>                Angle to home: 80.40686573726967<br>                Distance to home: 72.01<br>                Time Window: [[540, 1020]]<br>                ",
          "Node: 7<br>                 Time: 1070<br>                Days: [0, 1, 2, 3, 4]<br>                Priority: 0.21<br>                Angle to home: 67.86450812189965<br>                Distance to home: 63.69<br>                Time Window: [[540, 1080]]<br>                ",
          "Node: 0<br>                 Time: 1180<br>                Days: [0, 1, 2, 3, 4]<br>                Priority: 0.27<br>                Angle to home: 0.0<br>                Distance to home: 0.0<br>                Time Window: [[480, 960], [1980, 2520]]<br>                "
         ],
         "line": {
          "color": "#76B041",
          "width": 2
         },
         "marker": {
          "color": [
           "#76B041",
           "#76B041",
           "#76B041",
           "black",
           "#76B041",
           "#76B041",
           "#76B041",
           "#76B041",
           "#76B041",
           "#76B041",
           "#76B041"
          ],
          "size": 8
         },
         "mode": "lines+markers",
         "name": "Route (frozenset({0.0}),)",
         "type": "scatter",
         "x": [
          19,
          27,
          30,
          36,
          46,
          59,
          82,
          54,
          31,
          43,
          19
         ],
         "y": [
          12,
          39,
          53,
          60,
          51,
          67,
          100,
          97,
          83,
          71,
          12
         ]
        },
        {
         "hoverinfo": "text",
         "hovertext": [
          "Node: 0<br>                 Time: 563<br>                Days: [0, 1, 2, 3, 4]<br>                Priority: 0.27<br>                Angle to home: 0.0<br>                Distance to home: 0.0<br>                Time Window: [[480, 960], [1980, 2520]]<br>                ",
          "Node: 15<br>                 Time: 605<br>                Days: [0, 1, 2, 3, 4]<br>                Priority: 1.00<br>                Angle to home: 51.76617482255306<br>                Distance to home: 42.01<br>                Time Window: [[540, 1080]]<br>                ",
          "Node: 33<br>                 Time: 659<br>                Days: [0, 1, 2, 3, 4]<br>                Priority: 1.00<br>                Angle to home: 47.72631099390627<br>                Distance to home: 44.6<br>                Time Window: [[480, 960]]<br>                ",
          "Node: 49<br>                 Time: 707<br>                Days: [0, 1, 2, 3, 4]<br>                Priority: 1.00<br>                Angle to home: 52.30575953331083<br>                Distance to home: 55.61<br>                Time Window: [[540, 1020]]<br>                ",
          "Node: 42<br>                 Time: 761<br>                Days: [0, 1, 2, 3, 4]<br>                Priority: 0.48<br>                Angle to home: 52.980113745168524<br>                Distance to home: 76.4<br>                Time Window: [[480, 960]]<br>                ",
          "Node: 16<br>                 Time: 852<br>                Days: [0, 1, 2, 3, 4]<br>                Priority: 0.79<br>                Angle to home: 49.32506043473846<br>                Distance to home: 84.39<br>                Time Window: [[480, 1020]]<br>                ",
          "Node: 28<br>                 Time: 912<br>                Days: [0, 1, 2, 3, 4]<br>                Priority: 0.78<br>                Angle to home: 50.59933933652057<br>                Distance to home: 108.71<br>                Time Window: [[480, 1020]]<br>                ",
          "Node: 41<br>                 Time: 981<br>                Days: [0, 1, 2, 3, 4]<br>                Priority: 0.57<br>                Angle to home: 47.060111023723124<br>                Distance to home: 98.35<br>                Time Window: [[480, 1020]]<br>                ",
          "Node: 27<br>                 Time: 1080<br>                Days: [0, 1, 2, 3, 4]<br>                Priority: 0.13<br>                Angle to home: 41.18592516570965<br>                Distance to home: 53.15<br>                Time Window: [[540, 1080]]<br>                ",
          "Node: 0<br>                 Time: 1178<br>                Days: [0, 1, 2, 3, 4]<br>                Priority: 0.27<br>                Angle to home: 0.0<br>                Distance to home: 0.0<br>                Time Window: [[480, 960], [1980, 2520]]<br>                "
         ],
         "line": {
          "color": "#F8766D",
          "width": 2
         },
         "marker": {
          "color": [
           "#F8766D",
           "#F8766D",
           "#F8766D",
           "#F8766D",
           "#F8766D",
           "#F8766D",
           "#F8766D",
           "#F8766D",
           "#F8766D",
           "#F8766D"
          ],
          "size": 8
         },
         "mode": "lines+markers",
         "name": "Route (frozenset({4.0}),)",
         "type": "scatter",
         "x": [
          19,
          45,
          49,
          53,
          65,
          74,
          88,
          86,
          59,
          19
         ],
         "y": [
          12,
          45,
          45,
          56,
          73,
          76,
          96,
          84,
          47,
          12
         ]
        },
        {
         "hoverinfo": "text",
         "hovertext": [
          "Node: 0<br>                 Time: 541<br>                Days: [0, 1, 2, 3, 4]<br>                Priority: 0.27<br>                Angle to home: 0.0<br>                Distance to home: 0.0<br>                Time Window: [[480, 960], [1980, 2520]]<br>                ",
          "Node: 34<br>                 Time: 552<br>                Days: [0, 1, 2, 3, 4]<br>                Priority: 0.69<br>                Angle to home: 354.8055710922652<br>                Distance to home: 11.05<br>                Time Window: [[540, 1080]]<br>                ",
          "Node: 10<br>                 Time: 613<br>                Days: [0, 1, 2, 3, 4]<br>                Priority: 1.00<br>                Angle to home: 0.0<br>                Distance to home: 31.0<br>                Time Window: [[540, 1020]]<br>                ",
          "Node: 4<br>                 Time: 672<br>                Days: [0, 1, 2, 3, 4]<br>                Priority: 0.35<br>                Angle to home: 350.2724214485984<br>                Distance to home: 35.51<br>                Time Window: [[540, 1080]]<br>                ",
          "Node: 43<br>                 Time: 752<br>                Days: [0, 1, 2, 3, 4]<br>                Priority: 0.46<br>                Angle to home: 14.036243467926479<br>                Distance to home: 53.6<br>                Time Window: [[540, 1080]]<br>                ",
          "Node: 20<br>                 Time: 844<br>                Days: [0, 1, 2, 3, 4]<br>                Priority: 0.93<br>                Angle to home: 21.93848046770647<br>                Distance to home: 77.62<br>                Time Window: [[480, 960]]<br>                ",
          "Node: 12<br>                 Time: 897<br>                Days: [0, 1, 2, 3, 4]<br>                Priority: 0.74<br>                Angle to home: 20.556045219583467<br>                Distance to home: 85.44<br>                Time Window: [[480, 1020]]<br>                ",
          "Node: 39<br>                 Time: 950<br>                Days: [0, 1, 2, 3, 4]<br>                Priority: 1.00<br>                Angle to home: 27.5528115767178<br>                Distance to home: 77.83<br>                Time Window: [[480, 1020]]<br>                ",
          "Node: 32<br>                 Time: 1006<br>                Days: [0, 1, 2, 3, 4]<br>                Priority: 0.37<br>                Angle to home: 21.80140948635181<br>                Distance to home: 64.62<br>                Time Window: [[540, 1080]]<br>                ",
          "Node: 14<br>                 Time: 1080<br>                Days: [0, 1, 2, 3, 4]<br>                Priority: 0.61<br>                Angle to home: 12.380756928807177<br>                Distance to home: 41.98<br>                Time Window: [[540, 1080]]<br>                ",
          "Node: 0<br>                 Time: 1177<br>                Days: [0, 1, 2, 3, 4]<br>                Priority: 0.27<br>                Angle to home: 0.0<br>                Distance to home: 0.0<br>                Time Window: [[480, 960], [1980, 2520]]<br>                "
         ],
         "line": {
          "color": "#00BFC4",
          "width": 2
         },
         "marker": {
          "color": [
           "#00BFC4",
           "#00BFC4",
           "#00BFC4",
           "#00BFC4",
           "#00BFC4",
           "#00BFC4",
           "#00BFC4",
           "#00BFC4",
           "#00BFC4",
           "#00BFC4",
           "#00BFC4"
          ],
          "size": 8
         },
         "mode": "lines+markers",
         "name": "Route (frozenset({3.0}),)",
         "type": "scatter",
         "x": [
          19,
          30,
          50,
          54,
          71,
          91,
          99,
          88,
          79,
          60,
          19
         ],
         "y": [
          12,
          11,
          12,
          6,
          25,
          41,
          42,
          48,
          36,
          21,
          12
         ]
        },
        {
         "hoverinfo": "text",
         "hovertext": [
          "Node: 0<br>                 Time: 526<br>                Days: [0, 1, 2, 3, 4]<br>                Priority: 0.27<br>                Angle to home: 0.0<br>                Distance to home: 0.0<br>                Time Window: [[480, 960], [1980, 2520]]<br>                ",
          "Node: 2<br>                 Time: 567<br>                Days: [0, 1, 2, 3, 4]<br>                Priority: 0.18<br>                Angle to home: 102.68038349181982<br>                Distance to home: 41.0<br>                Time Window: [[480, 960], [1980, 2460]]<br>                ",
          "Node: 5<br>                 Time: 628<br>                Days: [0, 1, 2, 3, 4]<br>                Priority: 1.00<br>                Angle to home: 110.55604521958347<br>                Distance to home: 42.72<br>                Time Window: [[480, 960], [1980, 2460]]<br>                ",
          "Node: 31<br>                 Time: 690<br>                Days: [0, 1, 2, 3, 4]<br>                Priority: 1.00<br>                Angle to home: 109.72227776444706<br>                Distance to home: 56.3<br>                Time Window: [[540, 1020], [1920, 2400]]<br>                ",
          "Node: 3<br>                 Time: 755<br>                Days: [0, 1, 2, 3, 4]<br>                Priority: 0.06<br>                Angle to home: 91.06091169026423<br>                Distance to home: 54.01<br>                Time Window: [[480, 1020], [1920, 2400]]<br>                ",
          "Node: 37<br>                 Time: 863<br>                Days: [0, 1, 2, 3, 4]<br>                Priority: 0.86<br>                Angle to home: 97.21426203920676<br>                Distance to home: 79.63<br>                Time Window: [[540, 1080], [1920, 2460]]<br>                ",
          "Node: 21<br>                 Time: 913<br>                Days: [0, 1, 2, 3, 4]<br>                Priority: 0.50<br>                Angle to home: 101.0564129802482<br>                Distance to home: 88.65<br>                Time Window: [[540, 1020], [1980, 2520]]<br>                ",
          "Node: 19<br>                 Time: 963<br>                Days: [0, 1, 2, 3, 4]<br>                Priority: 0.20<br>                Angle to home: 98.74616226255522<br>                Distance to home: 78.92<br>                Time Window: [[960, 1000]]<br>                ",
          "Node: 24<br>                 Time: 1017<br>                Days: [0, 1, 2, 3, 4]<br>                Priority: 0.40<br>                Angle to home: 95.31454566994475<br>                Distance to home: 86.37<br>                Time Window: [[540, 1020], [1980, 2520]]<br>                ",
          "Node: 1<br>                 Time: 1079<br>                Days: [0, 1, 2, 3, 4]<br>                Priority: 0.06<br>                Angle to home: 92.41950921665634<br>                Distance to home: 71.06<br>                Time Window: [[540, 1080], [1980, 2460]]<br>                ",
          "Node: 45<br>                 Time: 1921<br>                Days: [0, 1, 2, 3, 4]<br>                Priority: 1.00<br>                Angle to home: 143.13010235415598<br>                Distance to home: 5.0<br>                Time Window: [[480, 960], [1920, 2400]]<br>                ",
          "Node: 22<br>                 Time: 1960<br>                Days: [0, 1, 2, 3, 4]<br>                Priority: 0.27<br>                Angle to home: 90.0<br>                Distance to home: 4.0<br>                Time Window: [[480, 1020], [1920, 2460]]<br>                ",
          "Node: 36<br>                 Time: 2012<br>                Days: [0, 1, 2, 3, 4]<br>                Priority: 0.82<br>                Angle to home: 108.43494882292202<br>                Distance to home: 12.65<br>                Time Window: [[480, 1020], [1980, 2520]]<br>                ",
          "Node: 30<br>                 Time: 2079<br>                Days: [0, 1, 2, 3, 4]<br>                Priority: 0.65<br>                Angle to home: 90.0<br>                Distance to home: 24.0<br>                Time Window: [[480, 1020], [1920, 2400]]<br>                ",
          "Node: 38<br>                 Time: 2143<br>                Days: [0, 1, 2, 3, 4]<br>                Priority: 1.00<br>                Angle to home: 91.6846843178963<br>                Distance to home: 34.01<br>                Time Window: [[480, 1020], [1920, 2460]]<br>                ",
          "Node: 11<br>                 Time: 2188<br>                Days: [0, 1, 2, 3, 4]<br>                Priority: 0.31<br>                Angle to home: 88.36342295838328<br>                Distance to home: 35.01<br>                Time Window: [[480, 960], [1980, 2460]]<br>                ",
          "Node: 46<br>                 Time: 2258<br>                Days: [0, 1, 2, 3, 4]<br>                Priority: 0.93<br>                Angle to home: 86.3670492605118<br>                Distance to home: 63.13<br>                Time Window: [[540, 1080], [1980, 2520]]<br>                ",
          "Node: 18<br>                 Time: 2321<br>                Days: [0, 1, 2, 3, 4]<br>                Priority: 0.67<br>                Angle to home: 100.00797980144135<br>                Distance to home: 34.53<br>                Time Window: [[2316, 2356]]<br>                ",
          "Node: 13<br>                 Time: 2377<br>                Days: [0, 1, 2, 3, 4]<br>                Priority: 0.86<br>                Angle to home: 108.43494882292202<br>                Distance to home: 37.95<br>                Time Window: [[480, 960], [1920, 2460]]<br>                ",
          "Node: 0<br>                 Time: 2466<br>                Days: [0, 1, 2, 3, 4]<br>                Priority: 0.27<br>                Angle to home: 0.0<br>                Distance to home: 0.0<br>                Time Window: [[480, 960], [1980, 2520]]<br>                "
         ],
         "line": {
          "color": "#C77CFF",
          "width": 2
         },
         "marker": {
          "color": [
           "#C77CFF",
           "#C77CFF",
           "#C77CFF",
           "#C77CFF",
           "#C77CFF",
           "#C77CFF",
           "#C77CFF",
           "black",
           "#C77CFF",
           "#C77CFF",
           "#C77CFF",
           "#C77CFF",
           "#C77CFF",
           "#C77CFF",
           "#C77CFF",
           "#C77CFF",
           "#C77CFF",
           "black",
           "#C77CFF",
           "#C77CFF"
          ],
          "size": 8
         },
         "mode": "lines+markers",
         "name": "Route (frozenset({1.0, 2.0}),)",
         "type": "scatter",
         "x": [
          19,
          10,
          4,
          0,
          18,
          9,
          2,
          7,
          11,
          16,
          15,
          19,
          15,
          19,
          18,
          20,
          23,
          13,
          7,
          19
         ],
         "y": [
          12,
          52,
          52,
          65,
          66,
          91,
          99,
          90,
          98,
          83,
          15,
          16,
          24,
          36,
          46,
          47,
          75,
          46,
          48,
          12
         ]
        },
        {
         "hoverinfo": "text",
         "hovertext": "Home: Node 0<br>X: 19<br>Y: 12",
         "marker": {
          "color": "red",
          "size": 15,
          "symbol": "star"
         },
         "mode": "markers",
         "name": "Home Node",
         "type": "scatter",
         "x": [
          19
         ],
         "y": [
          12
         ]
        }
       ],
       "layout": {
        "height": 600,
        "hovermode": "closest",
        "legend": {
         "itemsizing": "constant",
         "title": {
          "text": "Clusters & Routes"
         }
        },
        "plot_bgcolor": "white",
        "template": {
         "data": {
          "bar": [
           {
            "error_x": {
             "color": "#2a3f5f"
            },
            "error_y": {
             "color": "#2a3f5f"
            },
            "marker": {
             "line": {
              "color": "#E5ECF6",
              "width": 0.5
             },
             "pattern": {
              "fillmode": "overlay",
              "size": 10,
              "solidity": 0.2
             }
            },
            "type": "bar"
           }
          ],
          "barpolar": [
           {
            "marker": {
             "line": {
              "color": "#E5ECF6",
              "width": 0.5
             },
             "pattern": {
              "fillmode": "overlay",
              "size": 10,
              "solidity": 0.2
             }
            },
            "type": "barpolar"
           }
          ],
          "carpet": [
           {
            "aaxis": {
             "endlinecolor": "#2a3f5f",
             "gridcolor": "white",
             "linecolor": "white",
             "minorgridcolor": "white",
             "startlinecolor": "#2a3f5f"
            },
            "baxis": {
             "endlinecolor": "#2a3f5f",
             "gridcolor": "white",
             "linecolor": "white",
             "minorgridcolor": "white",
             "startlinecolor": "#2a3f5f"
            },
            "type": "carpet"
           }
          ],
          "choropleth": [
           {
            "colorbar": {
             "outlinewidth": 0,
             "ticks": ""
            },
            "type": "choropleth"
           }
          ],
          "contour": [
           {
            "colorbar": {
             "outlinewidth": 0,
             "ticks": ""
            },
            "colorscale": [
             [
              0,
              "#0d0887"
             ],
             [
              0.1111111111111111,
              "#46039f"
             ],
             [
              0.2222222222222222,
              "#7201a8"
             ],
             [
              0.3333333333333333,
              "#9c179e"
             ],
             [
              0.4444444444444444,
              "#bd3786"
             ],
             [
              0.5555555555555556,
              "#d8576b"
             ],
             [
              0.6666666666666666,
              "#ed7953"
             ],
             [
              0.7777777777777778,
              "#fb9f3a"
             ],
             [
              0.8888888888888888,
              "#fdca26"
             ],
             [
              1,
              "#f0f921"
             ]
            ],
            "type": "contour"
           }
          ],
          "contourcarpet": [
           {
            "colorbar": {
             "outlinewidth": 0,
             "ticks": ""
            },
            "type": "contourcarpet"
           }
          ],
          "heatmap": [
           {
            "colorbar": {
             "outlinewidth": 0,
             "ticks": ""
            },
            "colorscale": [
             [
              0,
              "#0d0887"
             ],
             [
              0.1111111111111111,
              "#46039f"
             ],
             [
              0.2222222222222222,
              "#7201a8"
             ],
             [
              0.3333333333333333,
              "#9c179e"
             ],
             [
              0.4444444444444444,
              "#bd3786"
             ],
             [
              0.5555555555555556,
              "#d8576b"
             ],
             [
              0.6666666666666666,
              "#ed7953"
             ],
             [
              0.7777777777777778,
              "#fb9f3a"
             ],
             [
              0.8888888888888888,
              "#fdca26"
             ],
             [
              1,
              "#f0f921"
             ]
            ],
            "type": "heatmap"
           }
          ],
          "heatmapgl": [
           {
            "colorbar": {
             "outlinewidth": 0,
             "ticks": ""
            },
            "colorscale": [
             [
              0,
              "#0d0887"
             ],
             [
              0.1111111111111111,
              "#46039f"
             ],
             [
              0.2222222222222222,
              "#7201a8"
             ],
             [
              0.3333333333333333,
              "#9c179e"
             ],
             [
              0.4444444444444444,
              "#bd3786"
             ],
             [
              0.5555555555555556,
              "#d8576b"
             ],
             [
              0.6666666666666666,
              "#ed7953"
             ],
             [
              0.7777777777777778,
              "#fb9f3a"
             ],
             [
              0.8888888888888888,
              "#fdca26"
             ],
             [
              1,
              "#f0f921"
             ]
            ],
            "type": "heatmapgl"
           }
          ],
          "histogram": [
           {
            "marker": {
             "pattern": {
              "fillmode": "overlay",
              "size": 10,
              "solidity": 0.2
             }
            },
            "type": "histogram"
           }
          ],
          "histogram2d": [
           {
            "colorbar": {
             "outlinewidth": 0,
             "ticks": ""
            },
            "colorscale": [
             [
              0,
              "#0d0887"
             ],
             [
              0.1111111111111111,
              "#46039f"
             ],
             [
              0.2222222222222222,
              "#7201a8"
             ],
             [
              0.3333333333333333,
              "#9c179e"
             ],
             [
              0.4444444444444444,
              "#bd3786"
             ],
             [
              0.5555555555555556,
              "#d8576b"
             ],
             [
              0.6666666666666666,
              "#ed7953"
             ],
             [
              0.7777777777777778,
              "#fb9f3a"
             ],
             [
              0.8888888888888888,
              "#fdca26"
             ],
             [
              1,
              "#f0f921"
             ]
            ],
            "type": "histogram2d"
           }
          ],
          "histogram2dcontour": [
           {
            "colorbar": {
             "outlinewidth": 0,
             "ticks": ""
            },
            "colorscale": [
             [
              0,
              "#0d0887"
             ],
             [
              0.1111111111111111,
              "#46039f"
             ],
             [
              0.2222222222222222,
              "#7201a8"
             ],
             [
              0.3333333333333333,
              "#9c179e"
             ],
             [
              0.4444444444444444,
              "#bd3786"
             ],
             [
              0.5555555555555556,
              "#d8576b"
             ],
             [
              0.6666666666666666,
              "#ed7953"
             ],
             [
              0.7777777777777778,
              "#fb9f3a"
             ],
             [
              0.8888888888888888,
              "#fdca26"
             ],
             [
              1,
              "#f0f921"
             ]
            ],
            "type": "histogram2dcontour"
           }
          ],
          "mesh3d": [
           {
            "colorbar": {
             "outlinewidth": 0,
             "ticks": ""
            },
            "type": "mesh3d"
           }
          ],
          "parcoords": [
           {
            "line": {
             "colorbar": {
              "outlinewidth": 0,
              "ticks": ""
             }
            },
            "type": "parcoords"
           }
          ],
          "pie": [
           {
            "automargin": true,
            "type": "pie"
           }
          ],
          "scatter": [
           {
            "fillpattern": {
             "fillmode": "overlay",
             "size": 10,
             "solidity": 0.2
            },
            "type": "scatter"
           }
          ],
          "scatter3d": [
           {
            "line": {
             "colorbar": {
              "outlinewidth": 0,
              "ticks": ""
             }
            },
            "marker": {
             "colorbar": {
              "outlinewidth": 0,
              "ticks": ""
             }
            },
            "type": "scatter3d"
           }
          ],
          "scattercarpet": [
           {
            "marker": {
             "colorbar": {
              "outlinewidth": 0,
              "ticks": ""
             }
            },
            "type": "scattercarpet"
           }
          ],
          "scattergeo": [
           {
            "marker": {
             "colorbar": {
              "outlinewidth": 0,
              "ticks": ""
             }
            },
            "type": "scattergeo"
           }
          ],
          "scattergl": [
           {
            "marker": {
             "colorbar": {
              "outlinewidth": 0,
              "ticks": ""
             }
            },
            "type": "scattergl"
           }
          ],
          "scattermapbox": [
           {
            "marker": {
             "colorbar": {
              "outlinewidth": 0,
              "ticks": ""
             }
            },
            "type": "scattermapbox"
           }
          ],
          "scatterpolar": [
           {
            "marker": {
             "colorbar": {
              "outlinewidth": 0,
              "ticks": ""
             }
            },
            "type": "scatterpolar"
           }
          ],
          "scatterpolargl": [
           {
            "marker": {
             "colorbar": {
              "outlinewidth": 0,
              "ticks": ""
             }
            },
            "type": "scatterpolargl"
           }
          ],
          "scatterternary": [
           {
            "marker": {
             "colorbar": {
              "outlinewidth": 0,
              "ticks": ""
             }
            },
            "type": "scatterternary"
           }
          ],
          "surface": [
           {
            "colorbar": {
             "outlinewidth": 0,
             "ticks": ""
            },
            "colorscale": [
             [
              0,
              "#0d0887"
             ],
             [
              0.1111111111111111,
              "#46039f"
             ],
             [
              0.2222222222222222,
              "#7201a8"
             ],
             [
              0.3333333333333333,
              "#9c179e"
             ],
             [
              0.4444444444444444,
              "#bd3786"
             ],
             [
              0.5555555555555556,
              "#d8576b"
             ],
             [
              0.6666666666666666,
              "#ed7953"
             ],
             [
              0.7777777777777778,
              "#fb9f3a"
             ],
             [
              0.8888888888888888,
              "#fdca26"
             ],
             [
              1,
              "#f0f921"
             ]
            ],
            "type": "surface"
           }
          ],
          "table": [
           {
            "cells": {
             "fill": {
              "color": "#EBF0F8"
             },
             "line": {
              "color": "white"
             }
            },
            "header": {
             "fill": {
              "color": "#C8D4E3"
             },
             "line": {
              "color": "white"
             }
            },
            "type": "table"
           }
          ]
         },
         "layout": {
          "annotationdefaults": {
           "arrowcolor": "#2a3f5f",
           "arrowhead": 0,
           "arrowwidth": 1
          },
          "autotypenumbers": "strict",
          "coloraxis": {
           "colorbar": {
            "outlinewidth": 0,
            "ticks": ""
           }
          },
          "colorscale": {
           "diverging": [
            [
             0,
             "#8e0152"
            ],
            [
             0.1,
             "#c51b7d"
            ],
            [
             0.2,
             "#de77ae"
            ],
            [
             0.3,
             "#f1b6da"
            ],
            [
             0.4,
             "#fde0ef"
            ],
            [
             0.5,
             "#f7f7f7"
            ],
            [
             0.6,
             "#e6f5d0"
            ],
            [
             0.7,
             "#b8e186"
            ],
            [
             0.8,
             "#7fbc41"
            ],
            [
             0.9,
             "#4d9221"
            ],
            [
             1,
             "#276419"
            ]
           ],
           "sequential": [
            [
             0,
             "#0d0887"
            ],
            [
             0.1111111111111111,
             "#46039f"
            ],
            [
             0.2222222222222222,
             "#7201a8"
            ],
            [
             0.3333333333333333,
             "#9c179e"
            ],
            [
             0.4444444444444444,
             "#bd3786"
            ],
            [
             0.5555555555555556,
             "#d8576b"
            ],
            [
             0.6666666666666666,
             "#ed7953"
            ],
            [
             0.7777777777777778,
             "#fb9f3a"
            ],
            [
             0.8888888888888888,
             "#fdca26"
            ],
            [
             1,
             "#f0f921"
            ]
           ],
           "sequentialminus": [
            [
             0,
             "#0d0887"
            ],
            [
             0.1111111111111111,
             "#46039f"
            ],
            [
             0.2222222222222222,
             "#7201a8"
            ],
            [
             0.3333333333333333,
             "#9c179e"
            ],
            [
             0.4444444444444444,
             "#bd3786"
            ],
            [
             0.5555555555555556,
             "#d8576b"
            ],
            [
             0.6666666666666666,
             "#ed7953"
            ],
            [
             0.7777777777777778,
             "#fb9f3a"
            ],
            [
             0.8888888888888888,
             "#fdca26"
            ],
            [
             1,
             "#f0f921"
            ]
           ]
          },
          "colorway": [
           "#636efa",
           "#EF553B",
           "#00cc96",
           "#ab63fa",
           "#FFA15A",
           "#19d3f3",
           "#FF6692",
           "#B6E880",
           "#FF97FF",
           "#FECB52"
          ],
          "font": {
           "color": "#2a3f5f"
          },
          "geo": {
           "bgcolor": "white",
           "lakecolor": "white",
           "landcolor": "#E5ECF6",
           "showlakes": true,
           "showland": true,
           "subunitcolor": "white"
          },
          "hoverlabel": {
           "align": "left"
          },
          "hovermode": "closest",
          "mapbox": {
           "style": "light"
          },
          "paper_bgcolor": "white",
          "plot_bgcolor": "#E5ECF6",
          "polar": {
           "angularaxis": {
            "gridcolor": "white",
            "linecolor": "white",
            "ticks": ""
           },
           "bgcolor": "#E5ECF6",
           "radialaxis": {
            "gridcolor": "white",
            "linecolor": "white",
            "ticks": ""
           }
          },
          "scene": {
           "xaxis": {
            "backgroundcolor": "#E5ECF6",
            "gridcolor": "white",
            "gridwidth": 2,
            "linecolor": "white",
            "showbackground": true,
            "ticks": "",
            "zerolinecolor": "white"
           },
           "yaxis": {
            "backgroundcolor": "#E5ECF6",
            "gridcolor": "white",
            "gridwidth": 2,
            "linecolor": "white",
            "showbackground": true,
            "ticks": "",
            "zerolinecolor": "white"
           },
           "zaxis": {
            "backgroundcolor": "#E5ECF6",
            "gridcolor": "white",
            "gridwidth": 2,
            "linecolor": "white",
            "showbackground": true,
            "ticks": "",
            "zerolinecolor": "white"
           }
          },
          "shapedefaults": {
           "line": {
            "color": "#2a3f5f"
           }
          },
          "ternary": {
           "aaxis": {
            "gridcolor": "white",
            "linecolor": "white",
            "ticks": ""
           },
           "baxis": {
            "gridcolor": "white",
            "linecolor": "white",
            "ticks": ""
           },
           "bgcolor": "#E5ECF6",
           "caxis": {
            "gridcolor": "white",
            "linecolor": "white",
            "ticks": ""
           }
          },
          "title": {
           "x": 0.05
          },
          "xaxis": {
           "automargin": true,
           "gridcolor": "white",
           "linecolor": "white",
           "ticks": "",
           "title": {
            "standoff": 15
           },
           "zerolinecolor": "white",
           "zerolinewidth": 2
          },
          "yaxis": {
           "automargin": true,
           "gridcolor": "white",
           "linecolor": "white",
           "ticks": "",
           "title": {
            "standoff": 15
           },
           "zerolinecolor": "white",
           "zerolinewidth": 2
          }
         }
        },
        "title": {
         "text": "All Cluster Routes Visualization"
        },
        "width": 800,
        "xaxis": {
         "title": {
          "text": "X Coordinate"
         }
        },
        "yaxis": {
         "scaleanchor": "x",
         "scaleratio": 1,
         "title": {
          "text": "Y Coordinate"
         }
        }
       }
      }
     },
     "metadata": {},
     "output_type": "display_data"
    }
   ],
   "source": [
    "plot_all_cluster_routes(route_lists, nodes_df)"
   ]
  }
 ],
 "metadata": {
  "kernelspec": {
   "display_name": "Python 3",
   "language": "python",
   "name": "python3"
  },
  "language_info": {
   "codemirror_mode": {
    "name": "ipython",
    "version": 3
   },
   "file_extension": ".py",
   "mimetype": "text/x-python",
   "name": "python",
   "nbconvert_exporter": "python",
   "pygments_lexer": "ipython3",
   "version": "3.12.2"
  }
 },
 "nbformat": 4,
 "nbformat_minor": 2
}
